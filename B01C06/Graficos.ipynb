{
 "cells": [
  {
   "cell_type": "markdown",
   "metadata": {},
   "source": [
    "# Los gráficos de puntos y líneas\n",
    "\n",
    "operan sobre variables **Numericas**\n",
    "\n",
    "y son útiles para ... **Ver la relación entre dos conjuntos de puntos (x,y)**\n",
    "\n",
    "Una buena práctica es ... **La unión de puntos por líneas puede ser confuso, engañoso o directamente desprolijo en algunas situaciones.**"
   ]
  },
  {
   "cell_type": "markdown",
   "metadata": {},
   "source": [
    "# Los histogramas\n",
    "\n",
    "operan sobre variables ... **Numericas**\n",
    "\n",
    "y son útiles para .... **mostrar distribución**\n",
    "\n",
    "Una buena práctica es ... **es importante prestar atención y decidir el número correcto de bins para usar.**"
   ]
  },
  {
   "cell_type": "code",
   "execution_count": null,
   "metadata": {},
   "outputs": [],
   "source": []
  }
 ],
 "metadata": {
  "kernelspec": {
   "display_name": "Python 3",
   "language": "python",
   "name": "python3"
  },
  "language_info": {
   "codemirror_mode": {
    "name": "ipython",
    "version": 3
   },
   "file_extension": ".py",
   "mimetype": "text/x-python",
   "name": "python",
   "nbconvert_exporter": "python",
   "pygments_lexer": "ipython3",
   "version": "3.7.8"
  }
 },
 "nbformat": 4,
 "nbformat_minor": 4
}
