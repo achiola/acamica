{
 "cells": [
  {
   "cell_type": "markdown",
   "metadata": {
    "id": "38tA-ErIC4OD"
   },
   "source": [
    "# Proyecto: Análisis de mercado inmobiliario\n",
    "\n",
    "¡Bienvenido/a al primer proyecto de la carrera de Data Science de Acamica! \n",
    "\n",
    "El objetivo de este proyecto es reproducir los pasos que haría un/a Data Scientist cuando se enfrenta a una problemática real. Por eso, consta de tres secciones:\n",
    "* En la Parte 1, te presentamos la problemática sobre la cual vas a trabajar. En esta sección deberás decidir qué datos te ayudarán a trabajar en este problema y dónde puedes conseguirlos.\n",
    "* En la Parte 2 te proveemos de un dataset para abordar la problemática planteada. Deberás realizar un Análisis Exploratorio de Datos sobre este dataset.\n",
    "* En la Parte 3, deberás utilizar herramientas de Machine Learning para predecir la variable de interés.\n",
    "\n",
    "\n",
    "En este proyecto vas a trabajar con un dataset de propiedades en venta publicado en el portal [Properati](www.properati.com.ar).\n",
    "\n",
    "**Importante:** recuerda que un notebook es un informe, por lo que debes ir explicando lo que haces a medida que resuelves las consignas. Es importante que quien que lo lea entienda el flujo de trabajo, qué quisiste hacer. Recuerda, simple y conciso es una combinación ganadora. \n",
    "\n",
    "## Problema\n",
    "\n",
    "Recientemente te has incorporado al equipo de Datos de una gran inmobiliaria. La primera tarea que se te asigna es ayudar a los tasadores/as a valuar las propiedades, ya que es un proceso difícil y, a veces, subjetivo. Para ello, propones crear un modelo de Machine Learning que, dadas ciertas características de la propiedad, prediga su precio de venta.\n",
    "\n",
    "### 1. Pensando como un/a Data Scientist\n",
    "\n",
    "Responde la siguientes pregunta:\n",
    "1. ¿Qué datos crees que te ayudarían a trabajar en el problema?¿Por qué?\n",
    "\n",
    "**Importante**: NO deberás buscar esos datos, solamente justificar qué información crees que te ayudaría a resolver la problemática planteada."
   ]
  },
  {
   "cell_type": "markdown",
   "metadata": {
    "id": "oj6gbm-5C4OF"
   },
   "source": [
    "**COMPLETA EN ESTA CELDA TU RESPUESTA**"
   ]
  },
  {
   "cell_type": "markdown",
   "metadata": {
    "id": "wfyEgpsONzTm"
   },
   "source": [
    "<div style=\"background-color:powderblue;\">\n",
    "Dado que soy nuevo en la inmobiliaria, lo primero que haría sería reunirme con los tasadores y aprovechar todo su conocimiento y experiencia en la valuación de propiedades. \n",
    "\n",
    "    \n",
    "</br>Asumiendo que ya posee el conocimiento del negocio, y teniendo en cuenta el problema que debemos resolver **\"Valuar propiedades\"**, acordamos que los principales factores que influyen en una valuación son:\n",
    "<ul>\n",
    "  <li><b>Ubicación:</b> La ubicación en la que se encuentra la ubicación es un factor determinante en su valuación</li>\n",
    "    <li><b>Superficie total de la propiedad:</b> La superficie del terreno, ya sea cubierta o no</li>\n",
    "    <li><b>Superficie cubierta:</b> Superficie cubierta, en m2 que ocupa la construcción</li>\n",
    "    <li><b>Nro de habitaciones:</b> Cantidad de habitaciones</li>    \n",
    "    <li><b>Nro de baños:</b> Cantidad de baños</li>      \n",
    "    <li><b>Nro. de cocheras:</b> Si posee o no cocheras y su capacidad (uno, dos vehículos)</li>\n",
    "    <li><b>Tipo de propiedad:</b> Casa, departamento, etc</li>    \n",
    "    <li><b>Mercado:</b> El mercado puede fluctuar y esto puede hacer que el valor de una misma propiedad cambie en determinados momentos</li>    \n",
    "</ul> \n",
    "</div>"
   ]
  },
  {
   "cell_type": "markdown",
   "metadata": {
    "id": "LvPBQzg5C4OI"
   },
   "source": [
    "### 2. Análisis Exploratorio de Datos\n",
    "\n",
    "En esta sección, debes realizar un Análisis Exploratorio de Datos sobre el dataset de propiedades de Properati. Es importante que respondas las siguientes preguntas durante el análisis:\n",
    "\n",
    "* ¿Qué tamaño tiene el dataset?¿Cuántas instancias y cuántas columnas?\n",
    "* ¿Cuántos valores faltantes hay en cada columna?\n",
    "* ¿Cómo es la distribución de cada variable? Deberás hacer histogramas para las variables numéricas y gráficos de barras para las variables categóricas.\n",
    "* ¿Cómo se relacionan las variables entre sí?¿Qué tipo de gráfico será conveniente para presentar esta información?\n",
    "* ¿Cómo están correlacionadas las variables numéricas?¿Qué tipo de gráfico será conveniente para presentar esta información?¿Cuáles serán los mejores predictores de la variable de interés?\n",
    "\n",
    "Vas a encontrar instrucciones para responder estas preguntas. Es importante aclarar que estas instrucciones corresponden al **mínimo entregable** que esperamos en la consigna.\n",
    "\n",
    "**Comentarios sobre el dataset** \n",
    "1. Nosotros ya hicimos un *curado* sobre el dataset que puedes descargar directamente de la página de Properati. Muchos de los pasos que hicimos para curar el conjunto de datos los veremos durante el Bloque 2 de la carrera.\n",
    "\n",
    "2. Si tienes dudas sobre qué representa alguna de las columnas, puedes consultar [aquí](https://www.properati.com.ar/data/). Notarás que algunas columnas fueron descartadas.\n",
    "\n",
    "3. `Capital Federal` refiere a la Ciudad de Buenos Aires. `Bs.As. G.B.A. Zona Norte`, `Bs.As. G.B.A. Zona Sur` y `Bs.As. G.B.A. Zona Oeste` son regiones que conforman el [Gran Buenos Aires](https://es.wikipedia.org/wiki/Gran_Buenos_Aires), un conjunto de ciudades que rodean a la Ciudad de Buenos Aires.\n",
    "\n"
   ]
  },
  {
   "cell_type": "markdown",
   "metadata": {
    "id": "K2PLfIvLC4OK"
   },
   "source": [
    "0. Importa las librerías necesarias para trabajar en la consigna."
   ]
  },
  {
   "cell_type": "code",
   "execution_count": 24,
   "metadata": {
    "id": "fCGVacN5C4OM"
   },
   "outputs": [],
   "source": [
    "# Cargamos todas las librerias que utilizaremos en este notebooks.\n",
    "import numpy as np\n",
    "import pandas as pd\n",
    "import matplotlib.pyplot as plt\n",
    "import matplotlib.cm as cm\n",
    "from matplotlib.colors import Normalize\n",
    "import seaborn as sns\n",
    "\n",
    "import warnings\n",
    "warnings.filterwarnings(\"ignore\")\n",
    "\n",
    "from sklearn.model_selection import train_test_split\n",
    "from sklearn.neighbors import KNeighborsRegressor\n",
    "from sklearn.metrics import mean_squared_error\n",
    "from sklearn.tree import DecisionTreeRegressor\n",
    "from sklearn.linear_model import LinearRegression"
   ]
  },
  {
   "cell_type": "markdown",
   "metadata": {
    "id": "5gWE6fwUC4OY"
   },
   "source": [
    "1. Carga el dataset usando las funcionalidades de Pandas. Imprimir cuántas filas y columnas tiene, y sus cinco primeras instancias."
   ]
  },
  {
   "cell_type": "code",
   "execution_count": 25,
   "metadata": {
    "id": "YL2eAd_tC4Oa"
   },
   "outputs": [],
   "source": [
    "# Caramos el DS y transformamos las datos fecha a formato fecha\n",
    "propiedades = pd.read_csv('DS_Proyecto_01_Datos_Properati.csv',parse_dates=['start_date','end_date','created_on'])"
   ]
  },
  {
   "cell_type": "code",
   "execution_count": 26,
   "metadata": {},
   "outputs": [
    {
     "name": "stdout",
     "output_type": "stream",
     "text": [
      "Nuestro dataset tiene 146660 filas y 19 columnas\n"
     ]
    }
   ],
   "source": [
    "# Mostramos cuentas filas y columnas tiene nuestro DS\n",
    "filas, columnas = propiedades.shape\n",
    "print('Nuestro dataset tiene', filas,'filas y',columnas,'columnas')"
   ]
  },
  {
   "cell_type": "code",
   "execution_count": 27,
   "metadata": {},
   "outputs": [
    {
     "data": {
      "text/html": [
       "<div>\n",
       "<style scoped>\n",
       "    .dataframe tbody tr th:only-of-type {\n",
       "        vertical-align: middle;\n",
       "    }\n",
       "\n",
       "    .dataframe tbody tr th {\n",
       "        vertical-align: top;\n",
       "    }\n",
       "\n",
       "    .dataframe thead th {\n",
       "        text-align: right;\n",
       "    }\n",
       "</style>\n",
       "<table border=\"1\" class=\"dataframe\">\n",
       "  <thead>\n",
       "    <tr style=\"text-align: right;\">\n",
       "      <th></th>\n",
       "      <th>start_date</th>\n",
       "      <th>end_date</th>\n",
       "      <th>created_on</th>\n",
       "      <th>lat</th>\n",
       "      <th>lon</th>\n",
       "      <th>l1</th>\n",
       "      <th>l2</th>\n",
       "      <th>l3</th>\n",
       "      <th>rooms</th>\n",
       "      <th>bedrooms</th>\n",
       "      <th>bathrooms</th>\n",
       "      <th>surface_total</th>\n",
       "      <th>surface_covered</th>\n",
       "      <th>price</th>\n",
       "      <th>currency</th>\n",
       "      <th>title</th>\n",
       "      <th>description</th>\n",
       "      <th>property_type</th>\n",
       "      <th>operation_type</th>\n",
       "    </tr>\n",
       "  </thead>\n",
       "  <tbody>\n",
       "    <tr>\n",
       "      <th>0</th>\n",
       "      <td>2019-10-17</td>\n",
       "      <td>2019-12-23</td>\n",
       "      <td>2019-10-17</td>\n",
       "      <td>-34.605880</td>\n",
       "      <td>-58.384949</td>\n",
       "      <td>Argentina</td>\n",
       "      <td>Capital Federal</td>\n",
       "      <td>San Cristobal</td>\n",
       "      <td>7.0</td>\n",
       "      <td>7.0</td>\n",
       "      <td>2.0</td>\n",
       "      <td>140.0</td>\n",
       "      <td>140.0</td>\n",
       "      <td>153000.0</td>\n",
       "      <td>USD</td>\n",
       "      <td>***Venta semipiso centro, ideal hostel*****</td>\n",
       "      <td>DESCRIPCION DE LA PROPIEDAD: Departamento de 1...</td>\n",
       "      <td>Departamento</td>\n",
       "      <td>Venta</td>\n",
       "    </tr>\n",
       "    <tr>\n",
       "      <th>1</th>\n",
       "      <td>2019-10-17</td>\n",
       "      <td>2019-11-21</td>\n",
       "      <td>2019-10-17</td>\n",
       "      <td>-34.624056</td>\n",
       "      <td>-58.412110</td>\n",
       "      <td>Argentina</td>\n",
       "      <td>Capital Federal</td>\n",
       "      <td>Boedo</td>\n",
       "      <td>2.0</td>\n",
       "      <td>1.0</td>\n",
       "      <td>2.0</td>\n",
       "      <td>70.0</td>\n",
       "      <td>58.0</td>\n",
       "      <td>159000.0</td>\n",
       "      <td>USD</td>\n",
       "      <td>Espectacular PH reciclado en Boedo sin expensas.</td>\n",
       "      <td>PH reciclado en Boedo a una cuadra de la plaz...</td>\n",
       "      <td>PH</td>\n",
       "      <td>Venta</td>\n",
       "    </tr>\n",
       "    <tr>\n",
       "      <th>2</th>\n",
       "      <td>2019-10-17</td>\n",
       "      <td>2019-11-01</td>\n",
       "      <td>2019-10-17</td>\n",
       "      <td>-34.593569</td>\n",
       "      <td>-58.427474</td>\n",
       "      <td>Argentina</td>\n",
       "      <td>Capital Federal</td>\n",
       "      <td>Palermo</td>\n",
       "      <td>2.0</td>\n",
       "      <td>1.0</td>\n",
       "      <td>1.0</td>\n",
       "      <td>45.0</td>\n",
       "      <td>45.0</td>\n",
       "      <td>125000.0</td>\n",
       "      <td>USD</td>\n",
       "      <td>Depto.tipo casa de 2 ambientes en Venta en Pal...</td>\n",
       "      <td>2 ambienets amplio , excelente estado , patio ...</td>\n",
       "      <td>PH</td>\n",
       "      <td>Venta</td>\n",
       "    </tr>\n",
       "    <tr>\n",
       "      <th>3</th>\n",
       "      <td>2019-10-17</td>\n",
       "      <td>2019-12-23</td>\n",
       "      <td>2019-10-17</td>\n",
       "      <td>-34.581294</td>\n",
       "      <td>-58.436754</td>\n",
       "      <td>Argentina</td>\n",
       "      <td>Capital Federal</td>\n",
       "      <td>Palermo</td>\n",
       "      <td>2.0</td>\n",
       "      <td>1.0</td>\n",
       "      <td>1.0</td>\n",
       "      <td>85.0</td>\n",
       "      <td>50.0</td>\n",
       "      <td>295000.0</td>\n",
       "      <td>USD</td>\n",
       "      <td>COSTA RICA 5800 / PALERMO HOLLYWOOD / VENTA PH...</td>\n",
       "      <td>HERMOSO PH EN PALERMO!!!2 AMBIENTES TOTALMENTE...</td>\n",
       "      <td>PH</td>\n",
       "      <td>Venta</td>\n",
       "    </tr>\n",
       "    <tr>\n",
       "      <th>4</th>\n",
       "      <td>2019-10-17</td>\n",
       "      <td>2020-03-11</td>\n",
       "      <td>2019-10-17</td>\n",
       "      <td>-34.914194</td>\n",
       "      <td>-57.938219</td>\n",
       "      <td>Argentina</td>\n",
       "      <td>Bs.As. G.B.A. Zona Sur</td>\n",
       "      <td>La Plata</td>\n",
       "      <td>2.0</td>\n",
       "      <td>1.0</td>\n",
       "      <td>1.0</td>\n",
       "      <td>50.0</td>\n",
       "      <td>35.0</td>\n",
       "      <td>40000.0</td>\n",
       "      <td>USD</td>\n",
       "      <td>58 entre 1 y 2  Venta de departamento en ph.1 ...</td>\n",
       "      <td>58 entre 1 y 2  Venta de departamento en PH. P...</td>\n",
       "      <td>PH</td>\n",
       "      <td>Venta</td>\n",
       "    </tr>\n",
       "  </tbody>\n",
       "</table>\n",
       "</div>"
      ],
      "text/plain": [
       "  start_date    end_date created_on        lat        lon         l1  \\\n",
       "0 2019-10-17  2019-12-23 2019-10-17 -34.605880 -58.384949  Argentina   \n",
       "1 2019-10-17  2019-11-21 2019-10-17 -34.624056 -58.412110  Argentina   \n",
       "2 2019-10-17  2019-11-01 2019-10-17 -34.593569 -58.427474  Argentina   \n",
       "3 2019-10-17  2019-12-23 2019-10-17 -34.581294 -58.436754  Argentina   \n",
       "4 2019-10-17  2020-03-11 2019-10-17 -34.914194 -57.938219  Argentina   \n",
       "\n",
       "                       l2             l3  rooms  bedrooms  bathrooms  \\\n",
       "0         Capital Federal  San Cristobal    7.0       7.0        2.0   \n",
       "1         Capital Federal          Boedo    2.0       1.0        2.0   \n",
       "2         Capital Federal        Palermo    2.0       1.0        1.0   \n",
       "3         Capital Federal        Palermo    2.0       1.0        1.0   \n",
       "4  Bs.As. G.B.A. Zona Sur       La Plata    2.0       1.0        1.0   \n",
       "\n",
       "   surface_total  surface_covered     price currency  \\\n",
       "0          140.0            140.0  153000.0      USD   \n",
       "1           70.0             58.0  159000.0      USD   \n",
       "2           45.0             45.0  125000.0      USD   \n",
       "3           85.0             50.0  295000.0      USD   \n",
       "4           50.0             35.0   40000.0      USD   \n",
       "\n",
       "                                               title  \\\n",
       "0        ***Venta semipiso centro, ideal hostel*****   \n",
       "1   Espectacular PH reciclado en Boedo sin expensas.   \n",
       "2  Depto.tipo casa de 2 ambientes en Venta en Pal...   \n",
       "3  COSTA RICA 5800 / PALERMO HOLLYWOOD / VENTA PH...   \n",
       "4  58 entre 1 y 2  Venta de departamento en ph.1 ...   \n",
       "\n",
       "                                         description property_type  \\\n",
       "0  DESCRIPCION DE LA PROPIEDAD: Departamento de 1...  Departamento   \n",
       "1   PH reciclado en Boedo a una cuadra de la plaz...            PH   \n",
       "2  2 ambienets amplio , excelente estado , patio ...            PH   \n",
       "3  HERMOSO PH EN PALERMO!!!2 AMBIENTES TOTALMENTE...            PH   \n",
       "4  58 entre 1 y 2  Venta de departamento en PH. P...            PH   \n",
       "\n",
       "  operation_type  \n",
       "0          Venta  \n",
       "1          Venta  \n",
       "2          Venta  \n",
       "3          Venta  \n",
       "4          Venta  "
      ]
     },
     "execution_count": 27,
     "metadata": {},
     "output_type": "execute_result"
    }
   ],
   "source": [
    "# Mostramos las primeras 5 filas\n",
    "propiedades.head(5)"
   ]
  },
  {
   "cell_type": "code",
   "execution_count": 28,
   "metadata": {},
   "outputs": [],
   "source": [
    "# imputamos las valores en la columna end_date como la fecha 12 de diciembre de 9999\n",
    "# se entiende que son operaciones que no se han cerrado y por el momento no descartamos estos valores\n",
    "propiedades.replace('9999-12-31',pd.NA,inplace=True)\n",
    "propiedades.end_date = propiedades.end_date.astype('datetime64')"
   ]
  },
  {
   "cell_type": "code",
   "execution_count": 29,
   "metadata": {},
   "outputs": [
    {
     "name": "stdout",
     "output_type": "stream",
     "text": [
      "<class 'pandas.core.frame.DataFrame'>\n",
      "RangeIndex: 146660 entries, 0 to 146659\n",
      "Data columns (total 19 columns):\n",
      " #   Column           Non-Null Count   Dtype         \n",
      "---  ------           --------------   -----         \n",
      " 0   start_date       146660 non-null  datetime64[ns]\n",
      " 1   end_date         121559 non-null  datetime64[ns]\n",
      " 2   created_on       146660 non-null  datetime64[ns]\n",
      " 3   lat              136735 non-null  float64       \n",
      " 4   lon              136701 non-null  float64       \n",
      " 5   l1               146660 non-null  object        \n",
      " 6   l2               146660 non-null  object        \n",
      " 7   l3               146660 non-null  object        \n",
      " 8   rooms            146660 non-null  float64       \n",
      " 9   bedrooms         146660 non-null  float64       \n",
      " 10  bathrooms        140703 non-null  float64       \n",
      " 11  surface_total    126133 non-null  float64       \n",
      " 12  surface_covered  125046 non-null  float64       \n",
      " 13  price            146660 non-null  float64       \n",
      " 14  currency         146660 non-null  object        \n",
      " 15  title            146660 non-null  object        \n",
      " 16  description      146660 non-null  object        \n",
      " 17  property_type    146660 non-null  object        \n",
      " 18  operation_type   146660 non-null  object        \n",
      "dtypes: datetime64[ns](3), float64(8), object(8)\n",
      "memory usage: 21.3+ MB\n"
     ]
    }
   ],
   "source": [
    "propiedades.info()"
   ]
  },
  {
   "cell_type": "markdown",
   "metadata": {
    "id": "BJ-XiUsvC4Oh"
   },
   "source": [
    "2. **Valores Faltantes**: imprime en pantalla los nombres de las columnas y cuántos valores faltantes hay por columna."
   ]
  },
  {
   "cell_type": "code",
   "execution_count": 30,
   "metadata": {
    "id": "1QletBbgC4Oi"
   },
   "outputs": [
    {
     "data": {
      "text/plain": [
       "start_date             0\n",
       "end_date           25101\n",
       "created_on             0\n",
       "lat                 9925\n",
       "lon                 9959\n",
       "l1                     0\n",
       "l2                     0\n",
       "l3                     0\n",
       "rooms                  0\n",
       "bedrooms               0\n",
       "bathrooms           5957\n",
       "surface_total      20527\n",
       "surface_covered    21614\n",
       "price                  0\n",
       "currency               0\n",
       "title                  0\n",
       "description            0\n",
       "property_type          0\n",
       "operation_type         0\n",
       "dtype: int64"
      ]
     },
     "execution_count": 30,
     "metadata": {},
     "output_type": "execute_result"
    }
   ],
   "source": [
    "# Cantidad de NA en el DS por cada columna\n",
    "propiedades.isna().sum()"
   ]
  },
  {
   "cell_type": "markdown",
   "metadata": {
    "id": "fzDXC875C4Oo"
   },
   "source": [
    "3. **Tipos de propiedad**: ¿Cuántos tipos de propiedad hay publicados según este dataset?¿Cuántos instancias por cada tipo de propiedad hay en el dataset? Responde esta pregunta usando las funcionalidad de Pandas y con un gráfico apropiado de Seaborn. **Pistas**: Te puede ser útil googlear cómo rotar las etiquetas del eje x."
   ]
  },
  {
   "cell_type": "code",
   "execution_count": 31,
   "metadata": {
    "id": "KvVxaqPlC4Oq"
   },
   "outputs": [
    {
     "name": "stdout",
     "output_type": "stream",
     "text": [
      "Existen 10 tipos de propiedades, y cada una posee la siguiente cantidad de propiedades\n"
     ]
    },
    {
     "data": {
      "text/html": [
       "<div>\n",
       "<style scoped>\n",
       "    .dataframe tbody tr th:only-of-type {\n",
       "        vertical-align: middle;\n",
       "    }\n",
       "\n",
       "    .dataframe tbody tr th {\n",
       "        vertical-align: top;\n",
       "    }\n",
       "\n",
       "    .dataframe thead th {\n",
       "        text-align: right;\n",
       "    }\n",
       "</style>\n",
       "<table border=\"1\" class=\"dataframe\">\n",
       "  <thead>\n",
       "    <tr style=\"text-align: right;\">\n",
       "      <th></th>\n",
       "      <th>Tipo de propiedad</th>\n",
       "      <th>Cantidad</th>\n",
       "    </tr>\n",
       "  </thead>\n",
       "  <tbody>\n",
       "    <tr>\n",
       "      <th>3</th>\n",
       "      <td>Departamento</td>\n",
       "      <td>107326</td>\n",
       "    </tr>\n",
       "    <tr>\n",
       "      <th>0</th>\n",
       "      <td>Casa</td>\n",
       "      <td>21521</td>\n",
       "    </tr>\n",
       "    <tr>\n",
       "      <th>9</th>\n",
       "      <td>PH</td>\n",
       "      <td>14298</td>\n",
       "    </tr>\n",
       "    <tr>\n",
       "      <th>6</th>\n",
       "      <td>Lote</td>\n",
       "      <td>1312</td>\n",
       "    </tr>\n",
       "    <tr>\n",
       "      <th>7</th>\n",
       "      <td>Oficina</td>\n",
       "      <td>658</td>\n",
       "    </tr>\n",
       "    <tr>\n",
       "      <th>8</th>\n",
       "      <td>Otro</td>\n",
       "      <td>374</td>\n",
       "    </tr>\n",
       "    <tr>\n",
       "      <th>5</th>\n",
       "      <td>Local comercial</td>\n",
       "      <td>325</td>\n",
       "    </tr>\n",
       "    <tr>\n",
       "      <th>1</th>\n",
       "      <td>Casa de campo</td>\n",
       "      <td>322</td>\n",
       "    </tr>\n",
       "    <tr>\n",
       "      <th>4</th>\n",
       "      <td>Depósito</td>\n",
       "      <td>265</td>\n",
       "    </tr>\n",
       "    <tr>\n",
       "      <th>2</th>\n",
       "      <td>Cochera</td>\n",
       "      <td>259</td>\n",
       "    </tr>\n",
       "  </tbody>\n",
       "</table>\n",
       "</div>"
      ],
      "text/plain": [
       "  Tipo de propiedad  Cantidad\n",
       "3      Departamento    107326\n",
       "0              Casa     21521\n",
       "9                PH     14298\n",
       "6              Lote      1312\n",
       "7           Oficina       658\n",
       "8              Otro       374\n",
       "5   Local comercial       325\n",
       "1     Casa de campo       322\n",
       "4          Depósito       265\n",
       "2           Cochera       259"
      ]
     },
     "execution_count": 31,
     "metadata": {},
     "output_type": "execute_result"
    }
   ],
   "source": [
    "# Imprimimos cuantos tipos de propiedad existen en nuestro DS y la cantidad de propiedades por cada tipo de propiedad\n",
    "print('Existen', len(propiedades['property_type'].unique()), 'tipos de propiedades, y cada una posee la siguiente cantidad de propiedades')\n",
    "df_tmp = pd.DataFrame(propiedades.groupby('property_type').size()).reset_index()\n",
    "df_tmp.rename(columns={'property_type':'Tipo de propiedad',0:'Cantidad'},inplace=True)\n",
    "df_tmp.sort_values(by='Cantidad',ascending=False)"
   ]
  },
  {
   "cell_type": "code",
   "execution_count": 32,
   "metadata": {},
   "outputs": [
    {
     "data": {
      "image/png": "[encoded data removed]",
      "text/plain": [
       "<Figure size 1296x576 with 1 Axes>"
      ]
     },
     "metadata": {
      "needs_background": "light"
     },
     "output_type": "display_data"
    }
   ],
   "source": [
    "def without_hue(plot, feature):\n",
    "    total = len(feature)\n",
    "    for p in ax.patches:\n",
    "        percentage = '{:.1f}%'.format(100 * p.get_height()/total)\n",
    "        x = p.get_x() + p.get_width() / 2 - 0.05\n",
    "        y = p.get_y() + p.get_height()\n",
    "        ax.annotate(percentage, (x, y), size = 12)\n",
    "    plt.show()\n",
    "    \n",
    "plt.figure(figsize=(18,8))\n",
    "ax = sns.countplot(data=propiedades,\n",
    "             x='property_type',\n",
    "             order = propiedades['property_type'].value_counts().index)\n",
    "plt.xlabel('Tipo de propiedad')\n",
    "plt.ylabel('Cantidad de propiedades')\n",
    "#plt.yscale('log')\n",
    "plt.title('Cantidad de propiedades por tipo')\n",
    "without_hue(ax,propiedades.property_type)\n",
    "plt.show()"
   ]
  },
  {
   "cell_type": "markdown",
   "metadata": {},
   "source": [
    "<div style=\"background-color:powderblue;\">\n",
    "Si observamos el grafico anterior podemos notar que los tres primeros tipos de propiedad poseen el **97,6%** del total del DS\n",
    "    \n",
    "</br><ul>\n",
    "<li> Departamentos: 73,2 %</li>\n",
    "<li> Casas 14,7%</li>\n",
    "<li> PH 9,7%</li>\n",
    "</ul>\n",
    "\n",
    "</br> Este desbalanceo de nuestro ds podría llegar a generar problemas al momento de entrenar y realizar predicciones, aunque en este ejercicio, más adelante solo nos quedamos con los tres primeros y esto \"soluciona\" el problema.\n",
    "</div>"
   ]
  },
  {
   "cell_type": "markdown",
   "metadata": {
    "id": "zmHRGis7C4Ow"
   },
   "source": [
    "4. ¿De qué regiones son las publicaciones? Haz gráficos de barras para las variables `l2` y `l3`. Si te animas, puedes hacer los dos gráficos usando `subplot` de Matplotlib. Dale un tamaño apropiado a la figura para que ambos gráficos se visualicen correctamente."
   ]
  },
  {
   "cell_type": "code",
   "execution_count": 33,
   "metadata": {
    "id": "JvrB-EaoC4Ox"
   },
   "outputs": [],
   "source": [
    "# Creamos algunos dataframes para facilitar graficar\n",
    "\n",
    "# Agrupamos las zonas y contamos cuantas propiedades existen\n",
    "df_l2 = pd.DataFrame(propiedades.groupby('l2').size()).reset_index().sort_values(by=0, ascending=False)\n",
    "\n",
    "# Agrupamos los barrios y contamos cuantas propiedades existen\n",
    "df_l3 = pd.DataFrame(propiedades.groupby('l3').size()).reset_index().sort_values(by=0, ascending=False)\n",
    "# Como existen demasiados para graficarlos, tomamos los n primerios y al resto los agrupamos en otros\n",
    "df_l3['l3'].iloc[40:] = 'Otros'\n",
    "df_l3 = pd.DataFrame(df_l3.groupby('l3').sum()).reset_index().sort_values(by=0, ascending=False)\n",
    "df_l3_tmp = df_l3[df_l3['l3']=='Otros']\n",
    "df_l3 = df_l3[df_l3['l3'] !='Otros']\n",
    "df_l3 = pd.concat([df_l3,df_l3_tmp],axis=0,ignore_index=True)\n"
   ]
  },
  {
   "cell_type": "code",
   "execution_count": 34,
   "metadata": {},
   "outputs": [
    {
     "data": {
      "image/png": "[encoded data removed]",
      "text/plain": [
       "<Figure size 1080x1080 with 2 Axes>"
      ]
     },
     "metadata": {
      "needs_background": "light"
     },
     "output_type": "display_data"
    }
   ],
   "source": [
    "my_cmap = cm.get_cmap('jet')\n",
    "my_norm = Normalize(vmin=0, vmax=len(df_l2))\n",
    "fig, ax = plt.subplots(2,figsize=(15,15))\n",
    "ax[0].bar(df_l2['l2'], df_l2[0],color=my_cmap(my_norm(df_l2['l2'].index)))\n",
    "ax[0].set_title('Cantidad de propiedades por zona')\n",
    "ax[0].set_xlabel('Zonas')\n",
    "ax[0].set_ylabel('Cantidad de propiedades')\n",
    "\n",
    "my_norm = Normalize(vmin=0, vmax=len(df_l3))\n",
    "ax[1].bar(df_l3['l3'], df_l3[0],color=my_cmap(my_norm(df_l3['l3'].index)))\n",
    "ax[1].axes.xaxis.label.set_size(1)\n",
    "ax[1].title.set_text('Cantidad de propiedades por barrio')\n",
    "plt.xticks(rotation=45, horizontalalignment='right')\n",
    "ax[1].set_xlabel('Barrio')\n",
    "ax[1].set_ylabel('Cantidad de propiedades')\n",
    "\n",
    "plt.show()"
   ]
  },
  {
   "cell_type": "markdown",
   "metadata": {},
   "source": [
    "<div style=\"background-color:powderblue;\">\n",
    "</br> En el **Grafico de cantidad de propiedades por zona**, se puede obsevar que la mayoría de los datos (63%) pertenecen a \"Capital Federal\"\n",
    "\n",
    "</br> En el caso del segundo grafico, **Propiedades por barrio**, los datos esta más balanceados, el barrio que más propiedades posee es \"Palermo\" con un 9%~ de las propiedades, con el fin de hacer el grafico más visible, se muestran en detalle los primeros 40 barrios y el resto se agruan en \"Otros\", ese último grupo posee el 15%~ de las propiedades.\n",
    "</div>"
   ]
  },
  {
   "cell_type": "markdown",
   "metadata": {
    "id": "XJCDt8ctC4O3"
   },
   "source": [
    "5. **Filtrando el Dataset:** A partir de los resultados del punto 3. y 4., selecciona las tres clases más abundantes de tipos de propiedad y la región con más propiedades publicadas. Crea un nuevo Data Frame con aquellas instancias que cumplen con esas condiciones e imprime su `shape`."
   ]
  },
  {
   "cell_type": "code",
   "execution_count": 35,
   "metadata": {
    "id": "vbmACahUC4O6"
   },
   "outputs": [
    {
     "data": {
      "text/plain": [
       "(91485, 19)"
      ]
     },
     "execution_count": 35,
     "metadata": {},
     "output_type": "execute_result"
    }
   ],
   "source": [
    "# Filtramos los datos como se solicita en el pto, e imprimimos su shape (cantidad de filas y columnas), las mismas coinciden con las indicadas en el checkpoint\n",
    "propiedades_final = propiedades[propiedades['property_type'].isin(['Departamento', 'Casa','PH']) &\n",
    "                               propiedades['l2'].isin(['Capital Federal'])].copy()\n",
    "propiedades_final.shape"
   ]
  },
  {
   "cell_type": "markdown",
   "metadata": {
    "id": "bXSMm-aOC4O-"
   },
   "source": [
    "**Checkpoint:** deberías tener un dataset con 91485 instacias, 19 columnas.\n",
    "\n",
    "6. **Distribuciones y relaciones de a pares:** Estudia la distribución y las relaciones de a pares de las variables `rooms`, `bedrooms`, `bathrooms`, `surface_total`, `surface_covered`, `price` para cada tipo de propiedad. Para ello, ten en cuenta:\n",
    "    1. Obtiene estadísticos que te sirvan para tener una primera idea de los valores que abarcan estas variables. ¿Cuáles crees que toman valores que tal vez no tengan mucho sentido?\n",
    "    1. Algunas instancias tienen valores de superficie (`surface_total`) muy grandes y dificultan la correcta visualización. Estudia la distribución de esa variable y filtra por un valor razonable que te permita obtener gráficos comprensibles. Puede ser útil un boxplot para determinar un rango razonable.\n",
    "    1. Lo mismo ocurre con valores de superficie total muy chico.\n",
    "    1. Las propiedades no pueden tener `surface_covered` mayor a `surface_total`. Si eso sucede, debes filtrar esas instancias.\n",
    "    1. El rango de precios que toman las propiedades es muy amplio. Estudia la distribución de esa variable y filtra por un valor razonable que te permita obtener gráficos comprensibles. Puede ser útil un boxplot para determinar un rango razonable.\n",
    "    1. Una vez filtrado el dataset, puedes utilizar la función `pairplot` de Seaborn."
   ]
  },
  {
   "cell_type": "code",
   "execution_count": 36,
   "metadata": {
    "id": "jDQy8tzfC4PA"
   },
   "outputs": [
    {
     "data": {
      "text/html": [
       "<div>\n",
       "<style scoped>\n",
       "    .dataframe tbody tr th:only-of-type {\n",
       "        vertical-align: middle;\n",
       "    }\n",
       "\n",
       "    .dataframe tbody tr th {\n",
       "        vertical-align: top;\n",
       "    }\n",
       "\n",
       "    .dataframe thead th {\n",
       "        text-align: right;\n",
       "    }\n",
       "</style>\n",
       "<table border=\"1\" class=\"dataframe\">\n",
       "  <thead>\n",
       "    <tr style=\"text-align: right;\">\n",
       "      <th></th>\n",
       "      <th>rooms</th>\n",
       "      <th>bedrooms</th>\n",
       "      <th>bathrooms</th>\n",
       "      <th>surface_total</th>\n",
       "      <th>surface_covered</th>\n",
       "      <th>price</th>\n",
       "    </tr>\n",
       "  </thead>\n",
       "  <tbody>\n",
       "    <tr>\n",
       "      <th>count</th>\n",
       "      <td>91485.000000</td>\n",
       "      <td>91485.000000</td>\n",
       "      <td>89314.000000</td>\n",
       "      <td>82568.000000</td>\n",
       "      <td>82250.000000</td>\n",
       "      <td>9.148500e+04</td>\n",
       "    </tr>\n",
       "    <tr>\n",
       "      <th>mean</th>\n",
       "      <td>2.964278</td>\n",
       "      <td>1.960278</td>\n",
       "      <td>1.560147</td>\n",
       "      <td>112.626369</td>\n",
       "      <td>94.966310</td>\n",
       "      <td>2.595003e+05</td>\n",
       "    </tr>\n",
       "    <tr>\n",
       "      <th>std</th>\n",
       "      <td>1.314704</td>\n",
       "      <td>1.072946</td>\n",
       "      <td>0.860309</td>\n",
       "      <td>980.713664</td>\n",
       "      <td>778.515243</td>\n",
       "      <td>3.222654e+05</td>\n",
       "    </tr>\n",
       "    <tr>\n",
       "      <th>min</th>\n",
       "      <td>1.000000</td>\n",
       "      <td>0.000000</td>\n",
       "      <td>1.000000</td>\n",
       "      <td>10.000000</td>\n",
       "      <td>1.000000</td>\n",
       "      <td>6.000000e+03</td>\n",
       "    </tr>\n",
       "    <tr>\n",
       "      <th>25%</th>\n",
       "      <td>2.000000</td>\n",
       "      <td>1.000000</td>\n",
       "      <td>1.000000</td>\n",
       "      <td>49.000000</td>\n",
       "      <td>44.000000</td>\n",
       "      <td>1.200000e+05</td>\n",
       "    </tr>\n",
       "    <tr>\n",
       "      <th>50%</th>\n",
       "      <td>3.000000</td>\n",
       "      <td>2.000000</td>\n",
       "      <td>1.000000</td>\n",
       "      <td>71.000000</td>\n",
       "      <td>63.000000</td>\n",
       "      <td>1.750000e+05</td>\n",
       "    </tr>\n",
       "    <tr>\n",
       "      <th>75%</th>\n",
       "      <td>4.000000</td>\n",
       "      <td>3.000000</td>\n",
       "      <td>2.000000</td>\n",
       "      <td>111.000000</td>\n",
       "      <td>96.000000</td>\n",
       "      <td>2.790000e+05</td>\n",
       "    </tr>\n",
       "    <tr>\n",
       "      <th>max</th>\n",
       "      <td>26.000000</td>\n",
       "      <td>15.000000</td>\n",
       "      <td>14.000000</td>\n",
       "      <td>126062.000000</td>\n",
       "      <td>126062.000000</td>\n",
       "      <td>3.243423e+07</td>\n",
       "    </tr>\n",
       "  </tbody>\n",
       "</table>\n",
       "</div>"
      ],
      "text/plain": [
       "              rooms      bedrooms     bathrooms  surface_total  \\\n",
       "count  91485.000000  91485.000000  89314.000000   82568.000000   \n",
       "mean       2.964278      1.960278      1.560147     112.626369   \n",
       "std        1.314704      1.072946      0.860309     980.713664   \n",
       "min        1.000000      0.000000      1.000000      10.000000   \n",
       "25%        2.000000      1.000000      1.000000      49.000000   \n",
       "50%        3.000000      2.000000      1.000000      71.000000   \n",
       "75%        4.000000      3.000000      2.000000     111.000000   \n",
       "max       26.000000     15.000000     14.000000  126062.000000   \n",
       "\n",
       "       surface_covered         price  \n",
       "count     82250.000000  9.148500e+04  \n",
       "mean         94.966310  2.595003e+05  \n",
       "std         778.515243  3.222654e+05  \n",
       "min           1.000000  6.000000e+03  \n",
       "25%          44.000000  1.200000e+05  \n",
       "50%          63.000000  1.750000e+05  \n",
       "75%          96.000000  2.790000e+05  \n",
       "max      126062.000000  3.243423e+07  "
      ]
     },
     "execution_count": 36,
     "metadata": {},
     "output_type": "execute_result"
    }
   ],
   "source": [
    "# Definimos cuales seras las variables con las que vamos a trabajar, y las guardo en una lista\n",
    "variables = ['rooms','bedrooms','bathrooms','surface_total','surface_covered','price','property_type']\n",
    "#Filtramos los datos y nos quedamos con las variables a estudiar\n",
    "propiedades_final = propiedades_final[variables]\n",
    "# con el comando describe podemos ver los estadísticos básicos\n",
    "propiedades_final.describe()"
   ]
  },
  {
   "cell_type": "markdown",
   "metadata": {},
   "source": [
    "### Algunas funciones que utilizamos para realizar el análisis y manipulación de los datos"
   ]
  },
  {
   "cell_type": "code",
   "execution_count": 37,
   "metadata": {},
   "outputs": [],
   "source": [
    "def descartar_registros(df, condicion,variable,descripcion):\n",
    "    '''\n",
    "    Esta función se utiliza para descartar registros del df principal\n",
    "    y moverlos a un df de descartados, indicando el motivo por el cual\n",
    "    fue descartado.\n",
    "    parametros:\n",
    "    condición: mascara que debe aplicarse al df\n",
    "    variable: que varibale estamos evaluando\n",
    "    descripción: texto que indique el motivo por el cual fue descartado\n",
    "    retorno:\n",
    "    devuelve un df con los registros descartados\n",
    "    '''\n",
    "    propiedades_descartadas_tmp = df.loc[condicion].copy()\n",
    "    propiedades_descartadas_tmp['variable'] = variable\n",
    "    propiedades_descartadas_tmp['motivo'] = descripcion\n",
    "    df.drop(propiedades_descartadas_tmp.index, inplace=True,axis=0)\n",
    "\n",
    "    return propiedades_descartadas_tmp\n",
    "\n",
    "# inicializamos \n",
    "propiedades_descartadas = pd.DataFrame(columns=propiedades_final.columns.to_list()).copy()\n",
    "propiedades_descartadas['variable'] = ''\n",
    "propiedades_descartadas['motivo'] = ''"
   ]
  },
  {
   "cell_type": "code",
   "execution_count": 38,
   "metadata": {},
   "outputs": [],
   "source": [
    "def analisis_variables(df, variable,variable_texto):\n",
    "    '''\n",
    "    Esta función se utiliza crear los graficos para cada una de las variables\n",
    "    parametros:\n",
    "    df: dataframe a analizar\n",
    "    varibale: variable que se dese graficar\n",
    "    variable_texto: nombre a imprimir/vizualizar\n",
    "    '''\n",
    "    f, axes = plt.subplots(1,2, figsize=(20, 4), sharex=True)\n",
    "    sns.distplot(df[variable], ax=axes[0], kde=False)\n",
    "    axes[0].set(xlabel='Cantidad de '+variable_texto, ylabel='Cantidad de instancias')\n",
    "    sns.boxplot(data=df,x=variable,y='property_type')\n",
    "    axes[1].set(xlabel='Cantidad de '+variable_texto, ylabel='Tipo de propiedad')\n",
    "\n",
    "    plt.show()"
   ]
  },
  {
   "cell_type": "code",
   "execution_count": 39,
   "metadata": {},
   "outputs": [],
   "source": [
    "def tres_sigmas(df,variable,variable_groupby):\n",
    "    Q1 = propiedades_final[[variable,variable_groupby]].groupby(variable_groupby).quantile(0.25)\n",
    "    Q1 = Q1.rename(columns={variable:'Q1'})\n",
    "    Q3 = propiedades_final[[variable,variable_groupby]].groupby(variable_groupby).quantile(0.75)\n",
    "    Q3 = Q3.rename(columns={variable:'Q3'})\n",
    "    IQR_df = pd.concat([Q1,Q3],axis=1) \n",
    "    IQR_df['IQR'] = IQR_df['Q3'] - IQR_df['Q1']\n",
    "    IQR_df['Q1_ol'] = IQR_df['Q1'] - 1.5 * IQR_df['IQR']\n",
    "    IQR_df['Q3_ol'] = IQR_df['Q3'] + 1.5 * IQR_df['IQR']\n",
    "    return IQR_df"
   ]
  },
  {
   "cell_type": "code",
   "execution_count": 40,
   "metadata": {},
   "outputs": [
    {
     "data": {
      "image/png": "[encoded data removed]",
      "text/plain": [
       "<Figure size 720x720 with 1 Axes>"
      ]
     },
     "metadata": {
      "needs_background": "light"
     },
     "output_type": "display_data"
    },
    {
     "data": {
      "text/plain": [
       "rooms                 0\n",
       "bedrooms              0\n",
       "bathrooms          2171\n",
       "surface_total      8917\n",
       "surface_covered    9235\n",
       "price                 0\n",
       "property_type         0\n",
       "dtype: int64"
      ]
     },
     "execution_count": 40,
     "metadata": {},
     "output_type": "execute_result"
    }
   ],
   "source": [
    "# Analizamos los datos faltantes, primero mediante un grafico y luego se imprime una lista con los valores faltantes de cada variable\n",
    "plt.figure(figsize=(10,10))\n",
    "sns.heatmap(propiedades_final[variables].isnull(),cbar=False,yticklabels=False,cmap='viridis')\n",
    "plt.show()\n",
    "propiedades_final[variables].isnull().sum()"
   ]
  },
  {
   "cell_type": "code",
   "execution_count": 41,
   "metadata": {},
   "outputs": [],
   "source": [
    "# Primer filtrado del DS, quitando los NA y aplicando las condiciones que se establecen en el pto anterior\n",
    "# quitamos los NA\n",
    "condicion = propiedades_final.bathrooms.isna()\n",
    "propiedades_descartadas = pd.concat([propiedades_descartadas, descartar_registros(propiedades_final, condicion,'bathrooms','Descartado por dato faltante')])\n",
    "condicion = propiedades_final.surface_total.isna()\n",
    "propiedades_descartadas = pd.concat([propiedades_descartadas, descartar_registros(propiedades_final, condicion,'surface_total','Descartado por dato faltante')])\n",
    "condicion = propiedades_final.surface_covered.isna()\n",
    "propiedades_descartadas = pd.concat([propiedades_descartadas, descartar_registros(propiedades_final, condicion,'surface_covered','Descartado por dato faltante')])\n",
    "\n",
    "# quitamos superficie menor a 15 o superior a 100\n",
    "condicion = propiedades_final.surface_total < 15 \n",
    "propiedades_descartadas = pd.concat([propiedades_descartadas, descartar_registros(propiedades_final, condicion,'surface_covered','Inferior a 15 o superior a 1000')])\n",
    "condicion = propiedades_final.surface_total > 1000\n",
    "propiedades_descartadas = pd.concat([propiedades_descartadas, descartar_registros(propiedades_final, condicion,'surface_covered','Inferior a 15 o superior a 1000')])\n",
    "\n",
    "# quitamos precios superiores a 4000000\n",
    "condicion = propiedades_final.price > 4000000 \n",
    "propiedades_descartadas = pd.concat([propiedades_descartadas, descartar_registros(propiedades_final, condicion,'price','Precio superior a 4000000')])"
   ]
  },
  {
   "cell_type": "code",
   "execution_count": 42,
   "metadata": {},
   "outputs": [
    {
     "data": {
      "text/plain": [
       "((81019, 7), (10466, 9))"
      ]
     },
     "execution_count": 42,
     "metadata": {},
     "output_type": "execute_result"
    }
   ],
   "source": [
    "# Luego del primer filtrado nos quedamos con 81k~ y descartamos 10k~\n",
    "propiedades_final.shape, propiedades_descartadas.shape"
   ]
  },
  {
   "cell_type": "markdown",
   "metadata": {},
   "source": [
    "# Análisis de las distintas variables"
   ]
  },
  {
   "cell_type": "markdown",
   "metadata": {},
   "source": [
    "## Variable: rooms\n",
    "\n",
    "Definición del campo: rooms - Cantidad de ambientes (útil en Argentina)."
   ]
  },
  {
   "cell_type": "code",
   "execution_count": 43,
   "metadata": {},
   "outputs": [
    {
     "data": {
      "text/html": [
       "<style  type=\"text/css\" >\n",
       "#T_ce47788c_5b29_11eb_801a_80000b59c11brow0_col0,#T_ce47788c_5b29_11eb_801a_80000b59c11brow1_col0,#T_ce47788c_5b29_11eb_801a_80000b59c11brow2_col0,#T_ce47788c_5b29_11eb_801a_80000b59c11brow3_col0,#T_ce47788c_5b29_11eb_801a_80000b59c11brow4_col0,#T_ce47788c_5b29_11eb_801a_80000b59c11brow5_col0,#T_ce47788c_5b29_11eb_801a_80000b59c11brow6_col0,#T_ce47788c_5b29_11eb_801a_80000b59c11brow7_col0{\n",
       "            background-color:  black;\n",
       "            color:  lawngreen;\n",
       "            border-color:  white;\n",
       "        }</style><table id=\"T_ce47788c_5b29_11eb_801a_80000b59c11b\" ><thead>    <tr>        <th class=\"blank level0\" ></th>        <th class=\"col_heading level0 col0\" >rooms</th>    </tr></thead><tbody>\n",
       "                <tr>\n",
       "                        <th id=\"T_ce47788c_5b29_11eb_801a_80000b59c11blevel0_row0\" class=\"row_heading level0 row0\" >count</th>\n",
       "                        <td id=\"T_ce47788c_5b29_11eb_801a_80000b59c11brow0_col0\" class=\"data row0 col0\" >81019.000000</td>\n",
       "            </tr>\n",
       "            <tr>\n",
       "                        <th id=\"T_ce47788c_5b29_11eb_801a_80000b59c11blevel0_row1\" class=\"row_heading level0 row1\" >mean</th>\n",
       "                        <td id=\"T_ce47788c_5b29_11eb_801a_80000b59c11brow1_col0\" class=\"data row1 col0\" >3.009652</td>\n",
       "            </tr>\n",
       "            <tr>\n",
       "                        <th id=\"T_ce47788c_5b29_11eb_801a_80000b59c11blevel0_row2\" class=\"row_heading level0 row2\" >std</th>\n",
       "                        <td id=\"T_ce47788c_5b29_11eb_801a_80000b59c11brow2_col0\" class=\"data row2 col0\" >1.308602</td>\n",
       "            </tr>\n",
       "            <tr>\n",
       "                        <th id=\"T_ce47788c_5b29_11eb_801a_80000b59c11blevel0_row3\" class=\"row_heading level0 row3\" >min</th>\n",
       "                        <td id=\"T_ce47788c_5b29_11eb_801a_80000b59c11brow3_col0\" class=\"data row3 col0\" >1.000000</td>\n",
       "            </tr>\n",
       "            <tr>\n",
       "                        <th id=\"T_ce47788c_5b29_11eb_801a_80000b59c11blevel0_row4\" class=\"row_heading level0 row4\" >25%</th>\n",
       "                        <td id=\"T_ce47788c_5b29_11eb_801a_80000b59c11brow4_col0\" class=\"data row4 col0\" >2.000000</td>\n",
       "            </tr>\n",
       "            <tr>\n",
       "                        <th id=\"T_ce47788c_5b29_11eb_801a_80000b59c11blevel0_row5\" class=\"row_heading level0 row5\" >50%</th>\n",
       "                        <td id=\"T_ce47788c_5b29_11eb_801a_80000b59c11brow5_col0\" class=\"data row5 col0\" >3.000000</td>\n",
       "            </tr>\n",
       "            <tr>\n",
       "                        <th id=\"T_ce47788c_5b29_11eb_801a_80000b59c11blevel0_row6\" class=\"row_heading level0 row6\" >75%</th>\n",
       "                        <td id=\"T_ce47788c_5b29_11eb_801a_80000b59c11brow6_col0\" class=\"data row6 col0\" >4.000000</td>\n",
       "            </tr>\n",
       "            <tr>\n",
       "                        <th id=\"T_ce47788c_5b29_11eb_801a_80000b59c11blevel0_row7\" class=\"row_heading level0 row7\" >max</th>\n",
       "                        <td id=\"T_ce47788c_5b29_11eb_801a_80000b59c11brow7_col0\" class=\"data row7 col0\" >26.000000</td>\n",
       "            </tr>\n",
       "    </tbody></table>"
      ],
      "text/plain": [
       "<pandas.io.formats.style.Styler at 0x23a88bf62c8>"
      ]
     },
     "execution_count": 43,
     "metadata": {},
     "output_type": "execute_result"
    }
   ],
   "source": [
    "# Estadisticos basicos\n",
    "pd.DataFrame(propiedades_final.rooms.describe()).style.set_properties(**{'background-color': 'black', 'color': 'lawngreen', 'border-color': 'white'})"
   ]
  },
  {
   "cell_type": "code",
   "execution_count": 44,
   "metadata": {},
   "outputs": [
    {
     "data": {
      "image/png": "[encoded data removed]",
      "text/plain": [
       "<Figure size 1440x288 with 2 Axes>"
      ]
     },
     "metadata": {
      "needs_background": "light"
     },
     "output_type": "display_data"
    }
   ],
   "source": [
    "# graficamos la variable para conocer su distribución\n",
    "v = 'rooms'\n",
    "v_texto = 'ambientes'\n",
    "analisis_variables(propiedades_final, variable=v,variable_texto=v_texto)"
   ]
  },
  {
   "cell_type": "markdown",
   "metadata": {},
   "source": [
    "<div style=\"background-color:powderblue;\">\n",
    "Del los graficos anteriores podemos determinar que la gran mayoría de la propiedades tiene hasta 10 ambientes y que el tipo de propiedad incide en la cantidad de ambientes que normalmente posee.\n",
    "\n",
    "Aplicaremos la regla de los tres sigmas para determinar cuales serían esos límites \n",
    "</div>"
   ]
  },
  {
   "cell_type": "code",
   "execution_count": 45,
   "metadata": {},
   "outputs": [
    {
     "data": {
      "text/html": [
       "<style  type=\"text/css\" >\n",
       "#T_ce9c5eae_5b29_11eb_af1c_80000b59c11brow0_col0,#T_ce9c5eae_5b29_11eb_af1c_80000b59c11brow0_col1,#T_ce9c5eae_5b29_11eb_af1c_80000b59c11brow0_col2,#T_ce9c5eae_5b29_11eb_af1c_80000b59c11brow0_col3,#T_ce9c5eae_5b29_11eb_af1c_80000b59c11brow0_col4,#T_ce9c5eae_5b29_11eb_af1c_80000b59c11brow1_col0,#T_ce9c5eae_5b29_11eb_af1c_80000b59c11brow1_col1,#T_ce9c5eae_5b29_11eb_af1c_80000b59c11brow1_col2,#T_ce9c5eae_5b29_11eb_af1c_80000b59c11brow1_col3,#T_ce9c5eae_5b29_11eb_af1c_80000b59c11brow1_col4,#T_ce9c5eae_5b29_11eb_af1c_80000b59c11brow2_col0,#T_ce9c5eae_5b29_11eb_af1c_80000b59c11brow2_col1,#T_ce9c5eae_5b29_11eb_af1c_80000b59c11brow2_col2,#T_ce9c5eae_5b29_11eb_af1c_80000b59c11brow2_col3,#T_ce9c5eae_5b29_11eb_af1c_80000b59c11brow2_col4{\n",
       "            background-color:  black;\n",
       "            color:  lawngreen;\n",
       "            border-color:  white;\n",
       "        }</style><table id=\"T_ce9c5eae_5b29_11eb_af1c_80000b59c11b\" ><thead>    <tr>        <th class=\"blank level0\" ></th>        <th class=\"col_heading level0 col0\" >Q1</th>        <th class=\"col_heading level0 col1\" >Q3</th>        <th class=\"col_heading level0 col2\" >IQR</th>        <th class=\"col_heading level0 col3\" >Q1_ol</th>        <th class=\"col_heading level0 col4\" >Q3_ol</th>    </tr>    <tr>        <th class=\"index_name level0\" >property_type</th>        <th class=\"blank\" ></th>        <th class=\"blank\" ></th>        <th class=\"blank\" ></th>        <th class=\"blank\" ></th>        <th class=\"blank\" ></th>    </tr></thead><tbody>\n",
       "                <tr>\n",
       "                        <th id=\"T_ce9c5eae_5b29_11eb_af1c_80000b59c11blevel0_row0\" class=\"row_heading level0 row0\" >Casa</th>\n",
       "                        <td id=\"T_ce9c5eae_5b29_11eb_af1c_80000b59c11brow0_col0\" class=\"data row0 col0\" >4.0</td>\n",
       "                        <td id=\"T_ce9c5eae_5b29_11eb_af1c_80000b59c11brow0_col1\" class=\"data row0 col1\" >6.0</td>\n",
       "                        <td id=\"T_ce9c5eae_5b29_11eb_af1c_80000b59c11brow0_col2\" class=\"data row0 col2\" >2.0</td>\n",
       "                        <td id=\"T_ce9c5eae_5b29_11eb_af1c_80000b59c11brow0_col3\" class=\"data row0 col3\" >1.0</td>\n",
       "                        <td id=\"T_ce9c5eae_5b29_11eb_af1c_80000b59c11brow0_col4\" class=\"data row0 col4\" >9.0</td>\n",
       "            </tr>\n",
       "            <tr>\n",
       "                        <th id=\"T_ce9c5eae_5b29_11eb_af1c_80000b59c11blevel0_row1\" class=\"row_heading level0 row1\" >Departamento</th>\n",
       "                        <td id=\"T_ce9c5eae_5b29_11eb_af1c_80000b59c11brow1_col0\" class=\"data row1 col0\" >2.0</td>\n",
       "                        <td id=\"T_ce9c5eae_5b29_11eb_af1c_80000b59c11brow1_col1\" class=\"data row1 col1\" >4.0</td>\n",
       "                        <td id=\"T_ce9c5eae_5b29_11eb_af1c_80000b59c11brow1_col2\" class=\"data row1 col2\" >2.0</td>\n",
       "                        <td id=\"T_ce9c5eae_5b29_11eb_af1c_80000b59c11brow1_col3\" class=\"data row1 col3\" >-1.0</td>\n",
       "                        <td id=\"T_ce9c5eae_5b29_11eb_af1c_80000b59c11brow1_col4\" class=\"data row1 col4\" >7.0</td>\n",
       "            </tr>\n",
       "            <tr>\n",
       "                        <th id=\"T_ce9c5eae_5b29_11eb_af1c_80000b59c11blevel0_row2\" class=\"row_heading level0 row2\" >PH</th>\n",
       "                        <td id=\"T_ce9c5eae_5b29_11eb_af1c_80000b59c11brow2_col0\" class=\"data row2 col0\" >3.0</td>\n",
       "                        <td id=\"T_ce9c5eae_5b29_11eb_af1c_80000b59c11brow2_col1\" class=\"data row2 col1\" >4.0</td>\n",
       "                        <td id=\"T_ce9c5eae_5b29_11eb_af1c_80000b59c11brow2_col2\" class=\"data row2 col2\" >1.0</td>\n",
       "                        <td id=\"T_ce9c5eae_5b29_11eb_af1c_80000b59c11brow2_col3\" class=\"data row2 col3\" >1.5</td>\n",
       "                        <td id=\"T_ce9c5eae_5b29_11eb_af1c_80000b59c11brow2_col4\" class=\"data row2 col4\" >5.5</td>\n",
       "            </tr>\n",
       "    </tbody></table>"
      ],
      "text/plain": [
       "<pandas.io.formats.style.Styler at 0x23a895a9e48>"
      ]
     },
     "execution_count": 45,
     "metadata": {},
     "output_type": "execute_result"
    }
   ],
   "source": [
    "filtro_3_sigmas = tres_sigmas(propiedades_final,'rooms','property_type') \n",
    "filtro_3_sigmas\\\n",
    "    .style.set_properties(**{'background-color': 'black', 'color': 'lawngreen', 'border-color': 'white'}) \\\n",
    "    .format(\"{:.2}\")"
   ]
  },
  {
   "cell_type": "markdown",
   "metadata": {},
   "source": [
    "<div style=\"background-color:powderblue;\">\n",
    "    <p>La tabla tanerior nos devuelve</p>\n",
    "    <ul>\n",
    "        <li><b>Q1</b>: Primer cuartil</li>\n",
    "        <li><b>Q3</b>: Tercer cuartil</li>\n",
    "        <li><b>IRQ</b>: Rango intercuartilico</li>\n",
    "        <li><b>Q1_ol</b>: Limite inferior</li>\n",
    "        <li><b>Q1_ol</b>: Limite superior</li>\n",
    "    </ul>\n",
    "</div>"
   ]
  },
  {
   "cell_type": "code",
   "execution_count": 46,
   "metadata": {},
   "outputs": [],
   "source": [
    "# ponemos todo en un mismo DF\n",
    "propiedades_final_tmp = propiedades_final.join(filtro_3_sigmas,on='property_type')\n",
    "\n",
    "condicion = propiedades_final_tmp.rooms < propiedades_final_tmp.Q1_ol\n",
    "propiedades_descartadas = pd.concat([propiedades_descartadas, descartar_registros(propiedades_final, condicion,'rooms','Inferior tres sigmas')])\n",
    "\n",
    "condicion = propiedades_final_tmp.rooms > propiedades_final_tmp.Q3_ol\n",
    "propiedades_descartadas = pd.concat([propiedades_descartadas, descartar_registros(propiedades_final, condicion,'rooms','Superior tres sigmas')])\n",
    "del propiedades_final_tmp"
   ]
  },
  {
   "cell_type": "code",
   "execution_count": 47,
   "metadata": {},
   "outputs": [
    {
     "data": {
      "image/png": "[encoded data removed]",
      "text/plain": [
       "<Figure size 1440x288 with 2 Axes>"
      ]
     },
     "metadata": {
      "needs_background": "light"
     },
     "output_type": "display_data"
    }
   ],
   "source": [
    "# Ahora volvemos a graficar, con el DF limpio\n",
    "v = 'rooms'\n",
    "v_texto = 'ambientes'\n",
    "analisis_variables(propiedades_final, variable=v,variable_texto=v_texto)"
   ]
  },
  {
   "cell_type": "markdown",
   "metadata": {},
   "source": [
    "## Variable: bedrooms\n",
    "\n",
    "Definición del campo: bedrooms - Cantidad de dormitorios (útil en el resto de los países)."
   ]
  },
  {
   "cell_type": "code",
   "execution_count": 48,
   "metadata": {},
   "outputs": [
    {
     "data": {
      "text/html": [
       "<style  type=\"text/css\" >\n",
       "#T_cee80d92_5b29_11eb_998b_80000b59c11brow0_col0,#T_cee80d92_5b29_11eb_998b_80000b59c11brow1_col0,#T_cee80d92_5b29_11eb_998b_80000b59c11brow2_col0,#T_cee80d92_5b29_11eb_998b_80000b59c11brow3_col0,#T_cee80d92_5b29_11eb_998b_80000b59c11brow4_col0,#T_cee80d92_5b29_11eb_998b_80000b59c11brow5_col0,#T_cee80d92_5b29_11eb_998b_80000b59c11brow6_col0,#T_cee80d92_5b29_11eb_998b_80000b59c11brow7_col0{\n",
       "            background-color:  black;\n",
       "            color:  lawngreen;\n",
       "            border-color:  white;\n",
       "        }</style><table id=\"T_cee80d92_5b29_11eb_998b_80000b59c11b\" ><thead>    <tr>        <th class=\"blank level0\" ></th>        <th class=\"col_heading level0 col0\" >bedrooms</th>    </tr></thead><tbody>\n",
       "                <tr>\n",
       "                        <th id=\"T_cee80d92_5b29_11eb_998b_80000b59c11blevel0_row0\" class=\"row_heading level0 row0\" >count</th>\n",
       "                        <td id=\"T_cee80d92_5b29_11eb_998b_80000b59c11brow0_col0\" class=\"data row0 col0\" >79916.000000</td>\n",
       "            </tr>\n",
       "            <tr>\n",
       "                        <th id=\"T_cee80d92_5b29_11eb_998b_80000b59c11blevel0_row1\" class=\"row_heading level0 row1\" >mean</th>\n",
       "                        <td id=\"T_cee80d92_5b29_11eb_998b_80000b59c11brow1_col0\" class=\"data row1 col0\" >1.960421</td>\n",
       "            </tr>\n",
       "            <tr>\n",
       "                        <th id=\"T_cee80d92_5b29_11eb_998b_80000b59c11blevel0_row2\" class=\"row_heading level0 row2\" >std</th>\n",
       "                        <td id=\"T_cee80d92_5b29_11eb_998b_80000b59c11brow2_col0\" class=\"data row2 col0\" >0.959727</td>\n",
       "            </tr>\n",
       "            <tr>\n",
       "                        <th id=\"T_cee80d92_5b29_11eb_998b_80000b59c11blevel0_row3\" class=\"row_heading level0 row3\" >min</th>\n",
       "                        <td id=\"T_cee80d92_5b29_11eb_998b_80000b59c11brow3_col0\" class=\"data row3 col0\" >0.000000</td>\n",
       "            </tr>\n",
       "            <tr>\n",
       "                        <th id=\"T_cee80d92_5b29_11eb_998b_80000b59c11blevel0_row4\" class=\"row_heading level0 row4\" >25%</th>\n",
       "                        <td id=\"T_cee80d92_5b29_11eb_998b_80000b59c11brow4_col0\" class=\"data row4 col0\" >1.000000</td>\n",
       "            </tr>\n",
       "            <tr>\n",
       "                        <th id=\"T_cee80d92_5b29_11eb_998b_80000b59c11blevel0_row5\" class=\"row_heading level0 row5\" >50%</th>\n",
       "                        <td id=\"T_cee80d92_5b29_11eb_998b_80000b59c11brow5_col0\" class=\"data row5 col0\" >2.000000</td>\n",
       "            </tr>\n",
       "            <tr>\n",
       "                        <th id=\"T_cee80d92_5b29_11eb_998b_80000b59c11blevel0_row6\" class=\"row_heading level0 row6\" >75%</th>\n",
       "                        <td id=\"T_cee80d92_5b29_11eb_998b_80000b59c11brow6_col0\" class=\"data row6 col0\" >3.000000</td>\n",
       "            </tr>\n",
       "            <tr>\n",
       "                        <th id=\"T_cee80d92_5b29_11eb_998b_80000b59c11blevel0_row7\" class=\"row_heading level0 row7\" >max</th>\n",
       "                        <td id=\"T_cee80d92_5b29_11eb_998b_80000b59c11brow7_col0\" class=\"data row7 col0\" >15.000000</td>\n",
       "            </tr>\n",
       "    </tbody></table>"
      ],
      "text/plain": [
       "<pandas.io.formats.style.Styler at 0x23a884f3d08>"
      ]
     },
     "execution_count": 48,
     "metadata": {},
     "output_type": "execute_result"
    }
   ],
   "source": [
    "# Estadisticos basicos\n",
    "pd.DataFrame(propiedades_final.bedrooms.describe()).style.set_properties(**{'background-color': 'black', 'color': 'lawngreen', 'border-color': 'white'})"
   ]
  },
  {
   "cell_type": "code",
   "execution_count": 49,
   "metadata": {},
   "outputs": [
    {
     "data": {
      "image/png": "[encoded data removed]",
      "text/plain": [
       "<Figure size 1440x288 with 2 Axes>"
      ]
     },
     "metadata": {
      "needs_background": "light"
     },
     "output_type": "display_data"
    }
   ],
   "source": [
    "# graficamos la variable para conocer su distribución\n",
    "v = 'bedrooms'\n",
    "v_texto = 'dormitorios'\n",
    "analisis_variables(propiedades_final, variable=v,variable_texto=v_texto)"
   ]
  },
  {
   "cell_type": "markdown",
   "metadata": {},
   "source": [
    "<div style=\"background-color:powderblue;\">\n",
    "Similar a lo que ocurria con la variable anterior vemos que tenemos dato atipicos, la mayoria de los datos tiene un maximo de 6 dormitorios, y el tipo de propiedad influye en la cantidad de dormitorios. Pero en este caso ignoraremos el limite inferior, ya que podría haber propiedades donde no tengan dormitorios, ejemplo una oficina.\n",
    "    \n",
    "Aplicaremos la regla de los tres sigmas para determinar cuales serían esos límites \n",
    "</div>"
   ]
  },
  {
   "cell_type": "code",
   "execution_count": 50,
   "metadata": {},
   "outputs": [
    {
     "data": {
      "text/html": [
       "<style  type=\"text/css\" >\n",
       "#T_cf33bd5c_5b29_11eb_bf85_80000b59c11brow0_col0,#T_cf33bd5c_5b29_11eb_bf85_80000b59c11brow0_col1,#T_cf33bd5c_5b29_11eb_bf85_80000b59c11brow0_col2,#T_cf33bd5c_5b29_11eb_bf85_80000b59c11brow0_col3,#T_cf33bd5c_5b29_11eb_bf85_80000b59c11brow0_col4,#T_cf33bd5c_5b29_11eb_bf85_80000b59c11brow1_col0,#T_cf33bd5c_5b29_11eb_bf85_80000b59c11brow1_col1,#T_cf33bd5c_5b29_11eb_bf85_80000b59c11brow1_col2,#T_cf33bd5c_5b29_11eb_bf85_80000b59c11brow1_col3,#T_cf33bd5c_5b29_11eb_bf85_80000b59c11brow1_col4,#T_cf33bd5c_5b29_11eb_bf85_80000b59c11brow2_col0,#T_cf33bd5c_5b29_11eb_bf85_80000b59c11brow2_col1,#T_cf33bd5c_5b29_11eb_bf85_80000b59c11brow2_col2,#T_cf33bd5c_5b29_11eb_bf85_80000b59c11brow2_col3,#T_cf33bd5c_5b29_11eb_bf85_80000b59c11brow2_col4{\n",
       "            background-color:  black;\n",
       "            color:  lawngreen;\n",
       "            border-color:  white;\n",
       "        }</style><table id=\"T_cf33bd5c_5b29_11eb_bf85_80000b59c11b\" ><thead>    <tr>        <th class=\"blank level0\" ></th>        <th class=\"col_heading level0 col0\" >Q1</th>        <th class=\"col_heading level0 col1\" >Q3</th>        <th class=\"col_heading level0 col2\" >IQR</th>        <th class=\"col_heading level0 col3\" >Q1_ol</th>        <th class=\"col_heading level0 col4\" >Q3_ol</th>    </tr>    <tr>        <th class=\"index_name level0\" >property_type</th>        <th class=\"blank\" ></th>        <th class=\"blank\" ></th>        <th class=\"blank\" ></th>        <th class=\"blank\" ></th>        <th class=\"blank\" ></th>    </tr></thead><tbody>\n",
       "                <tr>\n",
       "                        <th id=\"T_cf33bd5c_5b29_11eb_bf85_80000b59c11blevel0_row0\" class=\"row_heading level0 row0\" >Casa</th>\n",
       "                        <td id=\"T_cf33bd5c_5b29_11eb_bf85_80000b59c11brow0_col0\" class=\"data row0 col0\" >3.0</td>\n",
       "                        <td id=\"T_cf33bd5c_5b29_11eb_bf85_80000b59c11brow0_col1\" class=\"data row0 col1\" >4.0</td>\n",
       "                        <td id=\"T_cf33bd5c_5b29_11eb_bf85_80000b59c11brow0_col2\" class=\"data row0 col2\" >1.0</td>\n",
       "                        <td id=\"T_cf33bd5c_5b29_11eb_bf85_80000b59c11brow0_col3\" class=\"data row0 col3\" >1.5</td>\n",
       "                        <td id=\"T_cf33bd5c_5b29_11eb_bf85_80000b59c11brow0_col4\" class=\"data row0 col4\" >5.5</td>\n",
       "            </tr>\n",
       "            <tr>\n",
       "                        <th id=\"T_cf33bd5c_5b29_11eb_bf85_80000b59c11blevel0_row1\" class=\"row_heading level0 row1\" >Departamento</th>\n",
       "                        <td id=\"T_cf33bd5c_5b29_11eb_bf85_80000b59c11brow1_col0\" class=\"data row1 col0\" >1.0</td>\n",
       "                        <td id=\"T_cf33bd5c_5b29_11eb_bf85_80000b59c11brow1_col1\" class=\"data row1 col1\" >2.0</td>\n",
       "                        <td id=\"T_cf33bd5c_5b29_11eb_bf85_80000b59c11brow1_col2\" class=\"data row1 col2\" >1.0</td>\n",
       "                        <td id=\"T_cf33bd5c_5b29_11eb_bf85_80000b59c11brow1_col3\" class=\"data row1 col3\" >-0.5</td>\n",
       "                        <td id=\"T_cf33bd5c_5b29_11eb_bf85_80000b59c11brow1_col4\" class=\"data row1 col4\" >3.5</td>\n",
       "            </tr>\n",
       "            <tr>\n",
       "                        <th id=\"T_cf33bd5c_5b29_11eb_bf85_80000b59c11blevel0_row2\" class=\"row_heading level0 row2\" >PH</th>\n",
       "                        <td id=\"T_cf33bd5c_5b29_11eb_bf85_80000b59c11brow2_col0\" class=\"data row2 col0\" >2.0</td>\n",
       "                        <td id=\"T_cf33bd5c_5b29_11eb_bf85_80000b59c11brow2_col1\" class=\"data row2 col1\" >3.0</td>\n",
       "                        <td id=\"T_cf33bd5c_5b29_11eb_bf85_80000b59c11brow2_col2\" class=\"data row2 col2\" >1.0</td>\n",
       "                        <td id=\"T_cf33bd5c_5b29_11eb_bf85_80000b59c11brow2_col3\" class=\"data row2 col3\" >0.5</td>\n",
       "                        <td id=\"T_cf33bd5c_5b29_11eb_bf85_80000b59c11brow2_col4\" class=\"data row2 col4\" >4.5</td>\n",
       "            </tr>\n",
       "    </tbody></table>"
      ],
      "text/plain": [
       "<pandas.io.formats.style.Styler at 0x23a86463f08>"
      ]
     },
     "execution_count": 50,
     "metadata": {},
     "output_type": "execute_result"
    }
   ],
   "source": [
    "filtro_3_sigmas = tres_sigmas(propiedades_final,'bedrooms','property_type') \n",
    "filtro_3_sigmas\\\n",
    "    .style.set_properties(**{'background-color': 'black', 'color': 'lawngreen', 'border-color': 'white'}) \\\n",
    "    .format(\"{:.2}\")"
   ]
  },
  {
   "cell_type": "code",
   "execution_count": 51,
   "metadata": {},
   "outputs": [],
   "source": [
    "# ponemos todo en un mismo DF\n",
    "propiedades_final_tmp = propiedades_final.join(filtro_3_sigmas,on='property_type')\n",
    "\n",
    "#condicion = propiedades_final_tmp.bedrooms < propiedades_final_tmp.Q1_ol\n",
    "#propiedades_descartadas = pd.concat([propiedades_descartadas, descartar_registros(propiedades_final, condicion,'bedrooms','Inferior tres sigmas')])\n",
    "\n",
    "condicion = propiedades_final_tmp.bedrooms > propiedades_final_tmp.Q3_ol\n",
    "propiedades_descartadas = pd.concat([propiedades_descartadas, descartar_registros(propiedades_final, condicion,'debrooms','Superior tres sigmas')])\n",
    "del propiedades_final_tmp"
   ]
  },
  {
   "cell_type": "code",
   "execution_count": 52,
   "metadata": {},
   "outputs": [
    {
     "data": {
      "image/png": "[encoded data removed]",
      "text/plain": [
       "<Figure size 1440x288 with 2 Axes>"
      ]
     },
     "metadata": {
      "needs_background": "light"
     },
     "output_type": "display_data"
    }
   ],
   "source": [
    "# graficamos la variable para conocer su distribución\n",
    "v = 'bedrooms'\n",
    "v_texto = 'dormitorios'\n",
    "analisis_variables(propiedades_final, variable=v,variable_texto=v_texto)"
   ]
  },
  {
   "cell_type": "markdown",
   "metadata": {},
   "source": [
    "## Variable: bathrooms\n",
    "\n",
    "Definición del campo: bathrooms - Cantidad de baños"
   ]
  },
  {
   "cell_type": "code",
   "execution_count": 54,
   "metadata": {},
   "outputs": [
    {
     "data": {
      "text/html": [
       "<style  type=\"text/css\" >\n",
       "#T_1cebf4fa_5b2a_11eb_996e_80000b59c11brow0_col0,#T_1cebf4fa_5b2a_11eb_996e_80000b59c11brow1_col0,#T_1cebf4fa_5b2a_11eb_996e_80000b59c11brow2_col0,#T_1cebf4fa_5b2a_11eb_996e_80000b59c11brow3_col0,#T_1cebf4fa_5b2a_11eb_996e_80000b59c11brow4_col0,#T_1cebf4fa_5b2a_11eb_996e_80000b59c11brow5_col0,#T_1cebf4fa_5b2a_11eb_996e_80000b59c11brow6_col0,#T_1cebf4fa_5b2a_11eb_996e_80000b59c11brow7_col0{\n",
       "            background-color:  black;\n",
       "            color:  lawngreen;\n",
       "            border-color:  white;\n",
       "        }</style><table id=\"T_1cebf4fa_5b2a_11eb_996e_80000b59c11b\" ><thead>    <tr>        <th class=\"blank level0\" ></th>        <th class=\"col_heading level0 col0\" >bathrooms</th>    </tr></thead><tbody>\n",
       "                <tr>\n",
       "                        <th id=\"T_1cebf4fa_5b2a_11eb_996e_80000b59c11blevel0_row0\" class=\"row_heading level0 row0\" >count</th>\n",
       "                        <td id=\"T_1cebf4fa_5b2a_11eb_996e_80000b59c11brow0_col0\" class=\"data row0 col0\" >76888.000000</td>\n",
       "            </tr>\n",
       "            <tr>\n",
       "                        <th id=\"T_1cebf4fa_5b2a_11eb_996e_80000b59c11blevel0_row1\" class=\"row_heading level0 row1\" >mean</th>\n",
       "                        <td id=\"T_1cebf4fa_5b2a_11eb_996e_80000b59c11brow1_col0\" class=\"data row1 col0\" >1.479529</td>\n",
       "            </tr>\n",
       "            <tr>\n",
       "                        <th id=\"T_1cebf4fa_5b2a_11eb_996e_80000b59c11blevel0_row2\" class=\"row_heading level0 row2\" >std</th>\n",
       "                        <td id=\"T_1cebf4fa_5b2a_11eb_996e_80000b59c11brow2_col0\" class=\"data row2 col0\" >0.756689</td>\n",
       "            </tr>\n",
       "            <tr>\n",
       "                        <th id=\"T_1cebf4fa_5b2a_11eb_996e_80000b59c11blevel0_row3\" class=\"row_heading level0 row3\" >min</th>\n",
       "                        <td id=\"T_1cebf4fa_5b2a_11eb_996e_80000b59c11brow3_col0\" class=\"data row3 col0\" >1.000000</td>\n",
       "            </tr>\n",
       "            <tr>\n",
       "                        <th id=\"T_1cebf4fa_5b2a_11eb_996e_80000b59c11blevel0_row4\" class=\"row_heading level0 row4\" >25%</th>\n",
       "                        <td id=\"T_1cebf4fa_5b2a_11eb_996e_80000b59c11brow4_col0\" class=\"data row4 col0\" >1.000000</td>\n",
       "            </tr>\n",
       "            <tr>\n",
       "                        <th id=\"T_1cebf4fa_5b2a_11eb_996e_80000b59c11blevel0_row5\" class=\"row_heading level0 row5\" >50%</th>\n",
       "                        <td id=\"T_1cebf4fa_5b2a_11eb_996e_80000b59c11brow5_col0\" class=\"data row5 col0\" >1.000000</td>\n",
       "            </tr>\n",
       "            <tr>\n",
       "                        <th id=\"T_1cebf4fa_5b2a_11eb_996e_80000b59c11blevel0_row6\" class=\"row_heading level0 row6\" >75%</th>\n",
       "                        <td id=\"T_1cebf4fa_5b2a_11eb_996e_80000b59c11brow6_col0\" class=\"data row6 col0\" >2.000000</td>\n",
       "            </tr>\n",
       "            <tr>\n",
       "                        <th id=\"T_1cebf4fa_5b2a_11eb_996e_80000b59c11blevel0_row7\" class=\"row_heading level0 row7\" >max</th>\n",
       "                        <td id=\"T_1cebf4fa_5b2a_11eb_996e_80000b59c11brow7_col0\" class=\"data row7 col0\" >14.000000</td>\n",
       "            </tr>\n",
       "    </tbody></table>"
      ],
      "text/plain": [
       "<pandas.io.formats.style.Styler at 0x23af449bd48>"
      ]
     },
     "execution_count": 54,
     "metadata": {},
     "output_type": "execute_result"
    }
   ],
   "source": [
    "# Estadisticos basicos\n",
    "pd.DataFrame(propiedades_final.bathrooms.describe()).style.set_properties(**{'background-color': 'black', 'color': 'lawngreen', 'border-color': 'white'})"
   ]
  },
  {
   "cell_type": "code",
   "execution_count": 55,
   "metadata": {},
   "outputs": [
    {
     "data": {
      "image/png": "[encoded data removed]",
      "text/plain": [
       "<Figure size 1440x288 with 2 Axes>"
      ]
     },
     "metadata": {
      "needs_background": "light"
     },
     "output_type": "display_data"
    }
   ],
   "source": [
    "# graficamos la variable para conocer su distribución\n",
    "v = 'bathrooms'\n",
    "v_texto = 'baños'\n",
    "analisis_variables(propiedades_final, variable=v,variable_texto=v_texto)"
   ]
  },
  {
   "cell_type": "markdown",
   "metadata": {},
   "source": [
    "<div style=\"background-color:powderblue;\">\n",
    "Muy similar a la variable anterior\n",
    "    \n",
    "Aplicaremos la regla de los tres sigmas para determinar cuales serían esos límites \n",
    "</div>"
   ]
  },
  {
   "cell_type": "code",
   "execution_count": 56,
   "metadata": {},
   "outputs": [
    {
     "data": {
      "text/html": [
       "<style  type=\"text/css\" >\n",
       "#T_551385d8_5b2a_11eb_b9ee_80000b59c11brow0_col0,#T_551385d8_5b2a_11eb_b9ee_80000b59c11brow0_col1,#T_551385d8_5b2a_11eb_b9ee_80000b59c11brow0_col2,#T_551385d8_5b2a_11eb_b9ee_80000b59c11brow0_col3,#T_551385d8_5b2a_11eb_b9ee_80000b59c11brow0_col4,#T_551385d8_5b2a_11eb_b9ee_80000b59c11brow1_col0,#T_551385d8_5b2a_11eb_b9ee_80000b59c11brow1_col1,#T_551385d8_5b2a_11eb_b9ee_80000b59c11brow1_col2,#T_551385d8_5b2a_11eb_b9ee_80000b59c11brow1_col3,#T_551385d8_5b2a_11eb_b9ee_80000b59c11brow1_col4,#T_551385d8_5b2a_11eb_b9ee_80000b59c11brow2_col0,#T_551385d8_5b2a_11eb_b9ee_80000b59c11brow2_col1,#T_551385d8_5b2a_11eb_b9ee_80000b59c11brow2_col2,#T_551385d8_5b2a_11eb_b9ee_80000b59c11brow2_col3,#T_551385d8_5b2a_11eb_b9ee_80000b59c11brow2_col4{\n",
       "            background-color:  black;\n",
       "            color:  lawngreen;\n",
       "            border-color:  white;\n",
       "        }</style><table id=\"T_551385d8_5b2a_11eb_b9ee_80000b59c11b\" ><thead>    <tr>        <th class=\"blank level0\" ></th>        <th class=\"col_heading level0 col0\" >Q1</th>        <th class=\"col_heading level0 col1\" >Q3</th>        <th class=\"col_heading level0 col2\" >IQR</th>        <th class=\"col_heading level0 col3\" >Q1_ol</th>        <th class=\"col_heading level0 col4\" >Q3_ol</th>    </tr>    <tr>        <th class=\"index_name level0\" >property_type</th>        <th class=\"blank\" ></th>        <th class=\"blank\" ></th>        <th class=\"blank\" ></th>        <th class=\"blank\" ></th>        <th class=\"blank\" ></th>    </tr></thead><tbody>\n",
       "                <tr>\n",
       "                        <th id=\"T_551385d8_5b2a_11eb_b9ee_80000b59c11blevel0_row0\" class=\"row_heading level0 row0\" >Casa</th>\n",
       "                        <td id=\"T_551385d8_5b2a_11eb_b9ee_80000b59c11brow0_col0\" class=\"data row0 col0\" >2.0</td>\n",
       "                        <td id=\"T_551385d8_5b2a_11eb_b9ee_80000b59c11brow0_col1\" class=\"data row0 col1\" >3.0</td>\n",
       "                        <td id=\"T_551385d8_5b2a_11eb_b9ee_80000b59c11brow0_col2\" class=\"data row0 col2\" >1.0</td>\n",
       "                        <td id=\"T_551385d8_5b2a_11eb_b9ee_80000b59c11brow0_col3\" class=\"data row0 col3\" >0.5</td>\n",
       "                        <td id=\"T_551385d8_5b2a_11eb_b9ee_80000b59c11brow0_col4\" class=\"data row0 col4\" >4.5</td>\n",
       "            </tr>\n",
       "            <tr>\n",
       "                        <th id=\"T_551385d8_5b2a_11eb_b9ee_80000b59c11blevel0_row1\" class=\"row_heading level0 row1\" >Departamento</th>\n",
       "                        <td id=\"T_551385d8_5b2a_11eb_b9ee_80000b59c11brow1_col0\" class=\"data row1 col0\" >1.0</td>\n",
       "                        <td id=\"T_551385d8_5b2a_11eb_b9ee_80000b59c11brow1_col1\" class=\"data row1 col1\" >2.0</td>\n",
       "                        <td id=\"T_551385d8_5b2a_11eb_b9ee_80000b59c11brow1_col2\" class=\"data row1 col2\" >1.0</td>\n",
       "                        <td id=\"T_551385d8_5b2a_11eb_b9ee_80000b59c11brow1_col3\" class=\"data row1 col3\" >-0.5</td>\n",
       "                        <td id=\"T_551385d8_5b2a_11eb_b9ee_80000b59c11brow1_col4\" class=\"data row1 col4\" >3.5</td>\n",
       "            </tr>\n",
       "            <tr>\n",
       "                        <th id=\"T_551385d8_5b2a_11eb_b9ee_80000b59c11blevel0_row2\" class=\"row_heading level0 row2\" >PH</th>\n",
       "                        <td id=\"T_551385d8_5b2a_11eb_b9ee_80000b59c11brow2_col0\" class=\"data row2 col0\" >1.0</td>\n",
       "                        <td id=\"T_551385d8_5b2a_11eb_b9ee_80000b59c11brow2_col1\" class=\"data row2 col1\" >2.0</td>\n",
       "                        <td id=\"T_551385d8_5b2a_11eb_b9ee_80000b59c11brow2_col2\" class=\"data row2 col2\" >1.0</td>\n",
       "                        <td id=\"T_551385d8_5b2a_11eb_b9ee_80000b59c11brow2_col3\" class=\"data row2 col3\" >-0.5</td>\n",
       "                        <td id=\"T_551385d8_5b2a_11eb_b9ee_80000b59c11brow2_col4\" class=\"data row2 col4\" >3.5</td>\n",
       "            </tr>\n",
       "    </tbody></table>"
      ],
      "text/plain": [
       "<pandas.io.formats.style.Styler at 0x23a8bafefc8>"
      ]
     },
     "execution_count": 56,
     "metadata": {},
     "output_type": "execute_result"
    }
   ],
   "source": [
    "filtro_3_sigmas = tres_sigmas(propiedades_final,'bathrooms','property_type') \n",
    "filtro_3_sigmas\\\n",
    "    .style.set_properties(**{'background-color': 'black', 'color': 'lawngreen', 'border-color': 'white'}) \\\n",
    "    .format(\"{:.2}\")"
   ]
  },
  {
   "cell_type": "code",
   "execution_count": 59,
   "metadata": {},
   "outputs": [],
   "source": [
    "# ponemos todo en un mismo DF\n",
    "propiedades_final_tmp = propiedades_final.join(filtro_3_sigmas,on='property_type')\n",
    "\n",
    "#condicion = propiedades_final_tmp.bedrooms < propiedades_final_tmp.Q1_ol\n",
    "#propiedades_descartadas = pd.concat([propiedades_descartadas, descartar_registros(propiedades_final, condicion,'bedrooms','Inferior tres sigmas')])\n",
    "\n",
    "condicion = propiedades_final_tmp.bathrooms > propiedades_final_tmp.Q3_ol\n",
    "propiedades_descartadas = pd.concat([propiedades_descartadas, descartar_registros(propiedades_final, condicion,'bathrooms','Superior tres sigmas')])\n",
    "del propiedades_final_tmp"
   ]
  },
  {
   "cell_type": "code",
   "execution_count": 60,
   "metadata": {},
   "outputs": [
    {
     "data": {
      "image/png": "[encoded data removed]",
      "text/plain": [
       "<Figure size 1440x288 with 2 Axes>"
      ]
     },
     "metadata": {
      "needs_background": "light"
     },
     "output_type": "display_data"
    }
   ],
   "source": [
    "# graficamos la variable para conocer su distribución\n",
    "v = 'bathrooms'\n",
    "v_texto = 'baños'\n",
    "analisis_variables(propiedades_final, variable=v,variable_texto=v_texto)"
   ]
  },
  {
   "cell_type": "markdown",
   "metadata": {},
   "source": [
    "## Variable: surface_total\n",
    "\n",
    "Definición del campo: surface_total - Superficie total en m²"
   ]
  },
  {
   "cell_type": "code",
   "execution_count": 62,
   "metadata": {},
   "outputs": [
    {
     "data": {
      "text/html": [
       "<style  type=\"text/css\" >\n",
       "#T_d2d1102e_5b2a_11eb_b9bd_80000b59c11brow0_col0,#T_d2d1102e_5b2a_11eb_b9bd_80000b59c11brow1_col0,#T_d2d1102e_5b2a_11eb_b9bd_80000b59c11brow2_col0,#T_d2d1102e_5b2a_11eb_b9bd_80000b59c11brow3_col0,#T_d2d1102e_5b2a_11eb_b9bd_80000b59c11brow4_col0,#T_d2d1102e_5b2a_11eb_b9bd_80000b59c11brow5_col0,#T_d2d1102e_5b2a_11eb_b9bd_80000b59c11brow6_col0,#T_d2d1102e_5b2a_11eb_b9bd_80000b59c11brow7_col0{\n",
       "            background-color:  black;\n",
       "            color:  lawngreen;\n",
       "            border-color:  white;\n",
       "        }</style><table id=\"T_d2d1102e_5b2a_11eb_b9bd_80000b59c11b\" ><thead>    <tr>        <th class=\"blank level0\" ></th>        <th class=\"col_heading level0 col0\" >surface_total</th>    </tr></thead><tbody>\n",
       "                <tr>\n",
       "                        <th id=\"T_d2d1102e_5b2a_11eb_b9bd_80000b59c11blevel0_row0\" class=\"row_heading level0 row0\" >count</th>\n",
       "                        <td id=\"T_d2d1102e_5b2a_11eb_b9bd_80000b59c11brow0_col0\" class=\"data row0 col0\" >74222.000000</td>\n",
       "            </tr>\n",
       "            <tr>\n",
       "                        <th id=\"T_d2d1102e_5b2a_11eb_b9bd_80000b59c11blevel0_row1\" class=\"row_heading level0 row1\" >mean</th>\n",
       "                        <td id=\"T_d2d1102e_5b2a_11eb_b9bd_80000b59c11brow1_col0\" class=\"data row1 col0\" >82.871804</td>\n",
       "            </tr>\n",
       "            <tr>\n",
       "                        <th id=\"T_d2d1102e_5b2a_11eb_b9bd_80000b59c11blevel0_row2\" class=\"row_heading level0 row2\" >std</th>\n",
       "                        <td id=\"T_d2d1102e_5b2a_11eb_b9bd_80000b59c11brow2_col0\" class=\"data row2 col0\" >57.426150</td>\n",
       "            </tr>\n",
       "            <tr>\n",
       "                        <th id=\"T_d2d1102e_5b2a_11eb_b9bd_80000b59c11blevel0_row3\" class=\"row_heading level0 row3\" >min</th>\n",
       "                        <td id=\"T_d2d1102e_5b2a_11eb_b9bd_80000b59c11brow3_col0\" class=\"data row3 col0\" >15.000000</td>\n",
       "            </tr>\n",
       "            <tr>\n",
       "                        <th id=\"T_d2d1102e_5b2a_11eb_b9bd_80000b59c11blevel0_row4\" class=\"row_heading level0 row4\" >25%</th>\n",
       "                        <td id=\"T_d2d1102e_5b2a_11eb_b9bd_80000b59c11brow4_col0\" class=\"data row4 col0\" >48.000000</td>\n",
       "            </tr>\n",
       "            <tr>\n",
       "                        <th id=\"T_d2d1102e_5b2a_11eb_b9bd_80000b59c11blevel0_row5\" class=\"row_heading level0 row5\" >50%</th>\n",
       "                        <td id=\"T_d2d1102e_5b2a_11eb_b9bd_80000b59c11brow5_col0\" class=\"data row5 col0\" >67.000000</td>\n",
       "            </tr>\n",
       "            <tr>\n",
       "                        <th id=\"T_d2d1102e_5b2a_11eb_b9bd_80000b59c11blevel0_row6\" class=\"row_heading level0 row6\" >75%</th>\n",
       "                        <td id=\"T_d2d1102e_5b2a_11eb_b9bd_80000b59c11brow6_col0\" class=\"data row6 col0\" >98.000000</td>\n",
       "            </tr>\n",
       "            <tr>\n",
       "                        <th id=\"T_d2d1102e_5b2a_11eb_b9bd_80000b59c11blevel0_row7\" class=\"row_heading level0 row7\" >max</th>\n",
       "                        <td id=\"T_d2d1102e_5b2a_11eb_b9bd_80000b59c11brow7_col0\" class=\"data row7 col0\" >1000.000000</td>\n",
       "            </tr>\n",
       "    </tbody></table>"
      ],
      "text/plain": [
       "<pandas.io.formats.style.Styler at 0x23a85f732c8>"
      ]
     },
     "execution_count": 62,
     "metadata": {},
     "output_type": "execute_result"
    }
   ],
   "source": [
    "# Estadisticos basicos\n",
    "pd.DataFrame(propiedades_final.surface_total.describe()).style.set_properties(**{'background-color': 'black', 'color': 'lawngreen', 'border-color': 'white'})"
   ]
  },
  {
   "cell_type": "code",
   "execution_count": 63,
   "metadata": {},
   "outputs": [
    {
     "data": {
      "image/png": "[encoded data removed]",
      "text/plain": [
       "<Figure size 1440x288 with 2 Axes>"
      ]
     },
     "metadata": {
      "needs_background": "light"
     },
     "output_type": "display_data"
    }
   ],
   "source": [
    "# graficamos la variable para conocer su distribución\n",
    "v = 'surface_total'\n",
    "v_texto = 'superficie total'\n",
    "analisis_variables(propiedades_final, variable=v,variable_texto=v_texto)"
   ]
  },
  {
   "cell_type": "markdown",
   "metadata": {},
   "source": [
    "<div style=\"background-color:powderblue;\">\n",
    "ANALIZAR\n",
    "    \n",
    "Aplicaremos la regla de los tres sigmas para determinar cuales serían esos límites \n",
    "</div>"
   ]
  },
  {
   "cell_type": "code",
   "execution_count": 67,
   "metadata": {},
   "outputs": [
    {
     "data": {
      "text/html": [
       "<style  type=\"text/css\" >\n",
       "#T_61c04c3a_5b2b_11eb_8934_80000b59c11brow0_col0,#T_61c04c3a_5b2b_11eb_8934_80000b59c11brow0_col1,#T_61c04c3a_5b2b_11eb_8934_80000b59c11brow0_col2,#T_61c04c3a_5b2b_11eb_8934_80000b59c11brow0_col3,#T_61c04c3a_5b2b_11eb_8934_80000b59c11brow0_col4,#T_61c04c3a_5b2b_11eb_8934_80000b59c11brow1_col0,#T_61c04c3a_5b2b_11eb_8934_80000b59c11brow1_col1,#T_61c04c3a_5b2b_11eb_8934_80000b59c11brow1_col2,#T_61c04c3a_5b2b_11eb_8934_80000b59c11brow1_col3,#T_61c04c3a_5b2b_11eb_8934_80000b59c11brow1_col4,#T_61c04c3a_5b2b_11eb_8934_80000b59c11brow2_col0,#T_61c04c3a_5b2b_11eb_8934_80000b59c11brow2_col1,#T_61c04c3a_5b2b_11eb_8934_80000b59c11brow2_col2,#T_61c04c3a_5b2b_11eb_8934_80000b59c11brow2_col3,#T_61c04c3a_5b2b_11eb_8934_80000b59c11brow2_col4{\n",
       "            background-color:  black;\n",
       "            color:  lawngreen;\n",
       "            border-color:  white;\n",
       "        }</style><table id=\"T_61c04c3a_5b2b_11eb_8934_80000b59c11b\" ><thead>    <tr>        <th class=\"blank level0\" ></th>        <th class=\"col_heading level0 col0\" >Q1</th>        <th class=\"col_heading level0 col1\" >Q3</th>        <th class=\"col_heading level0 col2\" >IQR</th>        <th class=\"col_heading level0 col3\" >Q1_ol</th>        <th class=\"col_heading level0 col4\" >Q3_ol</th>    </tr>    <tr>        <th class=\"index_name level0\" >property_type</th>        <th class=\"blank\" ></th>        <th class=\"blank\" ></th>        <th class=\"blank\" ></th>        <th class=\"blank\" ></th>        <th class=\"blank\" ></th>    </tr></thead><tbody>\n",
       "                <tr>\n",
       "                        <th id=\"T_61c04c3a_5b2b_11eb_8934_80000b59c11blevel0_row0\" class=\"row_heading level0 row0\" >Casa</th>\n",
       "                        <td id=\"T_61c04c3a_5b2b_11eb_8934_80000b59c11brow0_col0\" class=\"data row0 col0\" >156.0</td>\n",
       "                        <td id=\"T_61c04c3a_5b2b_11eb_8934_80000b59c11brow0_col1\" class=\"data row0 col1\" >300.0</td>\n",
       "                        <td id=\"T_61c04c3a_5b2b_11eb_8934_80000b59c11brow0_col2\" class=\"data row0 col2\" >144.0</td>\n",
       "                        <td id=\"T_61c04c3a_5b2b_11eb_8934_80000b59c11brow0_col3\" class=\"data row0 col3\" >-60.0</td>\n",
       "                        <td id=\"T_61c04c3a_5b2b_11eb_8934_80000b59c11brow0_col4\" class=\"data row0 col4\" >516.0</td>\n",
       "            </tr>\n",
       "            <tr>\n",
       "                        <th id=\"T_61c04c3a_5b2b_11eb_8934_80000b59c11blevel0_row1\" class=\"row_heading level0 row1\" >Departamento</th>\n",
       "                        <td id=\"T_61c04c3a_5b2b_11eb_8934_80000b59c11brow1_col0\" class=\"data row1 col0\" >46.0</td>\n",
       "                        <td id=\"T_61c04c3a_5b2b_11eb_8934_80000b59c11brow1_col1\" class=\"data row1 col1\" >90.0</td>\n",
       "                        <td id=\"T_61c04c3a_5b2b_11eb_8934_80000b59c11brow1_col2\" class=\"data row1 col2\" >44.0</td>\n",
       "                        <td id=\"T_61c04c3a_5b2b_11eb_8934_80000b59c11brow1_col3\" class=\"data row1 col3\" >-20.0</td>\n",
       "                        <td id=\"T_61c04c3a_5b2b_11eb_8934_80000b59c11brow1_col4\" class=\"data row1 col4\" >156.0</td>\n",
       "            </tr>\n",
       "            <tr>\n",
       "                        <th id=\"T_61c04c3a_5b2b_11eb_8934_80000b59c11blevel0_row2\" class=\"row_heading level0 row2\" >PH</th>\n",
       "                        <td id=\"T_61c04c3a_5b2b_11eb_8934_80000b59c11brow2_col0\" class=\"data row2 col0\" >65.0</td>\n",
       "                        <td id=\"T_61c04c3a_5b2b_11eb_8934_80000b59c11brow2_col1\" class=\"data row2 col1\" >130.0</td>\n",
       "                        <td id=\"T_61c04c3a_5b2b_11eb_8934_80000b59c11brow2_col2\" class=\"data row2 col2\" >65.0</td>\n",
       "                        <td id=\"T_61c04c3a_5b2b_11eb_8934_80000b59c11brow2_col3\" class=\"data row2 col3\" >-32.5</td>\n",
       "                        <td id=\"T_61c04c3a_5b2b_11eb_8934_80000b59c11brow2_col4\" class=\"data row2 col4\" >227.5</td>\n",
       "            </tr>\n",
       "    </tbody></table>"
      ],
      "text/plain": [
       "<pandas.io.formats.style.Styler at 0x23a85f92688>"
      ]
     },
     "execution_count": 67,
     "metadata": {},
     "output_type": "execute_result"
    }
   ],
   "source": [
    "filtro_3_sigmas = tres_sigmas(propiedades_final,'surface_total','property_type') \n",
    "filtro_3_sigmas\\\n",
    "    .style.set_properties(**{'background-color': 'black', 'color': 'lawngreen', 'border-color': 'white'}) \\\n",
    "    .format(\"{:0}\")"
   ]
  },
  {
   "cell_type": "code",
   "execution_count": 68,
   "metadata": {},
   "outputs": [],
   "source": [
    "# ponemos todo en un mismo DF\n",
    "propiedades_final_tmp = propiedades_final.join(filtro_3_sigmas,on='property_type')\n",
    "\n",
    "#condicion = propiedades_final_tmp.surface_total < propiedades_final_tmp.Q1_ol\n",
    "#propiedades_descartadas = pd.concat([propiedades_descartadas, descartar_registros(propiedades_final, condicion,'bedrooms','Inferior tres sigmas')])\n",
    "\n",
    "condicion = propiedades_final_tmp.surface_total > propiedades_final_tmp.Q3_ol\n",
    "propiedades_descartadas = pd.concat([propiedades_descartadas, descartar_registros(propiedades_final, condicion,'surface_total','Superior tres sigmas')])\n",
    "del propiedades_final_tmp"
   ]
  },
  {
   "cell_type": "code",
   "execution_count": 69,
   "metadata": {},
   "outputs": [
    {
     "data": {
      "image/png": "[encoded data removed]",
      "text/plain": [
       "<Figure size 1440x288 with 2 Axes>"
      ]
     },
     "metadata": {
      "needs_background": "light"
     },
     "output_type": "display_data"
    }
   ],
   "source": [
    "# graficamos la variable para conocer su distribución\n",
    "v = 'surface_total'\n",
    "v_texto = 'superficie total'\n",
    "analisis_variables(propiedades_final, variable=v,variable_texto=v_texto)"
   ]
  },
  {
   "cell_type": "code",
   "execution_count": null,
   "metadata": {},
   "outputs": [],
   "source": []
  },
  {
   "cell_type": "code",
   "execution_count": null,
   "metadata": {},
   "outputs": [],
   "source": []
  },
  {
   "cell_type": "code",
   "execution_count": null,
   "metadata": {},
   "outputs": [],
   "source": []
  },
  {
   "cell_type": "code",
   "execution_count": null,
   "metadata": {},
   "outputs": [],
   "source": [
    "for v in set(variables) - {'property_type'}:\n",
    "    analisis_variables(propiedades_final, variable=v,variable_texto=v)"
   ]
  },
  {
   "cell_type": "code",
   "execution_count": null,
   "metadata": {},
   "outputs": [],
   "source": [
    "sns_plot = sns.pairplot(data=propiedades_final,hue='property_type')\n",
    "sns_plot.savefig(\"pairplot.png\")\n"
   ]
  },
  {
   "cell_type": "markdown",
   "metadata": {
    "id": "B2EMvGFoC4PF"
   },
   "source": [
    "7. **Correlaciones:** Estudia la correlación entre las variables `rooms`, `bedrooms`, `bathrooms`, `surface_total`, `surface_covered`, `price`. ¿Cuáles son las mejores variables para predecir el precio?¿Qué diferencias encuentras según cada tipo de propiedad?"
   ]
  },
  {
   "cell_type": "code",
   "execution_count": null,
   "metadata": {
    "id": "4DJ-aGD-C4PG"
   },
   "outputs": [],
   "source": [
    "plt.figure(figsize=(10,10))\n",
    "matrix = np.triu(propiedades_final.corr())\n",
    "sns_plot = sns.heatmap(propiedades_final.corr(),cmap='viridis',mask=matrix, annot = True)\n",
    "figure = sns_plot.get_figure()  \n",
    "figure.savefig(\"matrix.png\")\n",
    "propiedades_final.corr()"
   ]
  },
  {
   "cell_type": "markdown",
   "metadata": {
    "id": "AUBaOrNYC4PK"
   },
   "source": [
    "### 2.1 Desafío\n",
    "\n",
    "En el dataset provisto hay mucha información, más allá del problema planteado. Propone una pregunta que pueda ser respondida por el dataset e intenta responderla.¿Cuáles son los sesgos de la respuesta obtenida?(¿Cuán generalizable es la respuesta obtenida?)¿Necesitas información complementaria?¿Cómo la obtendrías?\n",
    "\n",
    "Por ejemplo: ¿Cuál es el barrio más caro de Buenos Aires? Probablemente puedas responder esta pregunta con este dataset. Pero podria ocurrir que la respuesta esté sesgada. ¿Cómo? Tal vez las propiedades más caras no se publican de forma online, sino que utilizan otro canal de venta.\n"
   ]
  },
  {
   "cell_type": "markdown",
   "metadata": {},
   "source": [
    "<div style=\"background-color:powderblue;\">\n",
    "Pregunta planteada: como varía el valor por metro de construccion por metro cuadrado cubierto de acuerdo al tipo de propiedad?\n",
    "</div>   \n"
   ]
  },
  {
   "cell_type": "code",
   "execution_count": null,
   "metadata": {
    "id": "CJ_DINqMC4PM"
   },
   "outputs": [],
   "source": [
    "df_tmp = propiedades_final[['property_type','price','surface_covered']].groupby('property_type').sum()\n",
    "df_tmp['precio_por_metro_cubierto'] = df_tmp['price'] / df_tmp['surface_covered']\n",
    "df_tmp[['precio_por_metro_cubierto']].sort_values(by='precio_por_metro_cubierto',  ascending=False)"
   ]
  },
  {
   "cell_type": "markdown",
   "metadata": {
    "id": "ULhoMAo_C4PP"
   },
   "source": [
    "### 3. Machine Learning\n",
    "\n",
    "En esta sección, debes entrenar dos modelos de Machine Learning - uno de vecinos más cercanos y otro de árboles de decisión -  para predecir el precio de las propiedades tipo `Departamento`, `PH` y `Casa`  en la Ciudad Autónoma de Buenos Aires (`Capital Federal`). Para ello, no debes olvidarte de:\n",
    "\n",
    "* Elegir una métrica apropiada para evaluar los resultados de los modelos.\n",
    "* Seleccionar las variables predictoras (`X`) y la variable a predecir (`y`). \n",
    "* Realizar un Train/Test split de los datos.\n",
    "* Generar un modelo *benchmark* y evaluarlo.\n",
    "* Entrenar un modelo de vecinos más cercanos y un modelo de árbol de decisión con hiperparámetros iniciales de su elección.\n",
    "* Evaluar los modelos obtenidos. Para ello, evalúa la métrica elegida en el conjunto de Test y en el conjunto de Train. También, realiza gráficos de valores reales vs. valores predichos.\n",
    "* Mejorar el desempeño de sus modelos optimizando el número de vecinos y la profundidad del árbol, respectivamente.\n",
    "* Entre los modelos entrenados, ¿cuál elegirías para utilizar?¿Por qué? \n",
    "* Ser **crítico/a** con la metodología utilizada. Por ejemplo, responde las siguientes preguntas: ¿Qué información no estás usando que podría ayudar al modelo?¿Qué información puede estar demás o repetida?\n",
    "\n",
    "Estos lineamientos corresponden al **mínimo entregable** de esta sección.\n",
    "\n",
    "\n",
    "**Importante:** para asegurarnos que trabajes con un dataset apropiados, debes volver a cargar los datos y realizar el siguiente filtrado:\n",
    "\n",
    "1. Selecciona aquellas propiedades en Capital Federal y cuyo tipo de propiedad es Departamento, PH o Casa.\n",
    "1. Selecciona aquellas propiedades cuya superficie total es menor a 1000 m2 y mayor a 15 m2.\n",
    "1. Selecciona aquellas propiedades cuya precio es menor 4000000 dólares.\n",
    "1. Selecciona las columnas `rooms`, `bedrooms`, `bathrooms`, `surface_total`, `surface_covered` y `price`.\n",
    "1. Descarta aquellas instacias con valores faltantes.\n",
    "\n",
    "**Checkpoint:** deberías obtener un dataset con 81019 instacias y 6 columnas."
   ]
  },
  {
   "cell_type": "code",
   "execution_count": null,
   "metadata": {},
   "outputs": [],
   "source": [
    "propiedades_final.drop('property_type', axis=1, inplace=True)\n",
    "propiedades_final.shape"
   ]
  },
  {
   "cell_type": "markdown",
   "metadata": {},
   "source": [
    "# Creamos un modelo benckmark y trateremos de morarlo"
   ]
  },
  {
   "cell_type": "code",
   "execution_count": null,
   "metadata": {},
   "outputs": [],
   "source": [
    "resultados = []\n",
    "# Separamos en variables predictoras (X) y la variable objetivo (y)\n",
    "X = propiedades_final[['rooms', 'bedrooms', 'bathrooms', 'surface_total', 'surface_covered']]\n",
    "y = propiedades_final['price']\n",
    "\n",
    "# Separamos los datos en entrenamiento y test\n",
    "X_train, X_test, y_train, y_test = train_test_split(X,y,test_size=0.30, random_state=1975)\n",
    "\n",
    "linear_model = LinearRegression()\n",
    "linear_model.fit(X_train, y_train)\n",
    "y_pred_train = linear_model.predict(X_train)\n",
    "y_pred_test = linear_model.predict(X_test)\n",
    "rmse_train = np.sqrt(mean_squared_error(y_train, y_pred_train))\n",
    "rmse_test = np.sqrt(mean_squared_error(y_test, y_pred_test))\n",
    "resultados.append(['LinearRegression - Benchmark','NA','NA',rmse_train,rmse_test])\n",
    "resultados = pd.DataFrame(resultados)\n",
    "resultados.rename({0:'Modelo',1:'Metrica',2:'Nro. de vecinos',3:'rmse_train',4:'rmse_test'},axis=1,inplace=True)"
   ]
  },
  {
   "cell_type": "markdown",
   "metadata": {},
   "source": [
    "# Probamos con distintos hiperparametros en un modelo DecisionTreeRegressor"
   ]
  },
  {
   "cell_type": "code",
   "execution_count": null,
   "metadata": {},
   "outputs": [],
   "source": [
    "profundidades = [1,2,3,4,5,6,7,8,9,10,15,20,25,30,35,40,50]\n",
    "criterion = ['mse','mae','friedman_mse']\n",
    "\n",
    "for profundidad in profundidades:\n",
    "    for c in criterion:\n",
    "        tree_regressor = DecisionTreeRegressor(max_depth=profundidad, criterion=c,random_state=42)\n",
    "        tree_regressor.fit(X_train, y_train)\n",
    "        y_pred_train = tree_regressor.predict(X_train)\n",
    "        y_pred_test = tree_regressor.predict(X_test)\n",
    "        rmse_train = np.sqrt(mean_squared_error(y_train, y_pred_train))\n",
    "        rmse_test = np.sqrt(mean_squared_error(y_test, y_pred_test))\n",
    "        resultados = resultados.append({'Modelo':'TreeRegressor','Metrica':c,'Nro. de vecinos':profundidad,'rmse_train':rmse_train,'rmse_test':rmse_test},ignore_index=True)"
   ]
  },
  {
   "cell_type": "markdown",
   "metadata": {},
   "source": [
    "# Probamos con distintos hiperparametros en un modelo DecisionTreeRegressor"
   ]
  },
  {
   "cell_type": "code",
   "execution_count": null,
   "metadata": {},
   "outputs": [],
   "source": [
    "metricas = ['euclidean','manhattan','chebyshev','minkowski']\n",
    "n_vecinos_lista = [1,2,3,4,5,6,7,8,9,10,12,14,16,20,40,100]\n",
    "for n_vecinos in n_vecinos_lista:\n",
    "    for metrica in metricas:\n",
    "        knn_regressor = KNeighborsRegressor(n_neighbors=n_vecinos,metric=metrica)\n",
    "        knn_regressor.fit(X_train, y_train)\n",
    "        y_pred_train = knn_regressor.predict(X_train)\n",
    "        y_pred_test = knn_regressor.predict(X_test)\n",
    "        rmse_train = np.sqrt(mean_squared_error(y_train, y_pred_train))\n",
    "        rmse_test = np.sqrt(mean_squared_error(y_test, y_pred_test))\n",
    "        resultados.append(['KNN',metrica,n_vecinos,rmse_train,rmse_test])\n",
    "        resultados = resultados.append({'Modelo':'KNNRegressor','Metrica':metrica,'Nro. de vecinos':n_vecinos,'rmse_train':rmse_train,'rmse_test':rmse_test},ignore_index=True)"
   ]
  },
  {
   "cell_type": "markdown",
   "metadata": {},
   "source": [
    "# Los 10 modelos con menor error"
   ]
  },
  {
   "cell_type": "code",
   "execution_count": null,
   "metadata": {},
   "outputs": [],
   "source": [
    "resultados.sort_values(by='rmse_test',ignore_index=True,inplace=True)\n",
    "resultados.head(10)"
   ]
  },
  {
   "cell_type": "code",
   "execution_count": null,
   "metadata": {},
   "outputs": [],
   "source": [
    "# nuestro modelo benckmark queda en la posición 108\n",
    "resultados[resultados['Modelo'] == 'LinearRegression - Benchmark']"
   ]
  },
  {
   "cell_type": "code",
   "execution_count": null,
   "metadata": {},
   "outputs": [],
   "source": [
    "resultados_top = resultados.head(25)\n",
    "plt.figure(figsize=(18,10))\n",
    "plt.plot(resultados_top['Modelo']+'('+resultados_top['Metrica']+' / '+resultados_top['Nro. de vecinos'].astype(str) + ')',resultados_top['rmse_test'], label='Datos de prueba')\n",
    "#plt.plot(resultados_top['Modelo']+'('+resultados_top['Metrica']+' / '+resultados_top['Nro. de vecinos'].astype(str) + ')',resultados_top['rmse_train'], label='Datos de entrenamiento')\n",
    "plt.xticks(rotation=45, horizontalalignment='right',size=10)\n",
    "plt.title('Error en los distintos modelos probados')\n",
    "plt.ylabel('Error')\n",
    "plt.xlabel('Modelo')\n",
    "plt.legend()\n",
    "plt.show()"
   ]
  },
  {
   "cell_type": "markdown",
   "metadata": {},
   "source": [
    "<div style=\"background-color:powderblue;\">\n",
    "Como conclución podemos indicar que el mejor modelo encontrado es de tipo KNNRegressor, con los siguientes hiperparametros:\n",
    "<ul>\n",
    "  <li><b>metric: </b>manhattan</li>\n",
    "    <li><b>n_neighbors: </b>4</li>\n",
    "    </ul>\n",
    "    \n",
    "</div>"
   ]
  },
  {
   "cell_type": "markdown",
   "metadata": {},
   "source": [
    "# Registros descartados\n",
    "Resumen de los registros descartados, sería interesante devolverlos para que sean analizados"
   ]
  },
  {
   "cell_type": "code",
   "execution_count": 70,
   "metadata": {},
   "outputs": [
    {
     "data": {
      "text/html": [
       "<div>\n",
       "<style scoped>\n",
       "    .dataframe tbody tr th:only-of-type {\n",
       "        vertical-align: middle;\n",
       "    }\n",
       "\n",
       "    .dataframe tbody tr th {\n",
       "        vertical-align: top;\n",
       "    }\n",
       "\n",
       "    .dataframe thead th {\n",
       "        text-align: right;\n",
       "    }\n",
       "</style>\n",
       "<table border=\"1\" class=\"dataframe\">\n",
       "  <thead>\n",
       "    <tr style=\"text-align: right;\">\n",
       "      <th></th>\n",
       "      <th>variable</th>\n",
       "      <th>motivo</th>\n",
       "      <th>Cantidad</th>\n",
       "    </tr>\n",
       "  </thead>\n",
       "  <tbody>\n",
       "    <tr>\n",
       "      <th>0</th>\n",
       "      <td>surface_total</td>\n",
       "      <td>Descartado por dato faltante</td>\n",
       "      <td>7630</td>\n",
       "    </tr>\n",
       "    <tr>\n",
       "      <th>1</th>\n",
       "      <td>surface_total</td>\n",
       "      <td>Superior tres sigmas</td>\n",
       "      <td>3960</td>\n",
       "    </tr>\n",
       "    <tr>\n",
       "      <th>2</th>\n",
       "      <td>debrooms</td>\n",
       "      <td>Superior tres sigmas</td>\n",
       "      <td>3028</td>\n",
       "    </tr>\n",
       "    <tr>\n",
       "      <th>3</th>\n",
       "      <td>bathrooms</td>\n",
       "      <td>Superior tres sigmas</td>\n",
       "      <td>2666</td>\n",
       "    </tr>\n",
       "    <tr>\n",
       "      <th>4</th>\n",
       "      <td>bathrooms</td>\n",
       "      <td>Descartado por dato faltante</td>\n",
       "      <td>2171</td>\n",
       "    </tr>\n",
       "    <tr>\n",
       "      <th>5</th>\n",
       "      <td>rooms</td>\n",
       "      <td>Superior tres sigmas</td>\n",
       "      <td>1004</td>\n",
       "    </tr>\n",
       "    <tr>\n",
       "      <th>6</th>\n",
       "      <td>surface_covered</td>\n",
       "      <td>Descartado por dato faltante</td>\n",
       "      <td>474</td>\n",
       "    </tr>\n",
       "    <tr>\n",
       "      <th>7</th>\n",
       "      <td>surface_covered</td>\n",
       "      <td>Inferior a 15 o superior a 1000</td>\n",
       "      <td>159</td>\n",
       "    </tr>\n",
       "    <tr>\n",
       "      <th>8</th>\n",
       "      <td>rooms</td>\n",
       "      <td>Inferior tres sigmas</td>\n",
       "      <td>99</td>\n",
       "    </tr>\n",
       "    <tr>\n",
       "      <th>9</th>\n",
       "      <td>price</td>\n",
       "      <td>Precio superior a 4000000</td>\n",
       "      <td>32</td>\n",
       "    </tr>\n",
       "  </tbody>\n",
       "</table>\n",
       "</div>"
      ],
      "text/plain": [
       "          variable                           motivo  Cantidad\n",
       "0    surface_total     Descartado por dato faltante      7630\n",
       "1    surface_total             Superior tres sigmas      3960\n",
       "2         debrooms             Superior tres sigmas      3028\n",
       "3        bathrooms             Superior tres sigmas      2666\n",
       "4        bathrooms     Descartado por dato faltante      2171\n",
       "5            rooms             Superior tres sigmas      1004\n",
       "6  surface_covered     Descartado por dato faltante       474\n",
       "7  surface_covered  Inferior a 15 o superior a 1000       159\n",
       "8            rooms             Inferior tres sigmas        99\n",
       "9            price        Precio superior a 4000000        32"
      ]
     },
     "execution_count": 70,
     "metadata": {},
     "output_type": "execute_result"
    }
   ],
   "source": [
    "pd.DataFrame(propiedades_descartadas.groupby(by=['variable','motivo']).size()).sort_values(by=0, ascending=False).rename({0:'Cantidad'},axis=1).reset_index()"
   ]
  },
  {
   "cell_type": "code",
   "execution_count": null,
   "metadata": {},
   "outputs": [],
   "source": [
    "#propiedades_descartadas.to_csv('registros_descartados.csv')"
   ]
  },
  {
   "cell_type": "code",
   "execution_count": null,
   "metadata": {},
   "outputs": [],
   "source": []
  }
 ],
 "metadata": {
  "colab": {
   "collapsed_sections": [],
   "name": "DS_Proyecto_01.ipynb",
   "provenance": []
  },
  "kernelspec": {
   "display_name": "Python 3",
   "language": "python",
   "name": "python3"
  },
  "language_info": {
   "codemirror_mode": {
    "name": "ipython",
    "version": 3
   },
   "file_extension": ".py",
   "mimetype": "text/x-python",
   "name": "python",
   "nbconvert_exporter": "python",
   "pygments_lexer": "ipython3",
   "version": "3.8.8"
  }
 },
 "nbformat": 4,
 "nbformat_minor": 4
}
