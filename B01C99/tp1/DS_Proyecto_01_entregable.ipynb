{
 "cells": [
  {
   "cell_type": "markdown",
   "metadata": {},
   "source": [
    "# Proyecto: Análisis de mercado inmobiliario\n",
    "\n",
    "¡Bienvenido/a al primer proyecto de la carrera de Data Science de Acamica! \n",
    "\n",
    "El objetivo de este proyecto es reproducir los pasos que haría un/a Data Scientist cuando se enfrenta a una problemática real. Por eso, consta de tres secciones:\n",
    "* En la Parte 1, te presentamos la problemática sobre la cual vas a trabajar. En esta sección deberás decidir qué datos te ayudarán a trabajar en este problema y dónde puedes conseguirlos.\n",
    "* En la Parte 2 te proveemos de un dataset para abordar la problemática planteada. Deberás realizar un Análisis Exploratorio de Datos sobre este dataset.\n",
    "* En la Parte 3, deberás utilizar herramientas de Machine Learning para predecir la variable de interés.\n",
    "\n",
    "\n",
    "En este proyecto vas a trabajar con un dataset de propiedades en venta publicado en el portal [Properati](www.properati.com.ar).\n",
    "\n",
    "**Importante:** recuerda que un notebook es un informe, por lo que debes ir explicando lo que haces a medida que resuelves las consignas. Es importante que quien que lo lea entienda el flujo de trabajo, qué quisiste hacer. Recuerda, simple y conciso es una combinación ganadora. \n",
    "\n",
    "## Problema\n",
    "\n",
    "Recientemente te has incorporado al equipo de Datos de una gran inmobiliaria. La primera tarea que se te asigna es ayudar a los tasadores/as a valuar las propiedades, ya que es un proceso difícil y, a veces, subjetivo. Para ello, propones crear un modelo de Machine Learning que, dadas ciertas características de la propiedad, prediga su precio de venta.\n",
    "\n",
    "### 1. Pensando como un/a Data Scientist\n",
    "\n",
    "Responde la siguientes pregunta:\n",
    "1. ¿Qué datos crees que te ayudarían a trabajar en el problema?¿Por qué?\n",
    "\n",
    "**Importante**: NO deberás buscar esos datos, solamente justificar qué información crees que te ayudaría a resolver la problemática planteada."
   ]
  },
  {
   "cell_type": "markdown",
   "metadata": {},
   "source": [
    "**COMPLETA EN ESTA CELDA TU RESPUESTA**"
   ]
  },
  {
   "cell_type": "markdown",
   "metadata": {},
   "source": [
    "<div style=\"background-color:powderblue;\">\n",
    "Dado que soy nuevo en la inmobiliaria, lo primero que haría sería reunirme con los tasadores y aprovechar todo su conocimiento y experiencia en la valuación de propiedades. \n",
    "\n",
    "    \n",
    "</br>Asumiendo que ya posee el conocimiento del negocio, y teniendo en cuenta el problema que debemos resolver **\"Valuar propiedades\"**, acordamos que los principales factores que influyen en una valuación son:\n",
    "<ul>\n",
    "  <li><b>Ubicación:</b> La ubicación en la que se encuentra la ubicación es un factor determinante en su valuación</li>\n",
    "    <li><b>Superficie total de la propiedad:</b> La superficie del terreno, ya sea cubierta o no</li>\n",
    "    <li><b>Superficie cubierta:</b> Superficie cubierta, en m2 que ocupa la construcción</li>\n",
    "    <li><b>Nro de habitaciones:</b> Cantidad de habitaciones</li>    \n",
    "    <li><b>Nro de baños:</b> Cantidad de baños</li>      \n",
    "    <li><b>Nro. de cocheras:</b> Si posee o no cocheras y su capacidad (uno, dos vehículos)</li>\n",
    "    <li><b>Tipo de propiedad:</b> Casa, departamento, etc</li>    \n",
    "    <li><b>Mercado:</b> El mercado puede fluctuar y esto puede hacer que el valor de una misma propiedad cambie en determinados momentos</li>    \n",
    "</ul> \n",
    "</div>"
   ]
  },
  {
   "cell_type": "markdown",
   "metadata": {},
   "source": [
    "### 2. Análisis Exploratorio de Datos\n",
    "\n",
    "En esta sección, debes realizar un Análisis Exploratorio de Datos sobre el dataset de propiedades de Properati. Es importante que respondas las siguientes preguntas durante el análisis:\n",
    "\n",
    "* ¿Qué tamaño tiene el dataset?¿Cuántas instancias y cuántas columnas?\n",
    "* ¿Cuántos valores faltantes hay en cada columna?\n",
    "* ¿Cómo es la distribución de cada variable? Deberás hacer histogramas para las variables numéricas y gráficos de barras para las variables categóricas.\n",
    "* ¿Cómo se relacionan las variables entre sí?¿Qué tipo de gráfico será conveniente para presentar esta información?\n",
    "* ¿Cómo están correlacionadas las variables numéricas?¿Qué tipo de gráfico será conveniente para presentar esta información?¿Cuáles serán los mejores predictores de la variable de interés?\n",
    "\n",
    "Vas a encontrar instrucciones para responder estas preguntas. Es importante aclarar que estas instrucciones corresponden al **mínimo entregable** que esperamos en la consigna.\n",
    "\n",
    "**Comentarios sobre el dataset** \n",
    "1. Nosotros ya hicimos un *curado* sobre el dataset que puedes descargar directamente de la página de Properati. Muchos de los pasos que hicimos para curar el conjunto de datos los veremos durante el Bloque 2 de la carrera.\n",
    "\n",
    "2. Si tienes dudas sobre qué representa alguna de las columnas, puedes consultar [aquí](https://www.properati.com.ar/data/). Notarás que algunas columnas fueron descartadas.\n",
    "\n",
    "3. `Capital Federal` refiere a la Ciudad de Buenos Aires. `Bs.As. G.B.A. Zona Norte`, `Bs.As. G.B.A. Zona Sur` y `Bs.As. G.B.A. Zona Oeste` son regiones que conforman el [Gran Buenos Aires](https://es.wikipedia.org/wiki/Gran_Buenos_Aires), un conjunto de ciudades que rodean a la Ciudad de Buenos Aires.\n",
    "\n"
   ]
  },
  {
   "cell_type": "markdown",
   "metadata": {},
   "source": [
    "0. Importa las librerías necesarias para trabajar en la consigna."
   ]
  },
  {
   "cell_type": "code",
   "execution_count": 54,
   "metadata": {},
   "outputs": [],
   "source": [
    "import numpy as np\n",
    "import pandas as pd\n",
    "import matplotlib.pyplot as plt\n",
    "import matplotlib.cm as cm\n",
    "from matplotlib.colors import Normalize\n",
    "import seaborn as sns\n",
    "from IPython.display import display, HTML\n",
    "\n",
    "import warnings\n",
    "warnings.filterwarnings(\"ignore\")\n",
    "\n",
    "from sklearn.model_selection import train_test_split\n",
    "from sklearn.neighbors import KNeighborsRegressor\n",
    "from sklearn.metrics import mean_squared_error\n",
    "from sklearn.tree import DecisionTreeRegressor\n",
    "from sklearn.linear_model import LinearRegression"
   ]
  },
  {
   "cell_type": "markdown",
   "metadata": {},
   "source": [
    "1. Carga el dataset usando las funcionalidades de Pandas. Imprimir cuántas filas y columnas tiene, y sus cinco primeras instancias."
   ]
  },
  {
   "cell_type": "code",
   "execution_count": 2,
   "metadata": {},
   "outputs": [
    {
     "name": "stdout",
     "output_type": "stream",
     "text": [
      "Nuestro dataset tiene 146660 filas y 19 columnas\n"
     ]
    },
    {
     "data": {
      "text/html": [
       "<div>\n",
       "<style scoped>\n",
       "    .dataframe tbody tr th:only-of-type {\n",
       "        vertical-align: middle;\n",
       "    }\n",
       "\n",
       "    .dataframe tbody tr th {\n",
       "        vertical-align: top;\n",
       "    }\n",
       "\n",
       "    .dataframe thead th {\n",
       "        text-align: right;\n",
       "    }\n",
       "</style>\n",
       "<table border=\"1\" class=\"dataframe\">\n",
       "  <thead>\n",
       "    <tr style=\"text-align: right;\">\n",
       "      <th></th>\n",
       "      <th>start_date</th>\n",
       "      <th>end_date</th>\n",
       "      <th>created_on</th>\n",
       "      <th>lat</th>\n",
       "      <th>lon</th>\n",
       "      <th>l1</th>\n",
       "      <th>l2</th>\n",
       "      <th>l3</th>\n",
       "      <th>rooms</th>\n",
       "      <th>bedrooms</th>\n",
       "      <th>bathrooms</th>\n",
       "      <th>surface_total</th>\n",
       "      <th>surface_covered</th>\n",
       "      <th>price</th>\n",
       "      <th>currency</th>\n",
       "      <th>title</th>\n",
       "      <th>description</th>\n",
       "      <th>property_type</th>\n",
       "      <th>operation_type</th>\n",
       "    </tr>\n",
       "  </thead>\n",
       "  <tbody>\n",
       "    <tr>\n",
       "      <th>0</th>\n",
       "      <td>2019-10-17</td>\n",
       "      <td>2019-12-23</td>\n",
       "      <td>2019-10-17</td>\n",
       "      <td>-34.605880</td>\n",
       "      <td>-58.384949</td>\n",
       "      <td>Argentina</td>\n",
       "      <td>Capital Federal</td>\n",
       "      <td>San Cristobal</td>\n",
       "      <td>7.0</td>\n",
       "      <td>7.0</td>\n",
       "      <td>2.0</td>\n",
       "      <td>140.0</td>\n",
       "      <td>140.0</td>\n",
       "      <td>153000.0</td>\n",
       "      <td>USD</td>\n",
       "      <td>***Venta semipiso centro, ideal hostel*****</td>\n",
       "      <td>DESCRIPCION DE LA PROPIEDAD: Departamento de 1...</td>\n",
       "      <td>Departamento</td>\n",
       "      <td>Venta</td>\n",
       "    </tr>\n",
       "    <tr>\n",
       "      <th>1</th>\n",
       "      <td>2019-10-17</td>\n",
       "      <td>2019-11-21</td>\n",
       "      <td>2019-10-17</td>\n",
       "      <td>-34.624056</td>\n",
       "      <td>-58.412110</td>\n",
       "      <td>Argentina</td>\n",
       "      <td>Capital Federal</td>\n",
       "      <td>Boedo</td>\n",
       "      <td>2.0</td>\n",
       "      <td>1.0</td>\n",
       "      <td>2.0</td>\n",
       "      <td>70.0</td>\n",
       "      <td>58.0</td>\n",
       "      <td>159000.0</td>\n",
       "      <td>USD</td>\n",
       "      <td>Espectacular PH reciclado en Boedo sin expensas.</td>\n",
       "      <td>PH reciclado en Boedo a una cuadra de la plaz...</td>\n",
       "      <td>PH</td>\n",
       "      <td>Venta</td>\n",
       "    </tr>\n",
       "    <tr>\n",
       "      <th>2</th>\n",
       "      <td>2019-10-17</td>\n",
       "      <td>2019-11-01</td>\n",
       "      <td>2019-10-17</td>\n",
       "      <td>-34.593569</td>\n",
       "      <td>-58.427474</td>\n",
       "      <td>Argentina</td>\n",
       "      <td>Capital Federal</td>\n",
       "      <td>Palermo</td>\n",
       "      <td>2.0</td>\n",
       "      <td>1.0</td>\n",
       "      <td>1.0</td>\n",
       "      <td>45.0</td>\n",
       "      <td>45.0</td>\n",
       "      <td>125000.0</td>\n",
       "      <td>USD</td>\n",
       "      <td>Depto.tipo casa de 2 ambientes en Venta en Pal...</td>\n",
       "      <td>2 ambienets amplio , excelente estado , patio ...</td>\n",
       "      <td>PH</td>\n",
       "      <td>Venta</td>\n",
       "    </tr>\n",
       "    <tr>\n",
       "      <th>3</th>\n",
       "      <td>2019-10-17</td>\n",
       "      <td>2019-12-23</td>\n",
       "      <td>2019-10-17</td>\n",
       "      <td>-34.581294</td>\n",
       "      <td>-58.436754</td>\n",
       "      <td>Argentina</td>\n",
       "      <td>Capital Federal</td>\n",
       "      <td>Palermo</td>\n",
       "      <td>2.0</td>\n",
       "      <td>1.0</td>\n",
       "      <td>1.0</td>\n",
       "      <td>85.0</td>\n",
       "      <td>50.0</td>\n",
       "      <td>295000.0</td>\n",
       "      <td>USD</td>\n",
       "      <td>COSTA RICA 5800 / PALERMO HOLLYWOOD / VENTA PH...</td>\n",
       "      <td>HERMOSO PH EN PALERMO!!!2 AMBIENTES TOTALMENTE...</td>\n",
       "      <td>PH</td>\n",
       "      <td>Venta</td>\n",
       "    </tr>\n",
       "    <tr>\n",
       "      <th>4</th>\n",
       "      <td>2019-10-17</td>\n",
       "      <td>2020-03-11</td>\n",
       "      <td>2019-10-17</td>\n",
       "      <td>-34.914194</td>\n",
       "      <td>-57.938219</td>\n",
       "      <td>Argentina</td>\n",
       "      <td>Bs.As. G.B.A. Zona Sur</td>\n",
       "      <td>La Plata</td>\n",
       "      <td>2.0</td>\n",
       "      <td>1.0</td>\n",
       "      <td>1.0</td>\n",
       "      <td>50.0</td>\n",
       "      <td>35.0</td>\n",
       "      <td>40000.0</td>\n",
       "      <td>USD</td>\n",
       "      <td>58 entre 1 y 2  Venta de departamento en ph.1 ...</td>\n",
       "      <td>58 entre 1 y 2  Venta de departamento en PH. P...</td>\n",
       "      <td>PH</td>\n",
       "      <td>Venta</td>\n",
       "    </tr>\n",
       "  </tbody>\n",
       "</table>\n",
       "</div>"
      ],
      "text/plain": [
       "  start_date    end_date created_on        lat        lon         l1  \\\n",
       "0 2019-10-17  2019-12-23 2019-10-17 -34.605880 -58.384949  Argentina   \n",
       "1 2019-10-17  2019-11-21 2019-10-17 -34.624056 -58.412110  Argentina   \n",
       "2 2019-10-17  2019-11-01 2019-10-17 -34.593569 -58.427474  Argentina   \n",
       "3 2019-10-17  2019-12-23 2019-10-17 -34.581294 -58.436754  Argentina   \n",
       "4 2019-10-17  2020-03-11 2019-10-17 -34.914194 -57.938219  Argentina   \n",
       "\n",
       "                       l2             l3  rooms  bedrooms  bathrooms  \\\n",
       "0         Capital Federal  San Cristobal    7.0       7.0        2.0   \n",
       "1         Capital Federal          Boedo    2.0       1.0        2.0   \n",
       "2         Capital Federal        Palermo    2.0       1.0        1.0   \n",
       "3         Capital Federal        Palermo    2.0       1.0        1.0   \n",
       "4  Bs.As. G.B.A. Zona Sur       La Plata    2.0       1.0        1.0   \n",
       "\n",
       "   surface_total  surface_covered     price currency  \\\n",
       "0          140.0            140.0  153000.0      USD   \n",
       "1           70.0             58.0  159000.0      USD   \n",
       "2           45.0             45.0  125000.0      USD   \n",
       "3           85.0             50.0  295000.0      USD   \n",
       "4           50.0             35.0   40000.0      USD   \n",
       "\n",
       "                                               title  \\\n",
       "0        ***Venta semipiso centro, ideal hostel*****   \n",
       "1   Espectacular PH reciclado en Boedo sin expensas.   \n",
       "2  Depto.tipo casa de 2 ambientes en Venta en Pal...   \n",
       "3  COSTA RICA 5800 / PALERMO HOLLYWOOD / VENTA PH...   \n",
       "4  58 entre 1 y 2  Venta de departamento en ph.1 ...   \n",
       "\n",
       "                                         description property_type  \\\n",
       "0  DESCRIPCION DE LA PROPIEDAD: Departamento de 1...  Departamento   \n",
       "1   PH reciclado en Boedo a una cuadra de la plaz...            PH   \n",
       "2  2 ambienets amplio , excelente estado , patio ...            PH   \n",
       "3  HERMOSO PH EN PALERMO!!!2 AMBIENTES TOTALMENTE...            PH   \n",
       "4  58 entre 1 y 2  Venta de departamento en PH. P...            PH   \n",
       "\n",
       "  operation_type  \n",
       "0          Venta  \n",
       "1          Venta  \n",
       "2          Venta  \n",
       "3          Venta  \n",
       "4          Venta  "
      ]
     },
     "execution_count": 2,
     "metadata": {},
     "output_type": "execute_result"
    }
   ],
   "source": [
    "# Leemos los datos desde el archivo csv, e indicamos a pandas que queremos las columnas start_date, end_date y created_on como fecha\n",
    "propiedades = pd.read_csv('..\\DS_Proyecto_01_Datos_Properati.csv',parse_dates=['start_date','end_date','created_on'])\n",
    "\n",
    "# Obtemos la catidad de filas y columnas y luego lo imprimimos en pantalla\n",
    "filas, columnas = propiedades.shape\n",
    "print('Nuestro dataset tiene', filas,'filas y',columnas,'columnas')\n",
    "\n",
    "# Imprimimos las primeras 5 instancias en pantalla\n",
    "propiedades.head(5)"
   ]
  },
  {
   "cell_type": "code",
   "execution_count": 3,
   "metadata": {},
   "outputs": [],
   "source": [
    "# En el dataset nos encontramos con algunas fechas corespondientes al 31 de diciembre de 9999, las vamos a cambiar por datos NA\n",
    "propiedades.replace('9999-12-31',pd.NA,inplace=True)\n",
    "\n",
    "# Ahora convertimos esta columna a tipo fecha (en realidad como datetime)\n",
    "propiedades.end_date = propiedades.end_date.astype('datetime64')"
   ]
  },
  {
   "cell_type": "code",
   "execution_count": 4,
   "metadata": {},
   "outputs": [
    {
     "name": "stdout",
     "output_type": "stream",
     "text": [
      "<class 'pandas.core.frame.DataFrame'>\n",
      "RangeIndex: 146660 entries, 0 to 146659\n",
      "Data columns (total 19 columns):\n",
      " #   Column           Non-Null Count   Dtype         \n",
      "---  ------           --------------   -----         \n",
      " 0   start_date       146660 non-null  datetime64[ns]\n",
      " 1   end_date         121559 non-null  datetime64[ns]\n",
      " 2   created_on       146660 non-null  datetime64[ns]\n",
      " 3   lat              136735 non-null  float64       \n",
      " 4   lon              136701 non-null  float64       \n",
      " 5   l1               146660 non-null  object        \n",
      " 6   l2               146660 non-null  object        \n",
      " 7   l3               146660 non-null  object        \n",
      " 8   rooms            146660 non-null  float64       \n",
      " 9   bedrooms         146660 non-null  float64       \n",
      " 10  bathrooms        140703 non-null  float64       \n",
      " 11  surface_total    126133 non-null  float64       \n",
      " 12  surface_covered  125046 non-null  float64       \n",
      " 13  price            146660 non-null  float64       \n",
      " 14  currency         146660 non-null  object        \n",
      " 15  title            146660 non-null  object        \n",
      " 16  description      146660 non-null  object        \n",
      " 17  property_type    146660 non-null  object        \n",
      " 18  operation_type   146660 non-null  object        \n",
      "dtypes: datetime64[ns](3), float64(8), object(8)\n",
      "memory usage: 21.3+ MB\n"
     ]
    }
   ],
   "source": [
    "# vamos a analizar los tipos de datos que contiene nuestro dataset y los valores no nulos de cada una de las columnas\n",
    "propiedades.info()"
   ]
  },
  {
   "cell_type": "markdown",
   "metadata": {},
   "source": [
    "2. **Valores Faltantes**: imprime en pantalla los nombres de las columnas y cuántos valores faltantes hay por columna."
   ]
  },
  {
   "cell_type": "code",
   "execution_count": 5,
   "metadata": {},
   "outputs": [
    {
     "data": {
      "text/plain": [
       "end_date           25101\n",
       "lat                 9925\n",
       "lon                 9959\n",
       "bathrooms           5957\n",
       "surface_total      20527\n",
       "surface_covered    21614\n",
       "dtype: int64"
      ]
     },
     "execution_count": 5,
     "metadata": {},
     "output_type": "execute_result"
    }
   ],
   "source": [
    "# para una mejor lectura solo mostramos las columnas con datos faltantes.\n",
    "null_data = propiedades.isna().sum()\n",
    "null_data[null_data >0]"
   ]
  },
  {
   "cell_type": "markdown",
   "metadata": {},
   "source": [
    "3. **Tipos de propiedad**: ¿Cuántos tipos de propiedad hay publicados según este dataset?¿Cuántos instancias por cada tipo de propiedad hay en el dataset? Responde esta pregunta usando las funcionalidad de Pandas y con un gráfico apropiado de Seaborn. **Pistas**: Te puede ser útil googlear cómo rotar las etiquetas del eje x."
   ]
  },
  {
   "cell_type": "code",
   "execution_count": 6,
   "metadata": {},
   "outputs": [
    {
     "name": "stdout",
     "output_type": "stream",
     "text": [
      "Existen 10 tipos de propiedades, y cada una posee la siguiente cantidad de propiedades\n"
     ]
    },
    {
     "data": {
      "text/html": [
       "<div>\n",
       "<style scoped>\n",
       "    .dataframe tbody tr th:only-of-type {\n",
       "        vertical-align: middle;\n",
       "    }\n",
       "\n",
       "    .dataframe tbody tr th {\n",
       "        vertical-align: top;\n",
       "    }\n",
       "\n",
       "    .dataframe thead th {\n",
       "        text-align: right;\n",
       "    }\n",
       "</style>\n",
       "<table border=\"1\" class=\"dataframe\">\n",
       "  <thead>\n",
       "    <tr style=\"text-align: right;\">\n",
       "      <th></th>\n",
       "      <th>Tipo de propiedad</th>\n",
       "      <th>Cantidad</th>\n",
       "    </tr>\n",
       "  </thead>\n",
       "  <tbody>\n",
       "    <tr>\n",
       "      <th>3</th>\n",
       "      <td>Departamento</td>\n",
       "      <td>107326</td>\n",
       "    </tr>\n",
       "    <tr>\n",
       "      <th>0</th>\n",
       "      <td>Casa</td>\n",
       "      <td>21521</td>\n",
       "    </tr>\n",
       "    <tr>\n",
       "      <th>9</th>\n",
       "      <td>PH</td>\n",
       "      <td>14298</td>\n",
       "    </tr>\n",
       "    <tr>\n",
       "      <th>6</th>\n",
       "      <td>Lote</td>\n",
       "      <td>1312</td>\n",
       "    </tr>\n",
       "    <tr>\n",
       "      <th>7</th>\n",
       "      <td>Oficina</td>\n",
       "      <td>658</td>\n",
       "    </tr>\n",
       "    <tr>\n",
       "      <th>8</th>\n",
       "      <td>Otro</td>\n",
       "      <td>374</td>\n",
       "    </tr>\n",
       "    <tr>\n",
       "      <th>5</th>\n",
       "      <td>Local comercial</td>\n",
       "      <td>325</td>\n",
       "    </tr>\n",
       "    <tr>\n",
       "      <th>1</th>\n",
       "      <td>Casa de campo</td>\n",
       "      <td>322</td>\n",
       "    </tr>\n",
       "    <tr>\n",
       "      <th>4</th>\n",
       "      <td>Depósito</td>\n",
       "      <td>265</td>\n",
       "    </tr>\n",
       "    <tr>\n",
       "      <th>2</th>\n",
       "      <td>Cochera</td>\n",
       "      <td>259</td>\n",
       "    </tr>\n",
       "  </tbody>\n",
       "</table>\n",
       "</div>"
      ],
      "text/plain": [
       "  Tipo de propiedad  Cantidad\n",
       "3      Departamento    107326\n",
       "0              Casa     21521\n",
       "9                PH     14298\n",
       "6              Lote      1312\n",
       "7           Oficina       658\n",
       "8              Otro       374\n",
       "5   Local comercial       325\n",
       "1     Casa de campo       322\n",
       "4          Depósito       265\n",
       "2           Cochera       259"
      ]
     },
     "execution_count": 6,
     "metadata": {},
     "output_type": "execute_result"
    }
   ],
   "source": [
    "print('Existen', len(propiedades['property_type'].unique()), 'tipos de propiedades, y cada una posee la siguiente cantidad de propiedades')\n",
    "df_tmp = pd.DataFrame(propiedades.groupby('property_type').size()).reset_index()\n",
    "df_tmp.rename(columns={'property_type':'Tipo de propiedad',0:'Cantidad'},inplace=True)\n",
    "df_tmp.sort_values(by='Cantidad',ascending=False)"
   ]
  },
  {
   "cell_type": "code",
   "execution_count": 7,
   "metadata": {},
   "outputs": [
    {
     "data": {
      "image/png": "[encoded data removed]",
      "text/plain": [
       "<Figure size 1296x576 with 1 Axes>"
      ]
     },
     "metadata": {
      "needs_background": "light"
     },
     "output_type": "display_data"
    }
   ],
   "source": [
    "plt.figure(figsize=(18,8))\n",
    "sns.countplot(data=propiedades,\n",
    "             x='property_type',\n",
    "             order = propiedades['property_type'].value_counts().index)\n",
    "plt.xlabel('Tipo de propiedad')\n",
    "plt.ylabel('Cantidad de propiedades (escala log)')\n",
    "plt.yscale('log')\n",
    "plt.title('Cantidad de propiedades por tipo')\n",
    "plt.show()"
   ]
  },
  {
   "cell_type": "markdown",
   "metadata": {},
   "source": [
    "4. ¿De qué regiones son las publicaciones? Haz gráficos de barras para las variables `l2` y `l3`. Si te animas, puedes hacer los dos gráficos usando `subplot` de Matplotlib. Dale un tamaño apropiado a la figura para que ambos gráficos se visualicen correctamente."
   ]
  },
  {
   "cell_type": "code",
   "execution_count": 8,
   "metadata": {},
   "outputs": [
    {
     "data": {
      "image/png": "[encoded data removed]",
      "text/plain": [
       "<Figure size 1080x1080 with 2 Axes>"
      ]
     },
     "metadata": {
      "needs_background": "light"
     },
     "output_type": "display_data"
    }
   ],
   "source": [
    "# Creamos algunos dataframes para facilitar graficar\n",
    "\n",
    "# Agrupamos las zonas y contamos cuantas propiedades existen\n",
    "df_l2 = pd.DataFrame(propiedades.groupby('l2').size()).reset_index().sort_values(by=0, ascending=False)\n",
    "\n",
    "# Agrupamos los barrios y contamos cuantas propiedades existen\n",
    "df_l3 = pd.DataFrame(propiedades.groupby('l3').size()).reset_index().sort_values(by=0, ascending=False)\n",
    "# Como existen demasiados para graficarlos, tomamos los n primerios y al resto los agrupamos en otros\n",
    "df_l3['l3'].iloc[40:] = 'Otros'\n",
    "df_l3 = pd.DataFrame(df_l3.groupby('l3').sum()).reset_index().sort_values(by=0, ascending=False)\n",
    "df_l3_tmp = df_l3[df_l3['l3']=='Otros']\n",
    "df_l3 = df_l3[df_l3['l3'] !='Otros']\n",
    "df_l3 = pd.concat([df_l3,df_l3_tmp],axis=0,ignore_index=True)\n",
    "\n",
    "my_cmap = cm.get_cmap('jet')\n",
    "my_norm = Normalize(vmin=0, vmax=len(df_l2))\n",
    "fig, ax = plt.subplots(2,figsize=(15,15))\n",
    "ax[0].bar(df_l2['l2'], df_l2[0],color=my_cmap(my_norm(df_l2['l2'].index)))\n",
    "ax[0].title.set_text('Cantidad de propiedades por zona')\n",
    "ax[0].set_xlabel('Zonas')\n",
    "ax[0].set_ylabel('Cantidad de propiedades')\n",
    "\n",
    "my_norm = Normalize(vmin=0, vmax=len(df_l3))\n",
    "ax[1].bar(df_l3['l3'], df_l3[0],color=my_cmap(my_norm(df_l3['l3'].index)))\n",
    "ax[1].axes.xaxis.label.set_size(1)\n",
    "ax[1].title.set_text('Cantidad de propiedades por barrio')\n",
    "plt.xticks(rotation=45, horizontalalignment='right')\n",
    "ax[1].set_xlabel('Barrio')\n",
    "ax[1].set_ylabel('Cantidad de propiedades')\n",
    "\n",
    "plt.show()"
   ]
  },
  {
   "cell_type": "markdown",
   "metadata": {},
   "source": [
    "5. **Filtrando el Dataset:** A partir de los resultados del punto 3. y 4., selecciona las tres clases más abundantes de tipos de propiedad y la región con más propiedades publicadas. Crea un nuevo Data Frame con aquellas instancias que cumplen con esas condiciones e imprime su `shape`."
   ]
  },
  {
   "cell_type": "code",
   "execution_count": 9,
   "metadata": {},
   "outputs": [
    {
     "data": {
      "text/plain": [
       "(91485, 19)"
      ]
     },
     "execution_count": 9,
     "metadata": {},
     "output_type": "execute_result"
    }
   ],
   "source": [
    "# Creamos un nuevo data frame con los tipos de propiedad: departamento, casa y PH\n",
    "propiedades_final = propiedades[propiedades['property_type'].isin(['Departamento', 'Casa','PH']) &\n",
    "                               propiedades['l2'].isin(['Capital Federal'])].copy()\n",
    "\n",
    "# Imprimimos su shape (filas, columnas)\n",
    "propiedades_final.shape"
   ]
  },
  {
   "cell_type": "markdown",
   "metadata": {},
   "source": [
    "**Checkpoint:** deberías tener un dataset con 91485 instacias, 19 columnas.\n",
    "\n",
    "6. **Distribuciones y relaciones de a pares:** Estudia la distribución y las relaciones de a pares de las variables `rooms`, `bedrooms`, `bathrooms`, `surface_total`, `surface_covered`, `price` para cada tipo de propiedad. Para ello, ten en cuenta:\n",
    "    1. Obtiene estadísticos que te sirvan para tener una primera idea de los valores que abarcan estas variables. ¿Cuáles crees que toman valores que tal vez no tengan mucho sentido?\n",
    "    1. Algunas instancias tienen valores de superficie (`surface_total`) muy grandes y dificultan la correcta visualización. Estudia la distribución de esa variable y filtra por un valor razonable que te permita obtener gráficos comprensibles. Puede ser útil un boxplot para determinar un rango razonable.\n",
    "    1. Lo mismo ocurre con valores de superficie total muy chico.\n",
    "    1. Las propiedades no pueden tener `surface_covered` mayor a `surface_total`. Si eso sucede, debes filtrar esas instancias.\n",
    "    1. El rango de precios que toman las propiedades es muy amplio. Estudia la distribución de esa variable y filtra por un valor razonable que te permita obtener gráficos comprensibles. Puede ser útil un boxplot para determinar un rango razonable.\n",
    "    1. Una vez filtrado el dataset, puedes utilizar la función `pairplot` de Seaborn."
   ]
  },
  {
   "cell_type": "code",
   "execution_count": 10,
   "metadata": {},
   "outputs": [
    {
     "data": {
      "text/html": [
       "<div>\n",
       "<style scoped>\n",
       "    .dataframe tbody tr th:only-of-type {\n",
       "        vertical-align: middle;\n",
       "    }\n",
       "\n",
       "    .dataframe tbody tr th {\n",
       "        vertical-align: top;\n",
       "    }\n",
       "\n",
       "    .dataframe thead th {\n",
       "        text-align: right;\n",
       "    }\n",
       "</style>\n",
       "<table border=\"1\" class=\"dataframe\">\n",
       "  <thead>\n",
       "    <tr style=\"text-align: right;\">\n",
       "      <th></th>\n",
       "      <th>rooms</th>\n",
       "      <th>bedrooms</th>\n",
       "      <th>bathrooms</th>\n",
       "      <th>surface_total</th>\n",
       "      <th>surface_covered</th>\n",
       "      <th>price</th>\n",
       "    </tr>\n",
       "  </thead>\n",
       "  <tbody>\n",
       "    <tr>\n",
       "      <th>count</th>\n",
       "      <td>91485.000000</td>\n",
       "      <td>91485.000000</td>\n",
       "      <td>89314.000000</td>\n",
       "      <td>82568.000000</td>\n",
       "      <td>82250.000000</td>\n",
       "      <td>9.148500e+04</td>\n",
       "    </tr>\n",
       "    <tr>\n",
       "      <th>mean</th>\n",
       "      <td>2.964278</td>\n",
       "      <td>1.960278</td>\n",
       "      <td>1.560147</td>\n",
       "      <td>112.626369</td>\n",
       "      <td>94.966310</td>\n",
       "      <td>2.595003e+05</td>\n",
       "    </tr>\n",
       "    <tr>\n",
       "      <th>std</th>\n",
       "      <td>1.314704</td>\n",
       "      <td>1.072946</td>\n",
       "      <td>0.860309</td>\n",
       "      <td>980.713664</td>\n",
       "      <td>778.515243</td>\n",
       "      <td>3.222654e+05</td>\n",
       "    </tr>\n",
       "    <tr>\n",
       "      <th>min</th>\n",
       "      <td>1.000000</td>\n",
       "      <td>0.000000</td>\n",
       "      <td>1.000000</td>\n",
       "      <td>10.000000</td>\n",
       "      <td>1.000000</td>\n",
       "      <td>6.000000e+03</td>\n",
       "    </tr>\n",
       "    <tr>\n",
       "      <th>25%</th>\n",
       "      <td>2.000000</td>\n",
       "      <td>1.000000</td>\n",
       "      <td>1.000000</td>\n",
       "      <td>49.000000</td>\n",
       "      <td>44.000000</td>\n",
       "      <td>1.200000e+05</td>\n",
       "    </tr>\n",
       "    <tr>\n",
       "      <th>50%</th>\n",
       "      <td>3.000000</td>\n",
       "      <td>2.000000</td>\n",
       "      <td>1.000000</td>\n",
       "      <td>71.000000</td>\n",
       "      <td>63.000000</td>\n",
       "      <td>1.750000e+05</td>\n",
       "    </tr>\n",
       "    <tr>\n",
       "      <th>75%</th>\n",
       "      <td>4.000000</td>\n",
       "      <td>3.000000</td>\n",
       "      <td>2.000000</td>\n",
       "      <td>111.000000</td>\n",
       "      <td>96.000000</td>\n",
       "      <td>2.790000e+05</td>\n",
       "    </tr>\n",
       "    <tr>\n",
       "      <th>max</th>\n",
       "      <td>26.000000</td>\n",
       "      <td>15.000000</td>\n",
       "      <td>14.000000</td>\n",
       "      <td>126062.000000</td>\n",
       "      <td>126062.000000</td>\n",
       "      <td>3.243423e+07</td>\n",
       "    </tr>\n",
       "  </tbody>\n",
       "</table>\n",
       "</div>"
      ],
      "text/plain": [
       "              rooms      bedrooms     bathrooms  surface_total  \\\n",
       "count  91485.000000  91485.000000  89314.000000   82568.000000   \n",
       "mean       2.964278      1.960278      1.560147     112.626369   \n",
       "std        1.314704      1.072946      0.860309     980.713664   \n",
       "min        1.000000      0.000000      1.000000      10.000000   \n",
       "25%        2.000000      1.000000      1.000000      49.000000   \n",
       "50%        3.000000      2.000000      1.000000      71.000000   \n",
       "75%        4.000000      3.000000      2.000000     111.000000   \n",
       "max       26.000000     15.000000     14.000000  126062.000000   \n",
       "\n",
       "       surface_covered         price  \n",
       "count     82250.000000  9.148500e+04  \n",
       "mean         94.966310  2.595003e+05  \n",
       "std         778.515243  3.222654e+05  \n",
       "min           1.000000  6.000000e+03  \n",
       "25%          44.000000  1.200000e+05  \n",
       "50%          63.000000  1.750000e+05  \n",
       "75%          96.000000  2.790000e+05  \n",
       "max      126062.000000  3.243423e+07  "
      ]
     },
     "execution_count": 10,
     "metadata": {},
     "output_type": "execute_result"
    }
   ],
   "source": [
    "# Creamos un arreglo con arreglo con las variables que nos interesa analizar\n",
    "variables = ['rooms','bedrooms','bathrooms','surface_total','surface_covered','price','property_type']\n",
    "\n",
    "# Creamos un nuevo DF, solo con las vairables que nos interesa\n",
    "propiedades_final = propiedades_final[variables]\n",
    "\n",
    "# Imprimimos sus estadísticas descriptivas\n",
    "propiedades_final.describe()"
   ]
  },
  {
   "cell_type": "markdown",
   "metadata": {},
   "source": [
    "### Algunas funciones que utilizamos para realizar el análisis y manipulación de los datos"
   ]
  },
  {
   "cell_type": "code",
   "execution_count": 11,
   "metadata": {},
   "outputs": [],
   "source": [
    "def descartar_registros(df, condicion,variable,descripcion):\n",
    "    '''\n",
    "    Esta función se utiliza para descartar registros del df principal\n",
    "    y moverlos a un df de descartados, indicando el motivo por el cual\n",
    "    fue descartado.\n",
    "    parametros:\n",
    "    condición: mascara que debe aplicarse al df\n",
    "    variable: que varibale estamos evaluando\n",
    "    descripción: texto que indique el motivo por el cual fue descartado\n",
    "    retorno:\n",
    "    devuelve un df con los registros descartados\n",
    "    '''\n",
    "    propiedades_descartadas_tmp = df.loc[condicion].copy()\n",
    "    propiedades_descartadas_tmp['variable'] = variable\n",
    "    propiedades_descartadas_tmp['motivo'] = descripcion\n",
    "    df.drop(propiedades_descartadas_tmp.index, inplace=True,axis=0)\n",
    "\n",
    "    return propiedades_descartadas_tmp\n",
    "\n",
    "# inicializamos \n",
    "propiedades_descartadas = pd.DataFrame(columns=propiedades_final.columns.to_list()).copy()\n",
    "propiedades_descartadas['variable'] = ''\n",
    "propiedades_descartadas['motivo'] = ''"
   ]
  },
  {
   "cell_type": "code",
   "execution_count": 99,
   "metadata": {},
   "outputs": [],
   "source": [
    "def analisis_variables(df, variable,variable_texto):\n",
    "    f, axes = plt.subplots(1,2, figsize=(20, 4), sharex=True)\n",
    "    sns.distplot(df[variable], ax=axes[0], kde=False)\n",
    "    axes[0].set(xlabel='Cantidad de '+variable_texto, ylabel='Cantidad de instancias',title='Distribucion general')\n",
    "    \n",
    "    sns.boxplot(data=df,x=variable,y='property_type')\n",
    "    axes[1].set(xlabel='Cantidad de '+variable_texto, ylabel='Tipo de propiedad',title='Distribucion por tipo de propiedad')\n",
    "\n",
    "    plt.show()\n",
    "    #tmp = pd.DataFrame(df[[v]].groupby(by=v).size().sort_values(ascending = False)).rename(columns={0:'Cantidad'})\n",
    "    tmp = pd.DataFrame(df[[v]].groupby(by=v).size()).rename(columns={0:'Cantidad'})\n",
    "    tmp['%'] = tmp['%'] = propiedades_final['rooms'].value_counts(normalize=True) * 100\n",
    "    tmp['% acumulado'] = tmp['%'].cumsum()\n",
    "    display(tmp)"
   ]
  },
  {
   "cell_type": "code",
   "execution_count": 13,
   "metadata": {},
   "outputs": [
    {
     "data": {
      "image/png": "[encoded data removed]",
      "text/plain": [
       "<Figure size 720x720 with 1 Axes>"
      ]
     },
     "metadata": {
      "needs_background": "light"
     },
     "output_type": "display_data"
    },
    {
     "data": {
      "text/plain": [
       "rooms                 0\n",
       "bedrooms              0\n",
       "bathrooms          2171\n",
       "surface_total      8917\n",
       "surface_covered    9235\n",
       "price                 0\n",
       "property_type         0\n",
       "dtype: int64"
      ]
     },
     "execution_count": 13,
     "metadata": {},
     "output_type": "execute_result"
    }
   ],
   "source": [
    "# Analizamos los valores faltante de nuestro data frame y generamos un grafico.\n",
    "plt.figure(figsize=(10,10))\n",
    "sns.heatmap(propiedades_final[variables].isnull(),cbar=False,yticklabels=False,cmap='viridis')\n",
    "plt.show()\n",
    "propiedades_final[variables].isnull().sum()"
   ]
  },
  {
   "cell_type": "code",
   "execution_count": 14,
   "metadata": {},
   "outputs": [],
   "source": [
    "# quitamos los NA\n",
    "condicion = propiedades_final.bathrooms.isna()\n",
    "propiedades_descartadas = pd.concat([propiedades_descartadas, descartar_registros(propiedades_final, condicion,'bathrooms','Descartado por dato faltante')])\n",
    "condicion = propiedades_final.surface_total.isna()\n",
    "propiedades_descartadas = pd.concat([propiedades_descartadas, descartar_registros(propiedades_final, condicion,'surface_total','Descartado por dato faltante')])\n",
    "condicion = propiedades_final.surface_covered.isna()\n",
    "propiedades_descartadas = pd.concat([propiedades_descartadas, descartar_registros(propiedades_final, condicion,'surface_covered','Descartado por dato faltante')])\n",
    "\n",
    "# quitamos superficie menor a 15 o superior a 100\n",
    "condicion = propiedades_final.surface_total < 15 \n",
    "propiedades_descartadas = pd.concat([propiedades_descartadas, descartar_registros(propiedades_final, condicion,'surface_covered','Inferior a 15 o superior a 1000')])\n",
    "condicion = propiedades_final.surface_total > 1000\n",
    "propiedades_descartadas = pd.concat([propiedades_descartadas, descartar_registros(propiedades_final, condicion,'surface_covered','Inferior a 15 o superior a 1000')])\n",
    "\n",
    "# quitamos precios superiores a 4000000\n",
    "condicion = propiedades_final.price > 4000000 \n",
    "propiedades_descartadas = pd.concat([propiedades_descartadas, descartar_registros(propiedades_final, condicion,'price','Precio superior a 4000000')])"
   ]
  },
  {
   "cell_type": "code",
   "execution_count": 15,
   "metadata": {},
   "outputs": [
    {
     "data": {
      "text/plain": [
       "((81019, 7), (10466, 9))"
      ]
     },
     "execution_count": 15,
     "metadata": {},
     "output_type": "execute_result"
    }
   ],
   "source": [
    "# Luego de quitas los datos vemos los datos con los que nos quedamos y cuantos descartamos\n",
    "propiedades_final.shape, propiedades_descartadas.shape"
   ]
  },
  {
   "cell_type": "markdown",
   "metadata": {},
   "source": [
    "# Análisis de las distintas variables"
   ]
  },
  {
   "cell_type": "markdown",
   "metadata": {},
   "source": [
    "## Variable *rooms*\n",
    "#### Cantidad de ambientes"
   ]
  },
  {
   "cell_type": "code",
   "execution_count": 100,
   "metadata": {},
   "outputs": [
    {
     "data": {
      "image/png": "[encoded data removed]",
      "text/plain": [
       "<Figure size 1440x288 with 2 Axes>"
      ]
     },
     "metadata": {
      "needs_background": "light"
     },
     "output_type": "display_data"
    },
    {
     "data": {
      "text/html": [
       "<div>\n",
       "<style scoped>\n",
       "    .dataframe tbody tr th:only-of-type {\n",
       "        vertical-align: middle;\n",
       "    }\n",
       "\n",
       "    .dataframe tbody tr th {\n",
       "        vertical-align: top;\n",
       "    }\n",
       "\n",
       "    .dataframe thead th {\n",
       "        text-align: right;\n",
       "    }\n",
       "</style>\n",
       "<table border=\"1\" class=\"dataframe\">\n",
       "  <thead>\n",
       "    <tr style=\"text-align: right;\">\n",
       "      <th></th>\n",
       "      <th>Cantidad</th>\n",
       "      <th>%</th>\n",
       "      <th>% acumulado</th>\n",
       "    </tr>\n",
       "    <tr>\n",
       "      <th>rooms</th>\n",
       "      <th></th>\n",
       "      <th></th>\n",
       "      <th></th>\n",
       "    </tr>\n",
       "  </thead>\n",
       "  <tbody>\n",
       "    <tr>\n",
       "      <th>1.0</th>\n",
       "      <td>6457</td>\n",
       "      <td>7.969735</td>\n",
       "      <td>7.969735</td>\n",
       "    </tr>\n",
       "    <tr>\n",
       "      <th>2.0</th>\n",
       "      <td>24435</td>\n",
       "      <td>30.159592</td>\n",
       "      <td>38.129328</td>\n",
       "    </tr>\n",
       "    <tr>\n",
       "      <th>3.0</th>\n",
       "      <td>25491</td>\n",
       "      <td>31.462990</td>\n",
       "      <td>69.592318</td>\n",
       "    </tr>\n",
       "    <tr>\n",
       "      <th>4.0</th>\n",
       "      <td>16738</td>\n",
       "      <td>20.659352</td>\n",
       "      <td>90.251669</td>\n",
       "    </tr>\n",
       "    <tr>\n",
       "      <th>5.0</th>\n",
       "      <td>4915</td>\n",
       "      <td>6.066478</td>\n",
       "      <td>96.318148</td>\n",
       "    </tr>\n",
       "    <tr>\n",
       "      <th>6.0</th>\n",
       "      <td>1687</td>\n",
       "      <td>2.082228</td>\n",
       "      <td>98.400375</td>\n",
       "    </tr>\n",
       "    <tr>\n",
       "      <th>7.0</th>\n",
       "      <td>663</td>\n",
       "      <td>0.818327</td>\n",
       "      <td>99.218702</td>\n",
       "    </tr>\n",
       "    <tr>\n",
       "      <th>8.0</th>\n",
       "      <td>392</td>\n",
       "      <td>0.483837</td>\n",
       "      <td>99.702539</td>\n",
       "    </tr>\n",
       "    <tr>\n",
       "      <th>9.0</th>\n",
       "      <td>79</td>\n",
       "      <td>0.097508</td>\n",
       "      <td>99.800047</td>\n",
       "    </tr>\n",
       "    <tr>\n",
       "      <th>10.0</th>\n",
       "      <td>74</td>\n",
       "      <td>0.091337</td>\n",
       "      <td>99.891384</td>\n",
       "    </tr>\n",
       "    <tr>\n",
       "      <th>11.0</th>\n",
       "      <td>26</td>\n",
       "      <td>0.032091</td>\n",
       "      <td>99.923475</td>\n",
       "    </tr>\n",
       "    <tr>\n",
       "      <th>12.0</th>\n",
       "      <td>35</td>\n",
       "      <td>0.043200</td>\n",
       "      <td>99.966674</td>\n",
       "    </tr>\n",
       "    <tr>\n",
       "      <th>13.0</th>\n",
       "      <td>2</td>\n",
       "      <td>0.002469</td>\n",
       "      <td>99.969143</td>\n",
       "    </tr>\n",
       "    <tr>\n",
       "      <th>14.0</th>\n",
       "      <td>4</td>\n",
       "      <td>0.004937</td>\n",
       "      <td>99.974080</td>\n",
       "    </tr>\n",
       "    <tr>\n",
       "      <th>15.0</th>\n",
       "      <td>7</td>\n",
       "      <td>0.008640</td>\n",
       "      <td>99.982720</td>\n",
       "    </tr>\n",
       "    <tr>\n",
       "      <th>16.0</th>\n",
       "      <td>5</td>\n",
       "      <td>0.006171</td>\n",
       "      <td>99.988891</td>\n",
       "    </tr>\n",
       "    <tr>\n",
       "      <th>18.0</th>\n",
       "      <td>2</td>\n",
       "      <td>0.002469</td>\n",
       "      <td>99.991360</td>\n",
       "    </tr>\n",
       "    <tr>\n",
       "      <th>20.0</th>\n",
       "      <td>4</td>\n",
       "      <td>0.004937</td>\n",
       "      <td>99.996297</td>\n",
       "    </tr>\n",
       "    <tr>\n",
       "      <th>21.0</th>\n",
       "      <td>1</td>\n",
       "      <td>0.001234</td>\n",
       "      <td>99.997531</td>\n",
       "    </tr>\n",
       "    <tr>\n",
       "      <th>26.0</th>\n",
       "      <td>2</td>\n",
       "      <td>0.002469</td>\n",
       "      <td>100.000000</td>\n",
       "    </tr>\n",
       "  </tbody>\n",
       "</table>\n",
       "</div>"
      ],
      "text/plain": [
       "       Cantidad          %  % acumulado\n",
       "rooms                                  \n",
       "1.0        6457   7.969735     7.969735\n",
       "2.0       24435  30.159592    38.129328\n",
       "3.0       25491  31.462990    69.592318\n",
       "4.0       16738  20.659352    90.251669\n",
       "5.0        4915   6.066478    96.318148\n",
       "6.0        1687   2.082228    98.400375\n",
       "7.0         663   0.818327    99.218702\n",
       "8.0         392   0.483837    99.702539\n",
       "9.0          79   0.097508    99.800047\n",
       "10.0         74   0.091337    99.891384\n",
       "11.0         26   0.032091    99.923475\n",
       "12.0         35   0.043200    99.966674\n",
       "13.0          2   0.002469    99.969143\n",
       "14.0          4   0.004937    99.974080\n",
       "15.0          7   0.008640    99.982720\n",
       "16.0          5   0.006171    99.988891\n",
       "18.0          2   0.002469    99.991360\n",
       "20.0          4   0.004937    99.996297\n",
       "21.0          1   0.001234    99.997531\n",
       "26.0          2   0.002469   100.000000"
      ]
     },
     "metadata": {},
     "output_type": "display_data"
    }
   ],
   "source": [
    "v='rooms'\n",
    "variable_texto='ambientes'\n",
    "analisis_variables(propiedades_final, variable=v,variable_texto=variable_texto)"
   ]
  },
  {
   "cell_type": "markdown",
   "metadata": {},
   "source": [
    "Al analizar la distribución de la cantidad ambientes, vemos que existen una cantidad no representativa de propiedades que poseen más de 11 ambientes. \n",
    "Con fines de poder graficar adecuadamente y teniendo en cuenta que pueden llegar a ser un problema para nuestro modelo vamos a acotar nuestro data ser a ambientes menores o iguales a 11 (tomando mas del 99% de los datos)"
   ]
  },
  {
   "cell_type": "code",
   "execution_count": 101,
   "metadata": {},
   "outputs": [
    {
     "data": {
      "image/png": "[encoded data removed]",
      "text/plain": [
       "<Figure size 1440x288 with 2 Axes>"
      ]
     },
     "metadata": {
      "needs_background": "light"
     },
     "output_type": "display_data"
    },
    {
     "data": {
      "text/html": [
       "<div>\n",
       "<style scoped>\n",
       "    .dataframe tbody tr th:only-of-type {\n",
       "        vertical-align: middle;\n",
       "    }\n",
       "\n",
       "    .dataframe tbody tr th {\n",
       "        vertical-align: top;\n",
       "    }\n",
       "\n",
       "    .dataframe thead th {\n",
       "        text-align: right;\n",
       "    }\n",
       "</style>\n",
       "<table border=\"1\" class=\"dataframe\">\n",
       "  <thead>\n",
       "    <tr style=\"text-align: right;\">\n",
       "      <th></th>\n",
       "      <th>Cantidad</th>\n",
       "      <th>%</th>\n",
       "      <th>% acumulado</th>\n",
       "    </tr>\n",
       "    <tr>\n",
       "      <th>rooms</th>\n",
       "      <th></th>\n",
       "      <th></th>\n",
       "      <th></th>\n",
       "    </tr>\n",
       "  </thead>\n",
       "  <tbody>\n",
       "    <tr>\n",
       "      <th>1.0</th>\n",
       "      <td>6457</td>\n",
       "      <td>7.969735</td>\n",
       "      <td>7.969735</td>\n",
       "    </tr>\n",
       "    <tr>\n",
       "      <th>2.0</th>\n",
       "      <td>24435</td>\n",
       "      <td>30.159592</td>\n",
       "      <td>38.129328</td>\n",
       "    </tr>\n",
       "    <tr>\n",
       "      <th>3.0</th>\n",
       "      <td>25491</td>\n",
       "      <td>31.462990</td>\n",
       "      <td>69.592318</td>\n",
       "    </tr>\n",
       "    <tr>\n",
       "      <th>4.0</th>\n",
       "      <td>16738</td>\n",
       "      <td>20.659352</td>\n",
       "      <td>90.251669</td>\n",
       "    </tr>\n",
       "    <tr>\n",
       "      <th>5.0</th>\n",
       "      <td>4915</td>\n",
       "      <td>6.066478</td>\n",
       "      <td>96.318148</td>\n",
       "    </tr>\n",
       "    <tr>\n",
       "      <th>6.0</th>\n",
       "      <td>1687</td>\n",
       "      <td>2.082228</td>\n",
       "      <td>98.400375</td>\n",
       "    </tr>\n",
       "    <tr>\n",
       "      <th>7.0</th>\n",
       "      <td>663</td>\n",
       "      <td>0.818327</td>\n",
       "      <td>99.218702</td>\n",
       "    </tr>\n",
       "    <tr>\n",
       "      <th>8.0</th>\n",
       "      <td>392</td>\n",
       "      <td>0.483837</td>\n",
       "      <td>99.702539</td>\n",
       "    </tr>\n",
       "    <tr>\n",
       "      <th>9.0</th>\n",
       "      <td>79</td>\n",
       "      <td>0.097508</td>\n",
       "      <td>99.800047</td>\n",
       "    </tr>\n",
       "    <tr>\n",
       "      <th>10.0</th>\n",
       "      <td>74</td>\n",
       "      <td>0.091337</td>\n",
       "      <td>99.891384</td>\n",
       "    </tr>\n",
       "    <tr>\n",
       "      <th>11.0</th>\n",
       "      <td>26</td>\n",
       "      <td>0.032091</td>\n",
       "      <td>99.923475</td>\n",
       "    </tr>\n",
       "  </tbody>\n",
       "</table>\n",
       "</div>"
      ],
      "text/plain": [
       "       Cantidad          %  % acumulado\n",
       "rooms                                  \n",
       "1.0        6457   7.969735     7.969735\n",
       "2.0       24435  30.159592    38.129328\n",
       "3.0       25491  31.462990    69.592318\n",
       "4.0       16738  20.659352    90.251669\n",
       "5.0        4915   6.066478    96.318148\n",
       "6.0        1687   2.082228    98.400375\n",
       "7.0         663   0.818327    99.218702\n",
       "8.0         392   0.483837    99.702539\n",
       "9.0          79   0.097508    99.800047\n",
       "10.0         74   0.091337    99.891384\n",
       "11.0         26   0.032091    99.923475"
      ]
     },
     "metadata": {},
     "output_type": "display_data"
    }
   ],
   "source": [
    "v='rooms'\n",
    "variable_texto='ambientes'\n",
    "analisis_variables(propiedades_final[propiedades_final[v]<=11], variable=v,variable_texto=variable_texto)"
   ]
  },
  {
   "cell_type": "markdown",
   "metadata": {},
   "source": [
    "**Distribución general**: "
   ]
  },
  {
   "cell_type": "code",
   "execution_count": null,
   "metadata": {},
   "outputs": [],
   "source": []
  }
 ],
 "metadata": {
  "kernelspec": {
   "display_name": "Python 3",
   "language": "python",
   "name": "python3"
  },
  "language_info": {
   "codemirror_mode": {
    "name": "ipython",
    "version": 3
   },
   "file_extension": ".py",
   "mimetype": "text/x-python",
   "name": "python",
   "nbconvert_exporter": "python",
   "pygments_lexer": "ipython3",
   "version": "3.8.8"
  }
 },
 "nbformat": 4,
 "nbformat_minor": 4
}
