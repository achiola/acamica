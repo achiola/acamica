{
 "cells": [
  {
   "cell_type": "code",
   "execution_count": 1,
   "metadata": {},
   "outputs": [],
   "source": [
    "import pandas as pd\n",
    "from category_encoders import OrdinalEncoder\n",
    "from lightgbm import LGBMRegressor\n",
    "from sklearn.model_selection import train_test_split\n",
    "from sklearn.ensemble import ExtraTreesRegressor"
   ]
  },
  {
   "cell_type": "code",
   "execution_count": 2,
   "metadata": {},
   "outputs": [],
   "source": [
    "df = pd.read_csv('DS_Proyecto_01_Datos_Properati.csv')"
   ]
  },
  {
   "cell_type": "code",
   "execution_count": 3,
   "metadata": {},
   "outputs": [
    {
     "data": {
      "text/html": [
       "<div>\n",
       "<style scoped>\n",
       "    .dataframe tbody tr th:only-of-type {\n",
       "        vertical-align: middle;\n",
       "    }\n",
       "\n",
       "    .dataframe tbody tr th {\n",
       "        vertical-align: top;\n",
       "    }\n",
       "\n",
       "    .dataframe thead th {\n",
       "        text-align: right;\n",
       "    }\n",
       "</style>\n",
       "<table border=\"1\" class=\"dataframe\">\n",
       "  <thead>\n",
       "    <tr style=\"text-align: right;\">\n",
       "      <th></th>\n",
       "      <th>start_date</th>\n",
       "      <th>end_date</th>\n",
       "      <th>created_on</th>\n",
       "      <th>lat</th>\n",
       "      <th>lon</th>\n",
       "      <th>l1</th>\n",
       "      <th>l2</th>\n",
       "      <th>l3</th>\n",
       "      <th>rooms</th>\n",
       "      <th>bedrooms</th>\n",
       "      <th>bathrooms</th>\n",
       "      <th>surface_total</th>\n",
       "      <th>surface_covered</th>\n",
       "      <th>price</th>\n",
       "      <th>currency</th>\n",
       "      <th>title</th>\n",
       "      <th>description</th>\n",
       "      <th>property_type</th>\n",
       "      <th>operation_type</th>\n",
       "    </tr>\n",
       "  </thead>\n",
       "  <tbody>\n",
       "    <tr>\n",
       "      <th>0</th>\n",
       "      <td>2019-10-17</td>\n",
       "      <td>2019-12-23</td>\n",
       "      <td>2019-10-17</td>\n",
       "      <td>-34.605880</td>\n",
       "      <td>-58.384949</td>\n",
       "      <td>Argentina</td>\n",
       "      <td>Capital Federal</td>\n",
       "      <td>San Cristobal</td>\n",
       "      <td>7.0</td>\n",
       "      <td>7.0</td>\n",
       "      <td>2.0</td>\n",
       "      <td>140.0</td>\n",
       "      <td>140.0</td>\n",
       "      <td>153000.0</td>\n",
       "      <td>USD</td>\n",
       "      <td>***Venta semipiso centro, ideal hostel*****</td>\n",
       "      <td>DESCRIPCION DE LA PROPIEDAD: Departamento de 1...</td>\n",
       "      <td>Departamento</td>\n",
       "      <td>Venta</td>\n",
       "    </tr>\n",
       "    <tr>\n",
       "      <th>1</th>\n",
       "      <td>2019-10-17</td>\n",
       "      <td>2019-11-21</td>\n",
       "      <td>2019-10-17</td>\n",
       "      <td>-34.624056</td>\n",
       "      <td>-58.412110</td>\n",
       "      <td>Argentina</td>\n",
       "      <td>Capital Federal</td>\n",
       "      <td>Boedo</td>\n",
       "      <td>2.0</td>\n",
       "      <td>1.0</td>\n",
       "      <td>2.0</td>\n",
       "      <td>70.0</td>\n",
       "      <td>58.0</td>\n",
       "      <td>159000.0</td>\n",
       "      <td>USD</td>\n",
       "      <td>Espectacular PH reciclado en Boedo sin expensas.</td>\n",
       "      <td>PH reciclado en Boedo a una cuadra de la plaz...</td>\n",
       "      <td>PH</td>\n",
       "      <td>Venta</td>\n",
       "    </tr>\n",
       "    <tr>\n",
       "      <th>2</th>\n",
       "      <td>2019-10-17</td>\n",
       "      <td>2019-11-01</td>\n",
       "      <td>2019-10-17</td>\n",
       "      <td>-34.593569</td>\n",
       "      <td>-58.427474</td>\n",
       "      <td>Argentina</td>\n",
       "      <td>Capital Federal</td>\n",
       "      <td>Palermo</td>\n",
       "      <td>2.0</td>\n",
       "      <td>1.0</td>\n",
       "      <td>1.0</td>\n",
       "      <td>45.0</td>\n",
       "      <td>45.0</td>\n",
       "      <td>125000.0</td>\n",
       "      <td>USD</td>\n",
       "      <td>Depto.tipo casa de 2 ambientes en Venta en Pal...</td>\n",
       "      <td>2 ambienets amplio , excelente estado , patio ...</td>\n",
       "      <td>PH</td>\n",
       "      <td>Venta</td>\n",
       "    </tr>\n",
       "    <tr>\n",
       "      <th>3</th>\n",
       "      <td>2019-10-17</td>\n",
       "      <td>2019-12-23</td>\n",
       "      <td>2019-10-17</td>\n",
       "      <td>-34.581294</td>\n",
       "      <td>-58.436754</td>\n",
       "      <td>Argentina</td>\n",
       "      <td>Capital Federal</td>\n",
       "      <td>Palermo</td>\n",
       "      <td>2.0</td>\n",
       "      <td>1.0</td>\n",
       "      <td>1.0</td>\n",
       "      <td>85.0</td>\n",
       "      <td>50.0</td>\n",
       "      <td>295000.0</td>\n",
       "      <td>USD</td>\n",
       "      <td>COSTA RICA 5800 / PALERMO HOLLYWOOD / VENTA PH...</td>\n",
       "      <td>HERMOSO PH EN PALERMO!!!2 AMBIENTES TOTALMENTE...</td>\n",
       "      <td>PH</td>\n",
       "      <td>Venta</td>\n",
       "    </tr>\n",
       "    <tr>\n",
       "      <th>4</th>\n",
       "      <td>2019-10-17</td>\n",
       "      <td>2020-03-11</td>\n",
       "      <td>2019-10-17</td>\n",
       "      <td>-34.914194</td>\n",
       "      <td>-57.938219</td>\n",
       "      <td>Argentina</td>\n",
       "      <td>Bs.As. G.B.A. Zona Sur</td>\n",
       "      <td>La Plata</td>\n",
       "      <td>2.0</td>\n",
       "      <td>1.0</td>\n",
       "      <td>1.0</td>\n",
       "      <td>50.0</td>\n",
       "      <td>35.0</td>\n",
       "      <td>40000.0</td>\n",
       "      <td>USD</td>\n",
       "      <td>58 entre 1 y 2  Venta de departamento en ph.1 ...</td>\n",
       "      <td>58 entre 1 y 2  Venta de departamento en PH. P...</td>\n",
       "      <td>PH</td>\n",
       "      <td>Venta</td>\n",
       "    </tr>\n",
       "  </tbody>\n",
       "</table>\n",
       "</div>"
      ],
      "text/plain": [
       "   start_date    end_date  created_on        lat        lon         l1  \\\n",
       "0  2019-10-17  2019-12-23  2019-10-17 -34.605880 -58.384949  Argentina   \n",
       "1  2019-10-17  2019-11-21  2019-10-17 -34.624056 -58.412110  Argentina   \n",
       "2  2019-10-17  2019-11-01  2019-10-17 -34.593569 -58.427474  Argentina   \n",
       "3  2019-10-17  2019-12-23  2019-10-17 -34.581294 -58.436754  Argentina   \n",
       "4  2019-10-17  2020-03-11  2019-10-17 -34.914194 -57.938219  Argentina   \n",
       "\n",
       "                       l2             l3  rooms  bedrooms  bathrooms  \\\n",
       "0         Capital Federal  San Cristobal    7.0       7.0        2.0   \n",
       "1         Capital Federal          Boedo    2.0       1.0        2.0   \n",
       "2         Capital Federal        Palermo    2.0       1.0        1.0   \n",
       "3         Capital Federal        Palermo    2.0       1.0        1.0   \n",
       "4  Bs.As. G.B.A. Zona Sur       La Plata    2.0       1.0        1.0   \n",
       "\n",
       "   surface_total  surface_covered     price currency  \\\n",
       "0          140.0            140.0  153000.0      USD   \n",
       "1           70.0             58.0  159000.0      USD   \n",
       "2           45.0             45.0  125000.0      USD   \n",
       "3           85.0             50.0  295000.0      USD   \n",
       "4           50.0             35.0   40000.0      USD   \n",
       "\n",
       "                                               title  \\\n",
       "0        ***Venta semipiso centro, ideal hostel*****   \n",
       "1   Espectacular PH reciclado en Boedo sin expensas.   \n",
       "2  Depto.tipo casa de 2 ambientes en Venta en Pal...   \n",
       "3  COSTA RICA 5800 / PALERMO HOLLYWOOD / VENTA PH...   \n",
       "4  58 entre 1 y 2  Venta de departamento en ph.1 ...   \n",
       "\n",
       "                                         description property_type  \\\n",
       "0  DESCRIPCION DE LA PROPIEDAD: Departamento de 1...  Departamento   \n",
       "1   PH reciclado en Boedo a una cuadra de la plaz...            PH   \n",
       "2  2 ambienets amplio , excelente estado , patio ...            PH   \n",
       "3  HERMOSO PH EN PALERMO!!!2 AMBIENTES TOTALMENTE...            PH   \n",
       "4  58 entre 1 y 2  Venta de departamento en PH. P...            PH   \n",
       "\n",
       "  operation_type  \n",
       "0          Venta  \n",
       "1          Venta  \n",
       "2          Venta  \n",
       "3          Venta  \n",
       "4          Venta  "
      ]
     },
     "execution_count": 3,
     "metadata": {},
     "output_type": "execute_result"
    }
   ],
   "source": [
    "df.head()"
   ]
  },
  {
   "cell_type": "code",
   "execution_count": 4,
   "metadata": {},
   "outputs": [],
   "source": [
    "y_df=df[['price']]\n",
    "X_df=df[df.columns.difference(['price','lat','lon'])]"
   ]
  },
  {
   "cell_type": "code",
   "execution_count": 5,
   "metadata": {},
   "outputs": [
    {
     "name": "stderr",
     "output_type": "stream",
     "text": [
      "C:\\Anaconda3\\envs\\acamica\\lib\\site-packages\\category_encoders\\utils.py:21: FutureWarning: is_categorical is deprecated and will be removed in a future version.  Use is_categorical_dtype instead\n",
      "  elif pd.api.types.is_categorical(cols):\n"
     ]
    }
   ],
   "source": [
    "from category_encoders import OrdinalEncoder\n",
    "\n",
    "categorical_features = [col for col in X_df.columns if X_df[col].dtype == 'object']\n",
    "\n",
    "encoder = OrdinalEncoder(\n",
    "    cols=categorical_features,\n",
    "    handle_unknown='ignore',\n",
    "    return_df=True).fit(X_df)\n",
    "\n",
    "X_df=encoder.transform(X_df)"
   ]
  },
  {
   "cell_type": "code",
   "execution_count": 6,
   "metadata": {},
   "outputs": [],
   "source": [
    "Xtrain, Xtest, ytrain, ytest = train_test_split(X_df, y_df, train_size=0.75, random_state=1)"
   ]
  },
  {
   "cell_type": "code",
   "execution_count": 7,
   "metadata": {},
   "outputs": [],
   "source": [
    "regressor = LGBMRegressor(n_estimators=200).fit(Xtrain,ytrain)"
   ]
  },
  {
   "cell_type": "code",
   "execution_count": 8,
   "metadata": {},
   "outputs": [],
   "source": [
    "from shapash.explainer.smart_explainer import SmartExplainer"
   ]
  },
  {
   "cell_type": "code",
   "execution_count": 9,
   "metadata": {},
   "outputs": [],
   "source": [
    "xpl = SmartExplainer() # optional parameter, specifies label for features name features_dict=X_df.columns"
   ]
  },
  {
   "cell_type": "code",
   "execution_count": 10,
   "metadata": {},
   "outputs": [
    {
     "name": "stdout",
     "output_type": "stream",
     "text": [
      "Backend: Shap TreeExplainer\n"
     ]
    }
   ],
   "source": [
    "xpl.compile(\n",
    "    x=Xtest,\n",
    "    model=regressor,\n",
    "    preprocessing=encoder # Optional: compile step can use inverse_transform method\n",
    ")"
   ]
  },
  {
   "cell_type": "code",
   "execution_count": 11,
   "metadata": {},
   "outputs": [
    {
     "name": "stderr",
     "output_type": "stream",
     "text": [
      "INFO:numexpr.utils:NumExpr defaulting to 4 threads.\n",
      "C:\\Anaconda3\\envs\\acamica\\lib\\site-packages\\pandas\\core\\frame.py:1490: FutureWarning:\n",
      "\n",
      "Using short name for 'orient' is deprecated. Only the options: ('dict', list, 'series', 'split', 'records', 'index') will be used in a future version. Use one of the above to silence this warning.\n",
      "\n",
      "INFO:root:Your Shapash application run on http://HP5CG4484GYF:8050/\n"
     ]
    },
    {
     "name": "stdout",
     "output_type": "stream",
     "text": [
      "Dash is running on http://0.0.0.0:8050/\n",
      "\n"
     ]
    },
    {
     "name": "stderr",
     "output_type": "stream",
     "text": [
      "INFO:root:Use the method .kill() to down your app.\n",
      "INFO:shapash.webapp.smart_app:Dash is running on http://0.0.0.0:8050/\n",
      "\n"
     ]
    },
    {
     "name": "stdout",
     "output_type": "stream",
     "text": [
      " * Serving Flask app \"shapash.webapp.smart_app\" (lazy loading)\n",
      " * Environment: production\n",
      "   WARNING: This is a development server. Do not use it in a production deployment.\n",
      "   Use a production WSGI server instead.\n",
      " * Debug mode: off\n"
     ]
    },
    {
     "name": "stderr",
     "output_type": "stream",
     "text": [
      "INFO:werkzeug: * Running on http://0.0.0.0:8050/ (Press CTRL+C to quit)\n",
      "INFO:werkzeug:127.0.0.1 - - [18/Mar/2021 14:07:43] \"\u001b[37mGET / HTTP/1.1\u001b[0m\" 200 -\n",
      "INFO:werkzeug:127.0.0.1 - - [18/Mar/2021 14:07:43] \"\u001b[37mGET /assets/material-icons.css?m=1615983297.0092165 HTTP/1.1\u001b[0m\" 200 -\n",
      "INFO:werkzeug:127.0.0.1 - - [18/Mar/2021 14:07:43] \"\u001b[37mGET /assets/style.css?m=1615983297.0404675 HTTP/1.1\u001b[0m\" 200 -\n",
      "INFO:werkzeug:127.0.0.1 - - [18/Mar/2021 14:07:43] \"\u001b[37mGET /_dash-component-suites/dash_renderer/react@16.v1_8_3m1615983285.14.0.min.js HTTP/1.1\u001b[0m\" 200 -\n",
      "INFO:werkzeug:127.0.0.1 - - [18/Mar/2021 14:07:43] \"\u001b[37mGET /_dash-component-suites/dash_renderer/prop-types@15.v1_8_3m1615983285.7.2.min.js HTTP/1.1\u001b[0m\" 200 -\n",
      "INFO:werkzeug:127.0.0.1 - - [18/Mar/2021 14:07:43] \"\u001b[37mGET /_dash-component-suites/dash_renderer/react-dom@16.v1_8_3m1615983285.14.0.min.js HTTP/1.1\u001b[0m\" 200 -\n",
      "INFO:werkzeug:127.0.0.1 - - [18/Mar/2021 14:07:43] \"\u001b[37mGET /_dash-component-suites/dash_renderer/polyfill@7.v1_8_3m1615983285.8.7.min.js HTTP/1.1\u001b[0m\" 200 -\n",
      "INFO:werkzeug:127.0.0.1 - - [18/Mar/2021 14:07:43] \"\u001b[37mGET /_dash-component-suites/dash_table/bundle.v4_11_0m1615983290.js HTTP/1.1\u001b[0m\" 200 -\n",
      "INFO:werkzeug:127.0.0.1 - - [18/Mar/2021 14:07:43] \"\u001b[37mGET /_dash-component-suites/dash_bootstrap_components/_components/dash_bootstrap_components.v0_9_1m1615983295.min.js HTTP/1.1\u001b[0m\" 200 -\n",
      "INFO:werkzeug:127.0.0.1 - - [18/Mar/2021 14:07:43] \"\u001b[37mGET /_dash-component-suites/dash_core_components/dash_core_components.v1_13_0m1615983019.min.js HTTP/1.1\u001b[0m\" 200 -\n",
      "INFO:werkzeug:127.0.0.1 - - [18/Mar/2021 14:07:43] \"\u001b[37mGET /_dash-component-suites/dash_core_components/dash_core_components-shared.v1_13_0m1615983019.js HTTP/1.1\u001b[0m\" 200 -\n",
      "INFO:werkzeug:127.0.0.1 - - [18/Mar/2021 14:07:43] \"\u001b[37mGET /_dash-component-suites/dash_html_components/dash_html_components.v1_1_1m1615983286.min.js HTTP/1.1\u001b[0m\" 200 -\n",
      "INFO:werkzeug:127.0.0.1 - - [18/Mar/2021 14:07:44] \"\u001b[37mGET /assets/jquery.js?m=1615983296.9779658 HTTP/1.1\u001b[0m\" 200 -\n",
      "INFO:werkzeug:127.0.0.1 - - [18/Mar/2021 14:07:44] \"\u001b[37mGET /assets/main.js?m=1615983296.9935908 HTTP/1.1\u001b[0m\" 200 -\n",
      "INFO:werkzeug:127.0.0.1 - - [18/Mar/2021 14:07:44] \"\u001b[37mGET /_dash-component-suites/dash_renderer/dash_renderer.v1_8_3m1615983285.min.js HTTP/1.1\u001b[0m\" 200 -\n",
      "INFO:werkzeug:127.0.0.1 - - [18/Mar/2021 14:07:44] \"\u001b[37mGET /_dash-dependencies HTTP/1.1\u001b[0m\" 200 -\n",
      "INFO:werkzeug:127.0.0.1 - - [18/Mar/2021 14:07:44] \"\u001b[37mGET /_dash-layout HTTP/1.1\u001b[0m\" 200 -\n",
      "INFO:werkzeug:127.0.0.1 - - [18/Mar/2021 14:07:44] \"\u001b[37mGET /_dash-component-suites/dash_core_components/async-dropdown.v1_13_0m1604001894.js HTTP/1.1\u001b[0m\" 200 -\n",
      "INFO:werkzeug:127.0.0.1 - - [18/Mar/2021 14:07:45] \"\u001b[37mPOST /_dash-update-component HTTP/1.1\u001b[0m\" 200 -\n",
      "INFO:werkzeug:127.0.0.1 - - [18/Mar/2021 14:07:45] \"\u001b[37mPOST /_dash-update-component HTTP/1.1\u001b[0m\" 200 -\n",
      "INFO:werkzeug:127.0.0.1 - - [18/Mar/2021 14:07:45] \"\u001b[37mGET /assets/reload.png HTTP/1.1\u001b[0m\" 200 -\n",
      "INFO:werkzeug:127.0.0.1 - - [18/Mar/2021 14:07:45] \"\u001b[37mPOST /_dash-update-component HTTP/1.1\u001b[0m\" 200 -\n",
      "INFO:werkzeug:127.0.0.1 - - [18/Mar/2021 14:07:45] \"\u001b[37mPOST /_dash-update-component HTTP/1.1\u001b[0m\" 200 -\n",
      "INFO:werkzeug:127.0.0.1 - - [18/Mar/2021 14:07:45] \"\u001b[37mPOST /_dash-update-component HTTP/1.1\u001b[0m\" 200 -\n",
      "INFO:werkzeug:127.0.0.1 - - [18/Mar/2021 14:07:45] \"\u001b[37mPOST /_dash-update-component HTTP/1.1\u001b[0m\" 200 -\n",
      "INFO:werkzeug:127.0.0.1 - - [18/Mar/2021 14:07:45] \"\u001b[37mPOST /_dash-update-component HTTP/1.1\u001b[0m\" 200 -\n",
      "INFO:werkzeug:127.0.0.1 - - [18/Mar/2021 14:07:45] \"\u001b[37mPOST /_dash-update-component HTTP/1.1\u001b[0m\" 200 -\n",
      "INFO:werkzeug:127.0.0.1 - - [18/Mar/2021 14:07:45] \"\u001b[37mPOST /_dash-update-component HTTP/1.1\u001b[0m\" 200 -\n",
      "INFO:werkzeug:127.0.0.1 - - [18/Mar/2021 14:07:45] \"\u001b[37mPOST /_dash-update-component HTTP/1.1\u001b[0m\" 200 -\n",
      "INFO:werkzeug:127.0.0.1 - - [18/Mar/2021 14:07:45] \"\u001b[37mPOST /_dash-update-component HTTP/1.1\u001b[0m\" 200 -\n",
      "INFO:werkzeug:127.0.0.1 - - [18/Mar/2021 14:07:45] \"\u001b[37mPOST /_dash-update-component HTTP/1.1\u001b[0m\" 200 -\n",
      "INFO:werkzeug:127.0.0.1 - - [18/Mar/2021 14:07:45] \"\u001b[37mGET /_dash-component-suites/dash_core_components/async-graph.v1_13_0m1604001894.js HTTP/1.1\u001b[0m\" 200 -\n",
      "INFO:werkzeug:127.0.0.1 - - [18/Mar/2021 14:07:46] \"\u001b[37mGET /_dash-component-suites/dash_table/async-table.v4_11_0m1604001235.js HTTP/1.1\u001b[0m\" 200 -\n",
      "INFO:werkzeug:127.0.0.1 - - [18/Mar/2021 14:07:46] \"\u001b[37mGET /_dash-component-suites/dash_core_components/async-plotlyjs.v1_13_0m1604001894.js HTTP/1.1\u001b[0m\" 200 -\n",
      "INFO:werkzeug:127.0.0.1 - - [18/Mar/2021 14:07:46] \"\u001b[37mGET /_dash-component-suites/dash_core_components/async-slider.v1_13_0m1604001894.js HTTP/1.1\u001b[0m\" 200 -\n",
      "INFO:werkzeug:127.0.0.1 - - [18/Mar/2021 14:07:46] \"\u001b[37mPOST /_dash-update-component HTTP/1.1\u001b[0m\" 200 -\n",
      "INFO:werkzeug:127.0.0.1 - - [18/Mar/2021 14:07:46] \"\u001b[37mGET /assets/shapash-fond-fonce.png HTTP/1.1\u001b[0m\" 200 -\n",
      "INFO:werkzeug:127.0.0.1 - - [18/Mar/2021 14:07:46] \"\u001b[37mGET /assets/settings.png HTTP/1.1\u001b[0m\" 200 -\n",
      "INFO:werkzeug:127.0.0.1 - - [18/Mar/2021 14:07:47] \"\u001b[37mPOST /_dash-update-component HTTP/1.1\u001b[0m\" 200 -\n",
      "INFO:werkzeug:127.0.0.1 - - [18/Mar/2021 14:07:47] \"\u001b[37mPOST /_dash-update-component HTTP/1.1\u001b[0m\" 200 -\n",
      "INFO:werkzeug:127.0.0.1 - - [18/Mar/2021 14:07:48] \"\u001b[37mPOST /_dash-update-component HTTP/1.1\u001b[0m\" 200 -\n",
      "INFO:werkzeug:127.0.0.1 - - [18/Mar/2021 14:07:48] \"\u001b[37mPOST /_dash-update-component HTTP/1.1\u001b[0m\" 200 -\n",
      "INFO:werkzeug:127.0.0.1 - - [18/Mar/2021 14:07:48] \"\u001b[37mPOST /_dash-update-component HTTP/1.1\u001b[0m\" 200 -\n",
      "INFO:werkzeug:127.0.0.1 - - [18/Mar/2021 14:07:49] \"\u001b[37mPOST /_dash-update-component HTTP/1.1\u001b[0m\" 200 -\n",
      "INFO:werkzeug:127.0.0.1 - - [18/Mar/2021 14:07:59] \"\u001b[37mPOST /_dash-update-component HTTP/1.1\u001b[0m\" 200 -\n",
      "INFO:werkzeug:127.0.0.1 - - [18/Mar/2021 14:08:21] \"\u001b[37mPOST /_dash-update-component HTTP/1.1\u001b[0m\" 200 -\n",
      "INFO:werkzeug:127.0.0.1 - - [18/Mar/2021 14:08:22] \"\u001b[37mPOST /_dash-update-component HTTP/1.1\u001b[0m\" 200 -\n",
      "INFO:werkzeug:127.0.0.1 - - [18/Mar/2021 14:08:50] \"\u001b[37mPOST /_dash-update-component HTTP/1.1\u001b[0m\" 200 -\n",
      "INFO:werkzeug:127.0.0.1 - - [18/Mar/2021 14:09:00] \"\u001b[37mPOST /_dash-update-component HTTP/1.1\u001b[0m\" 200 -\n",
      "INFO:werkzeug:127.0.0.1 - - [18/Mar/2021 14:10:52] \"\u001b[37mPOST /_dash-update-component HTTP/1.1\u001b[0m\" 200 -\n",
      "INFO:werkzeug:127.0.0.1 - - [18/Mar/2021 14:10:52] \"\u001b[37mPOST /_dash-update-component HTTP/1.1\u001b[0m\" 200 -\n",
      "INFO:werkzeug:127.0.0.1 - - [18/Mar/2021 14:11:00] \"\u001b[37mPOST /_dash-update-component HTTP/1.1\u001b[0m\" 200 -\n"
     ]
    }
   ],
   "source": [
    "app = xpl.run_app(title_story='House Prices')"
   ]
  },
  {
   "cell_type": "code",
   "execution_count": 29,
   "metadata": {},
   "outputs": [],
   "source": [
    "app.kill()"
   ]
  },
  {
   "cell_type": "code",
   "execution_count": 24,
   "metadata": {},
   "outputs": [],
   "source": [
    "summary_df= xpl.to_pandas(\n",
    "    max_contrib=3, # Number Max of features to show in summary\n",
    "    threshold=5000,\n",
    ")"
   ]
  },
  {
   "cell_type": "code",
   "execution_count": 25,
   "metadata": {},
   "outputs": [
    {
     "data": {
      "text/html": [
       "<div>\n",
       "<style scoped>\n",
       "    .dataframe tbody tr th:only-of-type {\n",
       "        vertical-align: middle;\n",
       "    }\n",
       "\n",
       "    .dataframe tbody tr th {\n",
       "        vertical-align: top;\n",
       "    }\n",
       "\n",
       "    .dataframe thead th {\n",
       "        text-align: right;\n",
       "    }\n",
       "</style>\n",
       "<table border=\"1\" class=\"dataframe\">\n",
       "  <thead>\n",
       "    <tr style=\"text-align: right;\">\n",
       "      <th></th>\n",
       "      <th>pred</th>\n",
       "      <th>feature_1</th>\n",
       "      <th>value_1</th>\n",
       "      <th>contribution_1</th>\n",
       "      <th>feature_2</th>\n",
       "      <th>value_2</th>\n",
       "      <th>contribution_2</th>\n",
       "      <th>feature_3</th>\n",
       "      <th>value_3</th>\n",
       "      <th>contribution_3</th>\n",
       "    </tr>\n",
       "  </thead>\n",
       "  <tbody>\n",
       "    <tr>\n",
       "      <th>140244</th>\n",
       "      <td>218156.909396</td>\n",
       "      <td>lat</td>\n",
       "      <td>-34.6026</td>\n",
       "      <td>-39786.5</td>\n",
       "      <td>l3</td>\n",
       "      <td>Tribunales</td>\n",
       "      <td>-39218.1</td>\n",
       "      <td>bathrooms</td>\n",
       "      <td>2</td>\n",
       "      <td>19620.3</td>\n",
       "    </tr>\n",
       "    <tr>\n",
       "      <th>138196</th>\n",
       "      <td>174625.171895</td>\n",
       "      <td>bathrooms</td>\n",
       "      <td>1</td>\n",
       "      <td>-66623.7</td>\n",
       "      <td>surface_covered</td>\n",
       "      <td>58</td>\n",
       "      <td>-37624.9</td>\n",
       "      <td>lat</td>\n",
       "      <td>-34.559</td>\n",
       "      <td>31344.9</td>\n",
       "    </tr>\n",
       "    <tr>\n",
       "      <th>43186</th>\n",
       "      <td>161007.369429</td>\n",
       "      <td>bathrooms</td>\n",
       "      <td>1</td>\n",
       "      <td>-147629</td>\n",
       "      <td>l3</td>\n",
       "      <td>Palermo</td>\n",
       "      <td>20685.4</td>\n",
       "      <td>lon</td>\n",
       "      <td>-58.4201</td>\n",
       "      <td>18193.5</td>\n",
       "    </tr>\n",
       "    <tr>\n",
       "      <th>94922</th>\n",
       "      <td>99090.787938</td>\n",
       "      <td>bathrooms</td>\n",
       "      <td>1</td>\n",
       "      <td>-174187</td>\n",
       "      <td>surface_total</td>\n",
       "      <td>37</td>\n",
       "      <td>44140.2</td>\n",
       "      <td>surface_covered</td>\n",
       "      <td>37</td>\n",
       "      <td>-33889.9</td>\n",
       "    </tr>\n",
       "    <tr>\n",
       "      <th>106853</th>\n",
       "      <td>113777.224609</td>\n",
       "      <td>bathrooms</td>\n",
       "      <td>1</td>\n",
       "      <td>-173385</td>\n",
       "      <td>surface_covered</td>\n",
       "      <td>37</td>\n",
       "      <td>-38603.6</td>\n",
       "      <td>surface_total</td>\n",
       "      <td>37</td>\n",
       "      <td>35743.5</td>\n",
       "    </tr>\n",
       "  </tbody>\n",
       "</table>\n",
       "</div>"
      ],
      "text/plain": [
       "                 pred  feature_1  value_1 contribution_1        feature_2  \\\n",
       "140244  218156.909396        lat -34.6026       -39786.5               l3   \n",
       "138196  174625.171895  bathrooms        1       -66623.7  surface_covered   \n",
       "43186   161007.369429  bathrooms        1        -147629               l3   \n",
       "94922    99090.787938  bathrooms        1        -174187    surface_total   \n",
       "106853  113777.224609  bathrooms        1        -173385  surface_covered   \n",
       "\n",
       "           value_2 contribution_2        feature_3  value_3 contribution_3  \n",
       "140244  Tribunales       -39218.1        bathrooms        2        19620.3  \n",
       "138196          58       -37624.9              lat  -34.559        31344.9  \n",
       "43186      Palermo        20685.4              lon -58.4201        18193.5  \n",
       "94922           37        44140.2  surface_covered       37       -33889.9  \n",
       "106853          37       -38603.6    surface_total       37        35743.5  "
      ]
     },
     "execution_count": 25,
     "metadata": {},
     "output_type": "execute_result"
    }
   ],
   "source": [
    "summary_df.head()"
   ]
  },
  {
   "cell_type": "code",
   "execution_count": 26,
   "metadata": {},
   "outputs": [],
   "source": [
    "xpl.save('./xpl.pkl')"
   ]
  },
  {
   "cell_type": "code",
   "execution_count": null,
   "metadata": {},
   "outputs": [],
   "source": []
  }
 ],
 "metadata": {
  "kernelspec": {
   "display_name": "Python 3",
   "language": "python",
   "name": "python3"
  },
  "language_info": {
   "codemirror_mode": {
    "name": "ipython",
    "version": 3
   },
   "file_extension": ".py",
   "mimetype": "text/x-python",
   "name": "python",
   "nbconvert_exporter": "python",
   "pygments_lexer": "ipython3",
   "version": "3.7.8"
  }
 },
 "nbformat": 4,
 "nbformat_minor": 4
}
