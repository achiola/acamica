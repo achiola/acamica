{
 "cells": [
  {
   "cell_type": "markdown",
   "metadata": {},
   "source": [
    "# Introducción a Python\n",
    "\n",
    "En este notebook vamos a recorrer algunos conceptos básicos de programación en general y como los aplicamos con Python. Recomendamos ir haciéndolo con algún recurso que hayan elegido - más adelante te dejamos uno - y con el buscador de Google como su mejor amigo. Existen muchísimos recursos de libre acceso disponibles para ayudarnos, recomendamos https://learnxinyminutes.com/docs/python3/ o los otros mencionados en las bitácoras.\n",
    "\n",
    "**Recomendación**: además de realizar los ejercicios, les sugerimos fuertemente que vayan probando y modificando el código presente en este notebook. La mejor manera de aprender es haciendo, 'romper' el código e intentar entender porque dejó de funcionar. ¡No hay nada irreversible, no tengas miedo! Siempre podés volver a descargar el notebook."
   ]
  },
  {
   "cell_type": "markdown",
   "metadata": {},
   "source": [
    "# 1. Variables, Tipos de Datos y Operaciones"
   ]
  },
  {
   "cell_type": "markdown",
   "metadata": {},
   "source": [
    "## 1.1 Variables\n",
    "Al crear una variable le estás poniendo un nombre a un objeto. Cada variable debe llevar un nombre a través del cual nos referimos a ella, los nombres deben ser únicos y, en lo posible, ser lo mas explícitos posibles para evitar confusiones. Usando el = se asigna un valor a una variable. No es un igual matemático/lógico, puedes pensarlo como una flecha (<--) que asigna lo que hay del lado derecho a lo que hay del lado izquierdo. Recordemos algunos ejemplos."
   ]
  },
  {
   "cell_type": "code",
   "execution_count": 1,
   "metadata": {},
   "outputs": [
    {
     "name": "stdout",
     "output_type": "stream",
     "text": [
      "3\n"
     ]
    }
   ],
   "source": [
    "# Asignamos el valor 3 a una variable que creamos, de nombre x\n",
    "x = 3\n",
    "\n",
    "# Evaluamos e imprimimos en pantalla el resultado\n",
    "print(x)"
   ]
  },
  {
   "cell_type": "code",
   "execution_count": 2,
   "metadata": {},
   "outputs": [
    {
     "name": "stdout",
     "output_type": "stream",
     "text": [
      "15.7\n"
     ]
    }
   ],
   "source": [
    "# Asignamos el valor 15.7 a una nueva variable, de nombre y\n",
    "y = 15.7\n",
    "\n",
    "print(y)"
   ]
  },
  {
   "cell_type": "code",
   "execution_count": 3,
   "metadata": {},
   "outputs": [
    {
     "name": "stdout",
     "output_type": "stream",
     "text": [
      "18.7\n"
     ]
    }
   ],
   "source": [
    "# Podemos definir una nueva variable como la suma de dos anteriores\n",
    "z = x + y\n",
    "\n",
    "print(z)"
   ]
  },
  {
   "cell_type": "code",
   "execution_count": 4,
   "metadata": {},
   "outputs": [
    {
     "name": "stdout",
     "output_type": "stream",
     "text": [
      "HOLA!\n"
     ]
    }
   ],
   "source": [
    "# Se peude tambier asignar un valor de texto otra variable\n",
    "un_texto = 'HOLA!'\n",
    "\n",
    "print(un_texto)"
   ]
  },
  {
   "cell_type": "markdown",
   "metadata": {},
   "source": [
    "**Probar:** ejecutar la siguiente celda. ¿Cuál es la diferencia?"
   ]
  },
  {
   "cell_type": "code",
   "execution_count": 6,
   "metadata": {},
   "outputs": [
    {
     "name": "stdout",
     "output_type": "stream",
     "text": [
      "HOLA!\n",
      "un_texto\n"
     ]
    }
   ],
   "source": [
    "print(un_texto) # imprime valor de la variable un_texto\n",
    "print('un_texto') # imprime el texto \"un_texto\""
   ]
  },
  {
   "cell_type": "markdown",
   "metadata": {},
   "source": [
    "Si queremos, podemos borrar alguna variable que ya no utilizaremos más"
   ]
  },
  {
   "cell_type": "code",
   "execution_count": 8,
   "metadata": {},
   "outputs": [
    {
     "ename": "NameError",
     "evalue": "name 'un_texto' is not defined",
     "output_type": "error",
     "traceback": [
      "\u001b[1;31m---------------------------------------------------------------------------\u001b[0m",
      "\u001b[1;31mNameError\u001b[0m                                 Traceback (most recent call last)",
      "\u001b[1;32m<ipython-input-8-7b332dfa9586>\u001b[0m in \u001b[0;36m<module>\u001b[1;34m\u001b[0m\n\u001b[1;32m----> 1\u001b[1;33m \u001b[1;32mdel\u001b[0m\u001b[1;33m(\u001b[0m\u001b[0mun_texto\u001b[0m\u001b[1;33m)\u001b[0m\u001b[1;33m\u001b[0m\u001b[1;33m\u001b[0m\u001b[0m\n\u001b[0m\u001b[0;32m      2\u001b[0m \u001b[0mprint\u001b[0m\u001b[1;33m(\u001b[0m\u001b[0mun_texto\u001b[0m\u001b[1;33m)\u001b[0m \u001b[1;31m# da error porque la variable ya no existe\u001b[0m\u001b[1;33m\u001b[0m\u001b[1;33m\u001b[0m\u001b[0m\n",
      "\u001b[1;31mNameError\u001b[0m: name 'un_texto' is not defined"
     ]
    }
   ],
   "source": [
    "del(un_texto)\n",
    "print(un_texto) # da error porque la variable ya no existe"
   ]
  },
  {
   "cell_type": "markdown",
   "metadata": {},
   "source": [
    "**Nota importante**: al correr esta ultima linea, deben ver un mensaje de error. Los mensajes de error son MUY IMPORTANTES. Nos brindan información muy valiosa cuando nuestro código no funciona. En este caso, nos está avisando que no puede imprimir la variable un_texto, ya que la eliminamos y no está definida.\n",
    "\n",
    "Muchas veces, para resolver el error, lo mejor que podemos hacer es googlearlo.¡Notar que en Colab ya nos da la opción de Googlear el error en Stack Overflow!"
   ]
  },
  {
   "cell_type": "markdown",
   "metadata": {},
   "source": [
    "## 1.2 Tipos de Datos\n",
    "Cuando definimos una variable, dependiendo el contenido que le asignamos, la misma será de un determinado tipo. Los tipos de datos más comunes de variables son: `int`,`float`,`string` y `boolean`. Veamos algunos ejemplos de cada tipo."
   ]
  },
  {
   "cell_type": "code",
   "execution_count": 10,
   "metadata": {},
   "outputs": [
    {
     "name": "stdout",
     "output_type": "stream",
     "text": [
      "<class 'int'>\n"
     ]
    }
   ],
   "source": [
    "a = 42\n",
    "print(type(a))"
   ]
  },
  {
   "cell_type": "code",
   "execution_count": 11,
   "metadata": {},
   "outputs": [
    {
     "name": "stdout",
     "output_type": "stream",
     "text": [
      "<class 'float'>\n"
     ]
    }
   ],
   "source": [
    "b = 7.8\n",
    "print(type(b))"
   ]
  },
  {
   "cell_type": "code",
   "execution_count": 12,
   "metadata": {},
   "outputs": [
    {
     "name": "stdout",
     "output_type": "stream",
     "text": [
      "<class 'bool'>\n"
     ]
    }
   ],
   "source": [
    "c = True\n",
    "print(type(c))"
   ]
  },
  {
   "cell_type": "code",
   "execution_count": 13,
   "metadata": {},
   "outputs": [
    {
     "name": "stdout",
     "output_type": "stream",
     "text": [
      "<class 'str'>\n",
      "<class 'str'>\n"
     ]
    }
   ],
   "source": [
    "t1 = 'hola'\n",
    "print(type(\"hola\"))\n",
    "\n",
    "t2 = '523'\n",
    "print(type('t2'))"
   ]
  },
  {
   "cell_type": "markdown",
   "metadata": {},
   "source": [
    "**Nota**: a pesar de ser un número, la variable `t2` es de tipo `string`. Esto se debe a que lo pusimos entre comillas."
   ]
  },
  {
   "cell_type": "code",
   "execution_count": 14,
   "metadata": {},
   "outputs": [
    {
     "name": "stdout",
     "output_type": "stream",
     "text": [
      "<class 'NoneType'>\n"
     ]
    }
   ],
   "source": [
    "# Este es un tipo especial de variable, que se utiliza para simbolizar algo 'vacio'\n",
    "d = None\n",
    "print(type(d))"
   ]
  },
  {
   "cell_type": "markdown",
   "metadata": {},
   "source": [
    "Si por algun motivo (ya veremos que esto es algo que suele suceder), uno desea explicitar el tipo de variable y no dejar que python lo asuma por si solo, esto también es posible."
   ]
  },
  {
   "cell_type": "code",
   "execution_count": 15,
   "metadata": {},
   "outputs": [
    {
     "name": "stdout",
     "output_type": "stream",
     "text": [
      "<class 'int'>\n",
      "<class 'float'>\n",
      "<class 'str'>\n"
     ]
    }
   ],
   "source": [
    "numero = 45\n",
    "print(type(numero))\n",
    "\n",
    "# Quiero que sea un 'float' y no un int\n",
    "numero = float(45)\n",
    "print(type(numero))\n",
    "\n",
    "# Quiero que sea un 'string' y no un int\n",
    "numero = str(45)\n",
    "print(type(numero))"
   ]
  },
  {
   "cell_type": "code",
   "execution_count": 16,
   "metadata": {},
   "outputs": [
    {
     "name": "stdout",
     "output_type": "stream",
     "text": [
      "<class 'float'>\n",
      "<class 'int'>\n"
     ]
    }
   ],
   "source": [
    "otro_numero = 45.0\n",
    "print(type(otro_numero))\n",
    "\n",
    "# Quiero que sea un 'int' y no un 'float'\n",
    "otro_numero = int(45.0)\n",
    "print(type(otro_numero))"
   ]
  },
  {
   "cell_type": "markdown",
   "metadata": {},
   "source": [
    "**Ejercicio**: Cambiar el tipo de la variable 'numero' a float."
   ]
  },
  {
   "cell_type": "code",
   "execution_count": 18,
   "metadata": {},
   "outputs": [
    {
     "name": "stdout",
     "output_type": "stream",
     "text": [
      "Correcto!\n"
     ]
    }
   ],
   "source": [
    "# COMPLETAR\n",
    "numero = '5'\n",
    "numero = float(numero)\n",
    "\n",
    "# La siguientes lineas de codigo chequean si hiciste correctamente el ejercicio\n",
    "# No importa si no entiendes qué hace.\n",
    "if type(numero) is float:\n",
    "    print('Correcto!')\n",
    "else:\n",
    "    print('Convierte la variable a tipo float')"
   ]
  },
  {
   "cell_type": "markdown",
   "metadata": {},
   "source": [
    "## 1.3 Operaciones\n",
    "Con las variables que definimos, podemos realizar distintas operaciones. Dependiendo el tipo de variable, hay diferentes operaciones diponibles. En este notebook veremos operaciones con números - `int` y `float`; más adelante veremos operaciones con texto.\n",
    "\n",
    "### 1.3.1 Operaciones con números\n",
    "\n",
    "Se pueden realizar las operaciones basicas entre numeros"
   ]
  },
  {
   "cell_type": "code",
   "execution_count": 19,
   "metadata": {},
   "outputs": [
    {
     "name": "stdout",
     "output_type": "stream",
     "text": [
      "24\n",
      "16\n"
     ]
    }
   ],
   "source": [
    "a = 20\n",
    "b = 4\n",
    "print(a+b)\n",
    "print(a-b)"
   ]
  },
  {
   "cell_type": "markdown",
   "metadata": {},
   "source": [
    "Se pueden realizar las operaciones incluso entre distintos tipos de variables"
   ]
  },
  {
   "cell_type": "code",
   "execution_count": 20,
   "metadata": {},
   "outputs": [
    {
     "name": "stdout",
     "output_type": "stream",
     "text": [
      "24.5\n",
      "15.5\n"
     ]
    }
   ],
   "source": [
    "a = 20\n",
    "b = 4.5\n",
    "\n",
    "c = a+b\n",
    "d = a-b\n",
    "\n",
    "print(c)\n",
    "print(d)"
   ]
  },
  {
   "cell_type": "markdown",
   "metadata": {},
   "source": [
    "¿De qué tipo es la variable resultante? Trata de adivinarlo antes de correr la celda siguiente."
   ]
  },
  {
   "cell_type": "code",
   "execution_count": 21,
   "metadata": {},
   "outputs": [
    {
     "name": "stdout",
     "output_type": "stream",
     "text": [
      "<class 'float'>\n",
      "<class 'float'>\n"
     ]
    }
   ],
   "source": [
    "print(type(c))\n",
    "print(type(d))"
   ]
  },
  {
   "cell_type": "markdown",
   "metadata": {},
   "source": [
    "También podemos dividir números."
   ]
  },
  {
   "cell_type": "code",
   "execution_count": 22,
   "metadata": {},
   "outputs": [
    {
     "name": "stdout",
     "output_type": "stream",
     "text": [
      "3.3333333333333335\n"
     ]
    }
   ],
   "source": [
    "x = 10\n",
    "y = 3\n",
    "z = x/y\n",
    "print(z)"
   ]
  },
  {
   "cell_type": "markdown",
   "metadata": {},
   "source": [
    "¿De qué tipo es la variable resultante de hacer la división? A pesar de dividir dos números enteros, el resultado es de tipo `float`. ¡Ésta es una de las diferencias entre Python 2 y Python 3."
   ]
  },
  {
   "cell_type": "code",
   "execution_count": 23,
   "metadata": {},
   "outputs": [
    {
     "name": "stdout",
     "output_type": "stream",
     "text": [
      "<class 'float'>\n"
     ]
    }
   ],
   "source": [
    "print(type(z))"
   ]
  },
  {
   "cell_type": "markdown",
   "metadata": {},
   "source": [
    "La siguiente operación es muy usada en computación, nos devuelve el resto de la división. ¿No recuerdas qué es el resto? Puedes investigarlo [aquí](https://www.disfrutalasmatematicas.com/numeros/division-resto.html)."
   ]
  },
  {
   "cell_type": "code",
   "execution_count": 24,
   "metadata": {},
   "outputs": [
    {
     "name": "stdout",
     "output_type": "stream",
     "text": [
      "1\n",
      "<class 'int'>\n"
     ]
    }
   ],
   "source": [
    "x = 10\n",
    "y = 3\n",
    "print(x%y)\n",
    "print(type(x%y))"
   ]
  },
  {
   "cell_type": "markdown",
   "metadata": {},
   "source": [
    "**Ejercicio**: Calcular el porcentaje que representa el valor 17 sobre un total de 54 y guardarlo en una variable llamada `porcentaje`."
   ]
  },
  {
   "cell_type": "code",
   "execution_count": 25,
   "metadata": {},
   "outputs": [
    {
     "name": "stdout",
     "output_type": "stream",
     "text": [
      "31.48148148148148\n"
     ]
    }
   ],
   "source": [
    "# COMPLETAR\n",
    "porcentaje = (17 / 54) * 100\n",
    "print(porcentaje)"
   ]
  },
  {
   "cell_type": "markdown",
   "metadata": {},
   "source": [
    "#### **Ejercicio - Challenge**: calcula la suma y multiplicación de las variables `a`, `b` y `c`. ¡Presta atención al tipo de dato!"
   ]
  },
  {
   "cell_type": "code",
   "execution_count": 27,
   "metadata": {},
   "outputs": [
    {
     "name": "stdout",
     "output_type": "stream",
     "text": [
      "La suma es: 4.3\n",
      "La multiplicacion es: -85.8\n"
     ]
    }
   ],
   "source": [
    "a = '2'\n",
    "b = '-5.5'\n",
    "c = '7.8'\n",
    "\n",
    "# COMPLETAR\n",
    "suma = int(a) + float(b) + float(c)\n",
    "multiplicacion = int(a) * float(b) * float(c)\n",
    "\n",
    "print('La suma es:', suma)\n",
    "print('La multiplicacion es:', multiplicacion)"
   ]
  },
  {
   "cell_type": "markdown",
   "metadata": {},
   "source": [
    "# 2. Listas y Loops\n",
    "\n",
    "Ya vimos los tipos de datos básicos de Python. Es hora de empezar a combinarlos.\n",
    "\n",
    "## 2.1 Listas\n",
    "\n",
    "Las listas un objeto central en el lenguaje Python. Están compuestas por una sucesión de objetos en un orden determinado. Se definen mediante corchetes `[]`, y los objetos dentro de ellas se separan por comas `,`. Veamos un ejemplo:"
   ]
  },
  {
   "cell_type": "code",
   "execution_count": 28,
   "metadata": {},
   "outputs": [
    {
     "name": "stdout",
     "output_type": "stream",
     "text": [
      "[42, 10.7, True, 'Texto']\n"
     ]
    }
   ],
   "source": [
    "lista_1 = [42, 10.7, True, 'Texto']\n",
    "print(lista_1)"
   ]
  },
  {
   "cell_type": "markdown",
   "metadata": {},
   "source": [
    "**Notar** que la lista puede contener varios tipos de datos diferentes sin ningún problema.\n",
    "\n",
    "Una pregunta muy usual que uno hace cuando trabaja con listas es cuántos elementos tiene. Esto lo podemos responder con el comando `len()`"
   ]
  },
  {
   "cell_type": "code",
   "execution_count": 29,
   "metadata": {},
   "outputs": [
    {
     "data": {
      "text/plain": [
       "4"
      ]
     },
     "execution_count": 29,
     "metadata": {},
     "output_type": "execute_result"
    }
   ],
   "source": [
    "len(lista_1)"
   ]
  },
  {
   "cell_type": "markdown",
   "metadata": {},
   "source": [
    "### Indexado\n",
    "\n",
    "Cada elemento de una lista tiene asignada una posición (*índice*) que podemos usar para inspeccionar ese elemento u operar con él. Los índices **empiezan en 0**, y se especifican poniendo corchetes con el índice dentro luego del nombre de la lista:"
   ]
  },
  {
   "cell_type": "code",
   "execution_count": 30,
   "metadata": {},
   "outputs": [
    {
     "name": "stdout",
     "output_type": "stream",
     "text": [
      "5\n",
      "6.0\n",
      "Un poco de texto\n"
     ]
    }
   ],
   "source": [
    "lista_2 = [5, 6.0,'Un poco de texto',-5, False, 'Más texto', True, 100]\n",
    "\n",
    "print(lista_2[0])\n",
    "print(lista_2[1])\n",
    "print(lista_2[2])"
   ]
  },
  {
   "cell_type": "markdown",
   "metadata": {},
   "source": [
    "**Ejercicio**: imprimir el séptimo elemento de `lista_2`. Asegurarte que lo hiciste bien contando los elementos de la lista."
   ]
  },
  {
   "cell_type": "code",
   "execution_count": 34,
   "metadata": {},
   "outputs": [
    {
     "name": "stdout",
     "output_type": "stream",
     "text": [
      "True\n"
     ]
    }
   ],
   "source": [
    "# COMPLETAR\n",
    "print(lista_2[6])"
   ]
  },
  {
   "cell_type": "markdown",
   "metadata": {},
   "source": [
    "También podemos seleccionar porciones de la lista, no solamente de a un elemento por vez."
   ]
  },
  {
   "cell_type": "code",
   "execution_count": 36,
   "metadata": {},
   "outputs": [
    {
     "name": "stdout",
     "output_type": "stream",
     "text": [
      "[42, 10.7, True]\n",
      "[False, 'Más texto', True, 100]\n",
      "[6.0, -5]\n"
     ]
    }
   ],
   "source": [
    "print(lista_1[0:3])\n",
    "print(lista_2[4:])\n",
    "print(lista_2[1:5:2])"
   ]
  },
  {
   "cell_type": "markdown",
   "metadata": {},
   "source": [
    "¿Cuál es la lógica que gobierna esta sintaxis? Juega un poco con ella y fíjate si logras descubrir la regla. Sino, también puedes googlear qué es *slicing*.\n",
    "\n",
    "Algo más sobre indexado. Podemos indexar *desde el final* de la lista usando números negativos."
   ]
  },
  {
   "cell_type": "code",
   "execution_count": 39,
   "metadata": {},
   "outputs": [
    {
     "name": "stdout",
     "output_type": "stream",
     "text": [
      "[5, 6.0, 'Un poco de texto', -5, False, 'Más texto', True, 100]\n",
      "[100, True, 'Más texto', False, -5, 'Un poco de texto', 6.0, 5]\n"
     ]
    }
   ],
   "source": [
    "print(lista_2[::]) # imprimir normal\n",
    "print(lista_2[::-1]) # imprimir orden inverso"
   ]
  },
  {
   "cell_type": "code",
   "execution_count": 40,
   "metadata": {},
   "outputs": [
    {
     "name": "stdout",
     "output_type": "stream",
     "text": [
      "100\n",
      "True\n",
      "5\n"
     ]
    }
   ],
   "source": [
    "print(lista_2[-1])\n",
    "print(lista_2[-2])\n",
    "print(lista_2[-8])"
   ]
  },
  {
   "cell_type": "markdown",
   "metadata": {},
   "source": [
    "Veamos una cosita más. Creemos una tercera lista"
   ]
  },
  {
   "cell_type": "code",
   "execution_count": 42,
   "metadata": {},
   "outputs": [
    {
     "name": "stdout",
     "output_type": "stream",
     "text": [
      "[0, [42, 10.7, True, 'Texto'], 'Mas texto', [5, 6.0, 'Un poco de texto', -5, False, 'Más texto', True, 100]]\n",
      "4\n"
     ]
    }
   ],
   "source": [
    "# Definimos una segunda lista\n",
    "lista_3 = [0, lista_1, 'Mas texto', lista_2]\n",
    "print(lista_3)\n",
    "print(len(lista_3))"
   ]
  },
  {
   "cell_type": "markdown",
   "metadata": {},
   "source": [
    "Notemos que en esta tercera lista, agregamos dentro la primera y la segunda lista. Ambas listas ahora son elementos de esta tercera lista. Prestar particular atención a cuántos elementos tiene `lista_3`. ¡No importa cuántos elementos tienen `lista_1` o `lista_2`, dentro de `lista_3` solamente cuentan como uno!"
   ]
  },
  {
   "cell_type": "code",
   "execution_count": 43,
   "metadata": {},
   "outputs": [
    {
     "name": "stdout",
     "output_type": "stream",
     "text": [
      "[42, 10.7, True, 'Texto']\n"
     ]
    }
   ],
   "source": [
    "print(lista_3[1])"
   ]
  },
  {
   "cell_type": "markdown",
   "metadata": {},
   "source": [
    "**Ejercicio:** tomando `lista_1` desde `lista_3` (lo que acabamos de hacer en la celda anterior), indexar el tercer elemento de `lista_1`. Debería darte como resultado `True`."
   ]
  },
  {
   "cell_type": "code",
   "execution_count": 46,
   "metadata": {},
   "outputs": [
    {
     "data": {
      "text/plain": [
       "True"
      ]
     },
     "execution_count": 46,
     "metadata": {},
     "output_type": "execute_result"
    }
   ],
   "source": [
    "# COMPLETAR\n",
    "lista_3[1][2]"
   ]
  },
  {
   "cell_type": "markdown",
   "metadata": {},
   "source": [
    "**Lista Vacía y `append()`**\n",
    "\n",
    "Podemos crear listas vacias e ir agregándole elementos con el método `append()`"
   ]
  },
  {
   "cell_type": "code",
   "execution_count": 47,
   "metadata": {},
   "outputs": [
    {
     "data": {
      "text/plain": [
       "0"
      ]
     },
     "execution_count": 47,
     "metadata": {},
     "output_type": "execute_result"
    }
   ],
   "source": [
    "lista_vacia = []\n",
    "len(lista_vacia)"
   ]
  },
  {
   "cell_type": "code",
   "execution_count": 48,
   "metadata": {},
   "outputs": [
    {
     "name": "stdout",
     "output_type": "stream",
     "text": [
      "[42, 'un segundo item']\n",
      "2\n"
     ]
    }
   ],
   "source": [
    "lista_vacia.append(42)\n",
    "lista_vacia.append('un segundo item')\n",
    "print(lista_vacia)\n",
    "print(len(lista_vacia))"
   ]
  },
  {
   "cell_type": "markdown",
   "metadata": {},
   "source": [
    "Prueba qué pasa si corren nuevamente la celda anterior (justo arriba de ésta). Notar que el método `append()` no solamente trabaja en listas vacías.\n",
    "\n",
    "**Ejercicio**: Define una lista vacia llamada `lista_nueva` y agréguele (`append()`) los elementos `a`, `b` y `c`."
   ]
  },
  {
   "cell_type": "code",
   "execution_count": 50,
   "metadata": {},
   "outputs": [
    {
     "name": "stdout",
     "output_type": "stream",
     "text": [
      "[8, 'world', [12, 24.5, 66]]\n"
     ]
    }
   ],
   "source": [
    "# COMPLETAR\n",
    "a = 8\n",
    "b = 'world'\n",
    "c = [12,24.5,66]\n",
    "\n",
    "lista_nueva = []\n",
    "lista_nueva.append(a)\n",
    "lista_nueva.append(b)\n",
    "lista_nueva.append(c)\n",
    "print(lista_nueva)"
   ]
  },
  {
   "cell_type": "markdown",
   "metadata": {},
   "source": [
    "**CUIDADO:** a veces queremos copiar una lista, operar sobre ella y comparar los resultados con la lista original. Sin embargo, hay que tener cuidado cuando queremos copiar listas"
   ]
  },
  {
   "cell_type": "code",
   "execution_count": 51,
   "metadata": {},
   "outputs": [
    {
     "name": "stdout",
     "output_type": "stream",
     "text": [
      "[1, 2, 3, 100] [1, 2, 3, 100]\n"
     ]
    }
   ],
   "source": [
    "lista_1 = [1,2,3,4]\n",
    "lista_2 = lista_1  # lista_2 ahora es igual a lista_1\n",
    "lista_2[-1] = 100 # el ultimo elemento de la lista_2 ahora es 100\n",
    "print(lista_1, lista_2)"
   ]
  },
  {
   "cell_type": "markdown",
   "metadata": {},
   "source": [
    "¡Notar que se modificaron ambas listas! Esto, en general, no es lo deseado. Pero podemos hacerlo bien:"
   ]
  },
  {
   "cell_type": "code",
   "execution_count": 52,
   "metadata": {},
   "outputs": [
    {
     "name": "stdout",
     "output_type": "stream",
     "text": [
      "[1, 2, 3, 4] [1, 2, 3, 100]\n"
     ]
    }
   ],
   "source": [
    "lista_1 = [1,2,3,4]\n",
    "lista_2 = lista_1.copy() # Prestar atención aquí\n",
    "lista_2[-1] = 100\n",
    "print(lista_1, lista_2)"
   ]
  },
  {
   "cell_type": "markdown",
   "metadata": {},
   "source": [
    "¡Ahora no! Es decir, si queremos copiar listas, debemos poner `.copy()`. Esto no solo vale para listas, sino para objetos que veremos en los próximos encuentros, como arreglos de Numpy y dataframes de Pandas."
   ]
  },
  {
   "cell_type": "markdown",
   "metadata": {},
   "source": [
    "## 2.2 Loops\n",
    "\n",
    "En general, cuando estamos programando, queremos repetir una operación varias veces. Por ejemplo, aplicarle una operación a los elementos de una lista. Si la lista tiene muchos elementos, puede ser engorroso escribir la aplicación de esa operacíon a cada elemento uno por uno, por lo que necesitamos alguna estructura de código que facilite esa sintaxis. \n",
    "\n",
    "Los **Loops** (bucles) son estructuras de codigo fundamentales en cualquier lenguaje de programación. Consisten en bloques de código que se repiten una cierta cantidad de veces dada una condición. Existen dos formas básicas de crear loops, las instrucciones tipo `for` y las instrucciones tipo `while`. Te vamos a contar de qué se tratan los `for`, si te interesa pueden googlear cómo funcionan los `while`.\n",
    "\n",
    "El `for` es un loop en el que un bloque de código se repite tantas veces como elementos haya en una determinada lista. En cada iteración (repetición) hay una variable que va tomando el valor de uno de los elementos en esta lista. Veamos un ejemplo:"
   ]
  },
  {
   "cell_type": "code",
   "execution_count": 53,
   "metadata": {},
   "outputs": [
    {
     "name": "stdout",
     "output_type": "stream",
     "text": [
      "3\n",
      "55\n",
      "1\n",
      "876\n",
      "12\n"
     ]
    }
   ],
   "source": [
    "lista_numeros = [3,55,1,876,12]\n",
    "for elemento in lista_numeros:\n",
    "    # Definimos el codigo dentro del for mediante la indentación\n",
    "    # (Todo lo que este corrido un 'tab' a la derecha)\n",
    "    print(elemento)"
   ]
  },
  {
   "cell_type": "code",
   "execution_count": 56,
   "metadata": {},
   "outputs": [
    {
     "name": "stdout",
     "output_type": "stream",
     "text": [
      "0\n",
      "1\n",
      "2\n",
      "3\n",
      "4\n"
     ]
    }
   ],
   "source": [
    "# ejemplo de while\n",
    "i = 0\n",
    "while i < 5:\n",
    "    print(i)\n",
    "    i+=1"
   ]
  },
  {
   "cell_type": "markdown",
   "metadata": {},
   "source": [
    "Prestar particular atención a que el código que está \"dentro\" del `for` está **indentado**. En algunos lenguajes de programación la indentación se utiliza para ordenar el código, hacerlo más legible. En Python, en cambio, es **obligatorio**. Se logra con cuatro espacios o un tab.\n",
    "\n",
    "Repitamos los mismo que la celda anterior. pero ahora agregamos una variable `i` que cuenta la cantidad de veces que recorrimos el bucle `for` ."
   ]
  },
  {
   "cell_type": "code",
   "execution_count": 57,
   "metadata": {},
   "outputs": [
    {
     "name": "stdout",
     "output_type": "stream",
     "text": [
      "3 1\n",
      "55 2\n",
      "1 3\n",
      "876 4\n",
      "12 5\n"
     ]
    }
   ],
   "source": [
    "lista_numeros = [3,55,1,876,12]\n",
    "i = 0 # La iniciamos en cero\n",
    "\n",
    "for elemento in lista_numeros:    \n",
    "    i = i+1 # Le sumamos 1 cada vez que entra\n",
    "    print(elemento, i)"
   ]
  },
  {
   "cell_type": "markdown",
   "metadata": {},
   "source": [
    "Tomarte unos minutos para entender qué hace la línea `i = i + 1`."
   ]
  },
  {
   "cell_type": "markdown",
   "metadata": {},
   "source": [
    "También podemos recorrer listas de texto. Presten atencion al siguiente codigo, e intenten precedir el resultado antes de correr la celda."
   ]
  },
  {
   "cell_type": "code",
   "execution_count": 59,
   "metadata": {},
   "outputs": [
    {
     "name": "stdout",
     "output_type": "stream",
     "text": [
      "['Mi nombre es Ernesto', 'Mi nombre es Camilo', 'Mi nombre es Violeta']\n"
     ]
    }
   ],
   "source": [
    "lista_nombres = ['Ernesto', 'Camilo', 'Violeta']\n",
    "nueva_lista = []\n",
    "\n",
    "for item in lista_nombres:\n",
    "    oracion = 'Mi nombre es ' + item\n",
    "    nueva_lista.append(oracion)\n",
    "\n",
    "# Este print esta fuera del bucle, no está indentado\n",
    "print(nueva_lista)\n",
    "\n",
    "# imprimir cada nombre de lista_nombres, luego lo agrega a la nueva_lista y finalmente imprime nueva_lista \n",
    "# que sera identica a lista nombre -- error asigna oracion, no solo el nombre"
   ]
  },
  {
   "cell_type": "markdown",
   "metadata": {},
   "source": [
    "Terminamos las explicaciones por el momento. Sabemos que fue bastante y que probablemente estés cansado/a. Recomendamos tomarte un tiempo para descansar y, luego, intentar los siguientes ejercicios. Es MUY importante intentarlo, no importa si sientes que no terminan de resolverlos.\n",
    "\n",
    "Ejercitación\n",
    "En general, no hay una única forma de resolver los ejercicios que vamos a dejar. Lo que sí ocurre, a veces, es que hay formas más eficientes o prolijas. No debes preocuparte por eso ahora, lo importante es intentar resolverlos.\n",
    "\n",
    "Ejercicios 1 y 2: Si tenemos una lista de números, por ejemplo los primeros diez numeros naturales, e intentamos sumarle un número fijo a la lista, por ejemplo 3, tal vez intentemos algo parecido a lo siguiente:"
   ]
  },
  {
   "cell_type": "code",
   "execution_count": 60,
   "metadata": {},
   "outputs": [
    {
     "ename": "TypeError",
     "evalue": "can only concatenate list (not \"int\") to list",
     "output_type": "error",
     "traceback": [
      "\u001b[1;31m---------------------------------------------------------------------------\u001b[0m",
      "\u001b[1;31mTypeError\u001b[0m                                 Traceback (most recent call last)",
      "\u001b[1;32m<ipython-input-60-8b044cee7884>\u001b[0m in \u001b[0;36m<module>\u001b[1;34m\u001b[0m\n\u001b[0;32m      1\u001b[0m \u001b[0mnumeros\u001b[0m \u001b[1;33m=\u001b[0m \u001b[1;33m[\u001b[0m\u001b[1;36m0\u001b[0m\u001b[1;33m,\u001b[0m\u001b[1;36m1\u001b[0m\u001b[1;33m,\u001b[0m\u001b[1;36m2\u001b[0m\u001b[1;33m,\u001b[0m\u001b[1;36m3\u001b[0m\u001b[1;33m,\u001b[0m\u001b[1;36m4\u001b[0m\u001b[1;33m,\u001b[0m\u001b[1;36m5\u001b[0m\u001b[1;33m,\u001b[0m\u001b[1;36m6\u001b[0m\u001b[1;33m,\u001b[0m\u001b[1;36m7\u001b[0m\u001b[1;33m,\u001b[0m\u001b[1;36m8\u001b[0m\u001b[1;33m,\u001b[0m\u001b[1;36m9\u001b[0m\u001b[1;33m]\u001b[0m\u001b[1;33m\u001b[0m\u001b[1;33m\u001b[0m\u001b[0m\n\u001b[1;32m----> 2\u001b[1;33m \u001b[0mprint\u001b[0m\u001b[1;33m(\u001b[0m\u001b[0mnumeros\u001b[0m \u001b[1;33m+\u001b[0m \u001b[1;36m3\u001b[0m\u001b[1;33m)\u001b[0m\u001b[1;33m\u001b[0m\u001b[1;33m\u001b[0m\u001b[0m\n\u001b[0m",
      "\u001b[1;31mTypeError\u001b[0m: can only concatenate list (not \"int\") to list"
     ]
    }
   ],
   "source": [
    "numeros = [0,1,2,3,4,5,6,7,8,9]\n",
    "print(numeros + 3)"
   ]
  },
  {
   "cell_type": "markdown",
   "metadata": {},
   "source": [
    "¡Nos salta un error! (Notar que la opción de Googlear el error en Stack Overflow esta vez es más informativa.). Entonces, te proponemos que resuelvas los siguientes ejercicios:\n",
    "\n",
    "\n",
    "1. Crear una rutina que le sume tres a los diez primeros números naturales y vaya imprimiendo en pantalla a medida que lo hace.\n",
    "2. Crear una rutina que le sume tres a los diez primeros números naturales y guarde los resultados en una nueva lista. Al final, imprimir esa lista en pantalla.\n",
    "\n",
    "Si necesitas unas pistas, puedes clickear [aquí](https://colab.research.google.com/drive/1gfqynizt4gSsitlZELigCL1jIdlYkpmS), ¡pero te recomendamos que antes lo intentes!"
   ]
  },
  {
   "cell_type": "code",
   "execution_count": 33,
   "metadata": {},
   "outputs": [
    {
     "name": "stdout",
     "output_type": "stream",
     "text": [
      "3\n",
      "4\n",
      "5\n",
      "6\n",
      "7\n",
      "8\n",
      "9\n",
      "10\n",
      "11\n",
      "12\n"
     ]
    }
   ],
   "source": [
    "# COMPLETAR\n",
    "numeros = [0,1,2,3,4,5,6,7,8,9]\n",
    "for n in numeros:\n",
    "    n += 3\n",
    "    print(n)"
   ]
  },
  {
   "cell_type": "code",
   "execution_count": 63,
   "metadata": {},
   "outputs": [
    {
     "name": "stdout",
     "output_type": "stream",
     "text": [
      "[3, 4, 5, 6, 7, 8, 9, 10, 11, 12]\n"
     ]
    }
   ],
   "source": [
    "# COMPLETAR\n",
    "numeros_nueva_lista = []\n",
    "for n in numeros:\n",
    "    numeros_nueva_lista.append(n+3)\n",
    "print(numeros_nueva_lista)"
   ]
  },
  {
   "cell_type": "markdown",
   "metadata": {},
   "source": [
    "**Para investigar y pensar**: ¿qué ocurriría si, en lugar de querer sumarle un número a los diez primeros números naturales, quisiéramos hacerlo sobre los primeros cien?¿Y si fuera el primer millón de números naturales?¿La rutina que creaste es fácilmente adaptable? Investiga cómo podrías adaptarla. Pista: `range()`"
   ]
  },
  {
   "cell_type": "code",
   "execution_count": 65,
   "metadata": {},
   "outputs": [
    {
     "name": "stdout",
     "output_type": "stream",
     "text": [
      "[3, 4, 5, 6, 7, 8, 9, 10, 11, 12, 13, 14, 15, 16, 17, 18, 19, 20, 21, 22, 23, 24, 25, 26, 27, 28, 29, 30, 31, 32, 33, 34, 35, 36, 37, 38, 39, 40, 41, 42, 43, 44, 45, 46, 47, 48, 49, 50, 51, 52, 53, 54, 55, 56, 57, 58, 59, 60, 61, 62, 63, 64, 65, 66, 67, 68, 69, 70, 71, 72, 73, 74, 75, 76, 77, 78, 79, 80, 81, 82, 83, 84, 85, 86, 87, 88, 89, 90, 91, 92, 93, 94, 95, 96, 97, 98, 99, 100, 101, 102]\n"
     ]
    }
   ],
   "source": [
    "numeros_range_nueva_lista = []\n",
    "numeros_range = range(100)\n",
    "for n in numeros_range:\n",
    "    numeros_range_nueva_lista.append(n+3)\n",
    "print(numeros_range_nueva_lista)"
   ]
  },
  {
   "cell_type": "markdown",
   "metadata": {},
   "source": [
    "**Ejercicio 3**: Genere una lista llamada `numerotes` que contenga el cuadrado de cada elemento en la lista `numeritos`."
   ]
  },
  {
   "cell_type": "code",
   "execution_count": 66,
   "metadata": {},
   "outputs": [
    {
     "name": "stdout",
     "output_type": "stream",
     "text": [
      "[9, 1, 25, 49, 144, 100, 289, 16, 484]\n"
     ]
    }
   ],
   "source": [
    "numeritos = [3,1,5,7,12,10,17,4,22]\n",
    "numerotes = []\n",
    "# COMPLETAR\n",
    "for n in numeritos:\n",
    "    numerotes.append(n**2)\n",
    "print(numerotes)"
   ]
  },
  {
   "cell_type": "markdown",
   "metadata": {},
   "source": [
    "**Ejercicio 4:** estudiar qué ocurre si sumas,`+`, dos listas. ¿Cómo se llama esa operación?"
   ]
  },
  {
   "cell_type": "code",
   "execution_count": 67,
   "metadata": {},
   "outputs": [
    {
     "data": {
      "text/plain": [
       "[1, 5, -8, 3, True, 'Cocodrilo que se duerme es cartera', 9, -17, 98, False]"
      ]
     },
     "execution_count": 67,
     "metadata": {},
     "output_type": "execute_result"
    }
   ],
   "source": [
    "lista_1 = [1,5,-8,3]\n",
    "lista_2 = [True, 'Cocodrilo que se duerme es cartera', 9, -17, 98, False]\n",
    "# COMPLETAR\n",
    "lista_1 + lista_2 # concatena las dos listas"
   ]
  },
  {
   "cell_type": "markdown",
   "metadata": {},
   "source": [
    "La operación se llama concatenación. En este caso, de listas."
   ]
  },
  {
   "cell_type": "markdown",
   "metadata": {},
   "source": [
    "**Ejercicio 5:** sumar todos los elementos de la siguiente lista. **Pistas:**\n",
    "* En un ejemplo anterior definimos una variable `i`, inicializada en cero, que fuimos modificando en cada paso de un `for`. Considerar la opción de definir una variable `suma` y utilizarla de forma parecida."
   ]
  },
  {
   "cell_type": "code",
   "execution_count": 68,
   "metadata": {},
   "outputs": [
    {
     "name": "stdout",
     "output_type": "stream",
     "text": [
      "-8\n"
     ]
    }
   ],
   "source": [
    "numeros = [4,8,3,1,-3,3,-5,1,2,-8]\n",
    "# COMPLETAR\n",
    "suma = 0\n",
    "for n in numeros:\n",
    "    suma += n\n",
    "print(n)\n",
    "\n"
   ]
  },
  {
   "cell_type": "markdown",
   "metadata": {},
   "source": [
    "# Tuplas"
   ]
  },
  {
   "cell_type": "markdown",
   "metadata": {},
   "source": [
    "### \"Las tuplas son inmutables, y generalmente contienen una secuencia heterogénea ...\"."
   ]
  },
  {
   "cell_type": "code",
   "execution_count": 12,
   "metadata": {},
   "outputs": [
    {
     "data": {
      "text/plain": [
       "(tuple, 5)"
      ]
     },
     "execution_count": 12,
     "metadata": {},
     "output_type": "execute_result"
    }
   ],
   "source": [
    "a = (1,2,3,4,5)\n",
    "type(a), len(a)"
   ]
  },
  {
   "cell_type": "code",
   "execution_count": 13,
   "metadata": {},
   "outputs": [
    {
     "name": "stdout",
     "output_type": "stream",
     "text": [
      "1\n",
      "2\n",
      "3\n",
      "4\n",
      "5\n"
     ]
    }
   ],
   "source": [
    "for i in a:\n",
    "    print(i)"
   ]
  },
  {
   "cell_type": "code",
   "execution_count": 14,
   "metadata": {},
   "outputs": [
    {
     "data": {
      "text/plain": [
       "(tuple, 2)"
      ]
     },
     "execution_count": 14,
     "metadata": {},
     "output_type": "execute_result"
    }
   ],
   "source": [
    "b = ( (1,2), (3,4) )\n",
    "type(b), len(b)"
   ]
  },
  {
   "cell_type": "code",
   "execution_count": 15,
   "metadata": {},
   "outputs": [
    {
     "name": "stdout",
     "output_type": "stream",
     "text": [
      "(1, 2)\n",
      "(3, 4)\n"
     ]
    }
   ],
   "source": [
    "for i in b:\n",
    "    print(i)"
   ]
  },
  {
   "cell_type": "code",
   "execution_count": 20,
   "metadata": {},
   "outputs": [
    {
     "ename": "KeyboardInterrupt",
     "evalue": "",
     "output_type": "error",
     "traceback": [
      "\u001b[1;31m---------------------------------------------------------------------------\u001b[0m",
      "\u001b[1;31mKeyboardInterrupt\u001b[0m                         Traceback (most recent call last)",
      "\u001b[1;32m<ipython-input-20-b5d2e069bff6>\u001b[0m in \u001b[0;36m<module>\u001b[1;34m\u001b[0m\n\u001b[0;32m      1\u001b[0m \u001b[0ma\u001b[0m \u001b[1;33m=\u001b[0m \u001b[1;33m[\u001b[0m\u001b[1;36m1\u001b[0m\u001b[1;33m,\u001b[0m\u001b[1;36m2\u001b[0m\u001b[1;33m,\u001b[0m\u001b[1;36m3\u001b[0m\u001b[1;33m]\u001b[0m\u001b[1;33m\u001b[0m\u001b[1;33m\u001b[0m\u001b[0m\n\u001b[0;32m      2\u001b[0m \u001b[1;32mfor\u001b[0m \u001b[0mi\u001b[0m \u001b[1;32min\u001b[0m \u001b[0ma\u001b[0m\u001b[1;33m:\u001b[0m\u001b[1;33m\u001b[0m\u001b[1;33m\u001b[0m\u001b[0m\n\u001b[1;32m----> 3\u001b[1;33m     \u001b[0ma\u001b[0m\u001b[1;33m.\u001b[0m\u001b[0mappend\u001b[0m\u001b[1;33m(\u001b[0m\u001b[0mi\u001b[0m\u001b[1;33m)\u001b[0m\u001b[1;33m\u001b[0m\u001b[1;33m\u001b[0m\u001b[0m\n\u001b[0m\u001b[0;32m      4\u001b[0m \u001b[1;33m\u001b[0m\u001b[0m\n",
      "\u001b[1;31mKeyboardInterrupt\u001b[0m: "
     ]
    }
   ],
   "source": [
    "a = [1,2,3]\n",
    "for i in a:\n",
    "    a.append(i)\n",
    "    "
   ]
  },
  {
   "cell_type": "code",
   "execution_count": 25,
   "metadata": {},
   "outputs": [
    {
     "data": {
      "text/plain": [
       "[3, 4, (1, 2)]"
      ]
     },
     "execution_count": 25,
     "metadata": {},
     "output_type": "execute_result"
    }
   ],
   "source": [
    "t = (1,2)\n",
    "l = [3,4]\n",
    "l.append(t)\n",
    "l"
   ]
  },
  {
   "cell_type": "code",
   "execution_count": 29,
   "metadata": {},
   "outputs": [
    {
     "data": {
      "text/plain": [
       "(0.3333333333333333, 1)"
      ]
     },
     "execution_count": 29,
     "metadata": {},
     "output_type": "execute_result"
    }
   ],
   "source": [
    "1 / 3, 1 % 3"
   ]
  },
  {
   "cell_type": "code",
   "execution_count": null,
   "metadata": {},
   "outputs": [],
   "source": []
  }
 ],
 "metadata": {
  "kernelspec": {
   "display_name": "Python 3",
   "language": "python",
   "name": "python3"
  },
  "language_info": {
   "codemirror_mode": {
    "name": "ipython",
    "version": 3
   },
   "file_extension": ".py",
   "mimetype": "text/x-python",
   "name": "python",
   "nbconvert_exporter": "python",
   "pygments_lexer": "ipython3",
   "version": "3.7.8"
  }
 },
 "nbformat": 4,
 "nbformat_minor": 4
}
