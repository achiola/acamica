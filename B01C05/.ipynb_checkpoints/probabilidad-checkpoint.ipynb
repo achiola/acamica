{
 "cells": [
  {
   "cell_type": "markdown",
   "metadata": {},
   "source": [
    "# Probabilidad"
   ]
  },
  {
   "cell_type": "markdown",
   "metadata": {},
   "source": [
    "### Probabilidad de una moneda"
   ]
  },
  {
   "cell_type": "markdown",
   "metadata": {},
   "source": [
    "p(s)\n",
    "donde s = 6 caras de los datos"
   ]
  },
  {
   "cell_type": "code",
   "execution_count": 90,
   "metadata": {},
   "outputs": [],
   "source": [
    "esperado = (1 / 6) * 100"
   ]
  },
  {
   "cell_type": "markdown",
   "metadata": {},
   "source": [
    "p(s = c1) + p(s = c2) + p(s = c3) + + p(s = c4) + p(s = c5) + p(s = c6) =\n",
    "\n",
    "0.1666666 + 0.1666666 + 0.1666666 + 0.1666666 + 0.1666666 + 0.1666666 = 1\n",
    "\n",
    "o sea que la cada cada tiene una probabilidad del 16.6%"
   ]
  },
  {
   "cell_type": "code",
   "execution_count": 30,
   "metadata": {},
   "outputs": [],
   "source": [
    "import numpy as np\n",
    "import matplotlib.pyplot as plt\n",
    "%matplotlib inline"
   ]
  },
  {
   "cell_type": "code",
   "execution_count": 92,
   "metadata": {},
   "outputs": [],
   "source": [
    "numero_de_experimientos =  1000000\n",
    "tiradas = np.random.choice(range(1,7),size=numero_de_experimientos)\n"
   ]
  },
  {
   "cell_type": "code",
   "execution_count": 93,
   "metadata": {},
   "outputs": [
    {
     "data": {
      "text/plain": [
       "(array([1, 2, 3, 4, 5, 6]),\n",
       " array([166858, 166558, 166941, 167012, 166275, 166356], dtype=int64))"
      ]
     },
     "execution_count": 93,
     "metadata": {},
     "output_type": "execute_result"
    }
   ],
   "source": [
    "tiradas_resumen = np.unique(tiradas, return_counts=True)\n",
    "tiradas_resumen"
   ]
  },
  {
   "cell_type": "code",
   "execution_count": 94,
   "metadata": {},
   "outputs": [
    {
     "data": {
      "text/plain": [
       "(array([1, 2, 3, 4, 5, 6]),\n",
       " array([166858, 166558, 166941, 167012, 166275, 166356], dtype=int64))"
      ]
     },
     "execution_count": 94,
     "metadata": {},
     "output_type": "execute_result"
    }
   ],
   "source": [
    "tiradas_resumen[0], tiradas_resumen[1]"
   ]
  },
  {
   "cell_type": "code",
   "execution_count": 104,
   "metadata": {},
   "outputs": [
    {
     "data": {
      "image/png": "[encoded data removed]",
      "text/plain": [
       "<Figure size 720x288 with 1 Axes>"
      ]
     },
     "metadata": {
      "needs_background": "light"
     },
     "output_type": "display_data"
    }
   ],
   "source": [
    "plt.figure(figsize=(10,4))\n",
    "plt.bar(tiradas_resumen[0],height=((tiradas_resumen[1]/numero_de_experimientos)*100))\n",
    "plt.plot([1,6], [esperado,esperado],'k--', color='r',linewidth=2, label = 'Distribución Teórica')\n",
    "plt.legend()\n",
    "plt.show()"
   ]
  },
  {
   "cell_type": "code",
   "execution_count": 105,
   "metadata": {},
   "outputs": [
    {
     "data": {
      "image/png": "[encoded data removed]",
      "text/plain": [
       "<Figure size 720x288 with 1 Axes>"
      ]
     },
     "metadata": {
      "needs_background": "light"
     },
     "output_type": "display_data"
    }
   ],
   "source": [
    "## Ahora lo mismo, pero con dados cargados\n",
    "numero_de_experimientos =  1000000\n",
    "tiradas = np.random.choice(range(1,7),size=numero_de_experimientos,p=[0.1,0.1,0.1,0.1,0.1,0.5])\n",
    "tiradas_resumen = np.unique(tiradas, return_counts=True)\n",
    "plt.figure(figsize=(10,4))\n",
    "plt.bar(tiradas_resumen[0],height=((tiradas_resumen[1]/numero_de_experimientos)*100))\n",
    "plt.plot([1,6], [esperado,esperado],'k--', color='r',linewidth=2, label = 'Distribución Teórica')\n",
    "plt.legend()\n",
    "plt.show()"
   ]
  },
  {
   "cell_type": "code",
   "execution_count": null,
   "metadata": {},
   "outputs": [],
   "source": []
  }
 ],
 "metadata": {
  "kernelspec": {
   "display_name": "Python 3",
   "language": "python",
   "name": "python3"
  },
  "language_info": {
   "codemirror_mode": {
    "name": "ipython",
    "version": 3
   },
   "file_extension": ".py",
   "mimetype": "text/x-python",
   "name": "python",
   "nbconvert_exporter": "python",
   "pygments_lexer": "ipython3",
   "version": "3.7.8"
  }
 },
 "nbformat": 4,
 "nbformat_minor": 4
}
