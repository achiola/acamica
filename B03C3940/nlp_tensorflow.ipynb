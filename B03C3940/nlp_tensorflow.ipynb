{
 "cells": [
  {
   "cell_type": "code",
   "execution_count": 3,
   "metadata": {},
   "outputs": [
    {
     "name": "stdout",
     "output_type": "stream",
     "text": [
      "Version:  2.4.0\n",
      "Eager mode:  True\n",
      "Hub version:  0.11.0\n",
      "GPU is NOT AVAILABLE\n"
     ]
    }
   ],
   "source": [
    "import numpy as np\n",
    "\n",
    "import tensorflow as tf\n",
    "import tensorflow_hub as hub\n",
    "import tensorflow_datasets as tfds\n",
    "\n",
    "import matplotlib.pyplot as plt\n",
    "\n",
    "print(\"Version: \", tf.__version__)\n",
    "print(\"Eager mode: \", tf.executing_eagerly())\n",
    "print(\"Hub version: \", hub.__version__)\n",
    "print(\"GPU is\", \"available\" if tf.config.list_physical_devices('GPU') else \"NOT AVAILABLE\")"
   ]
  },
  {
   "cell_type": "code",
   "execution_count": 4,
   "metadata": {},
   "outputs": [
    {
     "name": "stdout",
     "output_type": "stream",
     "text": [
      "\u001b[1mDownloading and preparing dataset Unknown size (download: Unknown size, generated: Unknown size, total: Unknown size) to C:\\Users\\achiola\\tensorflow_datasets\\imdb_reviews\\plain_text\\1.0.0...\u001b[0m\n"
     ]
    },
    {
     "data": {
      "application/vnd.jupyter.widget-view+json": {
       "model_id": "5a1e458c81bf4150bea68be22a12491b",
       "version_major": 2,
       "version_minor": 0
      },
      "text/plain": [
       "HBox(children=(FloatProgress(value=1.0, bar_style='info', description='Dl Completed...', layout=Layout(width='…"
      ]
     },
     "metadata": {},
     "output_type": "display_data"
    },
    {
     "data": {
      "application/vnd.jupyter.widget-view+json": {
       "model_id": "e1107a5dd37740118c29f79b8e70958a",
       "version_major": 2,
       "version_minor": 0
      },
      "text/plain": [
       "HBox(children=(FloatProgress(value=1.0, bar_style='info', description='Dl Size...', layout=Layout(width='20px'…"
      ]
     },
     "metadata": {},
     "output_type": "display_data"
    },
    {
     "name": "stdout",
     "output_type": "stream",
     "text": [
      "\n",
      "\n",
      "\n",
      "\n"
     ]
    },
    {
     "data": {
      "application/vnd.jupyter.widget-view+json": {
       "model_id": "065cdd49ef3b48feae739f2ccc74777f",
       "version_major": 2,
       "version_minor": 0
      },
      "text/plain": [
       "HBox(children=(FloatProgress(value=0.0, description='Generating splits...', max=3.0, style=ProgressStyle(descr…"
      ]
     },
     "metadata": {},
     "output_type": "display_data"
    },
    {
     "data": {
      "application/vnd.jupyter.widget-view+json": {
       "model_id": "149611a265aa4d2a944da50b7d9e67d2",
       "version_major": 2,
       "version_minor": 0
      },
      "text/plain": [
       "HBox(children=(FloatProgress(value=1.0, bar_style='info', description='Generating train examples...', layout=L…"
      ]
     },
     "metadata": {},
     "output_type": "display_data"
    },
    {
     "data": {
      "application/vnd.jupyter.widget-view+json": {
       "model_id": "8de6ca659f5b482f8ecf34b7f7da9383",
       "version_major": 2,
       "version_minor": 0
      },
      "text/plain": [
       "HBox(children=(FloatProgress(value=0.0, description='Shuffling imdb_reviews-train.tfrecord...', max=25000.0, s…"
      ]
     },
     "metadata": {},
     "output_type": "display_data"
    },
    {
     "data": {
      "application/vnd.jupyter.widget-view+json": {
       "model_id": "c0c51628a3594ba4a619208217c96138",
       "version_major": 2,
       "version_minor": 0
      },
      "text/plain": [
       "HBox(children=(FloatProgress(value=1.0, bar_style='info', description='Generating test examples...', layout=La…"
      ]
     },
     "metadata": {},
     "output_type": "display_data"
    },
    {
     "data": {
      "application/vnd.jupyter.widget-view+json": {
       "model_id": "c15f4c74d04f4a64ab4d231e15df8fd2",
       "version_major": 2,
       "version_minor": 0
      },
      "text/plain": [
       "HBox(children=(FloatProgress(value=0.0, description='Shuffling imdb_reviews-test.tfrecord...', max=25000.0, st…"
      ]
     },
     "metadata": {},
     "output_type": "display_data"
    },
    {
     "data": {
      "application/vnd.jupyter.widget-view+json": {
       "model_id": "67c7a81930f94a0d831f529906b1e360",
       "version_major": 2,
       "version_minor": 0
      },
      "text/plain": [
       "HBox(children=(FloatProgress(value=1.0, bar_style='info', description='Generating unsupervised examples...', l…"
      ]
     },
     "metadata": {},
     "output_type": "display_data"
    },
    {
     "data": {
      "application/vnd.jupyter.widget-view+json": {
       "model_id": "c8e9cdf5ac164723b0bddae87602da04",
       "version_major": 2,
       "version_minor": 0
      },
      "text/plain": [
       "HBox(children=(FloatProgress(value=0.0, description='Shuffling imdb_reviews-unsupervised.tfrecord...', max=500…"
      ]
     },
     "metadata": {},
     "output_type": "display_data"
    },
    {
     "name": "stdout",
     "output_type": "stream",
     "text": [
      "\u001b[1mDataset imdb_reviews downloaded and prepared to C:\\Users\\achiola\\tensorflow_datasets\\imdb_reviews\\plain_text\\1.0.0. Subsequent calls will reuse this data.\u001b[0m\n"
     ]
    }
   ],
   "source": [
    "train_data, test_data = tfds.load(name=\"imdb_reviews\", split=[\"train\", \"test\"], \n",
    "                                  batch_size=-1, as_supervised=True)\n",
    "\n",
    "train_examples, train_labels = tfds.as_numpy(train_data)\n",
    "test_examples, test_labels = tfds.as_numpy(test_data)"
   ]
  },
  {
   "cell_type": "code",
   "execution_count": 5,
   "metadata": {},
   "outputs": [
    {
     "name": "stdout",
     "output_type": "stream",
     "text": [
      "Training entries: 25000, test entries: 25000\n"
     ]
    }
   ],
   "source": [
    "print(\"Training entries: {}, test entries: {}\".format(len(train_examples), len(test_examples)))"
   ]
  },
  {
   "cell_type": "code",
   "execution_count": 7,
   "metadata": {},
   "outputs": [
    {
     "data": {
      "text/plain": [
       "array([b\"This was an absolutely terrible movie. Don't be lured in by Christopher Walken or Michael Ironside. Both are great actors, but this must simply be their worst role in history. Even their great acting could not redeem this movie's ridiculous storyline. This movie is an early nineties US propaganda piece. The most pathetic scenes were those when the Columbian rebels were making their cases for revolutions. Maria Conchita Alonso appeared phony, and her pseudo-love affair with Walken was nothing but a pathetic emotional plug in a movie that was devoid of any real meaning. I am disappointed that there are movies like this, ruining actor's like Christopher Walken's good name. I could barely sit through it.\"],\n",
       "      dtype=object)"
      ]
     },
     "execution_count": 7,
     "metadata": {},
     "output_type": "execute_result"
    }
   ],
   "source": [
    "train_examples[:1]"
   ]
  },
  {
   "cell_type": "code",
   "execution_count": 8,
   "metadata": {},
   "outputs": [
    {
     "data": {
      "text/plain": [
       "array([0, 0, 0, 1, 1, 1, 0, 0, 0, 0], dtype=int64)"
      ]
     },
     "execution_count": 8,
     "metadata": {},
     "output_type": "execute_result"
    }
   ],
   "source": [
    "train_labels[:10]"
   ]
  },
  {
   "cell_type": "code",
   "execution_count": 10,
   "metadata": {},
   "outputs": [
    {
     "data": {
      "text/plain": [
       "<tf.Tensor: shape=(3, 50), dtype=float32, numpy=\n",
       "array([[ 0.5423195 , -0.0119017 ,  0.06337538,  0.06862972, -0.16776837,\n",
       "        -0.10581174,  0.16865303, -0.04998824, -0.31148055,  0.07910346,\n",
       "         0.15442263,  0.01488662,  0.03930153,  0.19772711, -0.12215476,\n",
       "        -0.04120981, -0.2704109 , -0.21922152,  0.26517662, -0.80739075,\n",
       "         0.25833532, -0.3100421 ,  0.28683215,  0.1943387 , -0.29036492,\n",
       "         0.03862849, -0.7844411 , -0.0479324 ,  0.4110299 , -0.36388892,\n",
       "        -0.58034706,  0.30269456,  0.3630897 , -0.15227164, -0.44391504,\n",
       "         0.19462997,  0.19528408,  0.05666234,  0.2890704 , -0.28468323,\n",
       "        -0.00531206,  0.0571938 , -0.3201318 , -0.04418665, -0.08550783,\n",
       "        -0.55847436, -0.23336391, -0.20782952, -0.03543064, -0.17533456],\n",
       "       [ 0.56338924, -0.12339553, -0.10862679,  0.7753425 , -0.07667089,\n",
       "        -0.15752277,  0.01872335, -0.08169781, -0.3521876 ,  0.4637341 ,\n",
       "        -0.08492756,  0.07166859, -0.00670817,  0.12686075, -0.19326553,\n",
       "        -0.52626437, -0.3295823 ,  0.14394785,  0.09043556, -0.5417555 ,\n",
       "         0.02468163, -0.15456742,  0.68333143,  0.09068331, -0.45327246,\n",
       "         0.23180096, -0.8615696 ,  0.34480393,  0.12838456, -0.58759046,\n",
       "        -0.4071231 ,  0.23061076,  0.48426893, -0.27128142, -0.5380916 ,\n",
       "         0.47016326,  0.22572741, -0.00830663,  0.2846242 , -0.304985  ,\n",
       "         0.04400365,  0.25025874,  0.14867121,  0.40717036, -0.15422426,\n",
       "        -0.06878027, -0.40825695, -0.3149215 ,  0.09283665, -0.20183425],\n",
       "       [ 0.7456154 ,  0.21256861,  0.14400336,  0.5233862 ,  0.11032254,\n",
       "         0.00902788, -0.3667802 , -0.08938274, -0.24165542,  0.33384594,\n",
       "        -0.11194605, -0.01460047, -0.0071645 ,  0.19562712,  0.00685216,\n",
       "        -0.24886718, -0.42796347,  0.18620004, -0.05241098, -0.66462487,\n",
       "         0.13449019, -0.22205497,  0.08633006,  0.43685386,  0.2972681 ,\n",
       "         0.36140734, -0.7196889 ,  0.05291241, -0.14316116, -0.1573394 ,\n",
       "        -0.15056328, -0.05988009, -0.08178931, -0.15569411, -0.09303783,\n",
       "        -0.18971172,  0.07620788, -0.02541647, -0.27134508, -0.3392682 ,\n",
       "        -0.10296468, -0.27275252, -0.34078008,  0.20083304, -0.26644835,\n",
       "         0.00655449, -0.05141488, -0.04261917, -0.45413622,  0.20023568]],\n",
       "      dtype=float32)>"
      ]
     },
     "execution_count": 10,
     "metadata": {},
     "output_type": "execute_result"
    }
   ],
   "source": [
    "model = \"https://tfhub.dev/google/nnlm-en-dim50/2\"\n",
    "hub_layer = hub.KerasLayer(model, input_shape=[], dtype=tf.string, trainable=True)\n",
    "hub_layer(train_examples[:3])"
   ]
  },
  {
   "cell_type": "code",
   "execution_count": 11,
   "metadata": {},
   "outputs": [
    {
     "name": "stdout",
     "output_type": "stream",
     "text": [
      "Model: \"sequential\"\n",
      "_________________________________________________________________\n",
      "Layer (type)                 Output Shape              Param #   \n",
      "=================================================================\n",
      "keras_layer (KerasLayer)     (None, 50)                48190600  \n",
      "_________________________________________________________________\n",
      "dense (Dense)                (None, 16)                816       \n",
      "_________________________________________________________________\n",
      "dense_1 (Dense)              (None, 1)                 17        \n",
      "=================================================================\n",
      "Total params: 48,191,433\n",
      "Trainable params: 48,191,433\n",
      "Non-trainable params: 0\n",
      "_________________________________________________________________\n"
     ]
    }
   ],
   "source": [
    "model = tf.keras.Sequential()\n",
    "model.add(hub_layer)\n",
    "model.add(tf.keras.layers.Dense(16, activation='relu'))\n",
    "model.add(tf.keras.layers.Dense(1))\n",
    "\n",
    "model.summary()"
   ]
  },
  {
   "cell_type": "code",
   "execution_count": 12,
   "metadata": {},
   "outputs": [],
   "source": [
    "model.compile(optimizer='adam',\n",
    "              loss=tf.losses.BinaryCrossentropy(from_logits=True),\n",
    "              metrics=[tf.metrics.BinaryAccuracy(threshold=0.0, name='accuracy')])"
   ]
  },
  {
   "cell_type": "code",
   "execution_count": 13,
   "metadata": {},
   "outputs": [],
   "source": [
    "x_val = train_examples[:10000]\n",
    "partial_x_train = train_examples[10000:]\n",
    "\n",
    "y_val = train_labels[:10000]\n",
    "partial_y_train = train_labels[10000:]"
   ]
  },
  {
   "cell_type": "code",
   "execution_count": 14,
   "metadata": {},
   "outputs": [
    {
     "name": "stdout",
     "output_type": "stream",
     "text": [
      "Epoch 1/40\n",
      "30/30 [==============================] - 32s 1s/step - loss: 0.6780 - accuracy: 0.5882 - val_loss: 0.6096 - val_accuracy: 0.7346\n",
      "Epoch 2/40\n",
      "30/30 [==============================] - 31s 1s/step - loss: 0.5741 - accuracy: 0.7782 - val_loss: 0.5117 - val_accuracy: 0.7984\n",
      "Epoch 3/40\n",
      "30/30 [==============================] - 31s 1s/step - loss: 0.4562 - accuracy: 0.8412 - val_loss: 0.4107 - val_accuracy: 0.8359\n",
      "Epoch 4/40\n",
      "30/30 [==============================] - 31s 1s/step - loss: 0.3306 - accuracy: 0.8910 - val_loss: 0.3474 - val_accuracy: 0.8552\n",
      "Epoch 5/40\n",
      "30/30 [==============================] - 31s 1s/step - loss: 0.2343 - accuracy: 0.9256 - val_loss: 0.3186 - val_accuracy: 0.8639\n",
      "Epoch 6/40\n",
      "30/30 [==============================] - 31s 1s/step - loss: 0.1762 - accuracy: 0.9471 - val_loss: 0.3030 - val_accuracy: 0.8737\n",
      "Epoch 7/40\n",
      "30/30 [==============================] - 31s 1s/step - loss: 0.1302 - accuracy: 0.9637 - val_loss: 0.3000 - val_accuracy: 0.8752\n",
      "Epoch 8/40\n",
      "30/30 [==============================] - 31s 1s/step - loss: 0.0925 - accuracy: 0.9822 - val_loss: 0.3028 - val_accuracy: 0.8759\n",
      "Epoch 9/40\n",
      "30/30 [==============================] - 31s 1s/step - loss: 0.0690 - accuracy: 0.9893 - val_loss: 0.3090 - val_accuracy: 0.8746\n",
      "Epoch 10/40\n",
      "30/30 [==============================] - 40s 1s/step - loss: 0.0490 - accuracy: 0.9942 - val_loss: 0.3186 - val_accuracy: 0.8743\n",
      "Epoch 11/40\n",
      "30/30 [==============================] - 31s 1s/step - loss: 0.0346 - accuracy: 0.9972 - val_loss: 0.3302 - val_accuracy: 0.8724\n",
      "Epoch 12/40\n",
      "30/30 [==============================] - 31s 1s/step - loss: 0.0257 - accuracy: 0.9992 - val_loss: 0.3410 - val_accuracy: 0.8723\n",
      "Epoch 13/40\n",
      "30/30 [==============================] - 31s 1s/step - loss: 0.0206 - accuracy: 0.9991 - val_loss: 0.3540 - val_accuracy: 0.8717\n",
      "Epoch 14/40\n",
      "30/30 [==============================] - 33s 1s/step - loss: 0.0156 - accuracy: 0.9995 - val_loss: 0.3641 - val_accuracy: 0.8706\n",
      "Epoch 15/40\n",
      "30/30 [==============================] - 37s 1s/step - loss: 0.0119 - accuracy: 0.9999 - val_loss: 0.3744 - val_accuracy: 0.8697\n",
      "Epoch 16/40\n",
      "30/30 [==============================] - 40s 1s/step - loss: 0.0098 - accuracy: 0.9999 - val_loss: 0.3838 - val_accuracy: 0.8702\n",
      "Epoch 17/40\n",
      "30/30 [==============================] - 32s 1s/step - loss: 0.0080 - accuracy: 1.0000 - val_loss: 0.3935 - val_accuracy: 0.8686\n",
      "Epoch 18/40\n",
      "30/30 [==============================] - 32s 1s/step - loss: 0.0067 - accuracy: 0.9998 - val_loss: 0.4022 - val_accuracy: 0.8687\n",
      "Epoch 19/40\n",
      "30/30 [==============================] - 32s 1s/step - loss: 0.0056 - accuracy: 1.0000 - val_loss: 0.4121 - val_accuracy: 0.8689\n",
      "Epoch 20/40\n",
      "30/30 [==============================] - 35s 1s/step - loss: 0.0047 - accuracy: 1.0000 - val_loss: 0.4187 - val_accuracy: 0.8687\n",
      "Epoch 21/40\n",
      "30/30 [==============================] - 32s 1s/step - loss: 0.0042 - accuracy: 1.0000 - val_loss: 0.4262 - val_accuracy: 0.8687\n",
      "Epoch 22/40\n",
      "30/30 [==============================] - 31s 1s/step - loss: 0.0035 - accuracy: 1.0000 - val_loss: 0.4336 - val_accuracy: 0.8673\n",
      "Epoch 23/40\n",
      "30/30 [==============================] - 31s 1s/step - loss: 0.0031 - accuracy: 1.0000 - val_loss: 0.4400 - val_accuracy: 0.8679\n",
      "Epoch 24/40\n",
      "30/30 [==============================] - 31s 1s/step - loss: 0.0028 - accuracy: 1.0000 - val_loss: 0.4464 - val_accuracy: 0.8673\n",
      "Epoch 25/40\n",
      "30/30 [==============================] - 31s 1s/step - loss: 0.0025 - accuracy: 1.0000 - val_loss: 0.4528 - val_accuracy: 0.8676\n",
      "Epoch 26/40\n",
      "30/30 [==============================] - 38s 1s/step - loss: 0.0022 - accuracy: 1.0000 - val_loss: 0.4589 - val_accuracy: 0.8677\n",
      "Epoch 27/40\n",
      "30/30 [==============================] - 31s 1s/step - loss: 0.0020 - accuracy: 1.0000 - val_loss: 0.4644 - val_accuracy: 0.8676\n",
      "Epoch 28/40\n",
      "30/30 [==============================] - 33s 1s/step - loss: 0.0018 - accuracy: 1.0000 - val_loss: 0.4700 - val_accuracy: 0.8675\n",
      "Epoch 29/40\n",
      "30/30 [==============================] - 31s 1s/step - loss: 0.0017 - accuracy: 1.0000 - val_loss: 0.4748 - val_accuracy: 0.8665\n",
      "Epoch 30/40\n",
      "30/30 [==============================] - 31s 1s/step - loss: 0.0015 - accuracy: 1.0000 - val_loss: 0.4798 - val_accuracy: 0.8671\n",
      "Epoch 31/40\n",
      "30/30 [==============================] - 32s 1s/step - loss: 0.0014 - accuracy: 1.0000 - val_loss: 0.4847 - val_accuracy: 0.8670\n",
      "Epoch 32/40\n",
      "30/30 [==============================] - 31s 1s/step - loss: 0.0013 - accuracy: 1.0000 - val_loss: 0.4896 - val_accuracy: 0.8664\n",
      "Epoch 33/40\n",
      "30/30 [==============================] - 34s 1s/step - loss: 0.0012 - accuracy: 1.0000 - val_loss: 0.4942 - val_accuracy: 0.8665\n",
      "Epoch 34/40\n",
      "30/30 [==============================] - 37s 1s/step - loss: 0.0011 - accuracy: 1.0000 - val_loss: 0.4986 - val_accuracy: 0.8662\n",
      "Epoch 35/40\n",
      "30/30 [==============================] - 41s 1s/step - loss: 0.0010 - accuracy: 1.0000 - val_loss: 0.5031 - val_accuracy: 0.8658\n",
      "Epoch 36/40\n",
      "30/30 [==============================] - 31s 1s/step - loss: 9.5937e-04 - accuracy: 1.0000 - val_loss: 0.5067 - val_accuracy: 0.8663\n",
      "Epoch 37/40\n",
      "30/30 [==============================] - 32s 1s/step - loss: 8.8852e-04 - accuracy: 1.0000 - val_loss: 0.5110 - val_accuracy: 0.8659\n",
      "Epoch 38/40\n",
      "30/30 [==============================] - 31s 1s/step - loss: 8.2533e-04 - accuracy: 1.0000 - val_loss: 0.5147 - val_accuracy: 0.8659\n",
      "Epoch 39/40\n",
      "30/30 [==============================] - 31s 1s/step - loss: 7.5610e-04 - accuracy: 1.0000 - val_loss: 0.5188 - val_accuracy: 0.8659\n",
      "Epoch 40/40\n",
      "30/30 [==============================] - 31s 1s/step - loss: 7.1975e-04 - accuracy: 1.0000 - val_loss: 0.5224 - val_accuracy: 0.8655\n"
     ]
    }
   ],
   "source": [
    "history = model.fit(partial_x_train,\n",
    "                    partial_y_train,\n",
    "                    epochs=40,\n",
    "                    batch_size=512,\n",
    "                    validation_data=(x_val, y_val),\n",
    "                    verbose=1)"
   ]
  },
  {
   "cell_type": "code",
   "execution_count": 15,
   "metadata": {},
   "outputs": [
    {
     "name": "stdout",
     "output_type": "stream",
     "text": [
      "782/782 [==============================] - 3s 4ms/step - loss: 0.5986 - accuracy: 0.8473\n",
      "[0.5986030697822571, 0.8472800254821777]\n"
     ]
    }
   ],
   "source": [
    "results = model.evaluate(test_data, test_labels)\n",
    "\n",
    "print(results)"
   ]
  },
  {
   "cell_type": "code",
   "execution_count": 16,
   "metadata": {},
   "outputs": [
    {
     "data": {
      "text/plain": [
       "dict_keys(['loss', 'accuracy', 'val_loss', 'val_accuracy'])"
      ]
     },
     "execution_count": 16,
     "metadata": {},
     "output_type": "execute_result"
    }
   ],
   "source": [
    "history_dict = history.history\n",
    "history_dict.keys()"
   ]
  },
  {
   "cell_type": "code",
   "execution_count": 17,
   "metadata": {},
   "outputs": [
    {
     "data": {
      "image/png": "[encoded data removed]",
      "text/plain": [
       "<Figure size 432x288 with 1 Axes>"
      ]
     },
     "metadata": {
      "needs_background": "light"
     },
     "output_type": "display_data"
    }
   ],
   "source": [
    "acc = history_dict['accuracy']\n",
    "val_acc = history_dict['val_accuracy']\n",
    "loss = history_dict['loss']\n",
    "val_loss = history_dict['val_loss']\n",
    "\n",
    "epochs = range(1, len(acc) + 1)\n",
    "\n",
    "# \"bo\" is for \"blue dot\"\n",
    "plt.plot(epochs, loss, 'bo', label='Training loss')\n",
    "# b is for \"solid blue line\"\n",
    "plt.plot(epochs, val_loss, 'b', label='Validation loss')\n",
    "plt.title('Training and validation loss')\n",
    "plt.xlabel('Epochs')\n",
    "plt.ylabel('Loss')\n",
    "plt.legend()\n",
    "\n",
    "plt.show()"
   ]
  },
  {
   "cell_type": "code",
   "execution_count": 18,
   "metadata": {},
   "outputs": [
    {
     "data": {
      "image/png": "[encoded data removed]",
      "text/plain": [
       "<Figure size 432x288 with 1 Axes>"
      ]
     },
     "metadata": {
      "needs_background": "light"
     },
     "output_type": "display_data"
    }
   ],
   "source": [
    "plt.clf()   # clear figure\n",
    "\n",
    "plt.plot(epochs, acc, 'bo', label='Training acc')\n",
    "plt.plot(epochs, val_acc, 'b', label='Validation acc')\n",
    "plt.title('Training and validation accuracy')\n",
    "plt.xlabel('Epochs')\n",
    "plt.ylabel('Accuracy')\n",
    "plt.legend()\n",
    "\n",
    "plt.show()"
   ]
  },
  {
   "cell_type": "code",
   "execution_count": null,
   "metadata": {},
   "outputs": [],
   "source": []
  }
 ],
 "metadata": {
  "kernelspec": {
   "display_name": "Python 3",
   "language": "python",
   "name": "python3"
  },
  "language_info": {
   "codemirror_mode": {
    "name": "ipython",
    "version": 3
   },
   "file_extension": ".py",
   "mimetype": "text/x-python",
   "name": "python",
   "nbconvert_exporter": "python",
   "pygments_lexer": "ipython3",
   "version": "3.7.8"
  }
 },
 "nbformat": 4,
 "nbformat_minor": 4
}
