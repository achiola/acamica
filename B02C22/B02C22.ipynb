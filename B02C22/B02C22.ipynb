{
 "cells": [
  {
   "cell_type": "markdown",
   "metadata": {},
   "source": [
    "# Optimización de Hiperparámetros\n",
    "\n",
    "¡Gracias Martín Gonella por la creación de los contenidos de este encuentro!\n",
    "\n",
    "\n",
    "Comenzamos a trabajar con Optimización de Hiperparámetros en Python con Scikit-Learn, para ello vamos a empezar con ejemplo guiado usando como conjunto de datos el mismo dataset que en el Notebook anterior, Breast Cancer Wisconsin (diagnostic) dataset . Al finalizar, proponemos un análisis similar, pero con otro conjunto de datos. \n",
    "\n",
    "## 1. Breast Cancer Wisconsin (diagnostic) dataset"
   ]
  },
  {
   "cell_type": "code",
   "execution_count": 2,
   "metadata": {},
   "outputs": [],
   "source": [
    "import pandas as pd\n",
    "import numpy as np\n",
    "import scipy as sp\n",
    "\n",
    "from sklearn.metrics import classification_report\n",
    "from sklearn.model_selection import train_test_split\n",
    "from sklearn.neighbors import KNeighborsClassifier\n",
    "from sklearn.model_selection import GridSearchCV\n",
    "from sklearn.model_selection import RandomizedSearchCV\n",
    "from sklearn.metrics import confusion_matrix, accuracy_score\n",
    "\n",
    "from sklearn.tree import DecisionTreeClassifier\n",
    "from sklearn.datasets import make_classification\n",
    "from sklearn.datasets import make_circles\n",
    "\n",
    "import matplotlib.pyplot as plt\n",
    "import seaborn as sns"
   ]
  },
  {
   "cell_type": "markdown",
   "metadata": {},
   "source": [
    "**Para investigar:** ¿Reconoces todas las librerías que acabamos de importar y sus objetos? Si no es así, recuerda simpre leer la documentación."
   ]
  },
  {
   "cell_type": "markdown",
   "metadata": {},
   "source": [
    "Importamos el dataset así como hicimos en el notebook anterior."
   ]
  },
  {
   "cell_type": "code",
   "execution_count": 2,
   "metadata": {},
   "outputs": [],
   "source": [
    "from sklearn.datasets import load_breast_cancer\n",
    "data = load_breast_cancer()"
   ]
  },
  {
   "cell_type": "markdown",
   "metadata": {},
   "source": [
    "Si observan la variable `data`, podrán notar que es un `diccionario`, por lo tanto vamos a proceder a convertirlo en un `DataFrame` de Pandas."
   ]
  },
  {
   "cell_type": "code",
   "execution_count": 3,
   "metadata": {},
   "outputs": [],
   "source": [
    "df = pd.DataFrame(np.c_[data['data'], data['target']],\n",
    "                  columns= np.append(data['feature_names'], ['target']))"
   ]
  },
  {
   "cell_type": "markdown",
   "metadata": {},
   "source": [
    "Y, como ya lo exploramos, simplemente vamos a seleccionar los atributos que utilizaremos."
   ]
  },
  {
   "cell_type": "code",
   "execution_count": 4,
   "metadata": {},
   "outputs": [
    {
     "data": {
      "text/plain": [
       "['mean radius',\n",
       " 'mean texture',\n",
       " 'mean perimeter',\n",
       " 'mean area',\n",
       " 'mean smoothness',\n",
       " 'mean compactness',\n",
       " 'mean concavity',\n",
       " 'mean concave points',\n",
       " 'mean symmetry',\n",
       " 'mean fractal dimension']"
      ]
     },
     "execution_count": 4,
     "metadata": {},
     "output_type": "execute_result"
    }
   ],
   "source": [
    "features_mean = list(df.columns[0:10])\n",
    "features_mean"
   ]
  },
  {
   "cell_type": "code",
   "execution_count": 5,
   "metadata": {},
   "outputs": [
    {
     "data": {
      "text/html": [
       "<div>\n",
       "<style scoped>\n",
       "    .dataframe tbody tr th:only-of-type {\n",
       "        vertical-align: middle;\n",
       "    }\n",
       "\n",
       "    .dataframe tbody tr th {\n",
       "        vertical-align: top;\n",
       "    }\n",
       "\n",
       "    .dataframe thead th {\n",
       "        text-align: right;\n",
       "    }\n",
       "</style>\n",
       "<table border=\"1\" class=\"dataframe\">\n",
       "  <thead>\n",
       "    <tr style=\"text-align: right;\">\n",
       "      <th></th>\n",
       "      <th>mean radius</th>\n",
       "      <th>mean texture</th>\n",
       "      <th>mean perimeter</th>\n",
       "      <th>mean area</th>\n",
       "      <th>mean smoothness</th>\n",
       "      <th>mean compactness</th>\n",
       "      <th>mean concavity</th>\n",
       "      <th>mean concave points</th>\n",
       "      <th>mean symmetry</th>\n",
       "      <th>mean fractal dimension</th>\n",
       "      <th>target</th>\n",
       "    </tr>\n",
       "  </thead>\n",
       "  <tbody>\n",
       "    <tr>\n",
       "      <th>0</th>\n",
       "      <td>17.99</td>\n",
       "      <td>10.38</td>\n",
       "      <td>122.80</td>\n",
       "      <td>1001.0</td>\n",
       "      <td>0.11840</td>\n",
       "      <td>0.27760</td>\n",
       "      <td>0.3001</td>\n",
       "      <td>0.14710</td>\n",
       "      <td>0.2419</td>\n",
       "      <td>0.07871</td>\n",
       "      <td>0.0</td>\n",
       "    </tr>\n",
       "    <tr>\n",
       "      <th>1</th>\n",
       "      <td>20.57</td>\n",
       "      <td>17.77</td>\n",
       "      <td>132.90</td>\n",
       "      <td>1326.0</td>\n",
       "      <td>0.08474</td>\n",
       "      <td>0.07864</td>\n",
       "      <td>0.0869</td>\n",
       "      <td>0.07017</td>\n",
       "      <td>0.1812</td>\n",
       "      <td>0.05667</td>\n",
       "      <td>0.0</td>\n",
       "    </tr>\n",
       "    <tr>\n",
       "      <th>2</th>\n",
       "      <td>19.69</td>\n",
       "      <td>21.25</td>\n",
       "      <td>130.00</td>\n",
       "      <td>1203.0</td>\n",
       "      <td>0.10960</td>\n",
       "      <td>0.15990</td>\n",
       "      <td>0.1974</td>\n",
       "      <td>0.12790</td>\n",
       "      <td>0.2069</td>\n",
       "      <td>0.05999</td>\n",
       "      <td>0.0</td>\n",
       "    </tr>\n",
       "    <tr>\n",
       "      <th>3</th>\n",
       "      <td>11.42</td>\n",
       "      <td>20.38</td>\n",
       "      <td>77.58</td>\n",
       "      <td>386.1</td>\n",
       "      <td>0.14250</td>\n",
       "      <td>0.28390</td>\n",
       "      <td>0.2414</td>\n",
       "      <td>0.10520</td>\n",
       "      <td>0.2597</td>\n",
       "      <td>0.09744</td>\n",
       "      <td>0.0</td>\n",
       "    </tr>\n",
       "    <tr>\n",
       "      <th>4</th>\n",
       "      <td>20.29</td>\n",
       "      <td>14.34</td>\n",
       "      <td>135.10</td>\n",
       "      <td>1297.0</td>\n",
       "      <td>0.10030</td>\n",
       "      <td>0.13280</td>\n",
       "      <td>0.1980</td>\n",
       "      <td>0.10430</td>\n",
       "      <td>0.1809</td>\n",
       "      <td>0.05883</td>\n",
       "      <td>0.0</td>\n",
       "    </tr>\n",
       "  </tbody>\n",
       "</table>\n",
       "</div>"
      ],
      "text/plain": [
       "   mean radius  mean texture  mean perimeter  mean area  mean smoothness  \\\n",
       "0        17.99         10.38          122.80     1001.0          0.11840   \n",
       "1        20.57         17.77          132.90     1326.0          0.08474   \n",
       "2        19.69         21.25          130.00     1203.0          0.10960   \n",
       "3        11.42         20.38           77.58      386.1          0.14250   \n",
       "4        20.29         14.34          135.10     1297.0          0.10030   \n",
       "\n",
       "   mean compactness  mean concavity  mean concave points  mean symmetry  \\\n",
       "0           0.27760          0.3001              0.14710         0.2419   \n",
       "1           0.07864          0.0869              0.07017         0.1812   \n",
       "2           0.15990          0.1974              0.12790         0.2069   \n",
       "3           0.28390          0.2414              0.10520         0.2597   \n",
       "4           0.13280          0.1980              0.10430         0.1809   \n",
       "\n",
       "   mean fractal dimension  target  \n",
       "0                 0.07871     0.0  \n",
       "1                 0.05667     0.0  \n",
       "2                 0.05999     0.0  \n",
       "3                 0.09744     0.0  \n",
       "4                 0.05883     0.0  "
      ]
     },
     "execution_count": 5,
     "metadata": {},
     "output_type": "execute_result"
    }
   ],
   "source": [
    "data = df[features_mean + ['target']]\n",
    "data.head()"
   ]
  },
  {
   "cell_type": "markdown",
   "metadata": {},
   "source": [
    "Procedemos a separar los `features` del `target`, para luego poder dividir los datos en conjunto de `train` y `test`."
   ]
  },
  {
   "cell_type": "code",
   "execution_count": 6,
   "metadata": {},
   "outputs": [],
   "source": [
    "X = data.drop(['target'],axis=1)\n",
    "y = data['target']\n",
    "\n",
    "# Dividimos los datos en Train y Test\n",
    "X_train, X_test, y_train, y_test = train_test_split(X, y, random_state=42)"
   ]
  },
  {
   "cell_type": "markdown",
   "metadata": {},
   "source": [
    "Genial, ¡ya tenemos listos nuestros datos!\n",
    "\n",
    "Ahora vamos a escoger un modelo de clasificación, vamos con un `KNeighborsClassifier`. Luego, puedes probar con algún otro clasificador."
   ]
  },
  {
   "cell_type": "code",
   "execution_count": 7,
   "metadata": {},
   "outputs": [],
   "source": [
    "knn = KNeighborsClassifier()"
   ]
  },
  {
   "cell_type": "markdown",
   "metadata": {},
   "source": [
    "Como recordarás de la bitácora, vimos tres estrategias para realizar una optimización de hiperparámetros:\n",
    "\n",
    "    * Manual.\n",
    "    * Por grilla.\n",
    "    * Aleatoria.\n",
    "    \n",
    "Como ya mencionamos la búsqueda manual puede resultar muy tediosa y poco eficiente, por lo tanto vamos a probar con las dos restantes: **aleatoria** y por **grilla**. Además, ya tenemos una idea del desempeño de estos modelos sobre este dataset del encuentro anterior.\n",
    "\n",
    "### 1.1 Grid Search\n",
    "\n",
    "Definamos las grillas que necesitamos para el `GridSearchCV`. ¿Que tipo de objeto - desde el punto de vista de la programación - es? Prestar atención también qué tipo de datos usamos para cada hiperparámetro. Como siempre, mirar la documentación de la clase."
   ]
  },
  {
   "cell_type": "code",
   "execution_count": 8,
   "metadata": {},
   "outputs": [],
   "source": [
    "# Grilla para Grid Search\n",
    "param_grid = {'n_neighbors':np.arange(1, 20),\n",
    "              'weights': ['uniform', 'distance'], \n",
    "              'leaf_size':[1,3,5,7,10],\n",
    "              'algorithm':['auto', 'kd_tree']}"
   ]
  },
  {
   "cell_type": "markdown",
   "metadata": {},
   "source": [
    "Una vez definida la grilla, ya podemos entrenar el modelo. "
   ]
  },
  {
   "cell_type": "code",
   "execution_count": 9,
   "metadata": {},
   "outputs": [
    {
     "data": {
      "text/plain": [
       "GridSearchCV(cv=5, estimator=KNeighborsClassifier(),\n",
       "             param_grid={'algorithm': ['auto', 'kd_tree'],\n",
       "                         'leaf_size': [1, 3, 5, 7, 10],\n",
       "                         'n_neighbors': array([ 1,  2,  3,  4,  5,  6,  7,  8,  9, 10, 11, 12, 13, 14, 15, 16, 17,\n",
       "       18, 19]),\n",
       "                         'weights': ['uniform', 'distance']})"
      ]
     },
     "execution_count": 9,
     "metadata": {},
     "output_type": "execute_result"
    }
   ],
   "source": [
    "# ESTRATEGIA 1: Grid Search\n",
    "model = GridSearchCV(knn, param_grid=param_grid, cv=5)\n",
    "\n",
    "# Entrenamos: KNN con la grilla definida arriba y CV con tamaño de Fold=5\n",
    "model.fit(X_train, y_train)"
   ]
  },
  {
   "cell_type": "markdown",
   "metadata": {},
   "source": [
    "Genial, ya tenemos entrenado nuestro modelo KNN para una grilla de hiperparámetros. Además, dichas búsquedas por grilla vienen acompañadas de un validación cruzada, por lo cuál también hemos validado correctamente cada modelo con su correspondiente configuración de hiperparámetros.\n",
    "\n",
    "<img src=\"https://media.giphy.com/media/rVbAzUUSUC6dO/giphy.gif\" width=\"400\" />\n",
    "\n",
    "**Pero, ¿Cómo elijo la mejor configuración? ¿Cuál es la mejor performance? ¿Y el resto de los resultados?**\n",
    "\n",
    "**Pista:** La respuesta correcta siempre se encuentra en la documentación.\n",
    "\n",
    "Existen 3 atributos del modelo (clase de la librería sklearn) que nos van a ayudar a responder éstas preguntas: `best_params_`, `best_score_` y `cv_results_`\n",
    "\n",
    "**Para investigar:** Antes de continuar con la ejecución de la notebbok, lee un poco más acerca de la documentación en general de [`GridSearchCV()`](https://scikit-learn.org/stable/modules/generated/sklearn.model_selection.GridSearchCV.html) y [`RandomizedSearchCV()`](https://scikit-learn.org/stable/modules/generated/sklearn.model_selection.RandomizedSearchCV.html) y en particular sobre los 3 atributos que acabamos de mencionar.\n",
    "\n",
    "<img src=\"https://media.giphy.com/media/2k8EwXEwhoQGQ/giphy.gif\" width=\"400\" />"
   ]
  },
  {
   "cell_type": "code",
   "execution_count": 10,
   "metadata": {},
   "outputs": [
    {
     "name": "stdout",
     "output_type": "stream",
     "text": [
      "Mejores parametros: {'algorithm': 'auto', 'leaf_size': 1, 'n_neighbors': 18, 'weights': 'uniform'}\n",
      "Mejor Score: 0.8872777017783857\n",
      "\n"
     ]
    },
    {
     "data": {
      "text/html": [
       "<div>\n",
       "<style scoped>\n",
       "    .dataframe tbody tr th:only-of-type {\n",
       "        vertical-align: middle;\n",
       "    }\n",
       "\n",
       "    .dataframe tbody tr th {\n",
       "        vertical-align: top;\n",
       "    }\n",
       "\n",
       "    .dataframe thead th {\n",
       "        text-align: right;\n",
       "    }\n",
       "</style>\n",
       "<table border=\"1\" class=\"dataframe\">\n",
       "  <thead>\n",
       "    <tr style=\"text-align: right;\">\n",
       "      <th></th>\n",
       "      <th>mean_fit_time</th>\n",
       "      <th>std_fit_time</th>\n",
       "      <th>mean_score_time</th>\n",
       "      <th>std_score_time</th>\n",
       "      <th>param_algorithm</th>\n",
       "      <th>param_leaf_size</th>\n",
       "      <th>param_n_neighbors</th>\n",
       "      <th>param_weights</th>\n",
       "      <th>params</th>\n",
       "      <th>split0_test_score</th>\n",
       "      <th>split1_test_score</th>\n",
       "      <th>split2_test_score</th>\n",
       "      <th>split3_test_score</th>\n",
       "      <th>split4_test_score</th>\n",
       "      <th>mean_test_score</th>\n",
       "      <th>std_test_score</th>\n",
       "      <th>rank_test_score</th>\n",
       "    </tr>\n",
       "  </thead>\n",
       "  <tbody>\n",
       "    <tr>\n",
       "      <th>0</th>\n",
       "      <td>0.005608</td>\n",
       "      <td>0.001361</td>\n",
       "      <td>0.008803</td>\n",
       "      <td>0.002487</td>\n",
       "      <td>auto</td>\n",
       "      <td>1</td>\n",
       "      <td>1</td>\n",
       "      <td>uniform</td>\n",
       "      <td>{'algorithm': 'auto', 'leaf_size': 1, 'n_neigh...</td>\n",
       "      <td>0.895349</td>\n",
       "      <td>0.858824</td>\n",
       "      <td>0.858824</td>\n",
       "      <td>0.823529</td>\n",
       "      <td>0.800000</td>\n",
       "      <td>0.847305</td>\n",
       "      <td>0.032792</td>\n",
       "      <td>341</td>\n",
       "    </tr>\n",
       "    <tr>\n",
       "      <th>1</th>\n",
       "      <td>0.003802</td>\n",
       "      <td>0.000400</td>\n",
       "      <td>0.002402</td>\n",
       "      <td>0.000490</td>\n",
       "      <td>auto</td>\n",
       "      <td>1</td>\n",
       "      <td>1</td>\n",
       "      <td>distance</td>\n",
       "      <td>{'algorithm': 'auto', 'leaf_size': 1, 'n_neigh...</td>\n",
       "      <td>0.895349</td>\n",
       "      <td>0.858824</td>\n",
       "      <td>0.858824</td>\n",
       "      <td>0.823529</td>\n",
       "      <td>0.800000</td>\n",
       "      <td>0.847305</td>\n",
       "      <td>0.032792</td>\n",
       "      <td>341</td>\n",
       "    </tr>\n",
       "    <tr>\n",
       "      <th>2</th>\n",
       "      <td>0.000600</td>\n",
       "      <td>0.001201</td>\n",
       "      <td>0.006966</td>\n",
       "      <td>0.007190</td>\n",
       "      <td>auto</td>\n",
       "      <td>1</td>\n",
       "      <td>2</td>\n",
       "      <td>uniform</td>\n",
       "      <td>{'algorithm': 'auto', 'leaf_size': 1, 'n_neigh...</td>\n",
       "      <td>0.895349</td>\n",
       "      <td>0.835294</td>\n",
       "      <td>0.847059</td>\n",
       "      <td>0.835294</td>\n",
       "      <td>0.811765</td>\n",
       "      <td>0.844952</td>\n",
       "      <td>0.027685</td>\n",
       "      <td>371</td>\n",
       "    </tr>\n",
       "    <tr>\n",
       "      <th>3</th>\n",
       "      <td>0.003129</td>\n",
       "      <td>0.006258</td>\n",
       "      <td>0.003125</td>\n",
       "      <td>0.006250</td>\n",
       "      <td>auto</td>\n",
       "      <td>1</td>\n",
       "      <td>2</td>\n",
       "      <td>distance</td>\n",
       "      <td>{'algorithm': 'auto', 'leaf_size': 1, 'n_neigh...</td>\n",
       "      <td>0.895349</td>\n",
       "      <td>0.858824</td>\n",
       "      <td>0.858824</td>\n",
       "      <td>0.823529</td>\n",
       "      <td>0.800000</td>\n",
       "      <td>0.847305</td>\n",
       "      <td>0.032792</td>\n",
       "      <td>341</td>\n",
       "    </tr>\n",
       "    <tr>\n",
       "      <th>4</th>\n",
       "      <td>0.006250</td>\n",
       "      <td>0.007655</td>\n",
       "      <td>0.003125</td>\n",
       "      <td>0.006250</td>\n",
       "      <td>auto</td>\n",
       "      <td>1</td>\n",
       "      <td>3</td>\n",
       "      <td>uniform</td>\n",
       "      <td>{'algorithm': 'auto', 'leaf_size': 1, 'n_neigh...</td>\n",
       "      <td>0.895349</td>\n",
       "      <td>0.894118</td>\n",
       "      <td>0.941176</td>\n",
       "      <td>0.811765</td>\n",
       "      <td>0.870588</td>\n",
       "      <td>0.882599</td>\n",
       "      <td>0.042162</td>\n",
       "      <td>31</td>\n",
       "    </tr>\n",
       "    <tr>\n",
       "      <th>...</th>\n",
       "      <td>...</td>\n",
       "      <td>...</td>\n",
       "      <td>...</td>\n",
       "      <td>...</td>\n",
       "      <td>...</td>\n",
       "      <td>...</td>\n",
       "      <td>...</td>\n",
       "      <td>...</td>\n",
       "      <td>...</td>\n",
       "      <td>...</td>\n",
       "      <td>...</td>\n",
       "      <td>...</td>\n",
       "      <td>...</td>\n",
       "      <td>...</td>\n",
       "      <td>...</td>\n",
       "      <td>...</td>\n",
       "      <td>...</td>\n",
       "    </tr>\n",
       "    <tr>\n",
       "      <th>375</th>\n",
       "      <td>0.002995</td>\n",
       "      <td>0.000009</td>\n",
       "      <td>0.002598</td>\n",
       "      <td>0.000502</td>\n",
       "      <td>kd_tree</td>\n",
       "      <td>10</td>\n",
       "      <td>17</td>\n",
       "      <td>distance</td>\n",
       "      <td>{'algorithm': 'kd_tree', 'leaf_size': 10, 'n_n...</td>\n",
       "      <td>0.895349</td>\n",
       "      <td>0.870588</td>\n",
       "      <td>0.941176</td>\n",
       "      <td>0.835294</td>\n",
       "      <td>0.870588</td>\n",
       "      <td>0.882599</td>\n",
       "      <td>0.034986</td>\n",
       "      <td>31</td>\n",
       "    </tr>\n",
       "    <tr>\n",
       "      <th>376</th>\n",
       "      <td>0.003199</td>\n",
       "      <td>0.000402</td>\n",
       "      <td>0.005210</td>\n",
       "      <td>0.000751</td>\n",
       "      <td>kd_tree</td>\n",
       "      <td>10</td>\n",
       "      <td>18</td>\n",
       "      <td>uniform</td>\n",
       "      <td>{'algorithm': 'kd_tree', 'leaf_size': 10, 'n_n...</td>\n",
       "      <td>0.906977</td>\n",
       "      <td>0.870588</td>\n",
       "      <td>0.952941</td>\n",
       "      <td>0.835294</td>\n",
       "      <td>0.870588</td>\n",
       "      <td>0.887278</td>\n",
       "      <td>0.039898</td>\n",
       "      <td>1</td>\n",
       "    </tr>\n",
       "    <tr>\n",
       "      <th>377</th>\n",
       "      <td>0.002035</td>\n",
       "      <td>0.001242</td>\n",
       "      <td>0.001601</td>\n",
       "      <td>0.001357</td>\n",
       "      <td>kd_tree</td>\n",
       "      <td>10</td>\n",
       "      <td>18</td>\n",
       "      <td>distance</td>\n",
       "      <td>{'algorithm': 'kd_tree', 'leaf_size': 10, 'n_n...</td>\n",
       "      <td>0.895349</td>\n",
       "      <td>0.882353</td>\n",
       "      <td>0.941176</td>\n",
       "      <td>0.835294</td>\n",
       "      <td>0.870588</td>\n",
       "      <td>0.884952</td>\n",
       "      <td>0.034491</td>\n",
       "      <td>11</td>\n",
       "    </tr>\n",
       "    <tr>\n",
       "      <th>378</th>\n",
       "      <td>0.000000</td>\n",
       "      <td>0.000000</td>\n",
       "      <td>0.009379</td>\n",
       "      <td>0.007658</td>\n",
       "      <td>kd_tree</td>\n",
       "      <td>10</td>\n",
       "      <td>19</td>\n",
       "      <td>uniform</td>\n",
       "      <td>{'algorithm': 'kd_tree', 'leaf_size': 10, 'n_n...</td>\n",
       "      <td>0.906977</td>\n",
       "      <td>0.858824</td>\n",
       "      <td>0.952941</td>\n",
       "      <td>0.823529</td>\n",
       "      <td>0.870588</td>\n",
       "      <td>0.882572</td>\n",
       "      <td>0.044139</td>\n",
       "      <td>131</td>\n",
       "    </tr>\n",
       "    <tr>\n",
       "      <th>379</th>\n",
       "      <td>0.000000</td>\n",
       "      <td>0.000000</td>\n",
       "      <td>0.003122</td>\n",
       "      <td>0.006244</td>\n",
       "      <td>kd_tree</td>\n",
       "      <td>10</td>\n",
       "      <td>19</td>\n",
       "      <td>distance</td>\n",
       "      <td>{'algorithm': 'kd_tree', 'leaf_size': 10, 'n_n...</td>\n",
       "      <td>0.895349</td>\n",
       "      <td>0.870588</td>\n",
       "      <td>0.941176</td>\n",
       "      <td>0.835294</td>\n",
       "      <td>0.870588</td>\n",
       "      <td>0.882599</td>\n",
       "      <td>0.034986</td>\n",
       "      <td>31</td>\n",
       "    </tr>\n",
       "  </tbody>\n",
       "</table>\n",
       "<p>380 rows × 17 columns</p>\n",
       "</div>"
      ],
      "text/plain": [
       "     mean_fit_time  std_fit_time  mean_score_time  std_score_time  \\\n",
       "0         0.005608      0.001361         0.008803        0.002487   \n",
       "1         0.003802      0.000400         0.002402        0.000490   \n",
       "2         0.000600      0.001201         0.006966        0.007190   \n",
       "3         0.003129      0.006258         0.003125        0.006250   \n",
       "4         0.006250      0.007655         0.003125        0.006250   \n",
       "..             ...           ...              ...             ...   \n",
       "375       0.002995      0.000009         0.002598        0.000502   \n",
       "376       0.003199      0.000402         0.005210        0.000751   \n",
       "377       0.002035      0.001242         0.001601        0.001357   \n",
       "378       0.000000      0.000000         0.009379        0.007658   \n",
       "379       0.000000      0.000000         0.003122        0.006244   \n",
       "\n",
       "    param_algorithm param_leaf_size param_n_neighbors param_weights  \\\n",
       "0              auto               1                 1       uniform   \n",
       "1              auto               1                 1      distance   \n",
       "2              auto               1                 2       uniform   \n",
       "3              auto               1                 2      distance   \n",
       "4              auto               1                 3       uniform   \n",
       "..              ...             ...               ...           ...   \n",
       "375         kd_tree              10                17      distance   \n",
       "376         kd_tree              10                18       uniform   \n",
       "377         kd_tree              10                18      distance   \n",
       "378         kd_tree              10                19       uniform   \n",
       "379         kd_tree              10                19      distance   \n",
       "\n",
       "                                                params  split0_test_score  \\\n",
       "0    {'algorithm': 'auto', 'leaf_size': 1, 'n_neigh...           0.895349   \n",
       "1    {'algorithm': 'auto', 'leaf_size': 1, 'n_neigh...           0.895349   \n",
       "2    {'algorithm': 'auto', 'leaf_size': 1, 'n_neigh...           0.895349   \n",
       "3    {'algorithm': 'auto', 'leaf_size': 1, 'n_neigh...           0.895349   \n",
       "4    {'algorithm': 'auto', 'leaf_size': 1, 'n_neigh...           0.895349   \n",
       "..                                                 ...                ...   \n",
       "375  {'algorithm': 'kd_tree', 'leaf_size': 10, 'n_n...           0.895349   \n",
       "376  {'algorithm': 'kd_tree', 'leaf_size': 10, 'n_n...           0.906977   \n",
       "377  {'algorithm': 'kd_tree', 'leaf_size': 10, 'n_n...           0.895349   \n",
       "378  {'algorithm': 'kd_tree', 'leaf_size': 10, 'n_n...           0.906977   \n",
       "379  {'algorithm': 'kd_tree', 'leaf_size': 10, 'n_n...           0.895349   \n",
       "\n",
       "     split1_test_score  split2_test_score  split3_test_score  \\\n",
       "0             0.858824           0.858824           0.823529   \n",
       "1             0.858824           0.858824           0.823529   \n",
       "2             0.835294           0.847059           0.835294   \n",
       "3             0.858824           0.858824           0.823529   \n",
       "4             0.894118           0.941176           0.811765   \n",
       "..                 ...                ...                ...   \n",
       "375           0.870588           0.941176           0.835294   \n",
       "376           0.870588           0.952941           0.835294   \n",
       "377           0.882353           0.941176           0.835294   \n",
       "378           0.858824           0.952941           0.823529   \n",
       "379           0.870588           0.941176           0.835294   \n",
       "\n",
       "     split4_test_score  mean_test_score  std_test_score  rank_test_score  \n",
       "0             0.800000         0.847305        0.032792              341  \n",
       "1             0.800000         0.847305        0.032792              341  \n",
       "2             0.811765         0.844952        0.027685              371  \n",
       "3             0.800000         0.847305        0.032792              341  \n",
       "4             0.870588         0.882599        0.042162               31  \n",
       "..                 ...              ...             ...              ...  \n",
       "375           0.870588         0.882599        0.034986               31  \n",
       "376           0.870588         0.887278        0.039898                1  \n",
       "377           0.870588         0.884952        0.034491               11  \n",
       "378           0.870588         0.882572        0.044139              131  \n",
       "379           0.870588         0.882599        0.034986               31  \n",
       "\n",
       "[380 rows x 17 columns]"
      ]
     },
     "execution_count": 10,
     "metadata": {},
     "output_type": "execute_result"
    }
   ],
   "source": [
    "print(\"Mejores parametros: \"+str(model.best_params_))\n",
    "print(\"Mejor Score: \"+str(model.best_score_)+'\\n')\n",
    "\n",
    "scores = pd.DataFrame(model.cv_results_)\n",
    "scores"
   ]
  },
  {
   "cell_type": "markdown",
   "metadata": {},
   "source": [
    "En este DataFrame están todos los resultados que devuelve `GridSearchCV()`. Hay mucha información para explorar, pero corre las siguientes celdas antes de hacerlo.\n",
    "\n",
    "Ya leímos la documentación y por lo tanto ya sabemos que podemos predecir con el mejor modelo de la siguiente manera:"
   ]
  },
  {
   "cell_type": "code",
   "execution_count": 11,
   "metadata": {},
   "outputs": [],
   "source": [
    "#Predecimos en los datos de test\n",
    "prediction = model.predict(X_test)"
   ]
  },
  {
   "cell_type": "markdown",
   "metadata": {},
   "source": [
    "¿Por qué predecimos sobre el conjunto de test?¿Estuvo involucrado este conjunto en el entrenamiento del modelo?"
   ]
  },
  {
   "cell_type": "code",
   "execution_count": 12,
   "metadata": {},
   "outputs": [
    {
     "name": "stdout",
     "output_type": "stream",
     "text": [
      "Matriz de confusión:\n",
      "[[44 10]\n",
      " [ 1 88]]\n"
     ]
    }
   ],
   "source": [
    "# Matriz de Confusion\n",
    "cm = confusion_matrix(y_test,prediction)\n",
    "print(\"Matriz de confusión:\")\n",
    "print(cm)"
   ]
  },
  {
   "cell_type": "code",
   "execution_count": 13,
   "metadata": {},
   "outputs": [
    {
     "name": "stdout",
     "output_type": "stream",
     "text": [
      "Exactitud: 0.9230769230769231\n"
     ]
    }
   ],
   "source": [
    "print('Exactitud:', accuracy_score(y_test, prediction))"
   ]
  },
  {
   "cell_type": "code",
   "execution_count": 14,
   "metadata": {},
   "outputs": [
    {
     "name": "stdout",
     "output_type": "stream",
     "text": [
      "Reporte de Clasificación:\n",
      "              precision    recall  f1-score   support\n",
      "\n",
      "         0.0       0.98      0.81      0.89        54\n",
      "         1.0       0.90      0.99      0.94        89\n",
      "\n",
      "    accuracy                           0.92       143\n",
      "   macro avg       0.94      0.90      0.92       143\n",
      "weighted avg       0.93      0.92      0.92       143\n",
      "\n"
     ]
    }
   ],
   "source": [
    "# Reporte de Clasificacion\n",
    "report = classification_report(y_test, prediction)\n",
    "print(\"Reporte de Clasificación:\")\n",
    "print(report)"
   ]
  },
  {
   "cell_type": "markdown",
   "metadata": {},
   "source": [
    "**Para pensar**: ¿mejoró el desempeño del modelo con respecto a lo que hicimos en la bitácora anterior?¿Qué otros hiperparámetros puedes explorar para ver si mejora el desempeñó?¿Se puede hacer una mejor exploración de los resultados de `GridSearchCV`? Ahora sí, tómate un tiempo para explorar toda la información que devuelve.\n",
    "\n",
    "**Ejercicio - Challenge:** Repite lo que hicimos, pero para un árbol de decisión. Algunos hiperparámetros que pueden ser interesantes de explorar, en este caso, son: `criterion`, `max_depth`, `min_samples_split` y `min_samples_leaf`."
   ]
  },
  {
   "cell_type": "code",
   "execution_count": 16,
   "metadata": {},
   "outputs": [],
   "source": [
    "tree = DecisionTreeClassifier()"
   ]
  },
  {
   "cell_type": "code",
   "execution_count": 17,
   "metadata": {},
   "outputs": [],
   "source": [
    "# Grilla para Grid Search\n",
    "param_grid = {'max_depth':np.arange(1, 20),\n",
    "              'criterion': ['gini', 'entropy'], \n",
    "              'min_samples_split':[2,3,4,6,8],\n",
    "              'min_samples_leaf':np.arange(1, 10)}"
   ]
  },
  {
   "cell_type": "code",
   "execution_count": 18,
   "metadata": {},
   "outputs": [
    {
     "data": {
      "text/plain": [
       "GridSearchCV(cv=5, estimator=DecisionTreeClassifier(),\n",
       "             param_grid={'criterion': ['gini', 'entropy'],\n",
       "                         'max_depth': array([ 1,  2,  3,  4,  5,  6,  7,  8,  9, 10, 11, 12, 13, 14, 15, 16, 17,\n",
       "       18, 19]),\n",
       "                         'min_samples_leaf': array([1, 2, 3, 4, 5, 6, 7, 8, 9]),\n",
       "                         'min_samples_split': [2, 3, 4, 6, 8]})"
      ]
     },
     "execution_count": 18,
     "metadata": {},
     "output_type": "execute_result"
    }
   ],
   "source": [
    "# ESTRATEGIA 1: Grid Search\n",
    "model = GridSearchCV(tree, param_grid=param_grid, cv=5)\n",
    "\n",
    "# Entrenamos: KNN con la grilla definida arriba y CV con tamaño de Fold=5\n",
    "model.fit(X_train, y_train)"
   ]
  },
  {
   "cell_type": "code",
   "execution_count": 19,
   "metadata": {},
   "outputs": [
    {
     "name": "stdout",
     "output_type": "stream",
     "text": [
      "Mejores parametros: {'criterion': 'entropy', 'max_depth': 4, 'min_samples_leaf': 3, 'min_samples_split': 3}\n",
      "Mejor Score: 0.9436114911080713\n",
      "\n"
     ]
    },
    {
     "data": {
      "text/html": [
       "<div>\n",
       "<style scoped>\n",
       "    .dataframe tbody tr th:only-of-type {\n",
       "        vertical-align: middle;\n",
       "    }\n",
       "\n",
       "    .dataframe tbody tr th {\n",
       "        vertical-align: top;\n",
       "    }\n",
       "\n",
       "    .dataframe thead th {\n",
       "        text-align: right;\n",
       "    }\n",
       "</style>\n",
       "<table border=\"1\" class=\"dataframe\">\n",
       "  <thead>\n",
       "    <tr style=\"text-align: right;\">\n",
       "      <th></th>\n",
       "      <th>mean_fit_time</th>\n",
       "      <th>std_fit_time</th>\n",
       "      <th>mean_score_time</th>\n",
       "      <th>std_score_time</th>\n",
       "      <th>param_criterion</th>\n",
       "      <th>param_max_depth</th>\n",
       "      <th>param_min_samples_leaf</th>\n",
       "      <th>param_min_samples_split</th>\n",
       "      <th>params</th>\n",
       "      <th>split0_test_score</th>\n",
       "      <th>split1_test_score</th>\n",
       "      <th>split2_test_score</th>\n",
       "      <th>split3_test_score</th>\n",
       "      <th>split4_test_score</th>\n",
       "      <th>mean_test_score</th>\n",
       "      <th>std_test_score</th>\n",
       "      <th>rank_test_score</th>\n",
       "    </tr>\n",
       "  </thead>\n",
       "  <tbody>\n",
       "    <tr>\n",
       "      <th>0</th>\n",
       "      <td>0.005005</td>\n",
       "      <td>0.000895</td>\n",
       "      <td>0.003402</td>\n",
       "      <td>0.001200</td>\n",
       "      <td>gini</td>\n",
       "      <td>1</td>\n",
       "      <td>1</td>\n",
       "      <td>2</td>\n",
       "      <td>{'criterion': 'gini', 'max_depth': 1, 'min_sam...</td>\n",
       "      <td>0.918605</td>\n",
       "      <td>0.917647</td>\n",
       "      <td>0.905882</td>\n",
       "      <td>0.894118</td>\n",
       "      <td>0.929412</td>\n",
       "      <td>0.913133</td>\n",
       "      <td>0.012079</td>\n",
       "      <td>430</td>\n",
       "    </tr>\n",
       "    <tr>\n",
       "      <th>1</th>\n",
       "      <td>0.004003</td>\n",
       "      <td>0.002002</td>\n",
       "      <td>0.001801</td>\n",
       "      <td>0.000749</td>\n",
       "      <td>gini</td>\n",
       "      <td>1</td>\n",
       "      <td>1</td>\n",
       "      <td>3</td>\n",
       "      <td>{'criterion': 'gini', 'max_depth': 1, 'min_sam...</td>\n",
       "      <td>0.918605</td>\n",
       "      <td>0.917647</td>\n",
       "      <td>0.905882</td>\n",
       "      <td>0.894118</td>\n",
       "      <td>0.929412</td>\n",
       "      <td>0.913133</td>\n",
       "      <td>0.012079</td>\n",
       "      <td>430</td>\n",
       "    </tr>\n",
       "    <tr>\n",
       "      <th>2</th>\n",
       "      <td>0.003803</td>\n",
       "      <td>0.000748</td>\n",
       "      <td>0.002401</td>\n",
       "      <td>0.001021</td>\n",
       "      <td>gini</td>\n",
       "      <td>1</td>\n",
       "      <td>1</td>\n",
       "      <td>4</td>\n",
       "      <td>{'criterion': 'gini', 'max_depth': 1, 'min_sam...</td>\n",
       "      <td>0.918605</td>\n",
       "      <td>0.917647</td>\n",
       "      <td>0.905882</td>\n",
       "      <td>0.894118</td>\n",
       "      <td>0.929412</td>\n",
       "      <td>0.913133</td>\n",
       "      <td>0.012079</td>\n",
       "      <td>430</td>\n",
       "    </tr>\n",
       "    <tr>\n",
       "      <th>3</th>\n",
       "      <td>0.002602</td>\n",
       "      <td>0.000491</td>\n",
       "      <td>0.001601</td>\n",
       "      <td>0.000490</td>\n",
       "      <td>gini</td>\n",
       "      <td>1</td>\n",
       "      <td>1</td>\n",
       "      <td>6</td>\n",
       "      <td>{'criterion': 'gini', 'max_depth': 1, 'min_sam...</td>\n",
       "      <td>0.918605</td>\n",
       "      <td>0.917647</td>\n",
       "      <td>0.905882</td>\n",
       "      <td>0.894118</td>\n",
       "      <td>0.929412</td>\n",
       "      <td>0.913133</td>\n",
       "      <td>0.012079</td>\n",
       "      <td>430</td>\n",
       "    </tr>\n",
       "    <tr>\n",
       "      <th>4</th>\n",
       "      <td>0.002402</td>\n",
       "      <td>0.000490</td>\n",
       "      <td>0.001601</td>\n",
       "      <td>0.000490</td>\n",
       "      <td>gini</td>\n",
       "      <td>1</td>\n",
       "      <td>1</td>\n",
       "      <td>8</td>\n",
       "      <td>{'criterion': 'gini', 'max_depth': 1, 'min_sam...</td>\n",
       "      <td>0.918605</td>\n",
       "      <td>0.917647</td>\n",
       "      <td>0.905882</td>\n",
       "      <td>0.894118</td>\n",
       "      <td>0.929412</td>\n",
       "      <td>0.913133</td>\n",
       "      <td>0.012079</td>\n",
       "      <td>430</td>\n",
       "    </tr>\n",
       "    <tr>\n",
       "      <th>...</th>\n",
       "      <td>...</td>\n",
       "      <td>...</td>\n",
       "      <td>...</td>\n",
       "      <td>...</td>\n",
       "      <td>...</td>\n",
       "      <td>...</td>\n",
       "      <td>...</td>\n",
       "      <td>...</td>\n",
       "      <td>...</td>\n",
       "      <td>...</td>\n",
       "      <td>...</td>\n",
       "      <td>...</td>\n",
       "      <td>...</td>\n",
       "      <td>...</td>\n",
       "      <td>...</td>\n",
       "      <td>...</td>\n",
       "      <td>...</td>\n",
       "    </tr>\n",
       "    <tr>\n",
       "      <th>1705</th>\n",
       "      <td>0.003803</td>\n",
       "      <td>0.000400</td>\n",
       "      <td>0.001601</td>\n",
       "      <td>0.000490</td>\n",
       "      <td>entropy</td>\n",
       "      <td>19</td>\n",
       "      <td>9</td>\n",
       "      <td>2</td>\n",
       "      <td>{'criterion': 'entropy', 'max_depth': 19, 'min...</td>\n",
       "      <td>0.906977</td>\n",
       "      <td>0.929412</td>\n",
       "      <td>0.917647</td>\n",
       "      <td>0.905882</td>\n",
       "      <td>0.847059</td>\n",
       "      <td>0.901395</td>\n",
       "      <td>0.028470</td>\n",
       "      <td>1407</td>\n",
       "    </tr>\n",
       "    <tr>\n",
       "      <th>1706</th>\n",
       "      <td>0.003406</td>\n",
       "      <td>0.000494</td>\n",
       "      <td>0.001601</td>\n",
       "      <td>0.000490</td>\n",
       "      <td>entropy</td>\n",
       "      <td>19</td>\n",
       "      <td>9</td>\n",
       "      <td>3</td>\n",
       "      <td>{'criterion': 'entropy', 'max_depth': 19, 'min...</td>\n",
       "      <td>0.906977</td>\n",
       "      <td>0.917647</td>\n",
       "      <td>0.917647</td>\n",
       "      <td>0.905882</td>\n",
       "      <td>0.858824</td>\n",
       "      <td>0.901395</td>\n",
       "      <td>0.021872</td>\n",
       "      <td>1407</td>\n",
       "    </tr>\n",
       "    <tr>\n",
       "      <th>1707</th>\n",
       "      <td>0.003806</td>\n",
       "      <td>0.000750</td>\n",
       "      <td>0.001805</td>\n",
       "      <td>0.000750</td>\n",
       "      <td>entropy</td>\n",
       "      <td>19</td>\n",
       "      <td>9</td>\n",
       "      <td>4</td>\n",
       "      <td>{'criterion': 'entropy', 'max_depth': 19, 'min...</td>\n",
       "      <td>0.883721</td>\n",
       "      <td>0.917647</td>\n",
       "      <td>0.917647</td>\n",
       "      <td>0.905882</td>\n",
       "      <td>0.882353</td>\n",
       "      <td>0.901450</td>\n",
       "      <td>0.015642</td>\n",
       "      <td>1354</td>\n",
       "    </tr>\n",
       "    <tr>\n",
       "      <th>1708</th>\n",
       "      <td>0.003406</td>\n",
       "      <td>0.000487</td>\n",
       "      <td>0.001598</td>\n",
       "      <td>0.000488</td>\n",
       "      <td>entropy</td>\n",
       "      <td>19</td>\n",
       "      <td>9</td>\n",
       "      <td>6</td>\n",
       "      <td>{'criterion': 'entropy', 'max_depth': 19, 'min...</td>\n",
       "      <td>0.883721</td>\n",
       "      <td>0.917647</td>\n",
       "      <td>0.917647</td>\n",
       "      <td>0.905882</td>\n",
       "      <td>0.870588</td>\n",
       "      <td>0.899097</td>\n",
       "      <td>0.018886</td>\n",
       "      <td>1485</td>\n",
       "    </tr>\n",
       "    <tr>\n",
       "      <th>1709</th>\n",
       "      <td>0.003803</td>\n",
       "      <td>0.000400</td>\n",
       "      <td>0.001601</td>\n",
       "      <td>0.000490</td>\n",
       "      <td>entropy</td>\n",
       "      <td>19</td>\n",
       "      <td>9</td>\n",
       "      <td>8</td>\n",
       "      <td>{'criterion': 'entropy', 'max_depth': 19, 'min...</td>\n",
       "      <td>0.906977</td>\n",
       "      <td>0.929412</td>\n",
       "      <td>0.917647</td>\n",
       "      <td>0.905882</td>\n",
       "      <td>0.870588</td>\n",
       "      <td>0.906101</td>\n",
       "      <td>0.019691</td>\n",
       "      <td>1106</td>\n",
       "    </tr>\n",
       "  </tbody>\n",
       "</table>\n",
       "<p>1710 rows × 17 columns</p>\n",
       "</div>"
      ],
      "text/plain": [
       "      mean_fit_time  std_fit_time  mean_score_time  std_score_time  \\\n",
       "0          0.005005      0.000895         0.003402        0.001200   \n",
       "1          0.004003      0.002002         0.001801        0.000749   \n",
       "2          0.003803      0.000748         0.002401        0.001021   \n",
       "3          0.002602      0.000491         0.001601        0.000490   \n",
       "4          0.002402      0.000490         0.001601        0.000490   \n",
       "...             ...           ...              ...             ...   \n",
       "1705       0.003803      0.000400         0.001601        0.000490   \n",
       "1706       0.003406      0.000494         0.001601        0.000490   \n",
       "1707       0.003806      0.000750         0.001805        0.000750   \n",
       "1708       0.003406      0.000487         0.001598        0.000488   \n",
       "1709       0.003803      0.000400         0.001601        0.000490   \n",
       "\n",
       "     param_criterion param_max_depth param_min_samples_leaf  \\\n",
       "0               gini               1                      1   \n",
       "1               gini               1                      1   \n",
       "2               gini               1                      1   \n",
       "3               gini               1                      1   \n",
       "4               gini               1                      1   \n",
       "...              ...             ...                    ...   \n",
       "1705         entropy              19                      9   \n",
       "1706         entropy              19                      9   \n",
       "1707         entropy              19                      9   \n",
       "1708         entropy              19                      9   \n",
       "1709         entropy              19                      9   \n",
       "\n",
       "     param_min_samples_split  \\\n",
       "0                          2   \n",
       "1                          3   \n",
       "2                          4   \n",
       "3                          6   \n",
       "4                          8   \n",
       "...                      ...   \n",
       "1705                       2   \n",
       "1706                       3   \n",
       "1707                       4   \n",
       "1708                       6   \n",
       "1709                       8   \n",
       "\n",
       "                                                 params  split0_test_score  \\\n",
       "0     {'criterion': 'gini', 'max_depth': 1, 'min_sam...           0.918605   \n",
       "1     {'criterion': 'gini', 'max_depth': 1, 'min_sam...           0.918605   \n",
       "2     {'criterion': 'gini', 'max_depth': 1, 'min_sam...           0.918605   \n",
       "3     {'criterion': 'gini', 'max_depth': 1, 'min_sam...           0.918605   \n",
       "4     {'criterion': 'gini', 'max_depth': 1, 'min_sam...           0.918605   \n",
       "...                                                 ...                ...   \n",
       "1705  {'criterion': 'entropy', 'max_depth': 19, 'min...           0.906977   \n",
       "1706  {'criterion': 'entropy', 'max_depth': 19, 'min...           0.906977   \n",
       "1707  {'criterion': 'entropy', 'max_depth': 19, 'min...           0.883721   \n",
       "1708  {'criterion': 'entropy', 'max_depth': 19, 'min...           0.883721   \n",
       "1709  {'criterion': 'entropy', 'max_depth': 19, 'min...           0.906977   \n",
       "\n",
       "      split1_test_score  split2_test_score  split3_test_score  \\\n",
       "0              0.917647           0.905882           0.894118   \n",
       "1              0.917647           0.905882           0.894118   \n",
       "2              0.917647           0.905882           0.894118   \n",
       "3              0.917647           0.905882           0.894118   \n",
       "4              0.917647           0.905882           0.894118   \n",
       "...                 ...                ...                ...   \n",
       "1705           0.929412           0.917647           0.905882   \n",
       "1706           0.917647           0.917647           0.905882   \n",
       "1707           0.917647           0.917647           0.905882   \n",
       "1708           0.917647           0.917647           0.905882   \n",
       "1709           0.929412           0.917647           0.905882   \n",
       "\n",
       "      split4_test_score  mean_test_score  std_test_score  rank_test_score  \n",
       "0              0.929412         0.913133        0.012079              430  \n",
       "1              0.929412         0.913133        0.012079              430  \n",
       "2              0.929412         0.913133        0.012079              430  \n",
       "3              0.929412         0.913133        0.012079              430  \n",
       "4              0.929412         0.913133        0.012079              430  \n",
       "...                 ...              ...             ...              ...  \n",
       "1705           0.847059         0.901395        0.028470             1407  \n",
       "1706           0.858824         0.901395        0.021872             1407  \n",
       "1707           0.882353         0.901450        0.015642             1354  \n",
       "1708           0.870588         0.899097        0.018886             1485  \n",
       "1709           0.870588         0.906101        0.019691             1106  \n",
       "\n",
       "[1710 rows x 17 columns]"
      ]
     },
     "execution_count": 19,
     "metadata": {},
     "output_type": "execute_result"
    }
   ],
   "source": [
    "print(\"Mejores parametros: \"+str(model.best_params_))\n",
    "print(\"Mejor Score: \"+str(model.best_score_)+'\\n')\n",
    "\n",
    "scores = pd.DataFrame(model.cv_results_)\n",
    "scores"
   ]
  },
  {
   "cell_type": "code",
   "execution_count": 20,
   "metadata": {},
   "outputs": [],
   "source": [
    "#Predecimos en los datos de test\n",
    "prediction = model.predict(X_test)"
   ]
  },
  {
   "cell_type": "code",
   "execution_count": 21,
   "metadata": {},
   "outputs": [
    {
     "name": "stdout",
     "output_type": "stream",
     "text": [
      "Matriz de confusión:\n",
      "[[47  7]\n",
      " [ 0 89]]\n"
     ]
    }
   ],
   "source": [
    "# Matriz de Confusion\n",
    "cm = confusion_matrix(y_test,prediction)\n",
    "print(\"Matriz de confusión:\")\n",
    "print(cm)"
   ]
  },
  {
   "cell_type": "code",
   "execution_count": 22,
   "metadata": {},
   "outputs": [
    {
     "name": "stdout",
     "output_type": "stream",
     "text": [
      "Exactitud: 0.951048951048951\n"
     ]
    }
   ],
   "source": [
    "print('Exactitud:', accuracy_score(y_test, prediction))"
   ]
  },
  {
   "cell_type": "code",
   "execution_count": 23,
   "metadata": {},
   "outputs": [
    {
     "name": "stdout",
     "output_type": "stream",
     "text": [
      "Reporte de Clasificación:\n",
      "              precision    recall  f1-score   support\n",
      "\n",
      "         0.0       1.00      0.87      0.93        54\n",
      "         1.0       0.93      1.00      0.96        89\n",
      "\n",
      "    accuracy                           0.95       143\n",
      "   macro avg       0.96      0.94      0.95       143\n",
      "weighted avg       0.95      0.95      0.95       143\n",
      "\n"
     ]
    }
   ],
   "source": [
    "# Reporte de Clasificacion\n",
    "report = classification_report(y_test, prediction)\n",
    "print(\"Reporte de Clasificación:\")\n",
    "print(report)"
   ]
  },
  {
   "cell_type": "markdown",
   "metadata": {},
   "source": [
    "### 1.2 Random Search\n",
    "\n",
    "La metodología es muy parecida. La principal diferencia radica en que, para crear la grilla, ya no debemos pasar valores para los hiperparámetros, sino un generador aleatorio para cada atributo, en aquellos atributos que queremos que explore aleatoriamente."
   ]
  },
  {
   "cell_type": "code",
   "execution_count": 24,
   "metadata": {},
   "outputs": [],
   "source": [
    "# Grilla para Random Search\n",
    "param_dist = {'n_neighbors':sp.stats.randint(1, 20),\n",
    "              'weights': ['uniform', 'distance'], \n",
    "              'leaf_size':sp.stats.randint(1, 10),\n",
    "              'algorithm':['auto', 'kd_tree']}"
   ]
  },
  {
   "cell_type": "code",
   "execution_count": 26,
   "metadata": {},
   "outputs": [
    {
     "name": "stdout",
     "output_type": "stream",
     "text": [
      "Help on rv_frozen in module scipy.stats._distn_infrastructure object:\n",
      "\n",
      "class rv_frozen(builtins.object)\n",
      " |  rv_frozen(dist, *args, **kwds)\n",
      " |  \n",
      " |  # Frozen RV class\n",
      " |  \n",
      " |  Methods defined here:\n",
      " |  \n",
      " |  __init__(self, dist, *args, **kwds)\n",
      " |      Initialize self.  See help(type(self)) for accurate signature.\n",
      " |  \n",
      " |  cdf(self, x)\n",
      " |  \n",
      " |  entropy(self)\n",
      " |  \n",
      " |  expect(self, func=None, lb=None, ub=None, conditional=False, **kwds)\n",
      " |  \n",
      " |  interval(self, alpha)\n",
      " |  \n",
      " |  isf(self, q)\n",
      " |  \n",
      " |  logcdf(self, x)\n",
      " |  \n",
      " |  logpdf(self, x)\n",
      " |  \n",
      " |  logpmf(self, k)\n",
      " |  \n",
      " |  logsf(self, x)\n",
      " |  \n",
      " |  mean(self)\n",
      " |  \n",
      " |  median(self)\n",
      " |  \n",
      " |  moment(self, n)\n",
      " |  \n",
      " |  pdf(self, x)\n",
      " |  \n",
      " |  pmf(self, k)\n",
      " |  \n",
      " |  ppf(self, q)\n",
      " |  \n",
      " |  rvs(self, size=None, random_state=None)\n",
      " |  \n",
      " |  sf(self, x)\n",
      " |  \n",
      " |  stats(self, moments='mv')\n",
      " |  \n",
      " |  std(self)\n",
      " |  \n",
      " |  support(self)\n",
      " |  \n",
      " |  var(self)\n",
      " |  \n",
      " |  ----------------------------------------------------------------------\n",
      " |  Data descriptors defined here:\n",
      " |  \n",
      " |  __dict__\n",
      " |      dictionary for instance variables (if defined)\n",
      " |  \n",
      " |  __weakref__\n",
      " |      list of weak references to the object (if defined)\n",
      " |  \n",
      " |  random_state\n",
      "\n"
     ]
    }
   ],
   "source": [
    "help(sp.stats.randint(1, 10))"
   ]
  },
  {
   "cell_type": "markdown",
   "metadata": {},
   "source": [
    "Ya podemos entrenar nuestro modelo. Presta atención al parámetro `n_iter`."
   ]
  },
  {
   "cell_type": "code",
   "execution_count": 27,
   "metadata": {},
   "outputs": [
    {
     "data": {
      "text/plain": [
       "RandomizedSearchCV(cv=5, estimator=KNeighborsClassifier(), n_iter=100,\n",
       "                   param_distributions={'algorithm': ['auto', 'kd_tree'],\n",
       "                                        'leaf_size': <scipy.stats._distn_infrastructure.rv_frozen object at 0x0000017FFC1A1448>,\n",
       "                                        'n_neighbors': <scipy.stats._distn_infrastructure.rv_frozen object at 0x0000017FFC1A1288>,\n",
       "                                        'weights': ['uniform', 'distance']},\n",
       "                   random_state=0)"
      ]
     },
     "execution_count": 27,
     "metadata": {},
     "output_type": "execute_result"
    }
   ],
   "source": [
    "# ESTRATEGIA 2: Random Search\n",
    "model = RandomizedSearchCV(knn, param_dist,n_iter=100, random_state=0, cv=5)\n",
    "\n",
    "# Entrenamos: KNN con la grilla definida arriba y CV con tamaño de Fold=5\n",
    "model.fit(X_train, y_train)"
   ]
  },
  {
   "cell_type": "code",
   "execution_count": 28,
   "metadata": {},
   "outputs": [
    {
     "name": "stdout",
     "output_type": "stream",
     "text": [
      "Mejores parametros: {'algorithm': 'kd_tree', 'leaf_size': 1, 'n_neighbors': 18, 'weights': 'uniform'}\n",
      "Mejor Score: 0.8872777017783857\n",
      "\n"
     ]
    },
    {
     "data": {
      "text/html": [
       "<div>\n",
       "<style scoped>\n",
       "    .dataframe tbody tr th:only-of-type {\n",
       "        vertical-align: middle;\n",
       "    }\n",
       "\n",
       "    .dataframe tbody tr th {\n",
       "        vertical-align: top;\n",
       "    }\n",
       "\n",
       "    .dataframe thead th {\n",
       "        text-align: right;\n",
       "    }\n",
       "</style>\n",
       "<table border=\"1\" class=\"dataframe\">\n",
       "  <thead>\n",
       "    <tr style=\"text-align: right;\">\n",
       "      <th></th>\n",
       "      <th>mean_fit_time</th>\n",
       "      <th>std_fit_time</th>\n",
       "      <th>mean_score_time</th>\n",
       "      <th>std_score_time</th>\n",
       "      <th>param_algorithm</th>\n",
       "      <th>param_leaf_size</th>\n",
       "      <th>param_n_neighbors</th>\n",
       "      <th>param_weights</th>\n",
       "      <th>params</th>\n",
       "      <th>split0_test_score</th>\n",
       "      <th>split1_test_score</th>\n",
       "      <th>split2_test_score</th>\n",
       "      <th>split3_test_score</th>\n",
       "      <th>split4_test_score</th>\n",
       "      <th>mean_test_score</th>\n",
       "      <th>std_test_score</th>\n",
       "      <th>rank_test_score</th>\n",
       "    </tr>\n",
       "  </thead>\n",
       "  <tbody>\n",
       "    <tr>\n",
       "      <th>0</th>\n",
       "      <td>0.004003</td>\n",
       "      <td>6.331666e-04</td>\n",
       "      <td>0.004233</td>\n",
       "      <td>0.000744</td>\n",
       "      <td>auto</td>\n",
       "      <td>6</td>\n",
       "      <td>1</td>\n",
       "      <td>distance</td>\n",
       "      <td>{'algorithm': 'auto', 'leaf_size': 6, 'n_neigh...</td>\n",
       "      <td>0.895349</td>\n",
       "      <td>0.858824</td>\n",
       "      <td>0.858824</td>\n",
       "      <td>0.823529</td>\n",
       "      <td>0.800000</td>\n",
       "      <td>0.847305</td>\n",
       "      <td>0.032792</td>\n",
       "      <td>88</td>\n",
       "    </tr>\n",
       "    <tr>\n",
       "      <th>1</th>\n",
       "      <td>0.004203</td>\n",
       "      <td>1.602042e-03</td>\n",
       "      <td>0.004002</td>\n",
       "      <td>0.001095</td>\n",
       "      <td>kd_tree</td>\n",
       "      <td>4</td>\n",
       "      <td>8</td>\n",
       "      <td>distance</td>\n",
       "      <td>{'algorithm': 'kd_tree', 'leaf_size': 4, 'n_ne...</td>\n",
       "      <td>0.895349</td>\n",
       "      <td>0.882353</td>\n",
       "      <td>0.941176</td>\n",
       "      <td>0.823529</td>\n",
       "      <td>0.870588</td>\n",
       "      <td>0.882599</td>\n",
       "      <td>0.038020</td>\n",
       "      <td>8</td>\n",
       "    </tr>\n",
       "    <tr>\n",
       "      <th>2</th>\n",
       "      <td>0.002800</td>\n",
       "      <td>9.834833e-04</td>\n",
       "      <td>0.004003</td>\n",
       "      <td>0.002001</td>\n",
       "      <td>kd_tree</td>\n",
       "      <td>6</td>\n",
       "      <td>19</td>\n",
       "      <td>uniform</td>\n",
       "      <td>{'algorithm': 'kd_tree', 'leaf_size': 6, 'n_ne...</td>\n",
       "      <td>0.906977</td>\n",
       "      <td>0.858824</td>\n",
       "      <td>0.952941</td>\n",
       "      <td>0.823529</td>\n",
       "      <td>0.870588</td>\n",
       "      <td>0.882572</td>\n",
       "      <td>0.044139</td>\n",
       "      <td>36</td>\n",
       "    </tr>\n",
       "    <tr>\n",
       "      <th>3</th>\n",
       "      <td>0.003125</td>\n",
       "      <td>6.250286e-03</td>\n",
       "      <td>0.003125</td>\n",
       "      <td>0.006250</td>\n",
       "      <td>kd_tree</td>\n",
       "      <td>7</td>\n",
       "      <td>13</td>\n",
       "      <td>uniform</td>\n",
       "      <td>{'algorithm': 'kd_tree', 'leaf_size': 7, 'n_ne...</td>\n",
       "      <td>0.895349</td>\n",
       "      <td>0.870588</td>\n",
       "      <td>0.941176</td>\n",
       "      <td>0.823529</td>\n",
       "      <td>0.858824</td>\n",
       "      <td>0.877893</td>\n",
       "      <td>0.039197</td>\n",
       "      <td>57</td>\n",
       "    </tr>\n",
       "    <tr>\n",
       "      <th>4</th>\n",
       "      <td>0.000000</td>\n",
       "      <td>0.000000e+00</td>\n",
       "      <td>0.003125</td>\n",
       "      <td>0.006250</td>\n",
       "      <td>kd_tree</td>\n",
       "      <td>7</td>\n",
       "      <td>8</td>\n",
       "      <td>distance</td>\n",
       "      <td>{'algorithm': 'kd_tree', 'leaf_size': 7, 'n_ne...</td>\n",
       "      <td>0.895349</td>\n",
       "      <td>0.882353</td>\n",
       "      <td>0.941176</td>\n",
       "      <td>0.823529</td>\n",
       "      <td>0.870588</td>\n",
       "      <td>0.882599</td>\n",
       "      <td>0.038020</td>\n",
       "      <td>8</td>\n",
       "    </tr>\n",
       "    <tr>\n",
       "      <th>...</th>\n",
       "      <td>...</td>\n",
       "      <td>...</td>\n",
       "      <td>...</td>\n",
       "      <td>...</td>\n",
       "      <td>...</td>\n",
       "      <td>...</td>\n",
       "      <td>...</td>\n",
       "      <td>...</td>\n",
       "      <td>...</td>\n",
       "      <td>...</td>\n",
       "      <td>...</td>\n",
       "      <td>...</td>\n",
       "      <td>...</td>\n",
       "      <td>...</td>\n",
       "      <td>...</td>\n",
       "      <td>...</td>\n",
       "      <td>...</td>\n",
       "    </tr>\n",
       "    <tr>\n",
       "      <th>95</th>\n",
       "      <td>0.002802</td>\n",
       "      <td>4.002810e-04</td>\n",
       "      <td>0.002202</td>\n",
       "      <td>0.000400</td>\n",
       "      <td>auto</td>\n",
       "      <td>6</td>\n",
       "      <td>12</td>\n",
       "      <td>distance</td>\n",
       "      <td>{'algorithm': 'auto', 'leaf_size': 6, 'n_neigh...</td>\n",
       "      <td>0.895349</td>\n",
       "      <td>0.882353</td>\n",
       "      <td>0.941176</td>\n",
       "      <td>0.823529</td>\n",
       "      <td>0.870588</td>\n",
       "      <td>0.882599</td>\n",
       "      <td>0.038020</td>\n",
       "      <td>8</td>\n",
       "    </tr>\n",
       "    <tr>\n",
       "      <th>96</th>\n",
       "      <td>0.003002</td>\n",
       "      <td>6.327331e-04</td>\n",
       "      <td>0.002602</td>\n",
       "      <td>0.000490</td>\n",
       "      <td>auto</td>\n",
       "      <td>3</td>\n",
       "      <td>14</td>\n",
       "      <td>distance</td>\n",
       "      <td>{'algorithm': 'auto', 'leaf_size': 3, 'n_neigh...</td>\n",
       "      <td>0.895349</td>\n",
       "      <td>0.882353</td>\n",
       "      <td>0.941176</td>\n",
       "      <td>0.823529</td>\n",
       "      <td>0.858824</td>\n",
       "      <td>0.880246</td>\n",
       "      <td>0.039040</td>\n",
       "      <td>49</td>\n",
       "    </tr>\n",
       "    <tr>\n",
       "      <th>97</th>\n",
       "      <td>0.002602</td>\n",
       "      <td>4.899991e-04</td>\n",
       "      <td>0.002402</td>\n",
       "      <td>0.000490</td>\n",
       "      <td>kd_tree</td>\n",
       "      <td>7</td>\n",
       "      <td>11</td>\n",
       "      <td>distance</td>\n",
       "      <td>{'algorithm': 'kd_tree', 'leaf_size': 7, 'n_ne...</td>\n",
       "      <td>0.895349</td>\n",
       "      <td>0.870588</td>\n",
       "      <td>0.941176</td>\n",
       "      <td>0.823529</td>\n",
       "      <td>0.870588</td>\n",
       "      <td>0.880246</td>\n",
       "      <td>0.038325</td>\n",
       "      <td>47</td>\n",
       "    </tr>\n",
       "    <tr>\n",
       "      <th>98</th>\n",
       "      <td>0.003002</td>\n",
       "      <td>1.907349e-07</td>\n",
       "      <td>0.005203</td>\n",
       "      <td>0.000400</td>\n",
       "      <td>auto</td>\n",
       "      <td>1</td>\n",
       "      <td>4</td>\n",
       "      <td>uniform</td>\n",
       "      <td>{'algorithm': 'auto', 'leaf_size': 1, 'n_neigh...</td>\n",
       "      <td>0.872093</td>\n",
       "      <td>0.870588</td>\n",
       "      <td>0.917647</td>\n",
       "      <td>0.800000</td>\n",
       "      <td>0.858824</td>\n",
       "      <td>0.863830</td>\n",
       "      <td>0.037708</td>\n",
       "      <td>84</td>\n",
       "    </tr>\n",
       "    <tr>\n",
       "      <th>99</th>\n",
       "      <td>0.003002</td>\n",
       "      <td>3.162980e-07</td>\n",
       "      <td>0.002402</td>\n",
       "      <td>0.000491</td>\n",
       "      <td>kd_tree</td>\n",
       "      <td>7</td>\n",
       "      <td>7</td>\n",
       "      <td>distance</td>\n",
       "      <td>{'algorithm': 'kd_tree', 'leaf_size': 7, 'n_ne...</td>\n",
       "      <td>0.895349</td>\n",
       "      <td>0.882353</td>\n",
       "      <td>0.941176</td>\n",
       "      <td>0.823529</td>\n",
       "      <td>0.858824</td>\n",
       "      <td>0.880246</td>\n",
       "      <td>0.039040</td>\n",
       "      <td>49</td>\n",
       "    </tr>\n",
       "  </tbody>\n",
       "</table>\n",
       "<p>100 rows × 17 columns</p>\n",
       "</div>"
      ],
      "text/plain": [
       "    mean_fit_time  std_fit_time  mean_score_time  std_score_time  \\\n",
       "0        0.004003  6.331666e-04         0.004233        0.000744   \n",
       "1        0.004203  1.602042e-03         0.004002        0.001095   \n",
       "2        0.002800  9.834833e-04         0.004003        0.002001   \n",
       "3        0.003125  6.250286e-03         0.003125        0.006250   \n",
       "4        0.000000  0.000000e+00         0.003125        0.006250   \n",
       "..            ...           ...              ...             ...   \n",
       "95       0.002802  4.002810e-04         0.002202        0.000400   \n",
       "96       0.003002  6.327331e-04         0.002602        0.000490   \n",
       "97       0.002602  4.899991e-04         0.002402        0.000490   \n",
       "98       0.003002  1.907349e-07         0.005203        0.000400   \n",
       "99       0.003002  3.162980e-07         0.002402        0.000491   \n",
       "\n",
       "   param_algorithm param_leaf_size param_n_neighbors param_weights  \\\n",
       "0             auto               6                 1      distance   \n",
       "1          kd_tree               4                 8      distance   \n",
       "2          kd_tree               6                19       uniform   \n",
       "3          kd_tree               7                13       uniform   \n",
       "4          kd_tree               7                 8      distance   \n",
       "..             ...             ...               ...           ...   \n",
       "95            auto               6                12      distance   \n",
       "96            auto               3                14      distance   \n",
       "97         kd_tree               7                11      distance   \n",
       "98            auto               1                 4       uniform   \n",
       "99         kd_tree               7                 7      distance   \n",
       "\n",
       "                                               params  split0_test_score  \\\n",
       "0   {'algorithm': 'auto', 'leaf_size': 6, 'n_neigh...           0.895349   \n",
       "1   {'algorithm': 'kd_tree', 'leaf_size': 4, 'n_ne...           0.895349   \n",
       "2   {'algorithm': 'kd_tree', 'leaf_size': 6, 'n_ne...           0.906977   \n",
       "3   {'algorithm': 'kd_tree', 'leaf_size': 7, 'n_ne...           0.895349   \n",
       "4   {'algorithm': 'kd_tree', 'leaf_size': 7, 'n_ne...           0.895349   \n",
       "..                                                ...                ...   \n",
       "95  {'algorithm': 'auto', 'leaf_size': 6, 'n_neigh...           0.895349   \n",
       "96  {'algorithm': 'auto', 'leaf_size': 3, 'n_neigh...           0.895349   \n",
       "97  {'algorithm': 'kd_tree', 'leaf_size': 7, 'n_ne...           0.895349   \n",
       "98  {'algorithm': 'auto', 'leaf_size': 1, 'n_neigh...           0.872093   \n",
       "99  {'algorithm': 'kd_tree', 'leaf_size': 7, 'n_ne...           0.895349   \n",
       "\n",
       "    split1_test_score  split2_test_score  split3_test_score  \\\n",
       "0            0.858824           0.858824           0.823529   \n",
       "1            0.882353           0.941176           0.823529   \n",
       "2            0.858824           0.952941           0.823529   \n",
       "3            0.870588           0.941176           0.823529   \n",
       "4            0.882353           0.941176           0.823529   \n",
       "..                ...                ...                ...   \n",
       "95           0.882353           0.941176           0.823529   \n",
       "96           0.882353           0.941176           0.823529   \n",
       "97           0.870588           0.941176           0.823529   \n",
       "98           0.870588           0.917647           0.800000   \n",
       "99           0.882353           0.941176           0.823529   \n",
       "\n",
       "    split4_test_score  mean_test_score  std_test_score  rank_test_score  \n",
       "0            0.800000         0.847305        0.032792               88  \n",
       "1            0.870588         0.882599        0.038020                8  \n",
       "2            0.870588         0.882572        0.044139               36  \n",
       "3            0.858824         0.877893        0.039197               57  \n",
       "4            0.870588         0.882599        0.038020                8  \n",
       "..                ...              ...             ...              ...  \n",
       "95           0.870588         0.882599        0.038020                8  \n",
       "96           0.858824         0.880246        0.039040               49  \n",
       "97           0.870588         0.880246        0.038325               47  \n",
       "98           0.858824         0.863830        0.037708               84  \n",
       "99           0.858824         0.880246        0.039040               49  \n",
       "\n",
       "[100 rows x 17 columns]"
      ]
     },
     "execution_count": 28,
     "metadata": {},
     "output_type": "execute_result"
    }
   ],
   "source": [
    "print(\"Mejores parametros: \"+str(model.best_params_))\n",
    "print(\"Mejor Score: \"+str(model.best_score_)+'\\n')\n",
    "\n",
    "scores = pd.DataFrame(model.cv_results_)\n",
    "scores"
   ]
  },
  {
   "cell_type": "markdown",
   "metadata": {},
   "source": [
    "¿Encontró algo parecido a Grid Search?¿Fue más rápido?\n",
    "\n",
    "\n",
    "lo mismo.. me parecio que fue más rápido"
   ]
  },
  {
   "cell_type": "code",
   "execution_count": 29,
   "metadata": {},
   "outputs": [],
   "source": [
    "#Predecimos en los datos de test\n",
    "prediction = model.predict(X_test)"
   ]
  },
  {
   "cell_type": "code",
   "execution_count": 30,
   "metadata": {},
   "outputs": [
    {
     "name": "stdout",
     "output_type": "stream",
     "text": [
      "Matriz de confusión:\n",
      "[[44 10]\n",
      " [ 1 88]]\n"
     ]
    }
   ],
   "source": [
    "# Matriz de Confusion\n",
    "cm = confusion_matrix(y_test,prediction)\n",
    "print(\"Matriz de confusión:\")\n",
    "print(cm)"
   ]
  },
  {
   "cell_type": "code",
   "execution_count": 31,
   "metadata": {},
   "outputs": [
    {
     "name": "stdout",
     "output_type": "stream",
     "text": [
      "Reporte de Clasificación:\n",
      "              precision    recall  f1-score   support\n",
      "\n",
      "         0.0       0.98      0.81      0.89        54\n",
      "         1.0       0.90      0.99      0.94        89\n",
      "\n",
      "    accuracy                           0.92       143\n",
      "   macro avg       0.94      0.90      0.92       143\n",
      "weighted avg       0.93      0.92      0.92       143\n",
      "\n"
     ]
    }
   ],
   "source": [
    "# Reporte de Clasificacion\n",
    "report = classification_report(y_test, prediction)\n",
    "print(\"Reporte de Clasificación:\")\n",
    "print(report)"
   ]
  },
  {
   "cell_type": "markdown",
   "metadata": {},
   "source": [
    "---\n",
    "## Se acabo la parte guiada, ahora es tú turno...\n",
    "\n",
    "<img src=\"https://www.mememaker.net/api/bucket?path=static/img/memes/full/2020/Jan/6/10/now-it-s-your-turn-15161.png\" width=\"400\" />\n",
    "    \n",
    "Ahora es tú turno de aplicar todo lo aprendido con un nuevo conjunto de datos. Para ello, vamos a generarlo de manera artificial usando la función [make_classification()](https://scikit-learn.org/stable/modules/generated/sklearn.datasets.make_classification.html) de sklearn."
   ]
  },
  {
   "cell_type": "code",
   "execution_count": 55,
   "metadata": {},
   "outputs": [],
   "source": [
    "X, y = make_classification(n_samples=500,n_features=5,n_classes=3,n_clusters_per_class=1)"
   ]
  },
  {
   "cell_type": "code",
   "execution_count": 45,
   "metadata": {},
   "outputs": [],
   "source": [
    "df = pd.DataFrame(np.c_[X, y])"
   ]
  },
  {
   "cell_type": "code",
   "execution_count": 46,
   "metadata": {},
   "outputs": [
    {
     "data": {
      "text/html": [
       "<div>\n",
       "<style scoped>\n",
       "    .dataframe tbody tr th:only-of-type {\n",
       "        vertical-align: middle;\n",
       "    }\n",
       "\n",
       "    .dataframe tbody tr th {\n",
       "        vertical-align: top;\n",
       "    }\n",
       "\n",
       "    .dataframe thead th {\n",
       "        text-align: right;\n",
       "    }\n",
       "</style>\n",
       "<table border=\"1\" class=\"dataframe\">\n",
       "  <thead>\n",
       "    <tr style=\"text-align: right;\">\n",
       "      <th></th>\n",
       "      <th>0</th>\n",
       "      <th>1</th>\n",
       "      <th>2</th>\n",
       "      <th>3</th>\n",
       "      <th>4</th>\n",
       "      <th>5</th>\n",
       "    </tr>\n",
       "  </thead>\n",
       "  <tbody>\n",
       "    <tr>\n",
       "      <th>0</th>\n",
       "      <td>-0.136038</td>\n",
       "      <td>-1.879774</td>\n",
       "      <td>1.395894</td>\n",
       "      <td>-1.946821</td>\n",
       "      <td>-1.557779</td>\n",
       "      <td>1.0</td>\n",
       "    </tr>\n",
       "    <tr>\n",
       "      <th>1</th>\n",
       "      <td>-0.021267</td>\n",
       "      <td>-1.647378</td>\n",
       "      <td>4.401866</td>\n",
       "      <td>-0.619725</td>\n",
       "      <td>0.716138</td>\n",
       "      <td>0.0</td>\n",
       "    </tr>\n",
       "    <tr>\n",
       "      <th>2</th>\n",
       "      <td>0.182018</td>\n",
       "      <td>0.938967</td>\n",
       "      <td>-1.010750</td>\n",
       "      <td>2.237592</td>\n",
       "      <td>3.201852</td>\n",
       "      <td>2.0</td>\n",
       "    </tr>\n",
       "    <tr>\n",
       "      <th>3</th>\n",
       "      <td>0.043485</td>\n",
       "      <td>-0.525979</td>\n",
       "      <td>0.649699</td>\n",
       "      <td>0.359751</td>\n",
       "      <td>1.296927</td>\n",
       "      <td>0.0</td>\n",
       "    </tr>\n",
       "    <tr>\n",
       "      <th>4</th>\n",
       "      <td>0.028985</td>\n",
       "      <td>-0.705512</td>\n",
       "      <td>-2.231172</td>\n",
       "      <td>0.157097</td>\n",
       "      <td>1.116119</td>\n",
       "      <td>0.0</td>\n",
       "    </tr>\n",
       "  </tbody>\n",
       "</table>\n",
       "</div>"
      ],
      "text/plain": [
       "          0         1         2         3         4    5\n",
       "0 -0.136038 -1.879774  1.395894 -1.946821 -1.557779  1.0\n",
       "1 -0.021267 -1.647378  4.401866 -0.619725  0.716138  0.0\n",
       "2  0.182018  0.938967 -1.010750  2.237592  3.201852  2.0\n",
       "3  0.043485 -0.525979  0.649699  0.359751  1.296927  0.0\n",
       "4  0.028985 -0.705512 -2.231172  0.157097  1.116119  0.0"
      ]
     },
     "execution_count": 46,
     "metadata": {},
     "output_type": "execute_result"
    }
   ],
   "source": [
    "df.head()"
   ]
  },
  {
   "cell_type": "code",
   "execution_count": 48,
   "metadata": {},
   "outputs": [],
   "source": [
    "X = df.drop([5],axis=1)\n",
    "y = df[5]\n",
    "\n",
    "# Dividimos los datos en Train y Test\n",
    "X_train, X_test, y_train, y_test = train_test_split(X, y, random_state=42)"
   ]
  },
  {
   "cell_type": "code",
   "execution_count": 49,
   "metadata": {},
   "outputs": [],
   "source": [
    "knn = KNeighborsClassifier()"
   ]
  },
  {
   "cell_type": "code",
   "execution_count": 50,
   "metadata": {},
   "outputs": [],
   "source": [
    "# Grilla para Grid Search\n",
    "param_grid = {'n_neighbors':np.arange(1, 20),\n",
    "              'weights': ['uniform', 'distance'], \n",
    "              'leaf_size':[1,3,5,7,10],\n",
    "              'algorithm':['auto', 'kd_tree']}"
   ]
  },
  {
   "cell_type": "code",
   "execution_count": 51,
   "metadata": {},
   "outputs": [
    {
     "data": {
      "text/plain": [
       "GridSearchCV(cv=5, estimator=KNeighborsClassifier(),\n",
       "             param_grid={'algorithm': ['auto', 'kd_tree'],\n",
       "                         'leaf_size': [1, 3, 5, 7, 10],\n",
       "                         'n_neighbors': array([ 1,  2,  3,  4,  5,  6,  7,  8,  9, 10, 11, 12, 13, 14, 15, 16, 17,\n",
       "       18, 19]),\n",
       "                         'weights': ['uniform', 'distance']})"
      ]
     },
     "execution_count": 51,
     "metadata": {},
     "output_type": "execute_result"
    }
   ],
   "source": [
    "# ESTRATEGIA 1: Grid Search\n",
    "model = GridSearchCV(knn, param_grid=param_grid, cv=5)\n",
    "\n",
    "# Entrenamos: KNN con la grilla definida arriba y CV con tamaño de Fold=5\n",
    "model.fit(X_train, y_train)"
   ]
  },
  {
   "cell_type": "code",
   "execution_count": 56,
   "metadata": {},
   "outputs": [
    {
     "name": "stdout",
     "output_type": "stream",
     "text": [
      "Mejores parametros: {'algorithm': 'auto', 'leaf_size': 1, 'n_neighbors': 8, 'weights': 'distance'}\n",
      "Mejor Score: 0.9546666666666667\n",
      "\n"
     ]
    }
   ],
   "source": [
    "print(\"Mejores parametros: \"+str(model.best_params_))\n",
    "print(\"Mejor Score: \"+str(model.best_score_)+'\\n')\n",
    "\n",
    "#scores = pd.DataFrame(model.cv_results_)\n",
    "#scores"
   ]
  },
  {
   "cell_type": "code",
   "execution_count": 57,
   "metadata": {},
   "outputs": [],
   "source": [
    "#Predecimos en los datos de test\n",
    "prediction = model.predict(X_test)"
   ]
  },
  {
   "cell_type": "code",
   "execution_count": 58,
   "metadata": {},
   "outputs": [
    {
     "name": "stdout",
     "output_type": "stream",
     "text": [
      "Matriz de confusión:\n",
      "[[41  0  1]\n",
      " [ 2 44  2]\n",
      " [ 0  1 34]]\n"
     ]
    }
   ],
   "source": [
    "# Matriz de Confusion\n",
    "cm = confusion_matrix(y_test,prediction)\n",
    "print(\"Matriz de confusión:\")\n",
    "print(cm)"
   ]
  },
  {
   "cell_type": "code",
   "execution_count": 59,
   "metadata": {},
   "outputs": [
    {
     "name": "stdout",
     "output_type": "stream",
     "text": [
      "Exactitud: 0.952\n"
     ]
    }
   ],
   "source": [
    "print('Exactitud:', accuracy_score(y_test, prediction))"
   ]
  },
  {
   "cell_type": "code",
   "execution_count": 60,
   "metadata": {},
   "outputs": [
    {
     "name": "stdout",
     "output_type": "stream",
     "text": [
      "Reporte de Clasificación:\n",
      "              precision    recall  f1-score   support\n",
      "\n",
      "         0.0       0.95      0.98      0.96        42\n",
      "         1.0       0.98      0.92      0.95        48\n",
      "         2.0       0.92      0.97      0.94        35\n",
      "\n",
      "    accuracy                           0.95       125\n",
      "   macro avg       0.95      0.95      0.95       125\n",
      "weighted avg       0.95      0.95      0.95       125\n",
      "\n"
     ]
    }
   ],
   "source": [
    "# Reporte de Clasificacion\n",
    "report = classification_report(y_test, prediction)\n",
    "print(\"Reporte de Clasificación:\")\n",
    "print(report)"
   ]
  },
  {
   "cell_type": "markdown",
   "metadata": {},
   "source": [
    "# circulos"
   ]
  },
  {
   "cell_type": "code",
   "execution_count": 27,
   "metadata": {},
   "outputs": [],
   "source": [
    "X,y = make_circles(n_samples=500,random_state=45, noise=0.05)"
   ]
  },
  {
   "cell_type": "code",
   "execution_count": 28,
   "metadata": {},
   "outputs": [],
   "source": [
    "df = pd.DataFrame(np.c_[X, y],columns=['col1','col2','target'])"
   ]
  },
  {
   "cell_type": "code",
   "execution_count": 29,
   "metadata": {},
   "outputs": [
    {
     "data": {
      "text/html": [
       "<div>\n",
       "<style scoped>\n",
       "    .dataframe tbody tr th:only-of-type {\n",
       "        vertical-align: middle;\n",
       "    }\n",
       "\n",
       "    .dataframe tbody tr th {\n",
       "        vertical-align: top;\n",
       "    }\n",
       "\n",
       "    .dataframe thead th {\n",
       "        text-align: right;\n",
       "    }\n",
       "</style>\n",
       "<table border=\"1\" class=\"dataframe\">\n",
       "  <thead>\n",
       "    <tr style=\"text-align: right;\">\n",
       "      <th></th>\n",
       "      <th>col1</th>\n",
       "      <th>col2</th>\n",
       "      <th>target</th>\n",
       "    </tr>\n",
       "  </thead>\n",
       "  <tbody>\n",
       "    <tr>\n",
       "      <th>0</th>\n",
       "      <td>0.523698</td>\n",
       "      <td>-0.987836</td>\n",
       "      <td>0.0</td>\n",
       "    </tr>\n",
       "    <tr>\n",
       "      <th>1</th>\n",
       "      <td>0.583779</td>\n",
       "      <td>-0.348949</td>\n",
       "      <td>1.0</td>\n",
       "    </tr>\n",
       "    <tr>\n",
       "      <th>2</th>\n",
       "      <td>0.247207</td>\n",
       "      <td>0.691232</td>\n",
       "      <td>1.0</td>\n",
       "    </tr>\n",
       "    <tr>\n",
       "      <th>3</th>\n",
       "      <td>0.538564</td>\n",
       "      <td>0.808870</td>\n",
       "      <td>0.0</td>\n",
       "    </tr>\n",
       "    <tr>\n",
       "      <th>4</th>\n",
       "      <td>0.232666</td>\n",
       "      <td>0.714214</td>\n",
       "      <td>1.0</td>\n",
       "    </tr>\n",
       "  </tbody>\n",
       "</table>\n",
       "</div>"
      ],
      "text/plain": [
       "       col1      col2  target\n",
       "0  0.523698 -0.987836     0.0\n",
       "1  0.583779 -0.348949     1.0\n",
       "2  0.247207  0.691232     1.0\n",
       "3  0.538564  0.808870     0.0\n",
       "4  0.232666  0.714214     1.0"
      ]
     },
     "execution_count": 29,
     "metadata": {},
     "output_type": "execute_result"
    }
   ],
   "source": [
    "df.head()"
   ]
  },
  {
   "cell_type": "code",
   "execution_count": 30,
   "metadata": {},
   "outputs": [
    {
     "data": {
      "text/plain": [
       "<AxesSubplot:xlabel='col1', ylabel='col2'>"
      ]
     },
     "execution_count": 30,
     "metadata": {},
     "output_type": "execute_result"
    },
    {
     "data": {
      "image/png": "[encoded data removed]",
      "text/plain": [
       "<Figure size 432x288 with 1 Axes>"
      ]
     },
     "metadata": {
      "needs_background": "light"
     },
     "output_type": "display_data"
    }
   ],
   "source": [
    "sns.scatterplot(x=\"col1\",y=\"col2\",data=df,hue=df.target.to_list())"
   ]
  },
  {
   "cell_type": "code",
   "execution_count": 31,
   "metadata": {},
   "outputs": [],
   "source": [
    "X = df.drop(['target'],axis=1)\n",
    "y = df['target']\n",
    "\n",
    "# Dividimos los datos en Train y Test\n",
    "X_train, X_test, y_train, y_test = train_test_split(X, y, random_state=42)"
   ]
  },
  {
   "cell_type": "code",
   "execution_count": 32,
   "metadata": {},
   "outputs": [],
   "source": [
    "knn = KNeighborsClassifier()"
   ]
  },
  {
   "cell_type": "code",
   "execution_count": 33,
   "metadata": {},
   "outputs": [],
   "source": [
    "# Grilla para Grid Search\n",
    "param_grid = {'n_neighbors':np.arange(1, 20),\n",
    "              'weights': ['uniform', 'distance'], \n",
    "              'leaf_size':[1,3,5,7,10],\n",
    "              'algorithm':['auto', 'kd_tree']}"
   ]
  },
  {
   "cell_type": "code",
   "execution_count": 34,
   "metadata": {},
   "outputs": [
    {
     "data": {
      "text/plain": [
       "GridSearchCV(cv=5, estimator=KNeighborsClassifier(),\n",
       "             param_grid={'algorithm': ['auto', 'kd_tree'],\n",
       "                         'leaf_size': [1, 3, 5, 7, 10],\n",
       "                         'n_neighbors': array([ 1,  2,  3,  4,  5,  6,  7,  8,  9, 10, 11, 12, 13, 14, 15, 16, 17,\n",
       "       18, 19]),\n",
       "                         'weights': ['uniform', 'distance']})"
      ]
     },
     "execution_count": 34,
     "metadata": {},
     "output_type": "execute_result"
    }
   ],
   "source": [
    "# ESTRATEGIA 1: Grid Search\n",
    "model = GridSearchCV(knn, param_grid=param_grid, cv=5)\n",
    "\n",
    "# Entrenamos: KNN con la grilla definida arriba y CV con tamaño de Fold=5\n",
    "model.fit(X_train, y_train)"
   ]
  },
  {
   "cell_type": "code",
   "execution_count": 35,
   "metadata": {},
   "outputs": [
    {
     "name": "stdout",
     "output_type": "stream",
     "text": [
      "Mejores parametros: {'algorithm': 'auto', 'leaf_size': 1, 'n_neighbors': 4, 'weights': 'uniform'}\n",
      "Mejor Score: 0.9706666666666667\n",
      "\n"
     ]
    }
   ],
   "source": [
    "print(\"Mejores parametros: \"+str(model.best_params_))\n",
    "print(\"Mejor Score: \"+str(model.best_score_)+'\\n')\n",
    "\n",
    "# scores = pd.DataFrame(model.cv_results_)\n",
    "# scores"
   ]
  },
  {
   "cell_type": "code",
   "execution_count": 36,
   "metadata": {},
   "outputs": [],
   "source": [
    "#Predecimos en los datos de test\n",
    "prediction = model.predict(X_test)"
   ]
  },
  {
   "cell_type": "code",
   "execution_count": 37,
   "metadata": {},
   "outputs": [
    {
     "name": "stdout",
     "output_type": "stream",
     "text": [
      "Matriz de confusión:\n",
      "[[64  2]\n",
      " [ 5 54]]\n"
     ]
    }
   ],
   "source": [
    "# Matriz de Confusion\n",
    "cm = confusion_matrix(y_test,prediction)\n",
    "print(\"Matriz de confusión:\")\n",
    "print(cm)"
   ]
  },
  {
   "cell_type": "code",
   "execution_count": 38,
   "metadata": {},
   "outputs": [
    {
     "name": "stdout",
     "output_type": "stream",
     "text": [
      "Exactitud: 0.944\n"
     ]
    }
   ],
   "source": [
    "print('Exactitud:', accuracy_score(y_test, prediction))"
   ]
  },
  {
   "cell_type": "code",
   "execution_count": 39,
   "metadata": {},
   "outputs": [
    {
     "name": "stdout",
     "output_type": "stream",
     "text": [
      "Reporte de Clasificación:\n",
      "              precision    recall  f1-score   support\n",
      "\n",
      "         0.0       0.93      0.97      0.95        66\n",
      "         1.0       0.96      0.92      0.94        59\n",
      "\n",
      "    accuracy                           0.94       125\n",
      "   macro avg       0.95      0.94      0.94       125\n",
      "weighted avg       0.94      0.94      0.94       125\n",
      "\n"
     ]
    }
   ],
   "source": [
    "# Reporte de Clasificacion\n",
    "report = classification_report(y_test, prediction)\n",
    "print(\"Reporte de Clasificación:\")\n",
    "print(report)"
   ]
  },
  {
   "cell_type": "code",
   "execution_count": null,
   "metadata": {},
   "outputs": [],
   "source": []
  }
 ],
 "metadata": {
  "kernelspec": {
   "display_name": "Python 3",
   "language": "python",
   "name": "python3"
  },
  "language_info": {
   "codemirror_mode": {
    "name": "ipython",
    "version": 3
   },
   "file_extension": ".py",
   "mimetype": "text/x-python",
   "name": "python",
   "nbconvert_exporter": "python",
   "pygments_lexer": "ipython3",
   "version": "3.7.8"
  }
 },
 "nbformat": 4,
 "nbformat_minor": 4
}
