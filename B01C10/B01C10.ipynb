{
 "cells": [
  {
   "cell_type": "markdown",
   "metadata": {},
   "source": [
    "# Clases en Python\n",
    "\n",
    "## 1 Clases y Objetos\n",
    "\n",
    "### 1.1 ¿Qué son los objetos?\n",
    "Python es un lenguaje de programacion orientado a objetos. Esto quiere decir que posee un tipo de variable particular llamada objeto. Un objeto es un paquete de variables y funciones que conviene tener agrupados por consistencia y comodidad.\n",
    "\n",
    "### 1.2 ¿Qué son las clases?\n",
    "Los objetos tienen una estructura, están compuestos por un conjunto determinado de variables y funciones, a los que llamamos **atributos**. \n",
    "\n",
    "Esta estructura de los objetos no se explicita en el código cada vez que definimos un objeto. En cambio, los objetos suelen crearse a partir de unas *plantillas* a las que llamamos **clases**.\n",
    "\n",
    "Las **clases** le dan la forma a los objetos, definen las variable y funciones que componen a estos objetos.\n",
    "\n",
    "\n",
    "\n",
    "**Definimos una clase**\n",
    "\n",
    "Comenzaremos por definir una clase muy simple, a la que llamaremos `Persona`. Esta clase será la plantilla a través de la cual generaremos objetos, a los que llamaremos **instancias** de esta clase. \n",
    "\n",
    "Para empezar este ejemplo, le daremos los atributos que pensamos indispensables para definir una persona: nombre y edad."
   ]
  },
  {
   "cell_type": "code",
   "execution_count": null,
   "metadata": {},
   "outputs": [],
   "source": []
  },
  {
   "cell_type": "code",
   "execution_count": 1,
   "metadata": {},
   "outputs": [],
   "source": [
    "class Persona:\n",
    "    \"\"\"\n",
    "    Esta es una clase donde se agregan todos los datos\n",
    "    respecto a una persona\n",
    "    \"\"\"\n",
    "    def __init__(self, nombre, edad):\n",
    "        # Todo lo que definamos en __init__ se corre\n",
    "        # al crear una instancia de la clase\n",
    "        self.nombre = nombre\n",
    "        self.edad = edad"
   ]
  },
  {
   "cell_type": "markdown",
   "metadata": {},
   "source": [
    "Hasta ahora no creamos un objeto, sólo definimos la forma que tendrán los objetos de la clase `Persona`. \n",
    "\n",
    "Ahora, usando esta plantilla, sí crearemos una **instancia** de la clase `Persona`, a la que llamaremos p1."
   ]
  },
  {
   "cell_type": "code",
   "execution_count": 2,
   "metadata": {},
   "outputs": [
    {
     "name": "stdout",
     "output_type": "stream",
     "text": [
      "Juan\n",
      "26\n"
     ]
    }
   ],
   "source": [
    "p1 = Persona(\"Juan\", 26)\n",
    "\n",
    "print(p1.nombre)\n",
    "print(p1.edad)"
   ]
  },
  {
   "cell_type": "markdown",
   "metadata": {},
   "source": [
    "Al inspeccionar el tipo de variable, python nos avisa que p1 es un objeto perteneciente a la clase Persona:"
   ]
  },
  {
   "cell_type": "code",
   "execution_count": 3,
   "metadata": {},
   "outputs": [
    {
     "data": {
      "text/plain": [
       "__main__.Persona"
      ]
     },
     "execution_count": 3,
     "metadata": {},
     "output_type": "execute_result"
    }
   ],
   "source": [
    "type(p1)"
   ]
  },
  {
   "cell_type": "markdown",
   "metadata": {},
   "source": [
    "Los atributos de una instancia de la clase pueden modificarse como cualquier variable:"
   ]
  },
  {
   "cell_type": "code",
   "execution_count": 5,
   "metadata": {},
   "outputs": [
    {
     "data": {
      "text/plain": [
       "30"
      ]
     },
     "execution_count": 5,
     "metadata": {},
     "output_type": "execute_result"
    }
   ],
   "source": [
    "p1.edad = 30\n",
    "p1.edad"
   ]
  },
  {
   "cell_type": "markdown",
   "metadata": {},
   "source": [
    "**Ejercicio:** crea una clase llamada `Rectangulo`, cuyos atributos sean las variables `largo_lado_1` y `largo_lado_2`. Luego, crea una instancia de esta clase llamada `c1`, con lados de largo 10 y 20."
   ]
  },
  {
   "cell_type": "code",
   "execution_count": 10,
   "metadata": {},
   "outputs": [],
   "source": [
    "class Rectangulo:\n",
    "    \"\"\"\n",
    "    clase para crear rectangulos\n",
    "    \"\"\"\n",
    "    def __init__(self, largo_lado_1, largo_lado_2):\n",
    "        self.largo_lado_1 = largo_lado_1\n",
    "        self.largo_lado_2 = largo_lado_2"
   ]
  },
  {
   "cell_type": "code",
   "execution_count": 11,
   "metadata": {},
   "outputs": [
    {
     "name": "stdout",
     "output_type": "stream",
     "text": [
      "10  *  20\n"
     ]
    }
   ],
   "source": [
    "c1 = Rectangulo(10,20)\n",
    "print(c1.largo_lado_1, ' * ', c1.largo_lado_2)"
   ]
  },
  {
   "cell_type": "markdown",
   "metadata": {},
   "source": [
    "### 1.3 Métodos\n",
    "A las funciones que componen una clase las llamamos **métodos**. Estas funciones pueden llamarse poniendo el nombre de una instancia de la clase seguido de un punto y el nombre del método. Los métodos pueden actuar sobre los valores de otros atributos de esa instancia, pueden devolver algun output a traves de `return` o pueden hacer ambas cosas.\n",
    "\n",
    "Vamos a darle un método a la clase persona, para esto vamos a redefinir la clase como:"
   ]
  },
  {
   "cell_type": "code",
   "execution_count": 12,
   "metadata": {},
   "outputs": [],
   "source": [
    "class Persona:\n",
    "    \"\"\"\n",
    "    Esta es una clase donde se agregan todos los datos\n",
    "    respecto a una persona\n",
    "    \"\"\"\n",
    "    def __init__(self, nombre, edad):\n",
    "        # Todo lo que definamos en __init__ se corre\n",
    "        # al crear una instancia de la clase\n",
    "        self.nombre = nombre\n",
    "        self.edad = edad\n",
    "        \n",
    "    def mePresento(self):\n",
    "        print(\"Hola, me llamo \" + self.nombre)"
   ]
  },
  {
   "cell_type": "code",
   "execution_count": 13,
   "metadata": {},
   "outputs": [
    {
     "name": "stdout",
     "output_type": "stream",
     "text": [
      "Hola, me llamo Juan\n"
     ]
    }
   ],
   "source": [
    "p1 = Persona(\"Juan\", 26)\n",
    "p1.mePresento()"
   ]
  },
  {
   "cell_type": "markdown",
   "metadata": {},
   "source": [
    "Como ya dijimos, los métodos tambien pueden modificar el valor de ciertos atributos de una instancia. Vamos a crear un método para la clase persona, que haga cumplir un año a la persona y al mismo tiempo nos devuelva el valor de su edad:"
   ]
  },
  {
   "cell_type": "code",
   "execution_count": 14,
   "metadata": {},
   "outputs": [],
   "source": [
    "class Persona:\n",
    "    \"\"\"\n",
    "    Esta es una clase donde se agregan todos los datos\n",
    "    respecto a una persona\n",
    "    \"\"\"\n",
    "    def __init__(self, nombre, edad):\n",
    "        # Todo lo que definamos en __init__ se corre\n",
    "        # al crear una instancia de la clase\n",
    "        self.nombre = nombre\n",
    "        self.edad = edad\n",
    "        \n",
    "    def mePresento(self):\n",
    "        print(\"Hola, me llamo \" + self.nombre)\n",
    "    \n",
    "    def cumplirAnios(self):\n",
    "        self.edad = self.edad + 1\n",
    "        # El return hace que, al ejecutar el método,\n",
    "        # el mismo devuelva el valor de la edad \n",
    "        return self.edad"
   ]
  },
  {
   "cell_type": "code",
   "execution_count": 15,
   "metadata": {},
   "outputs": [
    {
     "data": {
      "text/plain": [
       "27"
      ]
     },
     "execution_count": 15,
     "metadata": {},
     "output_type": "execute_result"
    }
   ],
   "source": [
    "p1 = Persona(\"Juan\", 26)\n",
    "p1.cumplirAnios()"
   ]
  },
  {
   "cell_type": "code",
   "execution_count": 16,
   "metadata": {},
   "outputs": [
    {
     "data": {
      "text/plain": [
       "27"
      ]
     },
     "execution_count": 16,
     "metadata": {},
     "output_type": "execute_result"
    }
   ],
   "source": [
    "p1.edad"
   ]
  },
  {
   "cell_type": "markdown",
   "metadata": {},
   "source": [
    "¿Notaron que los atributos los definimos dentro de un método llamado `__init__ `?\n",
    "\n",
    "Estos nombres de métodos con doble guión-bajo a los costados indican que se trata de un **método mágico**. Son nombres especiales que Python se reserva para métodos que tienen una función específica. Por ejemplo, el método mágico `__init__` se correrá automáticamente cuando creemos una instancia de la clase.\n",
    "\n",
    "Veamos un ejemplo donde dentro del método `__init__` agregamos algún otro bloque de código:"
   ]
  },
  {
   "cell_type": "code",
   "execution_count": 17,
   "metadata": {},
   "outputs": [],
   "source": [
    "class Persona:\n",
    "    \"\"\"\n",
    "    Esta es una clase donde se agregan todos los datos\n",
    "    respecto a una persona\n",
    "    \"\"\"\n",
    "    def __init__(self, nombre, edad):\n",
    "        # Todo lo que definamos en __init__ se corre\n",
    "        # al crear una instancia de la clase\n",
    "        self.nombre = nombre\n",
    "        self.edad = edad\n",
    "        \n",
    "        print('Una persona nueva ha sido creada!')\n",
    "        \n",
    "    def mePresento(self):\n",
    "        print(\"Hola, me llamo \" + self.nombre)\n",
    "    \n",
    "    def cumplirAnios(self):\n",
    "        self.edad = self.edad + 1\n",
    "        # El return hace que, al ejecutar el método,\n",
    "        # el mismo devuelva el valor de la edad \n",
    "        return self.edad"
   ]
  },
  {
   "cell_type": "code",
   "execution_count": 18,
   "metadata": {},
   "outputs": [
    {
     "name": "stdout",
     "output_type": "stream",
     "text": [
      "Una persona nueva ha sido creada!\n"
     ]
    }
   ],
   "source": [
    "p1 = Persona(\"Ernesto\", 40)"
   ]
  },
  {
   "cell_type": "markdown",
   "metadata": {},
   "source": [
    "### 1.4 Consistencia\n",
    "\n",
    "Uno de los beneficios de trabajar con clases es el hecho de poder chequear la consistencia de los distintos atributos pertenecientes a una misma instancia de esa clase. Supongamos que tenemos una clase llamada `Departamento`. Esta clase agrupa todos las variables relacionadas a un mismo departamento. Esto nos permite chequear que todas estas variables guarden una relación adecuada. Por ejemplo, sabemos que la superficie cubierta no puede ser mayor a la superficie total. Entonces: "
   ]
  },
  {
   "cell_type": "code",
   "execution_count": 203,
   "metadata": {},
   "outputs": [],
   "source": [
    "class Departamento:\n",
    "    def __init__(self, calle, altura, piso, sup_total, sup_cubierta):\n",
    "        self.calle = calle\n",
    "        self.altura = altura\n",
    "        self.piso = piso\n",
    "        self.sup_total = sup_total\n",
    "        if sup_cubierta < sup_total:\n",
    "            self.sup_cubierta = sup_cubierta\n",
    "        else:\n",
    "            print(\"El valor de superficie cubierta ingresado es inconsistente\")\n",
    "            self.sup_cubierta = self.sup_total"
   ]
  },
  {
   "cell_type": "code",
   "execution_count": 204,
   "metadata": {},
   "outputs": [
    {
     "name": "stdout",
     "output_type": "stream",
     "text": [
      "El valor de superficie cubierta ingresado es inconsistente\n"
     ]
    }
   ],
   "source": [
    "depto_1 = Departamento('Humboldt',1122,4,50,455)"
   ]
  },
  {
   "cell_type": "code",
   "execution_count": 205,
   "metadata": {},
   "outputs": [
    {
     "data": {
      "text/plain": [
       "(50, 50)"
      ]
     },
     "execution_count": 205,
     "metadata": {},
     "output_type": "execute_result"
    }
   ],
   "source": [
    "depto_1.sup_cubierta, depto_1.sup_total"
   ]
  },
  {
   "cell_type": "markdown",
   "metadata": {},
   "source": [
    "Otro de los beneficios de trabajar con objetos consiste en tener todas las variables relevantes agrupadas en un mismo objeto. De esta forma se nos facilita la tarea a la hora de mover esta información. Por ejemplo, si tenemos una función que calcula el precio de un departamento en base a distintas propiedades del mismo, sería mucho más fácil para nosotros pasarle a esa función un único argumento (el objeto departameto), y no cada uno de sus atributos:"
   ]
  },
  {
   "cell_type": "code",
   "execution_count": 23,
   "metadata": {},
   "outputs": [],
   "source": [
    "def CalculaPrecios(depto):\n",
    "    precio = 2000 * depto.sup_total + 500 * depto.piso\n",
    "    return precio"
   ]
  },
  {
   "cell_type": "code",
   "execution_count": 24,
   "metadata": {},
   "outputs": [
    {
     "data": {
      "text/plain": [
       "102000"
      ]
     },
     "execution_count": 24,
     "metadata": {},
     "output_type": "execute_result"
    }
   ],
   "source": [
    "CalculaPrecios(depto_1)"
   ]
  },
  {
   "cell_type": "markdown",
   "metadata": {},
   "source": [
    "En algunas circunstancias, esa función podría ser parte de la clase, siendo en ese caso un método."
   ]
  },
  {
   "cell_type": "markdown",
   "metadata": {},
   "source": [
    "### Ejercicio - Challenge\n",
    "* Agregar a la clase llamada `Rectangulo` un método llamado `ladoMasLargo` que devuelva el valor del lado mas largo.\n",
    "* Agregue en el `__init__` de `Rectangulo` un nuevo atributo de la clase llamado `area`. El valor de este atributo debe generarse automáticamente a partir de los valores de los lados (recuerde que el área de un rectangulo se calcula multiplicando el largo de sus lados).\n",
    "* Cree una instancia de la clase y verifique que su código funcione adecuadamente"
   ]
  },
  {
   "cell_type": "code",
   "execution_count": 30,
   "metadata": {},
   "outputs": [],
   "source": [
    "class Rectangulo:\n",
    "    \n",
    "    def __init__(self, largo_lado_1, largo_lado_2):\n",
    "        self.largo_lado_1 = largo_lado_1\n",
    "        self.largo_lado_2 = largo_lado_2\n",
    "        self.area = self.largo_lado_1 * self.largo_lado_2\n",
    "        print('Se ha creado un rectangulo')\n",
    "    \n",
    "    def ladoMasLargo(self):\n",
    "        if(self.largo_lado_1 > self.largo_lado_2):\n",
    "            return self.largo_lado_1\n",
    "        else: # si son iguales es indistito cual devuelva\n",
    "            return self.largo_lado_2"
   ]
  },
  {
   "cell_type": "code",
   "execution_count": 31,
   "metadata": {},
   "outputs": [
    {
     "name": "stdout",
     "output_type": "stream",
     "text": [
      "Se ha creado un rectangulo\n"
     ]
    }
   ],
   "source": [
    "r1 = Rectangulo(10,20)"
   ]
  },
  {
   "cell_type": "code",
   "execution_count": 32,
   "metadata": {},
   "outputs": [
    {
     "data": {
      "text/plain": [
       "200"
      ]
     },
     "execution_count": 32,
     "metadata": {},
     "output_type": "execute_result"
    }
   ],
   "source": [
    "r1.area"
   ]
  },
  {
   "cell_type": "code",
   "execution_count": 33,
   "metadata": {},
   "outputs": [
    {
     "data": {
      "text/plain": [
       "20"
      ]
     },
     "execution_count": 33,
     "metadata": {},
     "output_type": "execute_result"
    }
   ],
   "source": [
    "r1.ladoMasLargo()"
   ]
  },
  {
   "cell_type": "markdown",
   "metadata": {},
   "source": [
    "## 2. Ejercitación\n",
    "\n",
    "¡Sí, seguimos trabajando con dados! Vamos a programar una serie de clases que nos servirán para modelar - muy simplificadamente - algunos fenómenos.\n",
    "\n",
    "**Ejercicio 1:** crea una clase `Dado` cuyos atributos sean la cantidad de lados y la probabilidad asignada a cada lado. Algunas características que debe tener la clase:\n",
    "* Debemos pasar la cantidad de lados cuando creamos una instancia. Por defecto deben ser seis.\n",
    "* Cuando creamos una instancia, se debe asignar la misma probabilidad a cada lado (probabilidad uniforme).\n",
    "* La clase debe contar con el método `tirar_dado`, que debe tomar como argumento la cantidad de veces que queremos tirar el dado.\n",
    "\n",
    "Comprueba que la clase está correctamente programada crean un dados de distinto número de caras, tirando 100000 veces ese dado y haciendo un histograma de sus resultados. ¿Qué deberías obtener?"
   ]
  },
  {
   "cell_type": "code",
   "execution_count": 63,
   "metadata": {},
   "outputs": [],
   "source": [
    "import numpy as np\n",
    "import matplotlib.pyplot as plt\n",
    "from collections import Counter \n",
    "import pandas as pd"
   ]
  },
  {
   "cell_type": "code",
   "execution_count": 206,
   "metadata": {},
   "outputs": [],
   "source": [
    "class Dado:\n",
    "    \n",
    "    def __init__(self, cantidad_lados=6, probabilidad_cada_lado=None):\n",
    "        self.cantidad_lados = cantidad_lados\n",
    "        self.probabilidad_cada_lado = probabilidad_cada_lado\n",
    "        self.distribucion = pd.DataFrame()\n",
    "        \n",
    "        if(self.probabilidad_cada_lado == None):\n",
    "            self.probabilidad_cada_lado = np.zeros(self.cantidad_lados)\n",
    "            self.probabilidad_cada_lado[:] = 1 / self.cantidad_lados\n",
    "        if(len(self.probabilidad_cada_lado) != self.cantidad_lados):\n",
    "            print('Debe haber una probabilidad por cada lado, por defecto se establece una probabilidad uniforme')\n",
    "            \n",
    "    def tirarDados(self, cantidad_veces):\n",
    "        lados = np.arange(1,self.cantidad_lados+1)\n",
    "        resultado = np.random.choice(lados,size=cantidad_veces,p=self.probabilidad_cada_lado)\n",
    "        self.distribucion = pd.DataFrame(Counter(resultado).keys(), columns=['Lado'])\n",
    "        self.distribucion['Frecuencia'] = Counter(resultado).values()\n",
    "        self.distribucion['Distribucion'] = self.distribucion['Frecuencia'] / cantidad_veces\n",
    "        self.distribucion.sort_values('Lado',inplace=True)\n",
    "        \n",
    "    def graficarDistribucion(self):\n",
    "        plt.figure(figsize=(10,6))\n",
    "        plt.bar(self.distribucion['Lado'], self.distribucion['Distribucion'], color='g', alpha=0.6, label=\"Distribucion\")\n",
    "        plt.plot(self.distribucion['Lado'], self.probabilidad_cada_lado, 'k', linewidth=4, label = 'Probabilidad', color='b')\n",
    "        plt.xlabel('Lado')\n",
    "        plt.ylabel('Probabilidad/Frecuencia')\n",
    "        plt.legend()\n",
    "        plt.show()\n",
    "        "
   ]
  },
  {
   "cell_type": "code",
   "execution_count": 207,
   "metadata": {},
   "outputs": [],
   "source": [
    "a = Dado()"
   ]
  },
  {
   "cell_type": "code",
   "execution_count": 208,
   "metadata": {},
   "outputs": [
    {
     "data": {
      "text/html": [
       "<div>\n",
       "<style scoped>\n",
       "    .dataframe tbody tr th:only-of-type {\n",
       "        vertical-align: middle;\n",
       "    }\n",
       "\n",
       "    .dataframe tbody tr th {\n",
       "        vertical-align: top;\n",
       "    }\n",
       "\n",
       "    .dataframe thead th {\n",
       "        text-align: right;\n",
       "    }\n",
       "</style>\n",
       "<table border=\"1\" class=\"dataframe\">\n",
       "  <thead>\n",
       "    <tr style=\"text-align: right;\">\n",
       "      <th></th>\n",
       "      <th>Lado</th>\n",
       "      <th>Frecuencia</th>\n",
       "      <th>Distribucion</th>\n",
       "    </tr>\n",
       "  </thead>\n",
       "  <tbody>\n",
       "    <tr>\n",
       "      <th>2</th>\n",
       "      <td>1</td>\n",
       "      <td>16714</td>\n",
       "      <td>0.16714</td>\n",
       "    </tr>\n",
       "    <tr>\n",
       "      <th>0</th>\n",
       "      <td>2</td>\n",
       "      <td>16623</td>\n",
       "      <td>0.16623</td>\n",
       "    </tr>\n",
       "    <tr>\n",
       "      <th>3</th>\n",
       "      <td>3</td>\n",
       "      <td>16826</td>\n",
       "      <td>0.16826</td>\n",
       "    </tr>\n",
       "    <tr>\n",
       "      <th>5</th>\n",
       "      <td>4</td>\n",
       "      <td>16477</td>\n",
       "      <td>0.16477</td>\n",
       "    </tr>\n",
       "    <tr>\n",
       "      <th>1</th>\n",
       "      <td>5</td>\n",
       "      <td>16741</td>\n",
       "      <td>0.16741</td>\n",
       "    </tr>\n",
       "    <tr>\n",
       "      <th>4</th>\n",
       "      <td>6</td>\n",
       "      <td>16619</td>\n",
       "      <td>0.16619</td>\n",
       "    </tr>\n",
       "  </tbody>\n",
       "</table>\n",
       "</div>"
      ],
      "text/plain": [
       "   Lado  Frecuencia  Distribucion\n",
       "2     1       16714       0.16714\n",
       "0     2       16623       0.16623\n",
       "3     3       16826       0.16826\n",
       "5     4       16477       0.16477\n",
       "1     5       16741       0.16741\n",
       "4     6       16619       0.16619"
      ]
     },
     "execution_count": 208,
     "metadata": {},
     "output_type": "execute_result"
    }
   ],
   "source": [
    "a.tirarDados(100000)\n",
    "a.distribucion"
   ]
  },
  {
   "cell_type": "code",
   "execution_count": 209,
   "metadata": {},
   "outputs": [
    {
     "data": {
      "image/png": "[encoded data removed]",
      "text/plain": [
       "<Figure size 720x432 with 1 Axes>"
      ]
     },
     "metadata": {
      "needs_background": "light"
     },
     "output_type": "display_data"
    }
   ],
   "source": [
    "a.graficarDistribucion()"
   ]
  },
  {
   "cell_type": "code",
   "execution_count": 215,
   "metadata": {},
   "outputs": [],
   "source": [
    "b = Dado(cantidad_lados=6,probabilidad_cada_lado=[.3, .1, .1, .1, .1, .3])"
   ]
  },
  {
   "cell_type": "code",
   "execution_count": 216,
   "metadata": {},
   "outputs": [
    {
     "data": {
      "text/html": [
       "<div>\n",
       "<style scoped>\n",
       "    .dataframe tbody tr th:only-of-type {\n",
       "        vertical-align: middle;\n",
       "    }\n",
       "\n",
       "    .dataframe tbody tr th {\n",
       "        vertical-align: top;\n",
       "    }\n",
       "\n",
       "    .dataframe thead th {\n",
       "        text-align: right;\n",
       "    }\n",
       "</style>\n",
       "<table border=\"1\" class=\"dataframe\">\n",
       "  <thead>\n",
       "    <tr style=\"text-align: right;\">\n",
       "      <th></th>\n",
       "      <th>Lado</th>\n",
       "      <th>Frecuencia</th>\n",
       "      <th>Distribucion</th>\n",
       "    </tr>\n",
       "  </thead>\n",
       "  <tbody>\n",
       "    <tr>\n",
       "      <th>2</th>\n",
       "      <td>1</td>\n",
       "      <td>3037</td>\n",
       "      <td>0.3037</td>\n",
       "    </tr>\n",
       "    <tr>\n",
       "      <th>3</th>\n",
       "      <td>2</td>\n",
       "      <td>1002</td>\n",
       "      <td>0.1002</td>\n",
       "    </tr>\n",
       "    <tr>\n",
       "      <th>4</th>\n",
       "      <td>3</td>\n",
       "      <td>952</td>\n",
       "      <td>0.0952</td>\n",
       "    </tr>\n",
       "    <tr>\n",
       "      <th>5</th>\n",
       "      <td>4</td>\n",
       "      <td>958</td>\n",
       "      <td>0.0958</td>\n",
       "    </tr>\n",
       "    <tr>\n",
       "      <th>1</th>\n",
       "      <td>5</td>\n",
       "      <td>915</td>\n",
       "      <td>0.0915</td>\n",
       "    </tr>\n",
       "    <tr>\n",
       "      <th>0</th>\n",
       "      <td>6</td>\n",
       "      <td>3136</td>\n",
       "      <td>0.3136</td>\n",
       "    </tr>\n",
       "  </tbody>\n",
       "</table>\n",
       "</div>"
      ],
      "text/plain": [
       "   Lado  Frecuencia  Distribucion\n",
       "2     1        3037        0.3037\n",
       "3     2        1002        0.1002\n",
       "4     3         952        0.0952\n",
       "5     4         958        0.0958\n",
       "1     5         915        0.0915\n",
       "0     6        3136        0.3136"
      ]
     },
     "execution_count": 216,
     "metadata": {},
     "output_type": "execute_result"
    }
   ],
   "source": [
    "b.tirarDados(10000)\n",
    "b.distribucion"
   ]
  },
  {
   "cell_type": "code",
   "execution_count": 217,
   "metadata": {},
   "outputs": [
    {
     "data": {
      "image/png": "[encoded data removed]",
      "text/plain": [
       "<Figure size 720x432 with 1 Axes>"
      ]
     },
     "metadata": {
      "needs_background": "light"
     },
     "output_type": "display_data"
    }
   ],
   "source": [
    "b.graficarDistribucion()"
   ]
  },
  {
   "cell_type": "markdown",
   "metadata": {},
   "source": [
    "**Ejercicio 2**\n",
    "\n",
    "En el mundo de la publicidad, de las aplicaciones, las redes sociales, etc., suele ocurrir el siguiente fenómeno: a medida que más se hace conocido un producto, más probabilidad hay de que se siga comprando o consumiendo. A veces, esto se debe a recomendaciones de conocidos, mayor inversión en publicidad o simplemente el producto ya se convirtió en una marca establecida. Pero otras veces es el mismo producto el que requiere tener consumidores para aumentar su número de consumidores. Por ejemplo, pensemos en una red social. En general, nadie querrá pertenecer a una red social que no tiene usuarios. Y a medida que un mayor número de nuestros conocidos se suman a una red social, más probable es que nos sumemos nosotros. Esto también ocurre en otros ámbitos, ¿se te ocurre dónde?  \n",
    "\n",
    "Un modelo muy inocente de esta situación es pensar que se trata de un dado que se va cargando teniendo en cuenta el histórico de sus resultados. Por ejemplo, si el tres salió muchas veces, esto hace que aumente la probabilidad de que en la próxima tirada salga tres. Pensando en las redes sociales, esto es equivalente a pensar que es más probable que se sumen nuevos usuarios a una red que ya tiene muchos usuarios.\n",
    "\n",
    "Te dejamos programada una clase, `DadoCargado`, que intenta simular esta situación.\n",
    "1. Lee detenidamente el código y trata de entendelo.\n",
    "2. Crea una instancia de `DadoCargado`, tira el dado algunas veces e imprime en pantalla el resultado y las probabilidades. ¿Cómo se van modificando?\n",
    "3. Crea una nueva instancia de `DadoCargado` y haz un gráfico de la evolución de la probabilidad en función del número de tiradas.\n",
    "4. ¿Qué ocurre si modificas el valor de `premio`?¿Cambia el comportamiento?"
   ]
  },
  {
   "cell_type": "code",
   "execution_count": 154,
   "metadata": {},
   "outputs": [],
   "source": [
    "class DadoCargado:\n",
    "    def __init__(self, n_lados = 6, premio = 0.1):\n",
    "        self.n_lados = n_lados\n",
    "        self.probabilidades = np.ones(n_lados)/n_lados\n",
    "        self.premio = premio\n",
    "        self.resultados = []\n",
    "        self.counts = np.zeros(n_lados)\n",
    "        \n",
    "    def tirar_dado(self):\n",
    "        lados = np.arange(1,self.n_lados+1)\n",
    "        resultados = np.random.choice(lados, 1, p = self.probabilidades)\n",
    "        self.resultados +=list(resultados)\n",
    "        self.counts[resultados[0] - 1] +=1\n",
    "        self.cargar_dado()\n",
    "        return resultados\n",
    "    \n",
    "    def cargar_dado(self):\n",
    "        self.probabilidades = self.probabilidades + self.premio*self.counts/self.counts.sum()\n",
    "        self.probabilidades = self.probabilidades/self.probabilidades.sum()"
   ]
  },
  {
   "cell_type": "code",
   "execution_count": 178,
   "metadata": {},
   "outputs": [
    {
     "data": {
      "text/plain": [
       "array([0.16666667, 0.16666667, 0.16666667, 0.16666667, 0.16666667,\n",
       "       0.16666667])"
      ]
     },
     "execution_count": 178,
     "metadata": {},
     "output_type": "execute_result"
    }
   ],
   "source": [
    "a = DadoCargado()\n",
    "a.probabilidades"
   ]
  },
  {
   "cell_type": "code",
   "execution_count": 179,
   "metadata": {},
   "outputs": [
    {
     "data": {
      "image/png": "[encoded data removed]",
      "text/plain": [
       "<Figure size 432x288 with 1 Axes>"
      ]
     },
     "metadata": {
      "needs_background": "light"
     },
     "output_type": "display_data"
    },
    {
     "name": "stdout",
     "output_type": "stream",
     "text": [
      "[0.19520733 0.23912129 0.10167963 0.33547732 0.06425721 0.06425721]\n"
     ]
    }
   ],
   "source": [
    "resultado = []\n",
    "for _ in range(10):\n",
    "    resultado.append(a.tirar_dado()[0])\n",
    "plt.hist(resultado)\n",
    "plt.show()\n",
    "print(a.probabilidades)"
   ]
  },
  {
   "cell_type": "code",
   "execution_count": 180,
   "metadata": {},
   "outputs": [
    {
     "data": {
      "image/png": "[encoded data removed]",
      "text/plain": [
       "<Figure size 432x288 with 1 Axes>"
      ]
     },
     "metadata": {
      "needs_background": "light"
     },
     "output_type": "display_data"
    },
    {
     "name": "stdout",
     "output_type": "stream",
     "text": [
      "[0.1805116  0.08853006 0.10842707 0.35752989 0.03435518 0.2306462 ]\n"
     ]
    }
   ],
   "source": [
    "resultado = []\n",
    "for _ in range(100):\n",
    "    resultado.append(a.tirar_dado()[0])\n",
    "plt.hist(resultado)\n",
    "plt.show()\n",
    "print(a.probabilidades)"
   ]
  },
  {
   "cell_type": "code",
   "execution_count": 182,
   "metadata": {},
   "outputs": [
    {
     "data": {
      "image/png": "[encoded data removed]",
      "text/plain": [
       "<Figure size 432x288 with 1 Axes>"
      ]
     },
     "metadata": {
      "needs_background": "light"
     },
     "output_type": "display_data"
    },
    {
     "name": "stdout",
     "output_type": "stream",
     "text": [
      "[0.14236214 0.09926608 0.07081953 0.42004221 0.01428192 0.25322813]\n"
     ]
    }
   ],
   "source": [
    "resultado = []\n",
    "for _ in range(1000):\n",
    "    resultado.append(a.tirar_dado()[0])\n",
    "plt.hist(resultado)\n",
    "plt.show()\n",
    "print(a.probabilidades)"
   ]
  },
  {
   "cell_type": "code",
   "execution_count": 183,
   "metadata": {},
   "outputs": [
    {
     "data": {
      "image/png": "[encoded data removed]",
      "text/plain": [
       "<Figure size 432x288 with 1 Axes>"
      ]
     },
     "metadata": {
      "needs_background": "light"
     },
     "output_type": "display_data"
    },
    {
     "name": "stdout",
     "output_type": "stream",
     "text": [
      "[0.13839907 0.10020782 0.07470415 0.40762274 0.01512398 0.26394224]\n"
     ]
    }
   ],
   "source": [
    "resultado = []\n",
    "for _ in range(10000):\n",
    "    resultado.append(a.tirar_dado()[0])\n",
    "plt.hist(resultado)\n",
    "plt.show()\n",
    "print(a.probabilidades)"
   ]
  },
  {
   "cell_type": "markdown",
   "metadata": {},
   "source": [
    "**Extra**\n",
    "\n",
    "Juega con estos modelos. Hazles preguntas e intenta responderlas. Por ejemplo, puedes ver que en todos los casos suele haber un lado exitoso que, luego de algunas tiradas, se establece como el lado más probable. Además, en el modelo del ejercicio 3, existen lados cuyas probabilidades caen a cero. ¿En qué momemento se decide cuál es el lado exitoso?¿El que sale primero?¿El que sale más veces en las primeras diez tiradas?¿Cuál será un buen predictor de esta situación?¿Y con los lados cuya probabilidad cae a cero?¿Cuándo se decide su destino?"
   ]
  },
  {
   "cell_type": "code",
   "execution_count": 184,
   "metadata": {},
   "outputs": [],
   "source": [
    "a = DadoCargado()"
   ]
  },
  {
   "cell_type": "code",
   "execution_count": 185,
   "metadata": {},
   "outputs": [
    {
     "data": {
      "text/plain": [
       "array([0.16666667, 0.16666667, 0.16666667, 0.16666667, 0.16666667,\n",
       "       0.16666667])"
      ]
     },
     "execution_count": 185,
     "metadata": {},
     "output_type": "execute_result"
    }
   ],
   "source": [
    "a.probabilidades ## antes de comenzar tenemos las mismas probabilidades para todos los nros"
   ]
  },
  {
   "cell_type": "code",
   "execution_count": 186,
   "metadata": {},
   "outputs": [
    {
     "data": {
      "text/plain": [
       "array([3])"
      ]
     },
     "execution_count": 186,
     "metadata": {},
     "output_type": "execute_result"
    }
   ],
   "source": [
    "# tiramos una vez\n",
    "a.tirar_dado()"
   ]
  },
  {
   "cell_type": "code",
   "execution_count": 187,
   "metadata": {},
   "outputs": [
    {
     "data": {
      "text/plain": [
       "array([0.15151515, 0.15151515, 0.24242424, 0.15151515, 0.15151515,\n",
       "       0.15151515])"
      ]
     },
     "execution_count": 187,
     "metadata": {},
     "output_type": "execute_result"
    }
   ],
   "source": [
    "a.probabilidades #aumento la probabilidad de 3"
   ]
  },
  {
   "cell_type": "code",
   "execution_count": 188,
   "metadata": {},
   "outputs": [
    {
     "data": {
      "text/plain": [
       "array([3])"
      ]
     },
     "execution_count": 188,
     "metadata": {},
     "output_type": "execute_result"
    }
   ],
   "source": [
    "a.tirar_dado() # segunda tirada"
   ]
  },
  {
   "cell_type": "code",
   "execution_count": 189,
   "metadata": {},
   "outputs": [
    {
     "data": {
      "text/plain": [
       "array([6])"
      ]
     },
     "execution_count": 189,
     "metadata": {},
     "output_type": "execute_result"
    }
   ],
   "source": [
    "a.tirar_dado() # sale otro nro"
   ]
  },
  {
   "cell_type": "code",
   "execution_count": 190,
   "metadata": {},
   "outputs": [
    {
     "data": {
      "text/plain": [
       "array([0.12521913, 0.12521913, 0.3436013 , 0.12521913, 0.12521913,\n",
       "       0.15552216])"
      ]
     },
     "execution_count": 190,
     "metadata": {},
     "output_type": "execute_result"
    }
   ],
   "source": [
    "a.probabilidades"
   ]
  },
  {
   "cell_type": "code",
   "execution_count": null,
   "metadata": {},
   "outputs": [],
   "source": []
  }
 ],
 "metadata": {
  "kernelspec": {
   "display_name": "Python 3",
   "language": "python",
   "name": "python3"
  },
  "language_info": {
   "codemirror_mode": {
    "name": "ipython",
    "version": 3
   },
   "file_extension": ".py",
   "mimetype": "text/x-python",
   "name": "python",
   "nbconvert_exporter": "python",
   "pygments_lexer": "ipython3",
   "version": "3.7.8"
  }
 },
 "nbformat": 4,
 "nbformat_minor": 4
}
