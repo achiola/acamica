{
 "cells": [
  {
   "cell_type": "markdown",
   "metadata": {},
   "source": [
    "# Funciones y Namespaces\n",
    "\n",
    "\n",
    "## 1. Funciones\n",
    "\n",
    "Una función es un bloque de código que sólo corre cuando es llamado."
   ]
  },
  {
   "cell_type": "code",
   "execution_count": 43,
   "metadata": {},
   "outputs": [],
   "source": [
    "def par_o_impar(numero):\n",
    "    if numero %2 == 0:\n",
    "        print('Es par')\n",
    "    else:\n",
    "        print('Es impar')"
   ]
  },
  {
   "cell_type": "markdown",
   "metadata": {},
   "source": [
    "Notar que si ejecutamos la celda no ocurre nada apreciable. Si llamamos a la función"
   ]
  },
  {
   "cell_type": "code",
   "execution_count": 44,
   "metadata": {},
   "outputs": [
    {
     "data": {
      "text/plain": [
       "<function __main__.par_o_impar(numero)>"
      ]
     },
     "execution_count": 44,
     "metadata": {},
     "output_type": "execute_result"
    }
   ],
   "source": [
    "par_o_impar"
   ]
  },
  {
   "cell_type": "markdown",
   "metadata": {},
   "source": [
    "Python nos dice, de una forma no muy clara, que se trata de una función. Las funciones se llaman con paréntesis:"
   ]
  },
  {
   "cell_type": "code",
   "execution_count": 63,
   "metadata": {},
   "outputs": [
    {
     "data": {
      "text/plain": [
       "0.5"
      ]
     },
     "execution_count": 63,
     "metadata": {},
     "output_type": "execute_result"
    }
   ],
   "source": [
    "(lambda x, y: x / y) (10,20)"
   ]
  },
  {
   "cell_type": "markdown",
   "metadata": {},
   "source": [
    "Y en este caso, arroja un error porque falta un argumento, `numero`. Las dos siguientes son equivalentes:"
   ]
  },
  {
   "cell_type": "code",
   "execution_count": 3,
   "metadata": {},
   "outputs": [
    {
     "name": "stdout",
     "output_type": "stream",
     "text": [
      "Es impar\n",
      "Es impar\n"
     ]
    }
   ],
   "source": [
    "par_o_impar(numero = 9)\n",
    "par_o_impar(9)"
   ]
  },
  {
   "cell_type": "markdown",
   "metadata": {},
   "source": [
    "Al tener un solo argumento, en este caso no hay mucho lugar a confusión, pero las funciones pueden tener muchos argumentos:"
   ]
  },
  {
   "cell_type": "code",
   "execution_count": 4,
   "metadata": {},
   "outputs": [],
   "source": [
    "def division(dividendo, divisor):\n",
    "    print(dividendo/divisor)"
   ]
  },
  {
   "cell_type": "markdown",
   "metadata": {},
   "source": [
    "Entonces podemos llamar a la función pasándole los argumentos en orden, o explicitando el valor de cada argumento:"
   ]
  },
  {
   "cell_type": "code",
   "execution_count": 5,
   "metadata": {},
   "outputs": [
    {
     "name": "stdout",
     "output_type": "stream",
     "text": [
      "2.0\n",
      "0.5\n"
     ]
    }
   ],
   "source": [
    "division(4,2)\n",
    "division(divisor = 4, dividendo = 2)  #notar que asi no nos tenemos que preocupar por el orden"
   ]
  },
  {
   "cell_type": "markdown",
   "metadata": {},
   "source": [
    "También, pueden tener argumentos *por default*, que si no explicitamos, toman un valor predefinido:"
   ]
  },
  {
   "cell_type": "code",
   "execution_count": 6,
   "metadata": {},
   "outputs": [],
   "source": [
    "def division(dividendo, divisor = 2):\n",
    "    print(dividendo/divisor)"
   ]
  },
  {
   "cell_type": "code",
   "execution_count": 7,
   "metadata": {},
   "outputs": [
    {
     "name": "stdout",
     "output_type": "stream",
     "text": [
      "4.5\n",
      "3.0\n",
      "3.0\n",
      "3.0\n"
     ]
    }
   ],
   "source": [
    "division(9)\n",
    "division(9, 3) \n",
    "division(dividendo = 9, divisor = 3) \n",
    "division(9, divisor = 3) "
   ]
  },
  {
   "cell_type": "markdown",
   "metadata": {},
   "source": [
    "### 1.1 `return`\n",
    "\n",
    "Las funciones pueden devolver resultados"
   ]
  },
  {
   "cell_type": "code",
   "execution_count": 8,
   "metadata": {},
   "outputs": [],
   "source": [
    "def division(dividendo, divisor = 2):\n",
    "    variable_auxiliar = dividendo/divisor\n",
    "    return variable_auxiliar"
   ]
  },
  {
   "cell_type": "code",
   "execution_count": 9,
   "metadata": {},
   "outputs": [],
   "source": [
    "resultado_division = division(9,3)"
   ]
  },
  {
   "cell_type": "code",
   "execution_count": 10,
   "metadata": {},
   "outputs": [
    {
     "name": "stdout",
     "output_type": "stream",
     "text": [
      "3.0\n"
     ]
    }
   ],
   "source": [
    "print(resultado_division)"
   ]
  },
  {
   "cell_type": "markdown",
   "metadata": {},
   "source": [
    "Y, si lo necesitamos, podemos hacer que devuelvan más de un resultado"
   ]
  },
  {
   "cell_type": "code",
   "execution_count": 11,
   "metadata": {},
   "outputs": [],
   "source": [
    "def division_y_producto(numero_1,numero_2):\n",
    "    div = numero_1/numero_2\n",
    "    prod = numero_1*numero_2\n",
    "    return div, prod\n",
    "\n",
    "### Son equivalentes\n",
    "# def division_y_producto(numero_1,numero_2):\n",
    "#     return numero_1/numero_2, numero_1*numero_2"
   ]
  },
  {
   "cell_type": "code",
   "execution_count": 12,
   "metadata": {},
   "outputs": [
    {
     "name": "stdout",
     "output_type": "stream",
     "text": [
      "(2.0, 50)\n"
     ]
    }
   ],
   "source": [
    "resultados = division_y_producto(10,5)\n",
    "print(resultados)"
   ]
  },
  {
   "cell_type": "markdown",
   "metadata": {},
   "source": [
    "Notar la diferencia"
   ]
  },
  {
   "cell_type": "code",
   "execution_count": 13,
   "metadata": {},
   "outputs": [
    {
     "name": "stdout",
     "output_type": "stream",
     "text": [
      "2.0 50\n"
     ]
    }
   ],
   "source": [
    "resultado_1, resultado_2 = division_y_producto(10,5)\n",
    "print(resultado_1, resultado_2)"
   ]
  },
  {
   "cell_type": "markdown",
   "metadata": {},
   "source": [
    "### 2. Namespaces and Scope\n",
    "\n",
    "Encontrar la diferencia entre las siguientes celdas:"
   ]
  },
  {
   "cell_type": "code",
   "execution_count": 32,
   "metadata": {},
   "outputs": [
    {
     "name": "stdout",
     "output_type": "stream",
     "text": [
      "25.0\n"
     ]
    }
   ],
   "source": [
    "def division(dividendo, divisor = 2):\n",
    "    variable_auxiliar = dividendo/divisor\n",
    "    return variable_auxiliar\n",
    "print(division(50))\n",
    "# print(divisor) da errr porque la variable es local de la fx"
   ]
  },
  {
   "cell_type": "code",
   "execution_count": 15,
   "metadata": {},
   "outputs": [
    {
     "name": "stdout",
     "output_type": "stream",
     "text": [
      "10.0\n",
      "5\n"
     ]
    }
   ],
   "source": [
    "divisor = 5\n",
    "def division(dividendo):\n",
    "    variable_auxiliar = dividendo/divisor\n",
    "    return variable_auxiliar\n",
    "print(division(50))\n",
    "print(divisor)"
   ]
  },
  {
   "cell_type": "code",
   "execution_count": 16,
   "metadata": {},
   "outputs": [
    {
     "name": "stdout",
     "output_type": "stream",
     "text": [
      "25.0\n",
      "5\n"
     ]
    }
   ],
   "source": [
    "divisor = 5\n",
    "def division(dividendo, divisor = 2):\n",
    "    variable_auxiliar = dividendo/divisor\n",
    "    return variable_auxiliar\n",
    "print(division(50))\n",
    "print(divisor)"
   ]
  },
  {
   "cell_type": "markdown",
   "metadata": {},
   "source": [
    "**Investigar:** ¿qué es una variable global?¿Y una variable local?¿Qué es un Namespace?"
   ]
  },
  {
   "cell_type": "markdown",
   "metadata": {},
   "source": [
    "### 3. Funciones Lambda (Anónimas)\n",
    "\n",
    "Una función `lambda` es una forma conveniente de crear una función en una sola línea. También se las conoce como funciones anónimas, ya que no suelen tener nombre."
   ]
  },
  {
   "cell_type": "code",
   "execution_count": 17,
   "metadata": {},
   "outputs": [
    {
     "data": {
      "text/plain": [
       "8.0"
      ]
     },
     "execution_count": 17,
     "metadata": {},
     "output_type": "execute_result"
    }
   ],
   "source": [
    "lambda_division = lambda x,y: x/y\n",
    "lambda_division(80,10)"
   ]
  },
  {
   "cell_type": "markdown",
   "metadata": {},
   "source": [
    "Algunas características:\n",
    "1. Pueden tener cualquier cantidad de argumentos, pero solo una expresión\n",
    "1. No se les suele poner nombre como hicimos, de hecho es raro utilizarlas de esa forma.\n",
    "1. No necesitan un `return`\n",
    "1. Muy cómodas para crear funciones rápido.\n",
    "1. En general, las veras combinadas con funciones como `map()`, `filter()`, `apply()`, `applymap()`, etc.\n",
    "\n",
    "Existen algunas diferencias sutiles entre una función creada con `def` y una función lambda, pero para nuestros objetivos basta con saber que una función lambda es una forma rápida de crear funciones sencillas."
   ]
  },
  {
   "cell_type": "markdown",
   "metadata": {},
   "source": [
    "### 4. Documentando funciones\n",
    "\n",
    "Cuando creemos funciones es conveniente documentarlas, así si volvemos meses después a nuestro código, o se lo compartimos a alguien, podemos entender qué hace sin tener que leer y entenderlo completamente. Es decir, de la misma forma que hacemos con muchas de las funciones de las librerías que venimos usando. Hay muchos formatos para documentar una función, pero en general incluyen: qué hace la función, cuales son sus argumentos, y cuáles son sus returns. A veces, también algún ejemplo mostrando cómo se usa. El grado de detalle depende del tiempo y de la complejidad de la función. Recomendamos siempre documentar las funciones, aunque sea de forma breve.\n",
    "\n",
    "Dejamos un formato de documentación a modo de ejemplo. En general, se estila documentar en inglés, pero vamos a hacer una excepción."
   ]
  },
  {
   "cell_type": "code",
   "execution_count": 18,
   "metadata": {},
   "outputs": [],
   "source": [
    "def division_y_producto(numero_1,numero_2):\n",
    "    '''\n",
    "    Dados dos numeros, devuelve su division\n",
    "    y su producto.\n",
    "    \n",
    "    Arguments:\n",
    "    numero_1 -- dividendo, primer multiplicando\n",
    "    numero_2 -- divisor, segundo multiplicando\n",
    "    \n",
    "    Returns:\n",
    "    div -- la division entre los dos numeros\n",
    "    prod -- el producto entre los dos numeros\n",
    "    '''\n",
    "    \n",
    "    div = numero_1/numero_2\n",
    "    prod = numero_1*numero_2\n",
    "    return div, prod"
   ]
  },
  {
   "cell_type": "markdown",
   "metadata": {},
   "source": [
    "Notar que si ahora ponemos `help()` de nuestra función, devuelve la documentación que creamos."
   ]
  },
  {
   "cell_type": "code",
   "execution_count": 19,
   "metadata": {},
   "outputs": [
    {
     "name": "stdout",
     "output_type": "stream",
     "text": [
      "Help on function division_y_producto in module __main__:\n",
      "\n",
      "division_y_producto(numero_1, numero_2)\n",
      "    Dados dos numeros, devuelve su division\n",
      "    y su producto.\n",
      "    \n",
      "    Arguments:\n",
      "    numero_1 -- dividendo, primer multiplicando\n",
      "    numero_2 -- divisor, segundo multiplicando\n",
      "    \n",
      "    Returns:\n",
      "    div -- la division entre los dos numeros\n",
      "    prod -- el producto entre los dos numeros\n",
      "\n"
     ]
    }
   ],
   "source": [
    "help(division_y_producto)"
   ]
  },
  {
   "cell_type": "markdown",
   "metadata": {},
   "source": [
    "También, si usamos `shift`+`tab` como hacemos con las otras funciones de las librerías.\n",
    "\n",
    "### Challenge\n",
    "\n",
    "1. Crea una función que tome como entrada dos arreglos de Numpy. Luego, que chequee si tienen el mismo tamaño; si no es así, que imprima un mensaje indicando que no tienen el mismo tamaño. Si tienen el mismo tamaño, que haga las siguientes operaciones:\n",
    "    1. Crear un nuevo arreglo con el resultado de las resta de los dos arreglos originales.\n",
    "    1. Elevar al cuadrado ese arreglo.\n",
    "    1. Sumar todos los elementos y dividir por la cantidad de elementos.\n",
    "    1. Devuelva la raiz de ese resultado."
   ]
  },
  {
   "cell_type": "code",
   "execution_count": 38,
   "metadata": {},
   "outputs": [],
   "source": [
    "import numpy as np\n",
    "\n",
    "def RMSE(arreglo_1, arreglo_2):\n",
    "    if(len(arreglo_1) == len(arreglo_2)):\n",
    "        print('Mismo largo')\n",
    "        resultado = arreglo_1 - arreglo_2\n",
    "        resultado = resultado**2\n",
    "        resultado = np.sum(resultado) / len(arreglo_1)\n",
    "        resultado = np.sqrt(resultado)\n",
    "        print(resultado)\n",
    "    else:\n",
    "        print('No tiene el mismo largo')"
   ]
  },
  {
   "cell_type": "code",
   "execution_count": 37,
   "metadata": {},
   "outputs": [
    {
     "data": {
      "text/plain": [
       "array([  4,   0,   8, -18,   5,  14,   9,  -7,  -4, -15,   4,  -2,  -7,\n",
       "         3,   4,   4,  -2,  -4,  -1,  -7,  -2,  -9,   3,  16,   1,   0,\n",
       "        -3,   4,  14,  13,  -6,  -2, -12,   0,  -3,  -3,  -9,  -6,  -4,\n",
       "         1,  -2,  -7,  -5,   7,  -3,   7,  -6,  -8, -16,   3])"
      ]
     },
     "execution_count": 37,
     "metadata": {},
     "output_type": "execute_result"
    }
   ],
   "source": []
  },
  {
   "cell_type": "markdown",
   "metadata": {},
   "source": [
    "Testeamos el resultados"
   ]
  },
  {
   "cell_type": "code",
   "execution_count": 35,
   "metadata": {},
   "outputs": [
    {
     "name": "stdout",
     "output_type": "stream",
     "text": [
      "[ -1  -6   5 -10   7   6   7  -2  -1 -10   0  -2  -6   9   6  -6   5   1\n",
      "   1  -9  -2  -6   4   7   9   3  -5   3   9   3   2  -9  -6   8   3   1\n",
      "   0  -1   5   8   6  -3   1   7   4  -3   1  -9 -10   2]\n",
      "[ -5  -6  -3   8   2  -8  -2   5   3   5  -4   0   1   6   2 -10   7   5\n",
      "   2  -2   0   3   1  -9   8   3  -2  -1  -5 -10   8  -7   6   8   6   4\n",
      "   9   5   9   7   8   4   6   0   7 -10   7  -1   6  -1]\n"
     ]
    }
   ],
   "source": [
    "np.random.seed(10)  # que hace esta linea?\n",
    "arreglo_1 = np.random.randint(-10,10, 50)\n",
    "arreglo_2 = np.random.randint(-10,10, 50)\n",
    "print(arreglo_1)\n",
    "print(arreglo_2)\n"
   ]
  },
  {
   "cell_type": "code",
   "execution_count": 39,
   "metadata": {},
   "outputs": [
    {
     "name": "stdout",
     "output_type": "stream",
     "text": [
      "Mismo largo\n",
      "7.487322618933954\n"
     ]
    }
   ],
   "source": [
    "RMSE(arreglo_1, arreglo_2)"
   ]
  },
  {
   "cell_type": "markdown",
   "metadata": {},
   "source": [
    "Debería dar como resultado 7.48732"
   ]
  },
  {
   "cell_type": "code",
   "execution_count": 41,
   "metadata": {},
   "outputs": [
    {
     "name": "stdout",
     "output_type": "stream",
     "text": [
      "[ -1  -6   5 -10   7   6   7  -2  -1 -10   0  -2  -6   9   6  -6   5   1\n",
      "   1  -9  -2  -6   4   7   9]\n",
      "[  3  -5   3   9   3   2  -9  -6   8   3   1   0  -1   5   8   6  -3   1\n",
      "   7   4  -3   1  -9 -10   2  -5  -6  -3   8   2  -8  -2   5   3   5  -4\n",
      "   0   1   6   2 -10   7   5   2  -2   0   3   1  -9   8]\n"
     ]
    }
   ],
   "source": [
    "np.random.seed(10)  # que hace esta linea?\n",
    "arreglo_1 = np.random.randint(-10,10, 25)\n",
    "arreglo_2 = np.random.randint(-10,10, 50)\n",
    "print(arreglo_1)\n",
    "print(arreglo_2)"
   ]
  },
  {
   "cell_type": "code",
   "execution_count": 42,
   "metadata": {},
   "outputs": [
    {
     "name": "stdout",
     "output_type": "stream",
     "text": [
      "No tiene el mismo largo\n"
     ]
    }
   ],
   "source": [
    "RMSE(arreglo_1, arreglo_2)"
   ]
  },
  {
   "cell_type": "markdown",
   "metadata": {},
   "source": [
    "Debería dar como resultado un mensaje indicando que no tienen el mismo tamaño."
   ]
  },
  {
   "cell_type": "markdown",
   "metadata": {},
   "source": [
    "2. Documentar brevemente la función creada."
   ]
  },
  {
   "cell_type": "markdown",
   "metadata": {},
   "source": [
    "### 5. Ejercitación - Generala\n",
    "\n",
    "¡Vamos a jugar a la generala! Para los que no la conocen: es un juego de dados. En este juego tienes 3 tiradas y 5 dados para formar distintas combinaciones (escalera, full, etc). Después de cada tiro, puedes decidir cuántos y cuáles dados dejar en la mesa y cuáles volver a tirar. De esta forma, tienes tres tiradas para lograr alguna de las combinaciones. La combinación que más puntos te da es la generala, que se obtiene cuando los 5 dados devuelven el mismo número.\n",
    "\n",
    "El jugador puede tomar decisiones y plantear una estrategia en este juego, pero la última palabra la tiene el azar. Un buen matemático podría calcular las probabilidades de cada combinación, e ir calculando cómo se modifican estas probabilidades a medida que va dejando - o no - dados sobre la mesa.\n",
    "\n",
    "En nuestro caso, lo que haremos es simular una generala simplificada - el único objetivo es obtener la generala, cinco dados iguales. Para ello, programarás una serie de funciones que te ayudarán a jugar a este juego. Con estas funciones, podrás responder varias preguntas, entre ellas:\n",
    "\n",
    "1. ¿Cuán probable es obtener una generala en la primera tirada?\n",
    "1. ¿Cuán probable es obtener una generala con dos tiradas?\n",
    "1. ¿Cuán probable es obtener una generala luego de las tres tiradas?\n",
    "1. ¿Qué es más problable: obtener una generala con tres tiradas y cinco dados o cuatros tiradas y seis dados?\n",
    "\n",
    "y las que se te ocurran. ¡Manos a la obra!\n",
    "\n",
    "**Importante:** todas las funciones que te pedimos definir acá se resuelven en pocas líneas de código. NumPy y Google forman un gran equipo. Nosotros te dejamos casos de testeo para tus funciones. Resuélvelos con un/a compañero/a, recuerda pensar el problema (escribiéndolo en un papel, hablándolo con alguien) y luego programa. ¡Verás que no son tan difíciles!\n",
    "\n",
    "**Importante dos:** este desafío fue propuesto por *Ernesto Mislej* en el grupo de Facebook *Data Science Argentina*.¡Recomendamos unirse a éste o a otro grupo sobre Ciencia de Datos!"
   ]
  },
  {
   "cell_type": "markdown",
   "metadata": {},
   "source": [
    "2. Crea la función `es_generala`. Esta función toma como entrada los resultados de `tirar_n_dados` y devuelve `True` si es generala y `False` si no lo es."
   ]
  },
  {
   "cell_type": "code",
   "execution_count": 95,
   "metadata": {},
   "outputs": [],
   "source": [
    "import numpy as np\n",
    "def tirar_n_dados(n=5):\n",
    "    return np.random.randint(1,7,size=n)"
   ]
  },
  {
   "cell_type": "code",
   "execution_count": 96,
   "metadata": {},
   "outputs": [
    {
     "data": {
      "text/plain": [
       "array([6, 2, 2, 5, 5])"
      ]
     },
     "execution_count": 96,
     "metadata": {},
     "output_type": "execute_result"
    }
   ],
   "source": [
    "tirar_n_dados()"
   ]
  },
  {
   "cell_type": "code",
   "execution_count": 85,
   "metadata": {},
   "outputs": [],
   "source": [
    "def es_generala(dados):\n",
    "    return len(set(dados)) == 1"
   ]
  },
  {
   "cell_type": "code",
   "execution_count": 90,
   "metadata": {},
   "outputs": [
    {
     "name": "stdout",
     "output_type": "stream",
     "text": [
      "False\n"
     ]
    }
   ],
   "source": [
    "print(es_generala(tirar_n_dados()))"
   ]
  },
  {
   "cell_type": "code",
   "execution_count": 91,
   "metadata": {},
   "outputs": [
    {
     "name": "stdout",
     "output_type": "stream",
     "text": [
      "False\n"
     ]
    }
   ],
   "source": [
    "### TESTEO UNO\n",
    "array_de_prueba = np.array([2,5,5,5,6])\n",
    "print(es_generala(array_de_prueba))"
   ]
  },
  {
   "cell_type": "code",
   "execution_count": 97,
   "metadata": {},
   "outputs": [
    {
     "name": "stdout",
     "output_type": "stream",
     "text": [
      "[6 6 6 6 6]\n",
      "[2 2 2 2 2]\n",
      "[6 6 6 6 6]\n",
      "[3 3 3 3 3]\n"
     ]
    }
   ],
   "source": [
    "### TESTEO DOS\n",
    "for _ in range(10000):\n",
    "    tirada_dados = tirar_n_dados(n = 5)\n",
    "    if es_generala(tirada_dados):\n",
    "        print(tirada_dados)"
   ]
  },
  {
   "cell_type": "markdown",
   "metadata": {},
   "source": [
    "3. Crea una función `seleccionar_mayoria` que, dada una tirada de n dados, devuelve cuál es la moda de los resultados y con qué frecuencia. Dos consideraciones: \n",
    "    * Si los n resultados son distintos, es indistinto cuál valor devuelve.\n",
    "    * Si hay más de un valor posible para devolver - por ejemplo, en la tira `[1, 1, 2, 2, 3]` -, es indistinto cuál valor elige.\n",
    "    \n",
    "    Tal vez te sirva saber que estas consideraciones se resuelven automáticamente si utilizas algunas herramientas de NumPy, como `np.unique()`, `np.argmax()` y alguna más."
   ]
  },
  {
   "cell_type": "code",
   "execution_count": 118,
   "metadata": {},
   "outputs": [],
   "source": [
    "\n",
    "def seleccionar_mayoria(dados):\n",
    "    d,q = np.unique(dados,return_counts=True)\n",
    "    return d[np.argmax(q)], q[np.argmax(q)]"
   ]
  },
  {
   "cell_type": "code",
   "execution_count": 119,
   "metadata": {},
   "outputs": [
    {
     "data": {
      "text/plain": [
       "(3, 4)"
      ]
     },
     "execution_count": 119,
     "metadata": {},
     "output_type": "execute_result"
    }
   ],
   "source": [
    "seleccionar_mayoria([1,1,2,3,3,3,3,4]) "
   ]
  },
  {
   "cell_type": "code",
   "execution_count": 120,
   "metadata": {},
   "outputs": [
    {
     "name": "stdout",
     "output_type": "stream",
     "text": [
      "(1, 3)\n",
      "(1, 1)\n"
     ]
    }
   ],
   "source": [
    "# TESTEO UNO\n",
    "array_de_prueba = np.array([1,1,1,5,5])\n",
    "print(seleccionar_mayoria(array_de_prueba))\n",
    "### Debería dar como resultado (1,3)\n",
    "\n",
    "# TESTEO DOS\n",
    "array_de_prueba = np.array([5,3,2,1,6])\n",
    "print(seleccionar_mayoria(array_de_prueba))\n",
    "### Debería dar como resultado (algun numero salvo el 4,1)"
   ]
  },
  {
   "cell_type": "markdown",
   "metadata": {},
   "source": [
    "Acá la cosa se empieza a poner áspera, pero tampoco tanto. Veamos algunas situaciones:\n",
    "\n",
    "* Supongamos que en una primera tirada obtienes como resultado `[1, 1, 2, 5, 3]`. En ese caso, te debes quedar con los dados `[1, 1]` y volver a tirar los otros tres dados. Si cuando tiras los tres dados obtienes tres valores iguales **distintos** de los que habías reservado, la mejor estrategia es quedarte con esos tres dados y volver a tirar los otros dos. \n",
    "* Supongamos que en una primera tirada obtienes como resultado `[1, 1, 2, 5, 3]`. En ese caso, te debes quedar con los dados `[1, 1]` y volver a tirar los otros tres dados. Si cuando tiras los tres dados obtienes `[1, 1, 5]` debes poder sumar a los dados que apartaste esos dos `1`.\n",
    "\n",
    "Entonces:\n",
    "\n",
    "\n",
    "4. Crea una función `jugar` tome como argumentos `n_tiradas` con argumento por defecto `3` y `dados_total` con argumento por defecto `5` y que, utilizando las funciones que definiste antes, juegue a la generala. La función debe devolver un arreglo con las n-tiradas realizadas y un índice indicando en qué tirada logró la generala si corresponde (si no logra la generala, debe devolver un valor que indique que no se logró la generala, ¿cuál se te ocurre?). \n",
    "    \n",
    "    Te vamos a dejar un esqueleto bastante armado para esta función, pero si quieres arrancar desde cero, obviamente puedes hacerlo. Para completarlo, ten en cuenta que luego de cada tirada debes dejar algunos dados en la mesa, `dados_mesa`, y volver a tirar otros, `dados_nuevos`. La cantidad de dados nuevos que debes tirar se decide dinámicamente en cada ciclo del loop. Cuando decides qué dados deben quedar sobre la mesa, debes mirar tanto los dados que ya estaban sobre la mesa como los que acabas de tirar, `todos_dados`."
   ]
  },
  {
   "cell_type": "code",
   "execution_count": 146,
   "metadata": {},
   "outputs": [],
   "source": [
    "def jugar(n_tiradas = 3, dados_total= 5):\n",
    "    # Numero de dados a tirar inicialmente\n",
    "    n_dados = dados_total \n",
    "    \n",
    "    # Dados en la mesa inicialmente\n",
    "    dados_mesa = np.array([]) \n",
    "    \n",
    "    # Donde guardamos las tiradas\n",
    "    tiradas = np.zeros((n_tiradas,dados_total)) \n",
    "    \n",
    "    # Numero de tirada exitosa, en la que se logra la generala\n",
    "    # Inicializar en un valor que indique que NO se obtuvo generala.\n",
    "    # Si luego se obtiene una generala, se modificará\n",
    "    tirada_exitosa = -1\n",
    "    \n",
    "    # Contamos cuantas tiradas hicimos hasta ahora\n",
    "    contador_tiradas = 0\n",
    "    \n",
    "    while (contador_tiradas < n_tiradas) and tirada_exitosa == -1:\n",
    "        # Tiramos los dados\n",
    "        dados_nuevos = tirar_n_dados(n_dados)\n",
    "        \n",
    "        # Combinamos los dados recien tirados con los que ya estan en la mesa\n",
    "        todos_dados = np.concatenate((dados_mesa, dados_nuevos),axis=None)\n",
    "        # Guardamos tirada\n",
    "        tiradas[contador_tiradas,:] = todos_dados\n",
    "        \n",
    "        # Nos fijamos si es generala\n",
    "        if es_generala(todos_dados):\n",
    "            # Si es, modificamos el valor de tirada exitosa.\n",
    "            # Esto debe cortar el loop.\n",
    "            tirada_exitosa = 1\n",
    "        else:\n",
    "            # Si no es generala, sigue tirando \n",
    "            # Se fija qué dados debe dejar en la mesa\n",
    "            maximo, frecuencia = seleccionar_mayoria(todos_dados)\n",
    "            dados_mesa = np.repeat(maximo, frecuencia)\n",
    "            \n",
    "            # Calcula cuántos dados volver a tirar\n",
    "            n_dados = dados_total - frecuencia\n",
    "        \n",
    "        # Suma al contador de tiradas\n",
    "        contador_tiradas += 1\n",
    "    return tiradas, tirada_exitosa"
   ]
  },
  {
   "cell_type": "code",
   "execution_count": 147,
   "metadata": {},
   "outputs": [
    {
     "name": "stdout",
     "output_type": "stream",
     "text": [
      "[[2. 3. 2. 2. 2.]\n",
      " [2. 2. 2. 2. 2.]\n",
      " [0. 0. 0. 0. 0.]] 1\n",
      "[[6. 1. 1. 1. 4.]\n",
      " [1. 1. 1. 1. 5.]\n",
      " [1. 1. 1. 1. 1.]] 1\n",
      "[[1. 2. 2. 3. 2.]\n",
      " [2. 2. 2. 2. 6.]\n",
      " [2. 2. 2. 2. 2.]] 1\n",
      "[[5. 5. 2. 2. 2.]\n",
      " [2. 2. 2. 2. 5.]\n",
      " [2. 2. 2. 2. 2.]] 1\n",
      "[[1. 5. 2. 3. 5.]\n",
      " [5. 5. 4. 6. 4.]\n",
      " [4. 4. 4. 4. 4.]] 1\n",
      "[[1. 2. 4. 6. 5.]\n",
      " [1. 2. 1. 5. 1.]\n",
      " [1. 1. 1. 1. 1.]] 1\n",
      "[[4. 5. 3. 4. 4.]\n",
      " [4. 4. 4. 6. 4.]\n",
      " [4. 4. 4. 4. 4.]] 1\n",
      "[[3. 5. 2. 4. 2.]\n",
      " [2. 2. 5. 5. 5.]\n",
      " [5. 5. 5. 5. 5.]] 1\n"
     ]
    }
   ],
   "source": [
    "# TESTEO\n",
    "for i in range(200):\n",
    "    tiradas, tirada_exitosa = jugar(3, 5)\n",
    "    if tirada_exitosa >=0:\n",
    "        print(tiradas, tirada_exitosa)"
   ]
  },
  {
   "cell_type": "markdown",
   "metadata": {},
   "source": [
    "¿Estás contento/a con el código?¿Está bien hecho?¿Se te ocurre alguna situación que no haya sido considerada o donde pueda fallar? Siempre es importante ser crítico con el código desarrollado (y con la metodología en general) en busca de puntos débiles. Siempre se puede programar mejor. De hecho, hay un montón de buenas costumbres cuando programamos funciones que hemos dejado de lado, como por ejemplo, chequear que a nuestra funciones les lleguen los argumentos correctos. Por ejemplo, si nuestra función debe recibir como argumento un arreglo de NumPy de cierto shape, no está demás chequearlo.\n",
    "\n",
    "Ahora sí, es hora de jugar con estas funciones. Elije algunas de las preguntas e intenta responderla, o genera alguna propia y fíjate si lo que hicimos te sirve para responderla. Nosotros elegimos responder qué generala es más probable, si tres tiros y cinco dados o cuatro tiros y seis dados, que te la daremos junto con el resuelto de este notebook."
   ]
  },
  {
   "cell_type": "code",
   "execution_count": null,
   "metadata": {},
   "outputs": [],
   "source": []
  }
 ],
 "metadata": {
  "kernelspec": {
   "display_name": "Python 3",
   "language": "python",
   "name": "python3"
  },
  "language_info": {
   "codemirror_mode": {
    "name": "ipython",
    "version": 3
   },
   "file_extension": ".py",
   "mimetype": "text/x-python",
   "name": "python",
   "nbconvert_exporter": "python",
   "pygments_lexer": "ipython3",
   "version": "3.7.8"
  }
 },
 "nbformat": 4,
 "nbformat_minor": 4
}
