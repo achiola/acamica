{
 "cells": [
  {
   "cell_type": "markdown",
   "metadata": {},
   "source": [
    "# Dataset Iris\n",
    "https://es.wikipedia.org/wiki/Conjunto_de_datos_flor_iris\n",
    "\n",
    "* ¿Quién y cuándo construyó este dataset?\n",
    "\n",
    "Ronald Fisher en su artículo de 1936\n",
    "\n",
    "* ¿Qué es una flor iris?\n",
    "\n",
    "Iris es un género de plantas rizomatosas de la familia Iridaceae\n",
    "\n",
    "* ¿Cuántas variables tiene?\n",
    "\n",
    "El DS tiene seis variables\n",
    "\n",
    "* ¿Qué representa cada una?\n",
    "|Columna|Descripcion|\n",
    "|---|------|\n",
    "|Id| identificador de la muestra|\n",
    "|SepalLengthCm| Largo del sepalo (en cm)|\n",
    "|SepalWidthCm| Ancho del sepalo (en cm)|\n",
    "|PetalLengthCm| Largo del petalo (en cm)|\n",
    "|PetalWidthCm| Ancho del petalo (en cm)|\n",
    "|Species| Especie|\n",
    "\n",
    "\n",
    "\n",
    "![Parte de la flor](sepalo_petalo.jpg)"
   ]
  },
  {
   "cell_type": "code",
   "execution_count": null,
   "metadata": {},
   "outputs": [],
   "source": []
  }
 ],
 "metadata": {
  "kernelspec": {
   "display_name": "Python 3",
   "language": "python",
   "name": "python3"
  },
  "language_info": {
   "codemirror_mode": {
    "name": "ipython",
    "version": 3
   },
   "file_extension": ".py",
   "mimetype": "text/x-python",
   "name": "python",
   "nbconvert_exporter": "python",
   "pygments_lexer": "ipython3",
   "version": "3.7.8"
  }
 },
 "nbformat": 4,
 "nbformat_minor": 4
}
